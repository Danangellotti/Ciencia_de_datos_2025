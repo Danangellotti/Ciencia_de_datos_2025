{
  "nbformat": 4,
  "nbformat_minor": 0,
  "metadata": {
    "colab": {
      "provenance": [],
      "include_colab_link": true
    },
    "kernelspec": {
      "name": "python3",
      "display_name": "Python 3"
    },
    "language_info": {
      "name": "python"
    }
  },
  "cells": [
    {
      "cell_type": "markdown",
      "metadata": {
        "id": "view-in-github",
        "colab_type": "text"
      },
      "source": [
        "<a href=\"https://colab.research.google.com/github/Danangellotti/Ciencia_de_datos_2025/blob/main/Semana_02_09_iterar_enumerate.ipynb\" target=\"_parent\"><img src=\"https://colab.research.google.com/assets/colab-badge.svg\" alt=\"Open In Colab\"/></a>"
      ]
    },
    {
      "cell_type": "markdown",
      "source": [
        "# Enumerate en Python\n",
        "El uso del `for` en Python nos permite iterar colecciones, recorriendo todos los elementos de la misma."
      ],
      "metadata": {
        "id": "g0VfHiI8F4fN"
      }
    },
    {
      "cell_type": "code",
      "execution_count": null,
      "metadata": {
        "id": "HYYucXtTFxmT",
        "colab": {
          "base_uri": "https://localhost:8080/"
        },
        "outputId": "5625b407-fdda-40eb-983c-798c81b8ec90"
      },
      "outputs": [
        {
          "output_type": "stream",
          "name": "stdout",
          "text": [
            "A\n",
            "B\n",
            "C\n"
          ]
        }
      ],
      "source": [
        "lista = [\"A\", \"B\", \"C\"]\n",
        "\n",
        "for l in lista:\n",
        "    print(l)"
      ]
    },
    {
      "cell_type": "markdown",
      "source": [
        "Sin embargo, existen situaciones en las que no solo queremos acceder al elemento i-ésimo de la colección, sino que además queremos conocer el índice o la posición de cada elemento. Una forma de hacerlo sería la siguiente."
      ],
      "metadata": {
        "id": "Ywedb26gF8nB"
      }
    },
    {
      "cell_type": "code",
      "source": [
        "lista = [\"A\", \"B\", \"C\"]\n",
        "\n",
        "indice = 0\n",
        "for l in lista:\n",
        "    print('Índice: ',indice, ' - VAlor: ', l)\n",
        "    indice += 1"
      ],
      "metadata": {
        "id": "pQd-T0tfF-BF",
        "colab": {
          "base_uri": "https://localhost:8080/"
        },
        "outputId": "78c2a151-c8b8-4650-9b34-723664fdfe86"
      },
      "execution_count": null,
      "outputs": [
        {
          "output_type": "stream",
          "name": "stdout",
          "text": [
            "Índice:  0  - VAlor:  A\n",
            "Índice:  1  - VAlor:  B\n",
            "Índice:  2  - VAlor:  C\n"
          ]
        }
      ]
    },
    {
      "cell_type": "markdown",
      "source": [
        "Aunque se trata de una forma perfectamente válida, no es demasiado pythónica, y es precisamente donde entra en juego el `enumerate`. Su uso nos permite ahorrar alguna que otra línea de código, obteniendo un resultado mucho más limpio y claro."
      ],
      "metadata": {
        "id": "87pcsrjbF_bj"
      }
    },
    {
      "cell_type": "code",
      "source": [
        "lista = [\"A\", \"B\", \"C\"]\n",
        "\n",
        "for indice, l in enumerate(lista):\n",
        "    print('Índice: ',indice, ' - VAlor: ', l)"
      ],
      "metadata": {
        "id": "AOjcviAJGA6T",
        "colab": {
          "base_uri": "https://localhost:8080/"
        },
        "outputId": "35b87b8a-c21e-45cd-bf98-2311fc78ee75"
      },
      "execution_count": null,
      "outputs": [
        {
          "output_type": "stream",
          "name": "stdout",
          "text": [
            "Índice:  0  - VAlor:  A\n",
            "Índice:  1  - VAlor:  B\n",
            "Índice:  2  - VAlor:  C\n"
          ]
        }
      ]
    },
    {
      "cell_type": "markdown",
      "source": [
        "Por último, es importante notar que su uso no se limita únicamente a bucles `for`. Podemos convertir el tipo enumerate en una lista de tuplas, donde cada una contiene un elemento de la colección inicial y el índice asociado."
      ],
      "metadata": {
        "id": "JPuIUDDTGCUm"
      }
    },
    {
      "cell_type": "code",
      "source": [
        "lista = [\"A\", \"B\", \"C\"]\n",
        "\n",
        "en = list(enumerate(lista))\n",
        "print(en)"
      ],
      "metadata": {
        "id": "MaXrPBisGEA-",
        "colab": {
          "base_uri": "https://localhost:8080/"
        },
        "outputId": "c4aadc5f-522b-4b27-920d-d628aa4cb21f"
      },
      "execution_count": null,
      "outputs": [
        {
          "output_type": "stream",
          "name": "stdout",
          "text": [
            "[(0, 'A'), (1, 'B'), (2, 'C')]\n"
          ]
        }
      ]
    },
    {
      "cell_type": "markdown",
      "source": [
        "Por lo tanto recuerda, la próxima vez que quieras acceder a los índices de una colección, piensa si tal vez enumerate puede resolver tu problema de manera más clara y con menos código.\n",
        "\n",
        "En caso de necesitar que el índice comienze desde un valor distinto de `0` podemos utilizar el argumento `start` para indicarle el valor de inicio."
      ],
      "metadata": {
        "id": "2SvTrX5mGFVQ"
      }
    },
    {
      "cell_type": "code",
      "source": [
        "lista = [\"A\", \"B\", \"C\"]\n",
        "\n",
        "for indice, l in enumerate(lista, start=10):\n",
        "    print('Índice: ',indice, ' - VAlor: ', l)"
      ],
      "metadata": {
        "colab": {
          "base_uri": "https://localhost:8080/"
        },
        "id": "qX0fOCk5IeME",
        "outputId": "89cf5b0a-af77-4648-cbde-dc5f4c3b90e8"
      },
      "execution_count": null,
      "outputs": [
        {
          "output_type": "stream",
          "name": "stdout",
          "text": [
            "Índice:  10  - VAlor:  A\n",
            "Índice:  11  - VAlor:  B\n",
            "Índice:  12  - VAlor:  C\n"
          ]
        }
      ]
    }
  ]
}