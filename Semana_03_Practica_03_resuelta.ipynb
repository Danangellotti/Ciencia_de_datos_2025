{
  "nbformat": 4,
  "nbformat_minor": 0,
  "metadata": {
    "colab": {
      "provenance": [],
      "toc_visible": true,
      "include_colab_link": true
    },
    "kernelspec": {
      "name": "python3",
      "display_name": "Python 3"
    },
    "language_info": {
      "name": "python"
    }
  },
  "cells": [
    {
      "cell_type": "markdown",
      "metadata": {
        "id": "view-in-github",
        "colab_type": "text"
      },
      "source": [
        "<a href=\"https://colab.research.google.com/github/Danangellotti/Ciencia_de_datos_2025/blob/main/Semana_03_Practica_03_resuelta.ipynb\" target=\"_parent\"><img src=\"https://colab.research.google.com/assets/colab-badge.svg\" alt=\"Open In Colab\"/></a>"
      ]
    },
    {
      "cell_type": "markdown",
      "source": [
        "# Ejercicio 1\n",
        "\n",
        "Pedir un número entero al usuario y determinar si es par o impar.8  \n"
      ],
      "metadata": {
        "id": "hC95cr-vITME"
      }
    },
    {
      "cell_type": "code",
      "execution_count": null,
      "metadata": {
        "id": "FSUJfNQLGmu_"
      },
      "outputs": [],
      "source": []
    },
    {
      "cell_type": "code",
      "source": [
        "#@title Solución\n",
        "\n",
        "par_o_impar:int = int(input('Ingrese un valor entero: '))\n",
        "\n",
        "if par_o_impar % 2 == 0:\n",
        "  print(f'El valor {par_o_impar} ingresado en par.')\n",
        "else:\n",
        "  print(f'El valor {par_o_impar} ingresado en impar.')"
      ],
      "metadata": {
        "colab": {
          "base_uri": "https://localhost:8080/"
        },
        "id": "iBe0NYJmIpEI",
        "outputId": "6cc8f22e-8a74-40aa-eb7f-9e4b17133413"
      },
      "execution_count": null,
      "outputs": [
        {
          "output_type": "stream",
          "name": "stdout",
          "text": [
            "Ingrese un valor entero: 3\n",
            "El valor 3 ingresado en impar.\n"
          ]
        }
      ]
    },
    {
      "cell_type": "markdown",
      "source": [
        "# Ejercicio 2\n",
        "\n",
        "Calcular el área de un círculo con radio introducido por el usuario."
      ],
      "metadata": {
        "id": "IQWypA3UMk2z"
      }
    },
    {
      "cell_type": "code",
      "source": [],
      "metadata": {
        "id": "SX9fTRFxMrq1"
      },
      "execution_count": null,
      "outputs": []
    },
    {
      "cell_type": "code",
      "source": [
        "#@title Solución\n",
        "from math import pi\n",
        "\n",
        "radio:float = float(input('Ingrese el radio: '))\n",
        "\n",
        "print(f'El área del círculo que tiene un radio de {radio} es: {pi*pow(radio,2):.2f}')"
      ],
      "metadata": {
        "colab": {
          "base_uri": "https://localhost:8080/"
        },
        "id": "DGZwlnFhMsH_",
        "outputId": "6edf369a-ec34-42e3-f699-be05fc481026"
      },
      "execution_count": null,
      "outputs": [
        {
          "output_type": "stream",
          "name": "stdout",
          "text": [
            "Ingrese el radio: 3.5\n",
            "El área del círculo que tiene un radio de 3.5 es: 38.48\n"
          ]
        }
      ]
    },
    {
      "cell_type": "markdown",
      "source": [
        "\n",
        "# Ejercicio 3\n",
        "\n",
        "Determinar si un triángulo es rectángulo a partir de sus longitudes de lado. El usuario debe ingresar los 3 lados.\n",
        "Debemos aplicar el teorema de Pitágoras.\n",
        "\n",
        "$a^2 + b^2 = h^2$\n",
        "\n",
        "Donde a y b son los lados y h es la hipotenusa.\n"
      ],
      "metadata": {
        "id": "g03KK7cFNeWZ"
      }
    },
    {
      "cell_type": "code",
      "source": [],
      "metadata": {
        "id": "MTonPTSgNuJE"
      },
      "execution_count": null,
      "outputs": []
    },
    {
      "cell_type": "code",
      "source": [
        "#@title Solución\n",
        "lado_a: float(float(input('Ingrese el lado a: ')))\n",
        "lado_b: float(float(input('Ingrese el lado b: ')))\n",
        "hipotenusa: float(float(input('Ingrese la hipotenusa: ')))\n",
        "\n",
        "if lado_a**2 + lado_b**2 == hipotenusa**2:\n",
        "  print('El triángulo es rectangulo.')\n",
        "else:\n",
        "  print('El triángulo NO es rectangulo.')"
      ],
      "metadata": {
        "id": "JsqV_mWpNuSc"
      },
      "execution_count": null,
      "outputs": []
    },
    {
      "cell_type": "markdown",
      "source": [
        "# Ejercicio 4\n",
        "\n",
        "Invertir el orden de una cadena ingresada por el usuario."
      ],
      "metadata": {
        "id": "_NWNcbYcP4Rl"
      }
    },
    {
      "cell_type": "code",
      "source": [],
      "metadata": {
        "id": "wu4RGH-XVBRI"
      },
      "execution_count": null,
      "outputs": []
    },
    {
      "cell_type": "code",
      "source": [
        "#@title Solución\n",
        "\n",
        "cadena:str = input('Ingrese la cadena de texto a invertir: ')\n",
        "\n",
        "print(f'''La cadena es:\n",
        "{cadena}\n",
        "\n",
        "Su reversa es:\n",
        "{cadena[::-1]}''')\n",
        "# utilizo slicing: [<posicion inferior>:<posicion superior>:<paso de iteracion>]\n",
        "# [::-1], es un slicing donde se obtienen los valores desde el principio, hasta\n",
        "# el final y se le pone un paso de -1\n",
        "\n",
        "\n",
        "\n",
        "# 0 1 2 3 4 5 6 7 8 9 (posiciones)\n",
        "# h o l a   m u n d o (frase)\n",
        "\n",
        "# si la frase es: hola mundo\n",
        "# fase[::2] entonces retorna los valores donde el índice es par osea 'hl ud'\n",
        "# fase[2:7:2] entonces retorna los valores donde el índice es par pero\n",
        "#   partiendo de la posición 2 hasta la posición 6 (el extremo superior es no inclusivo)\n",
        "#   osea 'l u'"
      ],
      "metadata": {
        "colab": {
          "base_uri": "https://localhost:8080/"
        },
        "id": "3_9iYvDZVBXv",
        "outputId": "d149de52-424e-4a3c-814e-7e1d0e92c003"
      },
      "execution_count": null,
      "outputs": [
        {
          "output_type": "stream",
          "name": "stdout",
          "text": [
            "Ingrese la cadena de texto a invertir: asdf\n",
            "La cadena es: \n",
            "asdf\n",
            "\n",
            "Su reversa es: \n",
            "fdsa\n",
            "La cadena es: \n",
            "asdf\n",
            "\n",
            "Su reversa es: \n",
            "asdf\n"
          ]
        }
      ]
    },
    {
      "cell_type": "code",
      "source": [
        "#@title Solución\n",
        "\n",
        "cadena:str = input('Ingrese la cadena de texto a invertir: ')\n",
        "# transformo la cadena en una lista de letras\n",
        "lista:list[str] = list(cadena)\n",
        "# invierto la lista\n",
        "lista.reverse()\n",
        "\n",
        "print(f'''La cadena es:\n",
        "{cadena}\n",
        "\n",
        "Su reversa es:\n",
        "{\"\".join(lista)}''')"
      ],
      "metadata": {
        "colab": {
          "base_uri": "https://localhost:8080/"
        },
        "id": "4HJtt5hvWuXt",
        "outputId": "e7426779-aede-49d0-ebc6-b084d724dcec"
      },
      "execution_count": null,
      "outputs": [
        {
          "output_type": "stream",
          "name": "stdout",
          "text": [
            "La cadena es: \n",
            "asdf\n",
            "\n",
            "Su reversa es: \n",
            "fdsa\n"
          ]
        }
      ]
    },
    {
      "cell_type": "markdown",
      "source": [
        "# Ejercicio 5\n",
        "\n",
        "Ingresar palabras a una lista y ordenar alfabéticamente la lista.\n",
        "\n",
        "Se dejan de ingresar palabras cuando la palabra ingresada es una cadena vacia."
      ],
      "metadata": {
        "id": "bmYvC68ZW1Cy"
      }
    },
    {
      "cell_type": "code",
      "source": [],
      "metadata": {
        "id": "5AbRPqi1XZcL"
      },
      "execution_count": null,
      "outputs": []
    },
    {
      "cell_type": "code",
      "source": [
        "#@title Solución\n",
        "palabras:list[str] = []\n",
        "palabra:str = input('Ingrese una palabra (vacio o enter para salir): ')\n",
        "# con el while agrego las palabras a una lista\n",
        "while len(palabra.strip()) > 0:\n",
        "  palabras.append(palabra.strip())\n",
        "  palabra = input('Ingrese una palabra (vacio o enter para salir): ')\n",
        "\n",
        "if len(palabras) > 0:\n",
        "  palabras.sort()\n",
        "  print('La lista ordenada es:\\n\\t-', \"\\n\\t- \".join(palabras))\n",
        "else:\n",
        "  print('No se ingresaron palabras.')"
      ],
      "metadata": {
        "colab": {
          "base_uri": "https://localhost:8080/"
        },
        "id": "62zsRyuHXZhH",
        "outputId": "d086c369-44a1-42e8-d05b-4355e13b157a"
      },
      "execution_count": null,
      "outputs": [
        {
          "output_type": "stream",
          "name": "stdout",
          "text": [
            "Ingrese una palabra (vacio o enter para salir): el\n",
            "Ingrese una palabra (vacio o enter para salir): al\n",
            "Ingrese una palabra (vacio o enter para salir): \n",
            "La lista ordenada es:\n",
            "\t- al\n",
            "\t- el\n"
          ]
        }
      ]
    },
    {
      "cell_type": "markdown",
      "source": [
        "# Ejercicio 6\n",
        "\n",
        "Ingresar una lista de números y calcular el promedio.\n",
        "\n",
        "Se dejan de ingresar palabras cuando la número ingresado es 0."
      ],
      "metadata": {
        "id": "jU40lHScYhnD"
      }
    },
    {
      "cell_type": "code",
      "source": [],
      "metadata": {
        "id": "u-gFBP9cYtbY"
      },
      "execution_count": null,
      "outputs": []
    },
    {
      "cell_type": "code",
      "source": [
        "#@title Solución\n",
        "lista_numeros:list[float] = []\n",
        "numero:float = float(input('Ingrese un número (vacio o enter para salir): ') or 0)\n",
        "# con el while agrego los números a una lista\n",
        "while numero != 0:\n",
        "  lista_numeros.append(numero)\n",
        "  numero = float(input('Ingrese un número (vacio o enter para salir): ') or 0)\n",
        "\n",
        "if len(lista_numeros) > 0:\n",
        "  print('La lista de números es:\\n\\t-', \"\\n\\t- \".join([str(i) for i in lista_numeros]))\n",
        "  print(f'El promedio es: {sum(lista_numeros)/len(lista_numeros)}')\n",
        "else:\n",
        "  print('No se ingresaron números.')"
      ],
      "metadata": {
        "colab": {
          "base_uri": "https://localhost:8080/"
        },
        "id": "bIRGT-oMYtlY",
        "outputId": "4b66c929-e87a-449f-ba2f-9ca1e4ca792c"
      },
      "execution_count": null,
      "outputs": [
        {
          "output_type": "stream",
          "name": "stdout",
          "text": [
            "Ingrese un número (vacio o enter para salir): 1\n",
            "Ingrese un número (vacio o enter para salir): 2\n",
            "Ingrese un número (vacio o enter para salir): 3\n",
            "Ingrese un número (vacio o enter para salir): \n",
            "La lista de números es:\n",
            "\t- 1.0\n",
            "\t- 2.0\n",
            "\t- 3.0\n",
            "El promedio es: 2.0\n"
          ]
        }
      ]
    },
    {
      "cell_type": "markdown",
      "source": [
        "# Ejercicio 7\n",
        "\n",
        "Ingresar una frase por teclado, pasar la frase a un diccionario, donde la key del diccionario sea la posición de la palabra dentro de la frase y el value sea la palabra misma.\n",
        "\n",
        "Al final imprimir la posición:palabra. Se debe mostrar desde el diccionario."
      ],
      "metadata": {
        "id": "yTGjW0eBa7yu"
      }
    },
    {
      "cell_type": "code",
      "source": [],
      "metadata": {
        "id": "98inVQTkbS1Y"
      },
      "execution_count": null,
      "outputs": []
    },
    {
      "cell_type": "code",
      "source": [
        "#@title Solución\n",
        "\n",
        "frase:str = input('Ingrese una frase:\\n')\n",
        "# armo el diccionario que me pide el enunciado\n",
        "diccionario:dict[int, str] = {}\n",
        "for indice,palabra in enumerate(frase.split()):\n",
        "  diccionario[indice] = palabra\n",
        "# recorro el diccionario para mostrarlo\n",
        "for key,value in diccionario.items():\n",
        "  print(f'{key}:{value}')"
      ],
      "metadata": {
        "colab": {
          "base_uri": "https://localhost:8080/"
        },
        "id": "sh0SITrqbTDy",
        "outputId": "cf97b778-4bc0-47a5-d2cc-453b53799950"
      },
      "execution_count": null,
      "outputs": [
        {
          "output_type": "stream",
          "name": "stdout",
          "text": [
            "Ingrese una frase:\n",
            "Al final imprimir la posición:palabra. Se debe mostrar desde el diccionario.\n",
            "0:Al\n",
            "1:final\n",
            "2:imprimir\n",
            "3:la\n",
            "4:posición:palabra.\n",
            "5:Se\n",
            "6:debe\n",
            "7:mostrar\n",
            "8:desde\n",
            "9:el\n",
            "10:diccionario.\n"
          ]
        }
      ]
    },
    {
      "cell_type": "code",
      "source": [
        "#@title Solución\n",
        "\n",
        "frase:str = input('Ingrese una frase:\\n')\n",
        "\n",
        "# en una sola línea armo el diccionario y luego obtengo los items para mostrarlos\n",
        "for key,value in {indice:palabra for indice,palabra in enumerate(frase.split())}.items():\n",
        "  print(f'{key}:{value}')"
      ],
      "metadata": {
        "colab": {
          "base_uri": "https://localhost:8080/"
        },
        "id": "PIR-Kv6lcVgd",
        "outputId": "b3fe1400-7a36-45d5-cd88-9efd6288561a"
      },
      "execution_count": null,
      "outputs": [
        {
          "output_type": "stream",
          "name": "stdout",
          "text": [
            "Ingrese una frase:\n",
            "  diccionario[indice] = palabra\n",
            "0:diccionario[indice]\n",
            "1:=\n",
            "2:palabra\n"
          ]
        }
      ]
    },
    {
      "cell_type": "markdown",
      "source": [
        "# Ejercicio 8\n",
        "\n",
        "Ingresar una frase por teclado, pasar la frase a un diccionario, donde la key del diccionario sea la palabra y el value sea una lista con la posición de la ocurrencia de cada palabra.\n",
        "\n",
        "Al final imprimir el diccionario con el formato palabra:posiciones."
      ],
      "metadata": {
        "id": "xNc4iq5GdE5G"
      }
    },
    {
      "cell_type": "code",
      "source": [],
      "metadata": {
        "id": "yjoG7TK5dbvG"
      },
      "execution_count": null,
      "outputs": []
    },
    {
      "cell_type": "code",
      "source": [
        "#@title Solución\n",
        "\n",
        "frase_2:str = input('Ingrese una frase:\\n')\n",
        "#armo el diccionario como pide el enunciado\n",
        "diccionario_2:dict[str, list[int]] = {}\n",
        "for indice,palabra in enumerate(frase_2.split()):\n",
        "  if palabra in diccionario_2:\n",
        "    # la palabra ya existe dentro de la keys del diccionario\n",
        "    #   solo debo agregar la posición a la lista\n",
        "    diccionario_2[palabra].append(indice)\n",
        "  else:\n",
        "    # la palabra NO existe dentro de la keys del diccionario y\n",
        "    #   agrego la lista\n",
        "    diccionario_2[palabra] = [indice]\n",
        "\n",
        "for key,value in diccionario_2.items():\n",
        "  print(f'{key}:{value}')\n",
        "\n"
      ],
      "metadata": {
        "colab": {
          "base_uri": "https://localhost:8080/"
        },
        "id": "jP23ArGIdbzt",
        "outputId": "17ce30a7-aec0-4748-afdd-c7438d353fcf"
      },
      "execution_count": null,
      "outputs": [
        {
          "output_type": "stream",
          "name": "stdout",
          "text": [
            "Ingrese una frase:\n",
            "Ingresar una frase por teclado, pasar la frase a un diccionario, donde la key del diccionario sea la palabra y el value sea una lista con la posición de la ocurrencia de cada palabra.\n",
            "Ingresar:[0]\n",
            "una:[1, 23]\n",
            "frase:[2, 7]\n",
            "por:[3]\n",
            "teclado,:[4]\n",
            "pasar:[5]\n",
            "la:[6, 12, 17, 26, 29]\n",
            "a:[8]\n",
            "un:[9]\n",
            "diccionario,:[10]\n",
            "donde:[11]\n",
            "key:[13]\n",
            "del:[14]\n",
            "diccionario:[15]\n",
            "sea:[16, 22]\n",
            "palabra:[18]\n",
            "y:[19]\n",
            "el:[20]\n",
            "value:[21]\n",
            "lista:[24]\n",
            "con:[25]\n",
            "posición:[27]\n",
            "de:[28, 31]\n",
            "ocurrencia:[30]\n",
            "cada:[32]\n",
            "palabra.:[33]\n"
          ]
        }
      ]
    }
  ]
}