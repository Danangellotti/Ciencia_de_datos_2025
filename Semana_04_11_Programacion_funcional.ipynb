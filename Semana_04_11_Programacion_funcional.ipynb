{
  "nbformat": 4,
  "nbformat_minor": 0,
  "metadata": {
    "colab": {
      "provenance": [],
      "include_colab_link": true
    },
    "kernelspec": {
      "name": "python3",
      "display_name": "Python 3"
    },
    "language_info": {
      "name": "python"
    }
  },
  "cells": [
    {
      "cell_type": "markdown",
      "metadata": {
        "id": "view-in-github",
        "colab_type": "text"
      },
      "source": [
        "<a href=\"https://colab.research.google.com/github/Danangellotti/Ciencia_de_datos_2025/blob/main/Semana_04_11_Programacion_funcional.ipynb\" target=\"_parent\"><img src=\"https://colab.research.google.com/assets/colab-badge.svg\" alt=\"Open In Colab\"/></a>"
      ]
    },
    {
      "cell_type": "markdown",
      "source": [
        "## Programación Funcional en Python\n",
        "En pocas palabras, la programación funcional es un paradigma de programación distinto al tradicional estructurado u orientado a objetos al que solemos estar acostumbrados. Se basa principalmente en el uso de funciones, siendo las mismas practicamente la única herramienta que el lenguaje nos ofrece. Por ello, en lenguajes puramente funcionales como `Haskell` no existen bucles `for` o `while`.\n",
        "\n",
        "¿Un lenguaje de programación sin bucles? Aunque pueda parecer una locura, también tiene sus ventajas, y ofrece ciertas características muy importantes que veremos a continuación.\n",
        "\n",
        "A pesar de que Python `no` es un lenguaje puramente funcional, nos ofrece algunas primitivas propias de lenguajes funcionales, como `map`, `filter` y `reduce`. Todas ellas ofrecen una alternativa al uso de bucles para resolver ciertos problemas.\n",
        "\n",
        "Para ampliar podés visitar [functools](https://docs.python.org/3/library/functools.html).\n",
        "\n",
        "Veamos unos ejemplos."
      ],
      "metadata": {
        "id": "gNTx0bF2Cto_"
      }
    },
    {
      "cell_type": "markdown",
      "source": [
        "## map en Python\n",
        "La función `map` toma dos entradas:\n",
        "\n",
        "* Una lista o iterable que será modificado en una nueva.\n",
        "* Una función, que será aplicada a cada uno de los elementos de la lista o iterable anterior.\n",
        "\n",
        "Nos devuelve una nueva lista donde todos y cada uno de los elementos de la lista original han sido pasados por la función.\n",
        "\n",
        "```\n",
        "map(funcion_a_aplicar, entrada_iterable)\n",
        "```"
      ],
      "metadata": {
        "id": "bZK3a7Xe12jB"
      }
    },
    {
      "cell_type": "markdown",
      "source": [
        "Imaginemos que queremos multiplicar por dos todos los elementos de una lista. La primera forma que se nos podría ocurrir sería la siguiente. Nótese que también podría usarse list comprehension."
      ],
      "metadata": {
        "id": "F4M3z4G319Cc"
      }
    },
    {
      "cell_type": "code",
      "source": [
        "lista = [1, 2, 3, 4, 5]\n",
        "lista_pordos = []\n",
        "for l in lista:\n",
        "    lista_pordos.append(l*2)\n",
        "\n",
        "print('Los valores de la lista multiplicados por 2 es: ', lista_pordos)\n"
      ],
      "metadata": {
        "id": "Es3CeWNt1-Pk",
        "colab": {
          "base_uri": "https://localhost:8080/"
        },
        "outputId": "b0da981e-743e-4d81-92c1-be90b17bc3ab"
      },
      "execution_count": null,
      "outputs": [
        {
          "output_type": "stream",
          "name": "stdout",
          "text": [
            "Los valores de la lista multiplicados por 2 es:  [2, 4, 6, 8, 10]\n"
          ]
        }
      ]
    },
    {
      "cell_type": "markdown",
      "source": [
        "Pero veamos como darle un enfoque funcional. Como hemos dicho, map toma una función y un iterable como entrada, aplicando la función a cada elemento. Entonces podemos definir una función por_dos, que pasaremos a map junto con nuestra lista inicial."
      ],
      "metadata": {
        "id": "JJHVILFH1_uk"
      }
    },
    {
      "cell_type": "code",
      "source": [
        "lista = [1, 2, 3, 4, 5]\n",
        "\n",
        "def por_dos(x:int) -> int:\n",
        "    \"\"\" Función que multiplica un valor por 2.\n",
        "\n",
        "    Args:\n",
        "        x (int): Número a multiplicar.\n",
        "\n",
        "    Returns:\n",
        "        int: Retorna el entero x por 2.\n",
        "    \"\"\"\n",
        "    return x * 2\n",
        "\n",
        "lista_pordos = map(por_dos, lista)\n",
        "\n",
        "print('Los valores de la lista multiplicados por 2 es: ', list(lista_pordos))"
      ],
      "metadata": {
        "id": "SwV2MDVt2Bhk",
        "colab": {
          "base_uri": "https://localhost:8080/"
        },
        "outputId": "ba4684d4-7e56-48f9-dc57-3077c05012fb"
      },
      "execution_count": null,
      "outputs": [
        {
          "output_type": "stream",
          "name": "stdout",
          "text": [
            "Los valores de la lista multiplicados por 2 es:  [2, 4, 6, 8, 10]\n"
          ]
        }
      ]
    },
    {
      "cell_type": "markdown",
      "source": [
        "Como podemos observar, ya no usamos bucles. Simplemente le pasamos a `map` la función y la lista y ya hace el trabajo por nosotros. Dado que `por_dos` se trata de una función muy sencilla, es posible usar funciones lambda para compactar un poco el código, quedando lo siguiente:"
      ],
      "metadata": {
        "id": "W_RG_A3s2DIg"
      }
    },
    {
      "cell_type": "code",
      "source": [
        "lista = [1, 2, 3, 4, 5]\n",
        "lista_pordos = map(lambda x: 2*x, lista)\n",
        "\n",
        "print('Los valores de la lista multiplicados por 2 es: ', list(lista_pordos))"
      ],
      "metadata": {
        "id": "peCvEbhc2ElI",
        "colab": {
          "base_uri": "https://localhost:8080/"
        },
        "outputId": "88a8f1fe-92df-4191-fe94-29699494bb99"
      },
      "execution_count": null,
      "outputs": [
        {
          "output_type": "stream",
          "name": "stdout",
          "text": [
            "Los valores de la lista multiplicados por 2 es:  [2, 4, 6, 8, 10]\n"
          ]
        }
      ]
    },
    {
      "cell_type": "markdown",
      "source": [
        "## filter en Python\n",
        "La función `filter` también recibe una función y una lista pero el resultado es la lista inicial filtrada. Es decir, se pasa cada elemento de la lista por la función, y sólo si su resultado es True, se incluye en la nueva lista.\n",
        "\n",
        "```\n",
        "filter(funcion_filtrar, entrada_iterable)\n",
        "```"
      ],
      "metadata": {
        "id": "09M7LUFx2Gd4"
      }
    },
    {
      "cell_type": "markdown",
      "source": [
        "Al igual que hacíamos antes, usamos las funciones lambda que nos permiten declarar y asignar una función en la misma línea de código. En el siguiente ejemplo filtramos los números pares."
      ],
      "metadata": {
        "id": "zxrSHN-b2J2I"
      }
    },
    {
      "cell_type": "code",
      "source": [
        "lista = [7, 4, 16, 3, 8]\n",
        "pares = filter(lambda x: x % 2 == 0, lista)\n",
        "\n",
        "print('Los valores pares son: ', list(pares))"
      ],
      "metadata": {
        "id": "0paMih852LTQ",
        "colab": {
          "base_uri": "https://localhost:8080/"
        },
        "outputId": "8fc0f5e9-7812-4da7-bacd-38da93f9c2ca"
      },
      "execution_count": null,
      "outputs": [
        {
          "output_type": "stream",
          "name": "stdout",
          "text": [
            "Los valores pares son:  [4, 16, 8]\n"
          ]
        }
      ]
    },
    {
      "cell_type": "markdown",
      "source": [
        "Nótese que el siguiente código sería equivalente:"
      ],
      "metadata": {
        "id": "RTLFfEAx2NBw"
      }
    },
    {
      "cell_type": "code",
      "source": [
        "lista = [7, 4, 16, 3, 8]\n",
        "\n",
        "def es_par(x:int) -> bool:\n",
        "    \"\"\" Función que comprueba si un número es par.\n",
        "\n",
        "    Args:\n",
        "        x (int): Número a comprobar.\n",
        "\n",
        "    Returns:\n",
        "        bool: True si el número es par, False en caso contrario.\n",
        "    \"\"\"\n",
        "    return x % 2 == 0\n",
        "\n",
        "pares = filter(es_par, lista)\n",
        "\n",
        "print('Los valores pares son: ', list(pares))"
      ],
      "metadata": {
        "id": "nS-pmS0-2Ot4",
        "colab": {
          "base_uri": "https://localhost:8080/"
        },
        "outputId": "93968adb-2596-487a-a7bc-20d555ea8b3c"
      },
      "execution_count": null,
      "outputs": [
        {
          "output_type": "stream",
          "name": "stdout",
          "text": [
            "Los valores pares son:  [4, 16, 8]\n"
          ]
        }
      ]
    },
    {
      "cell_type": "markdown",
      "source": [
        "Una vez más, resaltar que no estamos usando bucles. Simplemente damos la entrada y la función a aplicar a cada elemento, y filter se encarga del resto. Esta es una de las características clave de la programación funcional. Se centra más en el qué hacer que en el cómo hacerlo. Para ello se usan funciones predefinidas como las que estamos viendo, a las que sólo tenemos que pasar las entradas y hacer el trabajo por nosotros."
      ],
      "metadata": {
        "id": "yS5kAi5v2QZI"
      }
    },
    {
      "cell_type": "markdown",
      "source": [
        "## reduce en Python\n",
        "Por último, podemos usar `reduce` para reducir todos los elementos de la entrada a un único valor aplicando un determinado criterio. Por ejemplo, podemos sumar todos los elementos de una lista de la siguiente manera."
      ],
      "metadata": {
        "id": "gC1jJyt62SDH"
      }
    },
    {
      "cell_type": "code",
      "source": [
        "from functools import reduce\n",
        "lista = [1, 2, 3, 4, 5]\n",
        "suma = reduce(lambda acc, val: acc + val, lista)\n",
        "print('La suma de los valores es: ', suma)"
      ],
      "metadata": {
        "id": "2CbbcJUy2UOs",
        "colab": {
          "base_uri": "https://localhost:8080/"
        },
        "outputId": "151d900d-7394-4c1a-ad67-bd79ab7c8f22"
      },
      "execution_count": null,
      "outputs": [
        {
          "output_type": "stream",
          "name": "stdout",
          "text": [
            "La suma de los valores es:  15\n"
          ]
        }
      ]
    },
    {
      "cell_type": "markdown",
      "source": [
        "Lo que podría reescribirse usando la función add:"
      ],
      "metadata": {
        "id": "iXMXvdL02WB8"
      }
    },
    {
      "cell_type": "code",
      "source": [
        "from operator import add\n",
        "from functools import reduce\n",
        "lista = [1, 2, 3, 4, 5]\n",
        "suma = reduce(add, lista)\n",
        "print('La suma de los valores es: ', suma)"
      ],
      "metadata": {
        "id": "aqI70Vc92XNU",
        "colab": {
          "base_uri": "https://localhost:8080/"
        },
        "outputId": "8a665935-59bb-4dac-ef6e-c0a018b2fe94"
      },
      "execution_count": null,
      "outputs": [
        {
          "output_type": "stream",
          "name": "stdout",
          "text": [
            "La suma de los valores es:  15\n"
          ]
        }
      ]
    },
    {
      "cell_type": "markdown",
      "source": [
        "O también los podemos multiplicar, modificando la función lambda."
      ],
      "metadata": {
        "id": "jyRSvXLB2apc"
      }
    },
    {
      "cell_type": "code",
      "source": [
        "from functools import reduce\n",
        "lista = [1, 2, 3, 4, 5]\n",
        "multiplicacion = reduce(lambda acc, val: acc * val, lista)\n",
        "print('La multiplicacion de los valores es: ', multiplicacion)"
      ],
      "metadata": {
        "id": "O8ZQoTAE2cEv",
        "colab": {
          "base_uri": "https://localhost:8080/"
        },
        "outputId": "291c5fd1-2f88-46d1-ed1d-8340e523563c"
      },
      "execution_count": null,
      "outputs": [
        {
          "output_type": "stream",
          "name": "stdout",
          "text": [
            "La multiplicacion de los valores es:  120\n"
          ]
        }
      ]
    },
    {
      "cell_type": "markdown",
      "source": [
        "Es importante notar que la función recibe dos argumentos: el acumulador y cada uno de los valores de la lista.\n",
        "\n",
        "* El acumulador es el valor devuelto en la iteración anterior, que va acumulando un resultado hasta que llegamos al final.\n",
        "* El valor es cada uno de los elementos de nuestra lista, que en nuestro caso vamos añadiendo al acumulador.\n",
        "\n",
        "El uso de reduce es especialmente útil cuando tenemos por ejemplo una lista de diccionarios y queremos sumar todos los valores de un campo en concreto. Veamos un ejemplo donde calculamos la edad media de varias personas."
      ],
      "metadata": {
        "id": "mXc72dhS2dun"
      }
    },
    {
      "cell_type": "code",
      "source": [
        "from functools import reduce\n",
        "personas = [\n",
        "    {'Nombre': 'Alicia', 'Edad': 22},\n",
        "    {'Nombre': 'Bob', 'Edad': 29},\n",
        "    {'Nombre': 'Charlie', 'Edad': 33}\n",
        "]\n",
        "suma_edad = reduce(lambda total, p: total + p['Edad'], personas, 0)\n",
        "print('El promedio de edad es: ', suma_edad/len(personas))"
      ],
      "metadata": {
        "id": "LhjqsWcX2h_p",
        "colab": {
          "base_uri": "https://localhost:8080/"
        },
        "outputId": "18c02af4-9a16-41aa-ddef-cbffe7f9a50c"
      },
      "execution_count": null,
      "outputs": [
        {
          "output_type": "stream",
          "name": "stdout",
          "text": [
            "El promedio de edad es:  28.0\n"
          ]
        }
      ]
    },
    {
      "cell_type": "markdown",
      "source": [
        "Nótese que llamamos a reduce con un valor adicional 0, que es el valor inicial del acumulador. Una vez más, hemos resuelto un problema en el que tradicionalmente usaríamos bucles con las primitivas de la programación funcional."
      ],
      "metadata": {
        "id": "Em5vB2hY2jbS"
      }
    },
    {
      "cell_type": "markdown",
      "source": [
        "## Características de la Programación Funcional\n",
        "Una vez entendido el funcionamiento de map, filter y reduce, ya tenemos unas nociones básicas de la programación funcional. Sus características más importantes son las siguientes:\n",
        "\n",
        "* Los lenguajes de programación puramente funcionales carecen de bucles for y while.\n",
        "* Se dice que en la programación funcional, las funciones son “ciudadanas de primera clase”, lo que nos viene a decir que prácticamente todo se hace con funciones, y no con bucles.\n",
        "* La programación funcional prefiere también las funciones puras, es decir, funciones sin side effects. Las funciones puras no dependen de variables externas o globales. Esto significa que para las mismas entradas, siempre se producen las mismas salidas.\n",
        "* Por otro lado, en la programación funcional se prefiere variables inmutables, lo que significa que una vez creadas no pueden ser modificadas. Esto es algo que verdaderamente ahorra problemas, aunque la eficiencia puede ser discutible.\n",
        "* En general, se considera que los lenguajes de programación funcionales son más seguros, y ofrecen formal verification.\n",
        "\n",
        "Por último, resaltar una vez más que aunque Python no es un lenguaje puramente funcional, ofrece algunas funciones propias de lenguajes funcionales como map, filter y reduce. Si estás interesado en más, puedes echar un vistazo a el paquete itertools."
      ],
      "metadata": {
        "id": "TlQPRiED2lKv"
      }
    },
    {
      "cell_type": "markdown",
      "source": [
        "## Ejemplos Programación Funcional\n",
        "Dada una lista de personas almacenadas en diccionarios:\n",
        "\n",
        "* Filtrar de acuerdo al sexo\n",
        "* Y calcular la edad media"
      ],
      "metadata": {
        "id": "QWnbKkJS2qLn"
      }
    },
    {
      "cell_type": "code",
      "source": [
        "from functools import reduce\n",
        "personas = [\n",
        "    {'Nombre': 'Alicia', 'Edad': 22, 'Sexo': 'F'},\n",
        "    {'Nombre': 'Bob', 'Edad': 25, 'Sexo': 'M'},\n",
        "    {'Nombre': 'Charlie', 'Edad': 33, 'Sexo': 'M'},\n",
        "    {'Nombre': 'Diana', 'Edad': 15, 'Sexo': 'F'},\n",
        "    {'Nombre': 'Esteban', 'Edad': 30, 'Sexo': 'M'},\n",
        "    {'Nombre': 'Federico', 'Edad': 44, 'Sexo': 'M'},\n",
        "]\n",
        "\n",
        "hombres = list(filter(lambda x: x['Sexo'] == 'M', personas))\n",
        "suma_edades = reduce(lambda suma, p: suma + p['Edad'], hombres, 0)\n",
        "media_edad = suma_edades/(len(hombres))\n",
        "print('La edad promedio es: ', media_edad)"
      ],
      "metadata": {
        "id": "sYbohuAj2uQf",
        "colab": {
          "base_uri": "https://localhost:8080/"
        },
        "outputId": "9da1c083-d900-442c-ddd1-387f872fe097"
      },
      "execution_count": null,
      "outputs": [
        {
          "output_type": "stream",
          "name": "stdout",
          "text": [
            "La edad promedio es:  33.0\n"
          ]
        }
      ]
    },
    {
      "cell_type": "markdown",
      "source": [
        "Tal vez no muy legible, pero todo lo anterior se podrá expresar en una única línea de código.\n",
        "\n"
      ],
      "metadata": {
        "id": "ibTXvdUO2v1A"
      }
    },
    {
      "cell_type": "code",
      "source": [
        "media_edades = reduce(lambda suma, p: suma + p['Edad'], filter(lambda x: x['Sexo'] == 'M', personas), 0) / len(list(filter(lambda x: x['Sexo'] == 'M', personas)))\n",
        "print('La edad promedio es: ', media_edad)"
      ],
      "metadata": {
        "id": "cYnhLeiY2wQG",
        "colab": {
          "base_uri": "https://localhost:8080/"
        },
        "outputId": "2d478af4-9530-466d-947a-a2cccd1c8a2a"
      },
      "execution_count": null,
      "outputs": [
        {
          "output_type": "stream",
          "name": "stdout",
          "text": [
            "La edad promedio es:  33.0\n"
          ]
        }
      ]
    }
  ]
}