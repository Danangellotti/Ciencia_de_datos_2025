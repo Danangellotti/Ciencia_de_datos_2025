{
  "nbformat": 4,
  "nbformat_minor": 0,
  "metadata": {
    "colab": {
      "provenance": [],
      "include_colab_link": true
    },
    "kernelspec": {
      "name": "python3",
      "display_name": "Python 3"
    },
    "language_info": {
      "name": "python"
    }
  },
  "cells": [
    {
      "cell_type": "markdown",
      "metadata": {
        "id": "view-in-github",
        "colab_type": "text"
      },
      "source": [
        "<a href=\"https://colab.research.google.com/github/Danangellotti/Ciencia_de_datos_2025/blob/main/Semana_02_02_for.ipynb\" target=\"_parent\"><img src=\"https://colab.research.google.com/assets/colab-badge.svg\" alt=\"Open In Colab\"/></a>"
      ]
    },
    {
      "cell_type": "markdown",
      "source": [
        "# Repetición incondicional for\n",
        "\n",
        "A continuación explicaremos el bucle for y sus particularidades en Python, que comparado con otros lenguajes de programación, tiene ciertas diferencias.\n",
        "\n",
        "El `for` es un tipo de bucle, repetición o iteración. Para este debo conocer de antemano la cantidad de veces a repetir un secuencia de sentencias, esto quiere decir que siempre se va a realizar sobre una secuencia o iterable (list, set, tuple, dict, etc.).\n",
        "\n",
        "En el siguiente ejemplo vemos un bucle for que se ejecuta 5 veces, y donde la variable i incrementa su valor “automáticamente” en 1 en cada iteración."
      ],
      "metadata": {
        "id": "Kyv-_PAp7zY2"
      }
    },
    {
      "cell_type": "code",
      "execution_count": null,
      "metadata": {
        "id": "9TXy3TGo7tQh",
        "colab": {
          "base_uri": "https://localhost:8080/"
        },
        "outputId": "50e9702e-8b81-4af0-e1a2-36e8fc481927"
      },
      "outputs": [
        {
          "output_type": "stream",
          "name": "stdout",
          "text": [
            "Iteración: 0\n",
            "Iteración: 1\n",
            "Iteración: 2\n",
            "Iteración: 3\n",
            "Iteración: 4\n"
          ]
        }
      ],
      "source": [
        "for i in range(0, 5):\n",
        "    print(f'Iteración: {i}')"
      ]
    },
    {
      "cell_type": "markdown",
      "source": [
        "En Python se puede iterar prácticamente todo, como por ejemplo una cadena. En el siguiente ejemplo vemos como la i va tomando los valores de cada letra. Mas adelante explicaremos que es esto de los iterables e iteradores."
      ],
      "metadata": {
        "id": "pJmxSzBh76ae"
      }
    },
    {
      "cell_type": "code",
      "source": [
        "for i in \"Python\":\n",
        "    print(i)"
      ],
      "metadata": {
        "id": "XwG94KB_771M",
        "colab": {
          "base_uri": "https://localhost:8080/"
        },
        "outputId": "97f8baa1-7b4c-4e77-cd90-f1277eaa0d4e"
      },
      "execution_count": null,
      "outputs": [
        {
          "output_type": "stream",
          "name": "stdout",
          "text": [
            "P\n",
            "y\n",
            "t\n",
            "h\n",
            "o\n",
            "n\n"
          ]
        }
      ]
    },
    {
      "cell_type": "markdown",
      "source": [
        "## Iterables e iteradores\n",
        "\n",
        "Para entender al cien por cien los bucles for, y como Python fue diseñado como lenguaje de programación, es muy importante entender los conceptos de iterables e iteradores. Empecemos con un par de definiciones:\n",
        "\n",
        "* Los iterables son aquellos objetos que como su nombre indica pueden ser iterados, lo que dicho de otra forma es, que puedan ser indexados. Si piensas en un array (o una lista en Python), podemos indexarlo con lista por ejemplo, por lo que sería un iterable.\n",
        "* Los iteradores son objetos que hacen referencia a un elemento, y que tienen un método `next()` que permite hacer referencia al siguiente.\n",
        "\n",
        "Ambos son conceptos un tanto abstractos y que pueden ser complicados de entender. Veamos unos ejemplos.\n",
        "\n",
        "Como hemos comentado, los iterables son objetos que pueden ser iterados o accedidos con un índice. Algunos ejemplos de iterables en Python son las listas, tuplas, cadenas o diccionarios. Sabiendo esto, lo primero que tenemos que tener claro es que en un for, lo que va después del in deberá ser siempre un iterable.\n",
        "\n",
        "```\n",
        "for <variable> in <iterable>:\n",
        "    <Código>\n",
        "```\n",
        "\n",
        "Tiene bastante sentido, porque si queremos iterar una variable, esta variable debe ser iterable, todo muy lógico. Pero llegados a este punto, tal vez te preguntes ¿pero cómo se yo si algo es iterable o no?\n",
        "\n",
        "Bien fácil, con la siguiente función `isinstance()` podemos saberlo. No te preocupes si no entiendes muy bien lo que estamos haciendo, fíjate solo en el resultado, `True` significa que es iterable y `False` que no lo es."
      ],
      "metadata": {
        "id": "ZXFEM-CW8Fmr"
      }
    },
    {
      "cell_type": "code",
      "source": [
        "from collections.abc import Iterable\n",
        "\n",
        "lista = [1, 2, 3, 4]\n",
        "cadena = \"Python\"\n",
        "numero = 10\n",
        "print(\"El valor esperado es True por la variable 'lista' es una lista y es iterable: \",\n",
        "      isinstance(lista, Iterable), '\\nValor de la variable: ', lista)\n",
        "print(\"El valor esperado es True por la variable 'cadena' es un string y es iterable: \",\n",
        "      isinstance(cadena, Iterable), '\\nValor de la variable: ', cadena )\n",
        "print(\"El valor esperado es False por la variable 'numero' es un número entero y NO es iterable: \",\n",
        "      isinstance(numero, Iterable), '\\nValor de la variable: ', numero)"
      ],
      "metadata": {
        "id": "vRDc5pXm8Xjm",
        "colab": {
          "base_uri": "https://localhost:8080/"
        },
        "outputId": "8768c809-3f23-4670-b77f-32ebeb6d272e"
      },
      "execution_count": null,
      "outputs": [
        {
          "output_type": "stream",
          "name": "stdout",
          "text": [
            "El valor esperado es True por la variable 'lista' es una lista y es iterable:  True \n",
            "Valor de la variable:  [1, 2, 3, 4]\n",
            "El valor esperado es True por la variable 'cadena' es un string y es iterable:  True \n",
            "Valor de la variable:  Python\n",
            "El valor esperado es False por la variable 'numero' es un número entero y NO es iterable:  False \n",
            "Valor de la variable:  10\n"
          ]
        }
      ]
    },
    {
      "cell_type": "markdown",
      "source": [
        "Por lo tanto las listas y las cadenas son iterables, pero numero, que es un entero no lo es. Es por eso por lo que no podemos hacer lo siguiente, ya que daría un error."
      ],
      "metadata": {
        "id": "anJ6tvqT88LB"
      }
    },
    {
      "cell_type": "code",
      "source": [
        "import traceback"
      ],
      "metadata": {
        "id": "NRwBuyZcuUYX"
      },
      "execution_count": null,
      "outputs": []
    },
    {
      "cell_type": "code",
      "source": [
        "try:\n",
        "  numero = 10\n",
        "  for i in numero:\n",
        "      print(i)\n",
        "except Exception:\n",
        "  traceback.print_exc()"
      ],
      "metadata": {
        "colab": {
          "base_uri": "https://localhost:8080/"
        },
        "id": "Fum1XWuGuYbA",
        "outputId": "03fe96d3-9132-4757-d36f-4eaff1ed396f"
      },
      "execution_count": null,
      "outputs": [
        {
          "output_type": "stream",
          "name": "stderr",
          "text": [
            "Traceback (most recent call last):\n",
            "  File \"<ipython-input-5-7b3153675b97>\", line 3, in <cell line: 1>\n",
            "    for i in numero:\n",
            "TypeError: 'int' object is not iterable\n"
          ]
        }
      ]
    },
    {
      "cell_type": "markdown",
      "source": [
        "\n",
        "Una vez entendidos los iterables, veamos los iteradores. Para entender los iteradores, es importante conocer la función `iter()` en Python.\n",
        "\n",
        "Dicha función puede ser llamada sobre un objeto que sea iterable, y nos devolverá un iterador como se ve en el siguiente ejemplo."
      ],
      "metadata": {
        "id": "R4TErevHugvS"
      }
    },
    {
      "cell_type": "code",
      "source": [
        "lista = [5, 6, 3, 2]\n",
        "it = iter(lista)\n",
        "print(it)\n",
        "print(type(it))"
      ],
      "metadata": {
        "id": "Ar-X05I69Dmf",
        "colab": {
          "base_uri": "https://localhost:8080/"
        },
        "outputId": "f135aa27-5fec-4944-a66c-c77d46157281"
      },
      "execution_count": null,
      "outputs": [
        {
          "output_type": "stream",
          "name": "stdout",
          "text": [
            "<list_iterator object at 0x78b24eb5fd30>\n",
            "<class 'list_iterator'>\n"
          ]
        }
      ]
    },
    {
      "cell_type": "markdown",
      "source": [
        "Vemos que al imprimir `it` es un iterador, de la clase `list_iterator`.\n",
        "\n",
        "Esta variable iteradora, hace referencia a la lista original y nos permite acceder a sus elementos con la función `next()`.\n",
        "\n",
        "Cada vez que llamamos a `next()` sobre `it`, nos devuelve el siguiente elemento de la lista original. Por lo tanto, si queremos acceder al elemento 4, tendremos que llamar 4 veces a `next()`.\n",
        "\n",
        "Nótese que el iterador empieza apuntando fuera de la lista, y no hace referencia al primer elemento hasta que no se llama a `next()` por primera vez."
      ],
      "metadata": {
        "id": "BtK0DkAE9E-i"
      }
    },
    {
      "cell_type": "code",
      "source": [
        "lista = [5, 6, 3, 2]\n",
        "it = iter(lista)\n",
        "print(f'Primera iteración y muestra el número: {next(it)}')\n",
        "#     [5, 6, 3, 2]\n",
        "#      ^\n",
        "#      |\n",
        "#     it\n",
        "print(f'Segunda iteración y muestra el número: {next(it)}')\n",
        "#     [5, 6, 3, 2]\n",
        "#         ^\n",
        "#         |\n",
        "#        it\n",
        "print(f'Tercera iteración y muestra el número: {next(it)}')\n",
        "#     [5, 6, 3, 2]\n",
        "#            ^\n",
        "#            |\n",
        "#           it"
      ],
      "metadata": {
        "id": "Dh-nqKe_9HYO",
        "colab": {
          "base_uri": "https://localhost:8080/"
        },
        "outputId": "f0feeff3-efe0-459b-f8c3-ab09f1d526cb"
      },
      "execution_count": null,
      "outputs": [
        {
          "output_type": "stream",
          "name": "stdout",
          "text": [
            "Primera iteración y muestra el número: 5\n",
            "Segunda iteración y muestra el número: 6\n",
            "Tercera iteración y muestra el número: 3\n"
          ]
        }
      ]
    },
    {
      "cell_type": "markdown",
      "source": [
        "Existen otros iteradores para diferentes clases:\n",
        "\n",
        "* `str_iterator` para cadenas\n",
        "* `list_iterator` para lists.\n",
        "* `tuple_iterator` para tuplas.\n",
        "* `set_iterator` para sets.\n",
        "* `dict_keyiterator` para diccionarios.\n",
        "\n",
        "Dado que el iterador hace referencia a nuestra lista, si llamamos más veces a `next()` que la longitud de la lista, se nos devolverá un error `StopIteration`. Lamentablemente no existe ninguna opción de volver al elemento anterior."
      ],
      "metadata": {
        "id": "e3xujle19JsK"
      }
    },
    {
      "cell_type": "code",
      "source": [
        "lista = [5, 6]\n",
        "it = iter(lista)\n",
        "print(f'Primera iteración y muestra el número: {next(it)}')\n",
        "print(f'Segunda iteración y muestra el número: {next(it)}')\n",
        "try:\n",
        "  print(f'Tercera iteración y muestra el número: {next(it)}')\n",
        "except Exception:\n",
        "  print(f'La tercer iteración NO EXISTE porque la lista tiene 2 posiciones')\n",
        "  traceback.print_exc()"
      ],
      "metadata": {
        "id": "WySwrgQt9Owy",
        "colab": {
          "base_uri": "https://localhost:8080/"
        },
        "outputId": "fea77331-0bc8-434a-e41c-8efa38fabaf9"
      },
      "execution_count": null,
      "outputs": [
        {
          "output_type": "stream",
          "name": "stdout",
          "text": [
            "Primera iteración y muestra el número: 5\n",
            "Segunda iteración y muestra el número: 6\n",
            "La tercer iteración NO EXISTE porque la lista tiene 2 posiciones\n"
          ]
        },
        {
          "output_type": "stream",
          "name": "stderr",
          "text": [
            "Traceback (most recent call last):\n",
            "  File \"<ipython-input-8-cc3f47b3a00b>\", line 6, in <cell line: 5>\n",
            "    print(f'Tercera iteración y muestra el número: {next(it)}')\n",
            "StopIteration\n"
          ]
        }
      ]
    },
    {
      "cell_type": "markdown",
      "source": [
        "Es perfectamente posible tener diferentes iteradores para la misma lista, y serán totalmente independientes. Tan solo dependerán de la lista, como es evidente, pero no entre ellos."
      ],
      "metadata": {
        "id": "SEirAJ9c9SoB"
      }
    },
    {
      "cell_type": "code",
      "source": [
        "lista = [5, 6, 7]\n",
        "it1 = iter(lista)\n",
        "it2 = iter(lista)\n",
        "print(f'Primera iteración del iterador it1 y muestra el número: {next(it1)}')\n",
        "print(f'Segunda iteración del iterador it1 y muestra el número: {next(it1)}')\n",
        "print(f'Tercera iteración del iterador it1 y muestra el número: {next(it1)}')\n",
        "\n",
        "print(f'Primera iteración del iterador it2 y muestra el número: {next(it2)}')"
      ],
      "metadata": {
        "id": "Hs83hqBn9Tjq",
        "colab": {
          "base_uri": "https://localhost:8080/"
        },
        "outputId": "c6b8a780-3d0d-478b-99a1-16a4f7e78560"
      },
      "execution_count": null,
      "outputs": [
        {
          "output_type": "stream",
          "name": "stdout",
          "text": [
            "Primera iteración del iterador it1 y muestra el número: 5\n",
            "Segunda iteración del iterador it1 y muestra el número: 6\n",
            "Tercera iteración del iterador it1 y muestra el número: 7\n",
            "Primera iteración del iterador it2 y muestra el número: 5\n"
          ]
        }
      ]
    },
    {
      "cell_type": "markdown",
      "source": [
        "## For anidados\n",
        "\n",
        "Es posible anidar los `for`, es decir, meter uno dentro de otro. Esto puede ser muy útil si queremos iterar algún objeto que en cada elemento, tiene a su vez otra clase iterable.\n",
        "\n",
        "Podemos tener por ejemplo, una lista de listas, una especie de matriz."
      ],
      "metadata": {
        "id": "o-_UNp2u9V-F"
      }
    },
    {
      "cell_type": "code",
      "source": [
        "lista = [[56, 34, 1],\n",
        "         [12, 4, 5],\n",
        "         [9, 4, 3]]"
      ],
      "metadata": {
        "id": "owYPxGAw9ai9"
      },
      "execution_count": null,
      "outputs": []
    },
    {
      "cell_type": "markdown",
      "source": [
        "Si iteramos usando sólo un `for`, estaremos realmente accediendo a la segunda lista, pero no a los elementos individuales."
      ],
      "metadata": {
        "id": "777mcLIR9cGZ"
      }
    },
    {
      "cell_type": "code",
      "source": [
        "for i in lista:\n",
        "    print(f'Fila que contiene los valores: {i}')"
      ],
      "metadata": {
        "id": "YfDayqNT9eak",
        "colab": {
          "base_uri": "https://localhost:8080/"
        },
        "outputId": "00c9a63f-7640-4ea8-e48b-ea485d2ffce0"
      },
      "execution_count": null,
      "outputs": [
        {
          "output_type": "stream",
          "name": "stdout",
          "text": [
            "Fila que contiene los valores: [56, 34, 1]\n",
            "Fila que contiene los valores: [12, 4, 5]\n",
            "Fila que contiene los valores: [9, 4, 3]\n"
          ]
        }
      ]
    },
    {
      "cell_type": "markdown",
      "source": [
        "Si queremos acceder a cada elemento individualmente, podemos anidar dos for. Uno de ellos se encargará de iterar las columnas y el otro las filas."
      ],
      "metadata": {
        "id": "RFnsWl_U9fmy"
      }
    },
    {
      "cell_type": "code",
      "source": [
        "for fila in lista:\n",
        "    print(f'Valores de la fila:', end=' ')\n",
        "    for columna in fila:\n",
        "        print(columna, end=', ')\n",
        "    print()"
      ],
      "metadata": {
        "id": "GAhmaZzD9grx",
        "colab": {
          "base_uri": "https://localhost:8080/"
        },
        "outputId": "6e9600ef-ebd0-4a5f-8de0-0ec731d8048d"
      },
      "execution_count": null,
      "outputs": [
        {
          "output_type": "stream",
          "name": "stdout",
          "text": [
            "Valores de la fila: 56, 34, 1, \n",
            "Valores de la fila: 12, 4, 5, \n",
            "Valores de la fila: 9, 4, 3, \n"
          ]
        }
      ]
    },
    {
      "cell_type": "markdown",
      "source": [
        "## Ejemplos for\n",
        "\n",
        "Iterando cadena al revés. Haciendo uso de `[::-1]` se puede iterar la lista desde el último al primer elemento.\n",
        "\n",
        "Más adelante vamos a explicar el slicing que se refiere a este símbolo `[::-1]`."
      ],
      "metadata": {
        "id": "Nn6Pzjlz9g_x"
      }
    },
    {
      "cell_type": "code",
      "source": [
        "texto = \"Python\"\n",
        "for i in texto[::-1]:\n",
        "    print(i, end=', ')"
      ],
      "metadata": {
        "id": "RmdcSV4Z9nLO",
        "colab": {
          "base_uri": "https://localhost:8080/"
        },
        "outputId": "a510df17-c16f-430d-c329-4b78905d58ee"
      },
      "execution_count": null,
      "outputs": [
        {
          "output_type": "stream",
          "name": "stdout",
          "text": [
            "n, o, h, t, y, P, "
          ]
        }
      ]
    },
    {
      "cell_type": "markdown",
      "source": [
        "Itera la cadena saltándose elementos. Con [::2] vamos tomando un elemento si y otro no."
      ],
      "metadata": {
        "id": "nriHbDW09ocN"
      }
    },
    {
      "cell_type": "code",
      "source": [
        "texto = \"Python\"\n",
        "for i in texto[::2]:\n",
        "    print(i, end=', ')"
      ],
      "metadata": {
        "id": "f-9Vo6ds9qcw",
        "colab": {
          "base_uri": "https://localhost:8080/"
        },
        "outputId": "98eb4506-fe42-417b-b871-81f75143e2ba"
      },
      "execution_count": null,
      "outputs": [
        {
          "output_type": "stream",
          "name": "stdout",
          "text": [
            "P, t, o, "
          ]
        }
      ]
    },
    {
      "cell_type": "markdown",
      "source": [
        "Un ejemplo de for usado con comprehensions lists."
      ],
      "metadata": {
        "id": "tAv1u6dP9ruQ"
      }
    },
    {
      "cell_type": "code",
      "source": [
        "print('La suma de (0-9] es: ',sum(i for i in range(10)))\n",
        "\n"
      ],
      "metadata": {
        "id": "9GI3lyGA9thE",
        "colab": {
          "base_uri": "https://localhost:8080/"
        },
        "outputId": "4997f0e0-5e81-45ff-f0ac-69deb5f243dc"
      },
      "execution_count": null,
      "outputs": [
        {
          "output_type": "stream",
          "name": "stdout",
          "text": [
            "La suma de (0-9] es:  45\n"
          ]
        }
      ]
    }
  ]
}