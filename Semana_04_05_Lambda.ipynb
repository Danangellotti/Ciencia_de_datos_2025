{
  "nbformat": 4,
  "nbformat_minor": 0,
  "metadata": {
    "colab": {
      "provenance": [],
      "include_colab_link": true
    },
    "kernelspec": {
      "name": "python3",
      "display_name": "Python 3"
    },
    "language_info": {
      "name": "python"
    }
  },
  "cells": [
    {
      "cell_type": "markdown",
      "metadata": {
        "id": "view-in-github",
        "colab_type": "text"
      },
      "source": [
        "<a href=\"https://colab.research.google.com/github/Danangellotti/Ciencia_de_datos_2025/blob/main/Semana_04_05_Lambda.ipynb\" target=\"_parent\"><img src=\"https://colab.research.google.com/assets/colab-badge.svg\" alt=\"Open In Colab\"/></a>"
      ]
    },
    {
      "cell_type": "markdown",
      "source": [
        "## Funciones lambda\n",
        "Las funciones `lambda` o anónimas son un tipo de funciones en Python que típicamente se definen en una línea y cuyo código a ejecutar suele ser pequeño.\n",
        "\n",
        "Resulta complicado explicar las diferencias, y para que te hagas una idea de ello te dejamos con la siguiente cita sacada de la documentación oficial.\n",
        "\n",
        "> “Python lambdas are only a shorthand notation if you’re too lazy to define a function.”\n",
        "\n",
        "Lo que significa algo así como, “las funciones lambda son simplemente una versión acortada, que puedes usar si te da pereza escribir una función”\n",
        "\n",
        "Vamos a ver un ejemplo con la función `suma`.\n",
        "\n",
        "Primero vamos a escribir la función como lo haríamos normalmente.\n",
        "\n"
      ],
      "metadata": {
        "id": "gNTx0bF2Cto_"
      }
    },
    {
      "cell_type": "code",
      "source": [
        "def suma(a, b):\n",
        "    return a + b"
      ],
      "metadata": {
        "id": "pGfZDXxrteqi"
      },
      "execution_count": null,
      "outputs": []
    },
    {
      "cell_type": "markdown",
      "source": [
        "Se podría expresar en forma de una función `lambda` de la siguiente manera.\n",
        "\n"
      ],
      "metadata": {
        "id": "HyUoZwEStgRV"
      }
    },
    {
      "cell_type": "code",
      "source": [
        "lambda a, b : a + b"
      ],
      "metadata": {
        "id": "-aRYg_71thgB",
        "colab": {
          "base_uri": "https://localhost:8080/"
        },
        "outputId": "ca369df4-8e1d-4fee-ffe3-9269d4ee84cd"
      },
      "execution_count": null,
      "outputs": [
        {
          "output_type": "execute_result",
          "data": {
            "text/plain": [
              "<function __main__.<lambda>(a, b)>"
            ]
          },
          "metadata": {},
          "execution_count": 2
        }
      ]
    },
    {
      "cell_type": "markdown",
      "source": [
        "La primera diferencia es que una función lambda no tiene un nombre, y por lo tanto salvo que sea asignada a una variable, es totalmente inútil.\n",
        "\n",
        "Vamos a asignarla a una variable."
      ],
      "metadata": {
        "id": "K4Aw9DaItj-B"
      }
    },
    {
      "cell_type": "code",
      "source": [
        "suma_lambda = lambda a, b: a + b"
      ],
      "metadata": {
        "id": "n7AvIebstlXW"
      },
      "execution_count": null,
      "outputs": []
    },
    {
      "cell_type": "markdown",
      "source": [
        "Una vez que tenemos la función, es posible llamarla como si de una función normal se tratase.\n",
        "\n"
      ],
      "metadata": {
        "id": "ShdVtGUNtna9"
      }
    },
    {
      "cell_type": "code",
      "source": [
        "print('El resultado de ejecutar la función lambda es: ', suma_lambda(2, 4))"
      ],
      "metadata": {
        "id": "ux_YRPaMto8v",
        "colab": {
          "base_uri": "https://localhost:8080/"
        },
        "outputId": "481e5999-123b-4d46-98eb-eac0125006f7"
      },
      "execution_count": null,
      "outputs": [
        {
          "output_type": "stream",
          "name": "stdout",
          "text": [
            "El resultado de ejecutar la función lambda es:  6\n"
          ]
        }
      ]
    },
    {
      "cell_type": "markdown",
      "source": [
        "Si es una función que solo queremos usar una vez, tal vez no tenga sentido almacenarla en una variable. Es posible declarar la función y llamarla en la misma línea.\n",
        "\n",
        "Nótese que la primer parte `(lambda a, b: a + b)` en la definición de la función y la segunda parte `(2, 4)` son los argumentos que recibe dicha función."
      ],
      "metadata": {
        "id": "LFJ5jQt7traF"
      }
    },
    {
      "cell_type": "code",
      "source": [
        "print('El resultado de ejecutar la función lambda es: ', (lambda a, b: a + b)(2, 4))"
      ],
      "metadata": {
        "id": "8-HElyMSts19",
        "colab": {
          "base_uri": "https://localhost:8080/"
        },
        "outputId": "21dc99a8-6d86-44cb-a776-d642c0c13e49"
      },
      "execution_count": null,
      "outputs": [
        {
          "output_type": "stream",
          "name": "stdout",
          "text": [
            "El resultado de ejecutar la función lambda es:  6\n"
          ]
        }
      ]
    },
    {
      "cell_type": "markdown",
      "source": [
        "## Ejemplos\n",
        "\n",
        "Una función lambda puede ser la entrada a una función normal.\n",
        "\n",
        "En este caso vamos a definir  `mi_funcion` que recibe como argumento una función `lambda` y `mi_funcion` retorna la ejecución de la función lambda."
      ],
      "metadata": {
        "id": "8QWu3-eytwhd"
      }
    },
    {
      "cell_type": "code",
      "source": [
        "def mi_funcion(lambda_func):\n",
        "    return lambda_func(2,4)\n",
        "\n",
        "print('El resultado de ejecutar la función lambda es: ', mi_funcion(lambda a, b: a + b))"
      ],
      "metadata": {
        "id": "d1hK4nyBt1w1",
        "colab": {
          "base_uri": "https://localhost:8080/"
        },
        "outputId": "158b1351-d6d8-4fe0-a5d8-2e07ed7c2562"
      },
      "execution_count": null,
      "outputs": [
        {
          "output_type": "stream",
          "name": "stdout",
          "text": [
            "El resultado de ejecutar la función lambda es:  6\n"
          ]
        }
      ]
    },
    {
      "cell_type": "markdown",
      "source": [
        "Y una función normal también puede ser la entrada de una función lambda. Nótese que son ejemplo didácticos y sin demasiada utilidad práctica per se."
      ],
      "metadata": {
        "id": "7srbJK4ut3Ih"
      }
    },
    {
      "cell_type": "code",
      "source": [
        "def mi_otra_funcion(a, b):\n",
        "    return a + b\n",
        "\n",
        "print('El resultado de ejecutar la función lambda es: ', (lambda a, b: mi_otra_funcion(a, b))(2, 4))"
      ],
      "metadata": {
        "id": "_wgOYQH1t4W8",
        "colab": {
          "base_uri": "https://localhost:8080/"
        },
        "outputId": "6da172d0-5af0-4c61-d618-9601a3f64673"
      },
      "execution_count": null,
      "outputs": [
        {
          "output_type": "stream",
          "name": "stdout",
          "text": [
            "El resultado de ejecutar la función lambda es:  6\n"
          ]
        }
      ]
    },
    {
      "cell_type": "markdown",
      "source": [
        "A pesar de que las funciones lambda tienen muchas limitaciones frente a las funciones normales, comparten gran cantidad de funcionalidades. Es posible tener argumentos con valor asignado por defecto."
      ],
      "metadata": {
        "id": "MsSDr0het5p5"
      }
    },
    {
      "cell_type": "code",
      "source": [
        "print('El resultado de ejecutar la función lambda es: ', (lambda a, b, c=3: a + b + c)(1, 2) )"
      ],
      "metadata": {
        "id": "kTd563Dzt64y",
        "colab": {
          "base_uri": "https://localhost:8080/"
        },
        "outputId": "ede7097c-39be-40b0-cf44-c947bd86da6c"
      },
      "execution_count": null,
      "outputs": [
        {
          "output_type": "stream",
          "name": "stdout",
          "text": [
            "El resultado de ejecutar la función lambda es:  6\n"
          ]
        }
      ]
    },
    {
      "cell_type": "markdown",
      "source": [
        "También se pueden pasar los parámetros indicando su nombre.\n",
        "\n"
      ],
      "metadata": {
        "id": "M-ch-3ORt82J"
      }
    },
    {
      "cell_type": "code",
      "source": [
        "print('El resultado de ejecutar la función lambda es: ', (lambda a, b, c: a + b + c)(a=1, b=2, c=3))"
      ],
      "metadata": {
        "id": "JnEcBhLnt-Iu",
        "colab": {
          "base_uri": "https://localhost:8080/"
        },
        "outputId": "c531242b-79cd-4b22-9ab8-9634286ed1a2"
      },
      "execution_count": null,
      "outputs": [
        {
          "output_type": "stream",
          "name": "stdout",
          "text": [
            "El resultado de ejecutar la función lambda es:  6\n"
          ]
        }
      ]
    },
    {
      "cell_type": "markdown",
      "source": [
        "Al igual que en las funciones se puede tener un número variable de argumentos haciendo uso de `*`, lo conocido como tuple unpacking.\n",
        "\n"
      ],
      "metadata": {
        "id": "gIkGtYPLt_9d"
      }
    },
    {
      "cell_type": "code",
      "source": [
        "print('El resultado de ejecutar la función lambda es: ', (lambda *args: sum(args))(1, 2, 3))"
      ],
      "metadata": {
        "id": "5fbD_CahuBIn",
        "colab": {
          "base_uri": "https://localhost:8080/"
        },
        "outputId": "d12d0cc6-955a-455e-b9a7-ec1add319be4"
      },
      "execution_count": null,
      "outputs": [
        {
          "output_type": "stream",
          "name": "stdout",
          "text": [
            "El resultado de ejecutar la función lambda es:  6\n"
          ]
        }
      ]
    },
    {
      "cell_type": "markdown",
      "source": [
        "Y si tenemos los parámetros de entrada almacenados en forma de key y value como si fuera un diccionario, también es posible llamar a la función."
      ],
      "metadata": {
        "id": "LzjwuWTiuCx2"
      }
    },
    {
      "cell_type": "code",
      "source": [
        "print('El resultado de ejecutar la función lambda es: ', (lambda **kwargs: sum(kwargs.values()))(a=1, b=2, c=3) )"
      ],
      "metadata": {
        "id": "e1_KAIMIuETO",
        "colab": {
          "base_uri": "https://localhost:8080/"
        },
        "outputId": "1703a196-989d-4749-9e8d-bb85f0f4ace0"
      },
      "execution_count": null,
      "outputs": [
        {
          "output_type": "stream",
          "name": "stdout",
          "text": [
            "El resultado de ejecutar la función lambda es:  6\n"
          ]
        }
      ]
    },
    {
      "cell_type": "markdown",
      "source": [
        "Por último, es posible devolver más de un valor."
      ],
      "metadata": {
        "id": "eKj_nXgDuFfh"
      }
    },
    {
      "cell_type": "code",
      "source": [
        "x = lambda a, b: (b, a)\n",
        "print('El resultado de ejecutar la función lambda es: ', x(3, 9))"
      ],
      "metadata": {
        "id": "6ReqUVsNuGr9",
        "colab": {
          "base_uri": "https://localhost:8080/"
        },
        "outputId": "b6be2912-7758-4c02-d4f4-3edac19a5d9b"
      },
      "execution_count": null,
      "outputs": [
        {
          "output_type": "stream",
          "name": "stdout",
          "text": [
            "El resultado de ejecutar la función lambda es:  (9, 3)\n"
          ]
        }
      ]
    }
  ]
}