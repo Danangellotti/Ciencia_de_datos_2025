{
  "nbformat": 4,
  "nbformat_minor": 0,
  "metadata": {
    "colab": {
      "provenance": [],
      "toc_visible": true,
      "include_colab_link": true
    },
    "kernelspec": {
      "name": "python3",
      "display_name": "Python 3"
    },
    "language_info": {
      "name": "python"
    }
  },
  "cells": [
    {
      "cell_type": "markdown",
      "metadata": {
        "id": "view-in-github",
        "colab_type": "text"
      },
      "source": [
        "<a href=\"https://colab.research.google.com/github/Danangellotti/Ciencia_de_datos_2025/blob/main/Copia_de_Semana_01_01_que_es_python.ipynb\" target=\"_parent\"><img src=\"https://colab.research.google.com/assets/colab-badge.svg\" alt=\"Open In Colab\"/></a>"
      ]
    },
    {
      "cell_type": "markdown",
      "source": [
        "# Introducción\n",
        "\n"
      ],
      "metadata": {
        "id": "2D0mApo4mIRc"
      }
    },
    {
      "cell_type": "markdown",
      "source": [
        "\n",
        "##  ¿Qué es Python?\n",
        "\n",
        "Como veremos, Python es utilizado en aplicaciones como lo son el análisis de datos, automatización de tareas, web scraping, machine learning, data science, desarrollo de videojuegos, interfaces gráficos o finanzas.\n",
        "\n",
        "A diferencia de lo que mucha gente puede pensar, Python es un lenguaje que data de los años 1990s, y su creación se le atribuye al neerlandés Guido van Rossum. Recibió su nombre por los humoristas Monty Python.\n",
        "\n",
        "Su última versión es Python 3, y es la que te recomendamos usar ya que las anteriores ya no tienen soporte oficial.\n",
        "\n",
        "Estos son los motivos por lo que ha crecido tanto y lo seguirá haciendo:\n",
        "\n",
        "* Se trata de un lenguaje fácil de aprender, con una sintaxis muy sencilla que se asemeja bastante al pseudocódigo. En otras palabras, poco código hace mucho.\n",
        "* Su uso no está ligado a un sector concreto. Por ejemplo el lenguaje R es útil para análisis de datos, pero no puede ser usado para desarrollo web. Python vale para todo.\n",
        "* Tiene una comunidad enorme, además de gran cantidad de librerías para hacer prácticamente cualquier cosa, literalmente.\n",
        "* Es un lenguaje multiplataforma, por lo que el mismo código es compatible en cualquier plataforma (Windows, macOS, Linux) sin hacer nada.\n",
        "* Por lo general se puede hacer desarrollos en Python más rápidamente que en otros lenguajes, acortando la duración de los proyectos.\n"
      ],
      "metadata": {
        "id": "hf12PF5eQ4qG"
      }
    },
    {
      "cell_type": "markdown",
      "source": [
        "\n",
        "## Usos de Python\n",
        "\n",
        "Python es un lenguaje muy transversal, usado en diferentes industrias y para diferentes fines. Algunas de las empresas que usan Python:\n",
        "\n",
        "* YouTube usa Python en la parte del servidor, unida a otros lenguajes como Java o Go.\n",
        "* Netflix usa Python par automatizar tareas, explorar datos y labores de aprendizaje automático entre otras.\n",
        "* La NASA usa Python en gran cantidad de programas científicos.\n",
        "* JPMorgan ya dijo hace varios años que se esperaba de sus analistas financieros supieran Python.\n",
        "\n",
        "También es utilizado para fines muy diversos como son los siguientes:\n",
        "\n",
        "* Desarrollo Web: Existen frameworks como Django, Pyramid, Flask, FastAPI o Bottle que permiten desarrollar páginas web a todos los niveles.\n",
        "* Ciencia y Educación: Debido a su sintaxis tan sencilla, es una herramienta perfecta para enseñar conceptos de programación a todos los niveles. En lo relativo a ciencia y cálculo numérico, existen gran cantidad de librerías como SciPy o Pandas.\n",
        "* Desarrollo de Interfaces Gráficos: Gran cantidad de los programas que utilizamos tienen un interfaz gráfico que facilita su uso. Python también puede ser usado para desarrollar GUIs con librerías como Kivy o pyqt.\n",
        "* Desarrollo Software: También es usado como soporte para desarrolladores, como para testing.\n",
        "* Machine Learning: En los último años ha crecido el número de implementaciones en Python de librerías de aprendizaje automático como Keras, TensorFlow, PyTorch o sklearn.\n",
        "* Visualización de Datos: Existen varias librerías muy usadas para mostrar datos en gráficas, como matplotlib, seaborn o plotly.\n",
        "* Finanzas y Trading: Gracias a librerías como QuantLib o qtpylib y a su facilidad de uso, es cada vez más usado en estos sectores.\n",
        "\n",
        "De hecho a día de hoy prácticamente cualquier API, librería o servicio que existe en el mundo tiene una versión para Python, bien sea de manera nativa o a través de un wrapper.\n"
      ],
      "metadata": {
        "id": "Qp68ECZ5Ruwj"
      }
    },
    {
      "cell_type": "markdown",
      "source": [
        "\n",
        "## Comunidad\n",
        "La comunidad de Python es inmensa, una cifra que supera ya a los usuarios de Java (a fecha de 2024).\n",
        "\n",
        "Es importante el tamaño de la comunidad, porque cuanto más grande sea, mayor soporte se le dará al lenguaje y mayor número de personas compartirán sus problemas y se ayudarán a resolverlos.\n",
        "\n",
        "Otra de las características de la comunidad Python son las famosas PyCon, unas convenciones anuales llevadas a cabo en gran número de países, donde los desarrolladores se reúnen para compartir ideas.\n",
        "\n",
        "\n",
        "Es también importante mencionar la Python Software Foundation, una organización sin ánimo de lucro que se dedica a promover, proteger y desarrollar el lenguaje Python.\n",
        "\n",
        "\n",
        "\n"
      ],
      "metadata": {
        "id": "PZh15ZScSMba"
      }
    },
    {
      "cell_type": "markdown",
      "source": [
        "## Características de Python\n",
        "\n",
        "Como cualquier otro lenguaje, Python tiene una serie de características que lo hacen diferente al resto. Las explicamos a continuación:\n",
        "\n",
        "* Es un lenguaje interpretado, no compilado.\n",
        "* Usa tipado dinámico, lo que significa que una variable puede tomar valores de distinto tipo.\n",
        "* Es fuertemente tipado, lo que significa que el tipo no cambia de manera repentina. Para que se produzca un cambio de tipo tiene que hacer una conversión explícita.\n",
        "* Es multiplataforma, ya que un código escrito en macOS funciona en Windows o Linux y vice versa.\n",
        "\n",
        "Tal vez algunos de estos conceptos puedan resultarte extraños si estás empezando en el mundo de la programación. El siguiente código pretende ilustrar algunas de las características de Python.\n",
        "\n",
        "Algunas curiosidades que en otros lenguajes no pasan. La función acepta un parámetro entrada pero no se especifica su tipo. La x almacena primero una cadena de caracteres, luego un decimal y luego un entero. La función funcion() es llamada con un entero, pero su valor se divide entre 2 y el resultado es convertido automáticamente en un decimal.\n",
        "\n",
        "```\n",
        "def funcion(entrada):\n",
        "    return entrada/2\n",
        "    \n",
        "x = \"Hola\"\n",
        "x = 7.0\n",
        "x = int(x)\n",
        "x = funcion(x)\n",
        "print(x)\n",
        "print(type(x))\n",
        "\n",
        "# 3.5\n",
        "# <class 'float'>\n",
        "```"
      ],
      "metadata": {
        "id": "18B0gRDiSi1r"
      }
    },
    {
      "cell_type": "markdown",
      "source": [
        "Definimos la función."
      ],
      "metadata": {
        "id": "6Ys045BRTWGZ"
      }
    },
    {
      "cell_type": "code",
      "source": [
        "def funcion(entrada):\n",
        "  \"\"\" Función de muestra.\n",
        "\n",
        "  Args:\n",
        "    entrada (object): Variable de entrada.\n",
        "\n",
        "  Returns:\n",
        "    float: Retorna el valor de la entrada dividido entre 2.\n",
        "  \"\"\"\n",
        "  return entrada/2"
      ],
      "metadata": {
        "id": "4v1yp8OCS73q"
      },
      "execution_count": null,
      "outputs": []
    },
    {
      "cell_type": "markdown",
      "source": [
        "Asignamos una cadena de caracteres a la variable x y mostramos su tipo."
      ],
      "metadata": {
        "id": "2Y8I2j4PUSBg"
      }
    },
    {
      "cell_type": "code",
      "source": [
        "x = \"Hola\"\n",
        "print(f\"Mostramos el valor de la variable x: {x}\")\n",
        "print(f\"Mostramos el typo de la variable x: {type(x)}\")"
      ],
      "metadata": {
        "colab": {
          "base_uri": "https://localhost:8080/"
        },
        "id": "zIAhhoKyTbx0",
        "outputId": "e220395e-9b5f-4661-d6cf-2f3ddef9550a"
      },
      "execution_count": null,
      "outputs": [
        {
          "output_type": "stream",
          "name": "stdout",
          "text": [
            "Mostramos el valor de la variable x: Hola\n",
            "Mostramos el typo de la variable x: <class 'str'>\n"
          ]
        }
      ]
    },
    {
      "cell_type": "markdown",
      "source": [
        "Asignamos un decimal a la variable x, es decir, le cambiamos el tipo.\n",
        "\n",
        "Mostramos el valor almacenado y su tipo."
      ],
      "metadata": {
        "id": "vo2oa2qfUWXe"
      }
    },
    {
      "cell_type": "code",
      "source": [
        "x = 7.0\n",
        "print(f\"Mostramos el valor de la variable x: {x}\")\n",
        "print(f\"Mostramos el typo de la variable x: {type(x)}\")"
      ],
      "metadata": {
        "colab": {
          "base_uri": "https://localhost:8080/"
        },
        "id": "wNKWHpwxT6R5",
        "outputId": "605f525c-e590-467a-e4c8-1619ce721f11"
      },
      "execution_count": null,
      "outputs": [
        {
          "output_type": "stream",
          "name": "stdout",
          "text": [
            "Mostramos el valor de la variable x: 7.0\n",
            "Mostramos el typo de la variable x: <class 'float'>\n"
          ]
        }
      ]
    },
    {
      "cell_type": "markdown",
      "source": [
        "Asignamos un entero a la variable x, es decir, le cambiamos el tipo.\n",
        "\n",
        "Mostramos el valor almacenado y su tipo."
      ],
      "metadata": {
        "id": "y7LPbL54Ufcz"
      }
    },
    {
      "cell_type": "code",
      "source": [
        "x = int(x)\n",
        "print(f\"Mostramos el valor de la variable x: {x}\")\n",
        "print(f\"Mostramos el typo de la variable x: {type(x)}\")"
      ],
      "metadata": {
        "colab": {
          "base_uri": "https://localhost:8080/"
        },
        "id": "hlfSNBJFUGWo",
        "outputId": "fc444250-c946-4d60-c5a1-a160b8316042"
      },
      "execution_count": null,
      "outputs": [
        {
          "output_type": "stream",
          "name": "stdout",
          "text": [
            "Mostramos el valor de la variable x: 7\n",
            "Mostramos el typo de la variable x: <class 'int'>\n"
          ]
        }
      ]
    },
    {
      "cell_type": "markdown",
      "source": [
        "Ejecutamos la función que declarmos más arriba y vemos que nos devuelve.\n",
        "\n",
        "Mostramos el resultado y su tipo."
      ],
      "metadata": {
        "id": "gUR6Xr4QVTkz"
      }
    },
    {
      "cell_type": "code",
      "source": [
        "print(f\"Mostramos el valor original de la variable x: {x}\")\n",
        "x = funcion(x)\n",
        "print(f\"Mostramos el valor de la variable x luego de la ejecución de la función: {x}\")\n",
        "print(f\"Mostramos el typo de la variable x: {type(x)}\")"
      ],
      "metadata": {
        "colab": {
          "base_uri": "https://localhost:8080/"
        },
        "id": "lcCoBhvLUL-c",
        "outputId": "d8c637b5-158b-4c73-c2c6-01c0199d3526"
      },
      "execution_count": null,
      "outputs": [
        {
          "output_type": "stream",
          "name": "stdout",
          "text": [
            "Mostramos el valor original de la variable x: 7\n",
            "Mostramos el valor de la variable x luego de la ejecución de la función: 3.5\n",
            "Mostramos el typo de la variable x: <class 'float'>\n"
          ]
        }
      ]
    },
    {
      "cell_type": "markdown",
      "source": [
        "## The Zen of Python\n",
        "El Zen de Python es una colección de los 19 principios que influyen en el diseño del lenguaje. De alguna manera, muestran la filosofía del mismo y pueden ser encontrados en la [PEP20](https://peps.python.org/pep-0020/). Las [PEP](https://peps.python.org/) o Python Enhancement Prososals son unos documentos que ofrecen información a la comunidad de Python, bien describiendo alguna característica nueva o dando información en general.\n",
        "\n",
        "Son las siguientes, y aunque alguna pueda parecer lógica, a veces resultan no serlo tanto cuando no se cumplen:\n",
        "\n",
        "1. Bello es mejor que feo (Beautiful is better than ugly).\n",
        "2. Explícito es mejor que implícito (Explicit is better than implicit).\n",
        "3. Simple es mejor que complejo (Simple is better than complex).\n",
        "4. Complejo es mejor que complicado (Complex is better than complicated).\n",
        "6. Plano es mejor que anidado (Flat is better than nested).\n",
        "7. Espaciado es mejor que denso (Sparse is better than dense).\n",
        "7. La legibilidad es importante (Readability counts).\n",
        "8. Los casos especiales no son lo suficientemente especiales como para romper las reglas (Special cases aren't special enough to break the rules).\n",
        "9. Sin embargo la practicidad gana a la pureza (Although practicality beats purity).\n",
        "10. Los errores nunca deben pasar silenciosamente (Errors should never pass silently).\n",
        "11. A menos que se silencien explícitamente (Unless explicitly silenced).\n",
        "12. Frente a la ambigüedad, evitar la tentación de adivinar (In the face of ambiguity, refuse the temptation to guess).\n",
        "13. Debería haber una, y preferiblemente solo una, manera obvia de hacerlo (There should be one -- and preferably only one -- obvious way to do it).\n",
        "14. A pesar de que esa manera no sea obvia a menos que seas Holandés (Although that way may not be obvious at first unless you're Dutch).\n",
        "15. Ahora es mejor que nunca (Now is better than never).\n",
        "16. A pesar de que nunca es muchas veces mejor que ahora mismo (Although never is often better than *right* now).\n",
        "17. Si la implementación es difícil de explicar, es una mala idea (If the implementation is hard to explain, it's a bad idea).\n",
        "18. Si la implementación es fácil de explicar, puede que sea una buena idea (If the implementation is easy to explain, it may be a good idea).\n",
        "19. Los namespaces son una gran idea, ¡tengamos más de esos! (Namespaces are one honking great idea -- let's do more of those!)"
      ],
      "metadata": {
        "id": "gz-YukPnSOwz"
      }
    }
  ]
}