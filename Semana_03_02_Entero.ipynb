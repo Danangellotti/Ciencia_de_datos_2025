{
  "nbformat": 4,
  "nbformat_minor": 0,
  "metadata": {
    "colab": {
      "provenance": [],
      "include_colab_link": true
    },
    "kernelspec": {
      "name": "python3",
      "display_name": "Python 3"
    },
    "language_info": {
      "name": "python"
    }
  },
  "cells": [
    {
      "cell_type": "markdown",
      "metadata": {
        "id": "view-in-github",
        "colab_type": "text"
      },
      "source": [
        "<a href=\"https://colab.research.google.com/github/Danangellotti/Ciencia_de_datos_2025/blob/main/Semana_03_02_Entero.ipynb\" target=\"_parent\"><img src=\"https://colab.research.google.com/assets/colab-badge.svg\" alt=\"Open In Colab\"/></a>"
      ]
    },
    {
      "cell_type": "markdown",
      "source": [
        "## int\n",
        "Los enteros en Python o también conocidos como int, son un tipo de datos que permite representar números enteros, es decir, positivos y negativos no decimales. Si vienes de otros lenguajes de programación, olvídate de los int8, uint16 y demás. Python nos da un sólo tipo que podemos usar sin preocuparnos del tamaño del número almacenado por debajo.\n",
        "\n",
        "Puedes obtener más ayuda con el comando help."
      ],
      "metadata": {
        "id": "_wx-7coUDfzd"
      }
    },
    {
      "cell_type": "code",
      "source": [
        "help(int)"
      ],
      "metadata": {
        "id": "-5Gx5UAphuaI",
        "colab": {
          "base_uri": "https://localhost:8080/"
        },
        "outputId": "ba73e6bf-7f7d-4739-8010-cdf64c200b04"
      },
      "execution_count": null,
      "outputs": [
        {
          "output_type": "stream",
          "name": "stdout",
          "text": [
            "Help on class int in module builtins:\n",
            "\n",
            "class int(object)\n",
            " |  int([x]) -> integer\n",
            " |  int(x, base=10) -> integer\n",
            " |  \n",
            " |  Convert a number or string to an integer, or return 0 if no arguments\n",
            " |  are given.  If x is a number, return x.__int__().  For floating point\n",
            " |  numbers, this truncates towards zero.\n",
            " |  \n",
            " |  If x is not a number or if base is given, then x must be a string,\n",
            " |  bytes, or bytearray instance representing an integer literal in the\n",
            " |  given base.  The literal can be preceded by '+' or '-' and be surrounded\n",
            " |  by whitespace.  The base defaults to 10.  Valid bases are 0 and 2-36.\n",
            " |  Base 0 means to interpret the base from the string as an integer literal.\n",
            " |  >>> int('0b100', base=0)\n",
            " |  4\n",
            " |  \n",
            " |  Built-in subclasses:\n",
            " |      bool\n",
            " |  \n",
            " |  Methods defined here:\n",
            " |  \n",
            " |  __abs__(self, /)\n",
            " |      abs(self)\n",
            " |  \n",
            " |  __add__(self, value, /)\n",
            " |      Return self+value.\n",
            " |  \n",
            " |  __and__(self, value, /)\n",
            " |      Return self&value.\n",
            " |  \n",
            " |  __bool__(self, /)\n",
            " |      True if self else False\n",
            " |  \n",
            " |  __ceil__(...)\n",
            " |      Ceiling of an Integral returns itself.\n",
            " |  \n",
            " |  __divmod__(self, value, /)\n",
            " |      Return divmod(self, value).\n",
            " |  \n",
            " |  __eq__(self, value, /)\n",
            " |      Return self==value.\n",
            " |  \n",
            " |  __float__(self, /)\n",
            " |      float(self)\n",
            " |  \n",
            " |  __floor__(...)\n",
            " |      Flooring an Integral returns itself.\n",
            " |  \n",
            " |  __floordiv__(self, value, /)\n",
            " |      Return self//value.\n",
            " |  \n",
            " |  __format__(self, format_spec, /)\n",
            " |      Default object formatter.\n",
            " |  \n",
            " |  __ge__(self, value, /)\n",
            " |      Return self>=value.\n",
            " |  \n",
            " |  __getattribute__(self, name, /)\n",
            " |      Return getattr(self, name).\n",
            " |  \n",
            " |  __getnewargs__(self, /)\n",
            " |  \n",
            " |  __gt__(self, value, /)\n",
            " |      Return self>value.\n",
            " |  \n",
            " |  __hash__(self, /)\n",
            " |      Return hash(self).\n",
            " |  \n",
            " |  __index__(self, /)\n",
            " |      Return self converted to an integer, if self is suitable for use as an index into a list.\n",
            " |  \n",
            " |  __int__(self, /)\n",
            " |      int(self)\n",
            " |  \n",
            " |  __invert__(self, /)\n",
            " |      ~self\n",
            " |  \n",
            " |  __le__(self, value, /)\n",
            " |      Return self<=value.\n",
            " |  \n",
            " |  __lshift__(self, value, /)\n",
            " |      Return self<<value.\n",
            " |  \n",
            " |  __lt__(self, value, /)\n",
            " |      Return self<value.\n",
            " |  \n",
            " |  __mod__(self, value, /)\n",
            " |      Return self%value.\n",
            " |  \n",
            " |  __mul__(self, value, /)\n",
            " |      Return self*value.\n",
            " |  \n",
            " |  __ne__(self, value, /)\n",
            " |      Return self!=value.\n",
            " |  \n",
            " |  __neg__(self, /)\n",
            " |      -self\n",
            " |  \n",
            " |  __or__(self, value, /)\n",
            " |      Return self|value.\n",
            " |  \n",
            " |  __pos__(self, /)\n",
            " |      +self\n",
            " |  \n",
            " |  __pow__(self, value, mod=None, /)\n",
            " |      Return pow(self, value, mod).\n",
            " |  \n",
            " |  __radd__(self, value, /)\n",
            " |      Return value+self.\n",
            " |  \n",
            " |  __rand__(self, value, /)\n",
            " |      Return value&self.\n",
            " |  \n",
            " |  __rdivmod__(self, value, /)\n",
            " |      Return divmod(value, self).\n",
            " |  \n",
            " |  __repr__(self, /)\n",
            " |      Return repr(self).\n",
            " |  \n",
            " |  __rfloordiv__(self, value, /)\n",
            " |      Return value//self.\n",
            " |  \n",
            " |  __rlshift__(self, value, /)\n",
            " |      Return value<<self.\n",
            " |  \n",
            " |  __rmod__(self, value, /)\n",
            " |      Return value%self.\n",
            " |  \n",
            " |  __rmul__(self, value, /)\n",
            " |      Return value*self.\n",
            " |  \n",
            " |  __ror__(self, value, /)\n",
            " |      Return value|self.\n",
            " |  \n",
            " |  __round__(...)\n",
            " |      Rounding an Integral returns itself.\n",
            " |      \n",
            " |      Rounding with an ndigits argument also returns an integer.\n",
            " |  \n",
            " |  __rpow__(self, value, mod=None, /)\n",
            " |      Return pow(value, self, mod).\n",
            " |  \n",
            " |  __rrshift__(self, value, /)\n",
            " |      Return value>>self.\n",
            " |  \n",
            " |  __rshift__(self, value, /)\n",
            " |      Return self>>value.\n",
            " |  \n",
            " |  __rsub__(self, value, /)\n",
            " |      Return value-self.\n",
            " |  \n",
            " |  __rtruediv__(self, value, /)\n",
            " |      Return value/self.\n",
            " |  \n",
            " |  __rxor__(self, value, /)\n",
            " |      Return value^self.\n",
            " |  \n",
            " |  __sizeof__(self, /)\n",
            " |      Returns size in memory, in bytes.\n",
            " |  \n",
            " |  __sub__(self, value, /)\n",
            " |      Return self-value.\n",
            " |  \n",
            " |  __truediv__(self, value, /)\n",
            " |      Return self/value.\n",
            " |  \n",
            " |  __trunc__(...)\n",
            " |      Truncating an Integral returns itself.\n",
            " |  \n",
            " |  __xor__(self, value, /)\n",
            " |      Return self^value.\n",
            " |  \n",
            " |  as_integer_ratio(self, /)\n",
            " |      Return integer ratio.\n",
            " |      \n",
            " |      Return a pair of integers, whose ratio is exactly equal to the original int\n",
            " |      and with a positive denominator.\n",
            " |      \n",
            " |      >>> (10).as_integer_ratio()\n",
            " |      (10, 1)\n",
            " |      >>> (-10).as_integer_ratio()\n",
            " |      (-10, 1)\n",
            " |      >>> (0).as_integer_ratio()\n",
            " |      (0, 1)\n",
            " |  \n",
            " |  bit_count(self, /)\n",
            " |      Number of ones in the binary representation of the absolute value of self.\n",
            " |      \n",
            " |      Also known as the population count.\n",
            " |      \n",
            " |      >>> bin(13)\n",
            " |      '0b1101'\n",
            " |      >>> (13).bit_count()\n",
            " |      3\n",
            " |  \n",
            " |  bit_length(self, /)\n",
            " |      Number of bits necessary to represent self in binary.\n",
            " |      \n",
            " |      >>> bin(37)\n",
            " |      '0b100101'\n",
            " |      >>> (37).bit_length()\n",
            " |      6\n",
            " |  \n",
            " |  conjugate(...)\n",
            " |      Returns self, the complex conjugate of any int.\n",
            " |  \n",
            " |  to_bytes(self, /, length, byteorder, *, signed=False)\n",
            " |      Return an array of bytes representing an integer.\n",
            " |      \n",
            " |      length\n",
            " |        Length of bytes object to use.  An OverflowError is raised if the\n",
            " |        integer is not representable with the given number of bytes.\n",
            " |      byteorder\n",
            " |        The byte order used to represent the integer.  If byteorder is 'big',\n",
            " |        the most significant byte is at the beginning of the byte array.  If\n",
            " |        byteorder is 'little', the most significant byte is at the end of the\n",
            " |        byte array.  To request the native byte order of the host system, use\n",
            " |        `sys.byteorder' as the byte order value.\n",
            " |      signed\n",
            " |        Determines whether two's complement is used to represent the integer.\n",
            " |        If signed is False and a negative integer is given, an OverflowError\n",
            " |        is raised.\n",
            " |  \n",
            " |  ----------------------------------------------------------------------\n",
            " |  Class methods defined here:\n",
            " |  \n",
            " |  from_bytes(bytes, byteorder, *, signed=False) from builtins.type\n",
            " |      Return the integer represented by the given array of bytes.\n",
            " |      \n",
            " |      bytes\n",
            " |        Holds the array of bytes to convert.  The argument must either\n",
            " |        support the buffer protocol or be an iterable object producing bytes.\n",
            " |        Bytes and bytearray are examples of built-in objects that support the\n",
            " |        buffer protocol.\n",
            " |      byteorder\n",
            " |        The byte order used to represent the integer.  If byteorder is 'big',\n",
            " |        the most significant byte is at the beginning of the byte array.  If\n",
            " |        byteorder is 'little', the most significant byte is at the end of the\n",
            " |        byte array.  To request the native byte order of the host system, use\n",
            " |        `sys.byteorder' as the byte order value.\n",
            " |      signed\n",
            " |        Indicates whether two's complement is used to represent the integer.\n",
            " |  \n",
            " |  ----------------------------------------------------------------------\n",
            " |  Static methods defined here:\n",
            " |  \n",
            " |  __new__(*args, **kwargs) from builtins.type\n",
            " |      Create and return a new object.  See help(type) for accurate signature.\n",
            " |  \n",
            " |  ----------------------------------------------------------------------\n",
            " |  Data descriptors defined here:\n",
            " |  \n",
            " |  denominator\n",
            " |      the denominator of a rational number in lowest terms\n",
            " |  \n",
            " |  imag\n",
            " |      the imaginary part of a complex number\n",
            " |  \n",
            " |  numerator\n",
            " |      the numerator of a rational number in lowest terms\n",
            " |  \n",
            " |  real\n",
            " |      the real part of a complex number\n",
            "\n"
          ]
        }
      ]
    },
    {
      "cell_type": "markdown",
      "source": [
        "La función [type()](https://docs.python.org/3/glossary.html#term-type) nos devuelve el tipo de la variable, y podemos ver como efectivamente es de la clase int."
      ],
      "metadata": {
        "id": "YdyqVQjSwWkV"
      }
    },
    {
      "cell_type": "code",
      "source": [
        "i:int = 12\n",
        "print('El valor almacenado en la variable i es: ', i)\n",
        "print('El tipo de dato almacenado en la variable i es: ', type(i))"
      ],
      "metadata": {
        "id": "cWmZpPwhDkia",
        "colab": {
          "base_uri": "https://localhost:8080/"
        },
        "outputId": "fbe95c18-417a-4c46-92ad-4aafd556b6f6"
      },
      "execution_count": null,
      "outputs": [
        {
          "output_type": "stream",
          "name": "stdout",
          "text": [
            "El valor almacenado en la variable i es:  12\n",
            "El tipo de dato almacenado en la variable i es:  <class 'int'>\n"
          ]
        }
      ]
    },
    {
      "cell_type": "markdown",
      "source": [
        "En otros lenguajes de programación, los int tenían un valor máximo que pueden representar. Dependiendo de la longitud de palabra o wordsize de la arquitectura del ordenador, existen unos números mínimos y máximos que era posible representar. Si por ejemplo se usan enteros de 32 bits el rango a representar es de -2^31 a 2^31–1, es decir, -2.147.483.648 a 2.147.483.647. Con 64 bits, el rango es de -9.223.372.036.854.775.808 hasta 9.223.372.036.854.775.807. Una gran ventaja de Python es que ya no nos tenemos que preocupar de esto, ya que por debajo se encarga de asignar más o menos memoria al número, y podemos representar prácticamente cualquier número."
      ],
      "metadata": {
        "id": "nC6KAYSIDmOF"
      }
    },
    {
      "cell_type": "code",
      "source": [
        "x:int = 250**250\n",
        "print('El valor almacenado en la variable x es: ', x)\n",
        "print('El tipo de dato almacenado en la variable x es: \\n', type(x))"
      ],
      "metadata": {
        "id": "6BRn4Rk-DsYi",
        "colab": {
          "base_uri": "https://localhost:8080/"
        },
        "outputId": "ac69295e-f1bf-4561-9c83-6b75ebe727d7"
      },
      "execution_count": null,
      "outputs": [
        {
          "output_type": "stream",
          "name": "stdout",
          "text": [
            "El valor almacenado en la variable x es:  305493636349960468205197939321361769978940274057232666389361390928129162652472045770185723510801522825687515269359046715531785342780428396973513311420091788963072442053377285222203558881953188370081650866793017948791366338993705251636497892270212003524508209121908744820211960149463721109340307985507678283651836204093399373959982767701148986816406250000000000000000000000000000000000000000000000000000000000000000000000000000000000000000000000000000000000000000000000000000000000000000000000000000000000000000000000000000000000000000000000000000000000000000000000000000000000000000000000000000000000\n",
            "El tipo de dato almacenado en la variable x es: \n",
            " <class 'int'>\n"
          ]
        }
      ]
    },
    {
      "cell_type": "markdown",
      "source": [
        "Si vienes de otras versiones de Python, tal vez eches de menos el tipo long. Puedes leer la [PEP237](https://peps.python.org/pep-0237/), donde se explica porqué se unificó los long y los int."
      ],
      "metadata": {
        "id": "_VLoRPJIDzwA"
      }
    },
    {
      "cell_type": "markdown",
      "source": [
        "## Función bool\n",
        "También es posible convertir un determinado valor a entero usando la función int().\n",
        "\n",
        "Podemos observar como el valor booleano `True` se transforma en un `1` y el `False` en un `0`."
      ],
      "metadata": {
        "id": "jusXN9CYNYVz"
      }
    },
    {
      "cell_type": "code",
      "source": [
        "print('10: ', int(10))\n",
        "print('-10.523: ', int(-10.523))\n",
        "print('True: ', int(True))\n",
        "print('False: ', int(False))"
      ],
      "metadata": {
        "colab": {
          "base_uri": "https://localhost:8080/"
        },
        "id": "uMyPJKfCNe0G",
        "outputId": "dff9e23e-678d-48ba-d555-a7b6de3a2022"
      },
      "execution_count": null,
      "outputs": [
        {
          "output_type": "stream",
          "name": "stdout",
          "text": [
            "10:  10\n",
            "-10.523:  -10\n",
            "True:  1\n",
            "False:  0\n"
          ]
        }
      ]
    },
    {
      "cell_type": "markdown",
      "source": [
        "## Ejemplos\n",
        "\n",
        "En el primer ejemplo hemos asignado un número entero a una variable, pero también es posible asignar valores en binario, hexadecimal y octal.\n",
        "\n",
        "Los prefijos son:\n",
        "- `0b`: indica que lo que viene a continuación será interpretado como un número [binario](https://es.wikipedia.org/wiki/Sistema_binario).\n",
        "- `0x`: indica que lo que viene a continuación será interpretado como un número en [hexadecimal](https://es.wikipedia.org/wiki/Sistema_hexadecimal).\n",
        "- `0c`.  indica que lo que viene a continuación será interpretado como un número en [octal](https://es.wikipedia.org/wiki/Sistema_octal).\n",
        "\n",
        "Al imprimir, el número se convierte en entero para todos los casos."
      ],
      "metadata": {
        "id": "5oWZMIARD22D"
      }
    },
    {
      "cell_type": "code",
      "source": [
        "a:int = 0b100\n",
        "b:int = 0x17\n",
        "c:int = 0o720\n",
        "print('El valor de la variable a es: ',a,' - el tipo de la variable es : ', type(a))\n",
        "print('El valor de la variable b es: ',b,' - el tipo de la variable es : ', type(b))\n",
        "print('El valor de la variable c es: ',c,' - el tipo de la variable es : ', type(c))"
      ],
      "metadata": {
        "id": "kFuWkorTD5Ih",
        "colab": {
          "base_uri": "https://localhost:8080/"
        },
        "outputId": "734afea2-685f-4e40-e591-8b1d3d9b2f56"
      },
      "execution_count": null,
      "outputs": [
        {
          "output_type": "stream",
          "name": "stdout",
          "text": [
            "El valor de la variable a es:  4  - el tipo de la variable es :  <class 'int'>\n",
            "El valor de la variable b es:  23  - el tipo de la variable es :  <class 'int'>\n",
            "El valor de la variable c es:  464  - el tipo de la variable es :  <class 'int'>\n"
          ]
        }
      ]
    },
    {
      "cell_type": "markdown",
      "source": [
        "Con el siguiente ejemplo podemos ver como Python asigna diferente número de bits a las variables en función del número que quieren representar.\n",
        "\n",
        "La función [getsizeof()](https://docs.python.org/3/library/sys.html#sys.getsizeof) devuelve el tamaño de una variable en memoria en [bytes](https://es.wikipedia.org/wiki/Byte)."
      ],
      "metadata": {
        "id": "Deh10B2dD6rW"
      }
    },
    {
      "cell_type": "code",
      "source": [
        "import sys\n",
        "\n",
        "x:int = 5**100\n",
        "y:int = 10\n",
        "print('La variable x contiene el valor ', x, ', su tipo es ', type(x), ' y ocupa en memoria un total de ',sys.getsizeof(x), ' bytes o ', sys.getsizeof(x)*8,' bits.')\n",
        "print('La variable y contiene el valor ', y, ', su tipo es ', type(y), ' y ocupa en memoria un total de ',sys.getsizeof(y), ' bytes o ', sys.getsizeof(y)*8,' bits.')"
      ],
      "metadata": {
        "id": "2l4FY2E7D8Pv",
        "colab": {
          "base_uri": "https://localhost:8080/"
        },
        "outputId": "589c8ac6-5ad1-47e4-8e1d-3094b74281b3"
      },
      "execution_count": null,
      "outputs": [
        {
          "output_type": "stream",
          "name": "stdout",
          "text": [
            "La variable x contiene el valor  7888609052210118054117285652827862296732064351090230047702789306640625 , su tipo es  <class 'int'>  y ocupa en memoria un total de  56  bytes o  448  bits.\n",
            "La variable y contiene el valor  10 , su tipo es  <class 'int'>  y ocupa en memoria un total de  28  bytes o  224  bits.\n"
          ]
        }
      ]
    },
    {
      "cell_type": "markdown",
      "source": [
        "Un caso curioso es que si intentamos representar un número aún mayor, nos encontraremos con que el resultado es [inf](https://docs.python.org/3/library/math.html#math.inf) que representa al infinito en vez de con una excepción.\n",
        "\n",
        "Este valor lo podemos encontrar en el módulo math.\n"
      ],
      "metadata": {
        "id": "5xm6Ikn1D-tA"
      }
    },
    {
      "cell_type": "code",
      "source": [
        "import math\n",
        "print('Infinito: ', math.inf)"
      ],
      "metadata": {
        "colab": {
          "base_uri": "https://localhost:8080/"
        },
        "id": "__X6HEsc0u2Q",
        "outputId": "8b654edc-9176-4a38-d499-74deed3fd8e7"
      },
      "execution_count": null,
      "outputs": [
        {
          "output_type": "stream",
          "name": "stdout",
          "text": [
            "Infinito:  inf\n"
          ]
        }
      ]
    },
    {
      "cell_type": "code",
      "source": [
        "z:int = 2e2000\n",
        "print(f'La variable z contiene el valor {z}. Es infinito? {z == math.inf}')"
      ],
      "metadata": {
        "id": "7fJFAg_-EAVn",
        "colab": {
          "base_uri": "https://localhost:8080/"
        },
        "outputId": "eeea7268-8333-459d-9a25-8f6e2b7262c9"
      },
      "execution_count": null,
      "outputs": [
        {
          "output_type": "stream",
          "name": "stdout",
          "text": [
            "La variable z contiene el valor inf. Es infinito? True\n"
          ]
        }
      ]
    },
    {
      "cell_type": "markdown",
      "source": [
        "## Convertir a int\n",
        "\n",
        "El posible convertir a int otro tipo. Como hemos explicado, el tipo int no puedo contener decimales, por lo que si intentamos convertir un número decimal, se truncará todo lo que tengamos a la derecha de la coma.\n",
        "\n"
      ],
      "metadata": {
        "id": "4n57Q1EdEDHr"
      }
    },
    {
      "cell_type": "code",
      "source": [
        "b:int = int(1.6)\n",
        "print('La variable b contiene el valor: ', b)"
      ],
      "metadata": {
        "id": "7HV2A98ZEDjW",
        "colab": {
          "base_uri": "https://localhost:8080/"
        },
        "outputId": "40ec54af-4505-43e6-b3ef-0e94a25f5cea"
      },
      "execution_count": null,
      "outputs": [
        {
          "output_type": "stream",
          "name": "stdout",
          "text": [
            "La variable b contiene el valor:  1\n"
          ]
        }
      ]
    }
  ]
}