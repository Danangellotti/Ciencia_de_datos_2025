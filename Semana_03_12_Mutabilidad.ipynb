{
  "nbformat": 4,
  "nbformat_minor": 0,
  "metadata": {
    "colab": {
      "provenance": [],
      "include_colab_link": true
    },
    "kernelspec": {
      "name": "python3",
      "display_name": "Python 3"
    },
    "language_info": {
      "name": "python"
    }
  },
  "cells": [
    {
      "cell_type": "markdown",
      "metadata": {
        "id": "view-in-github",
        "colab_type": "text"
      },
      "source": [
        "<a href=\"https://colab.research.google.com/github/Danangellotti/Ciencia_de_datos_2025/blob/main/Semana_03_12_Mutabilidad.ipynb\" target=\"_parent\"><img src=\"https://colab.research.google.com/assets/colab-badge.svg\" alt=\"Open In Colab\"/></a>"
      ]
    },
    {
      "cell_type": "markdown",
      "source": [
        "# Identidad, tipo y valor\n",
        "Python es un lenguaje de programación orientado a objetos, y como tal, trata a todos los tipos de datos como objetos. Un simple entero es un objeto.\n",
        "\n",
        "```\n",
        "# x es un objeto\n",
        "x = 5\n",
        "```\n",
        "\n",
        "Y una función es también un objeto.\n",
        "\n",
        "```\n",
        "# x es un objeto\n",
        "def x():\n",
        "    pass\n",
        "```\n",
        "\n",
        "Ahora, tal vez te preguntes ¿y entonces cuál es la diferencia? ¿en qué se diferencian los objetos? Pues bien, cada objeto viene identificado por su identidad, tipo y valor:\n",
        "\n",
        "* Identidad: Nunca cambia e identifica de manera unívoca al objeto. El operador `is` nos permite saber si dos objetos son en realidad el mismo. Es decir, si dos variables hacen referencia al mismo objeto.\n",
        "* Tipo: Nos indica el tipo al que pertenece, como un float o una lista. La función `type()` nos indica el tipo de un determinado objeto. Es la clase a la que pertenece.\n",
        "* Valor: Todo objeto tiene unas características particulares. Si estas características pueden ser modificadas, diremos que es un tipo mutable. De lo contrario, que es inmutable.\n",
        "\n",
        "Veamos un ejemplo con un entero:\n",
        "\n",
        "* Podemos ver con id(), que se trata de un identificador único. Es importante notar que si ejecutamos el código diferentes veces, su valor no tiene porqué se el mismo.\n",
        "* Por otro lado el tipo entero, <class 'int'>.\n",
        "* Por último tenemos su valor, 10."
      ],
      "metadata": {
        "id": "_0LYa30kqOrh"
      }
    },
    {
      "cell_type": "code",
      "source": [
        "x:int = 10\n",
        "print(\"Identidad:\", id(x))\n",
        "print(\"Tipo:\", type(x))\n",
        "print(\"Value:\", x)"
      ],
      "metadata": {
        "id": "k8fjLwJ3qzKS",
        "colab": {
          "base_uri": "https://localhost:8080/"
        },
        "outputId": "58dcc392-9e06-4454-8d1e-40c13d32faa9"
      },
      "execution_count": null,
      "outputs": [
        {
          "output_type": "stream",
          "name": "stdout",
          "text": [
            "Identidad: 133629263168016\n",
            "Tipo: <class 'int'>\n",
            "Value: 10\n"
          ]
        }
      ]
    },
    {
      "cell_type": "markdown",
      "source": [
        "Los enteros en Python, son un tipo inmutable y a continuación explicaremos las implicaciones que tiene esto."
      ],
      "metadata": {
        "id": "dyKyDM4Aq10o"
      }
    },
    {
      "cell_type": "markdown",
      "source": [
        "## Mutabilidad\n",
        "Los diferentes tipos de Python u otros objetos en general, pueden ser clasificados atendiendo a su mutabilidad.\n",
        "\n",
        "Pueden ser:\n",
        "\n",
        "* Mutables: Si permiten ser modificados una vez creados.\n",
        "* Inmutables: Si no permiten ser modificados una vez creados.\n",
        "\n",
        "Son mutables los siguientes tipos:\n",
        "\n",
        "* Listas\n",
        "* Bytearray\n",
        "* Memoryview\n",
        "* Diccionarios\n",
        "* Sets\n",
        "* Y clases definidas por el usuario\n",
        "\n",
        "Y son inmutables:\n",
        "\n",
        "* Booleanos\n",
        "* Complejos\n",
        "* Enteros\n",
        "* Float\n",
        "* Frozenset\n",
        "* Cadenas\n",
        "* Tuplas\n",
        "* Range\n",
        "* Bytes\n",
        "\n",
        "Sabida ya la clasificación, tal vez te preguntes porqué es esto relevante. Pues bien, Python trata de manera diferente a los tipos mutables e inmutables, y si no entiendes bien este concepto, puedes llegar a tener comportamientos inesperados en tus programas.\n",
        "\n",
        "La forma más sencilla de ver la diferencia, es usando las listas en oposición a las tuplas. Las primeras son mutables, las segundas no.\n",
        "\n",
        "Una lista l puede ser modificada una vez creada."
      ],
      "metadata": {
        "id": "5UAo5vSOq4vT"
      }
    },
    {
      "cell_type": "code",
      "source": [
        "l:list = [1, 2, 3]\n",
        "print('La variable l contiene:', l)\n",
        "l[0] = 0\n",
        "print('La variable l contiene:', l)"
      ],
      "metadata": {
        "id": "vv7PV_CxrHoR",
        "colab": {
          "base_uri": "https://localhost:8080/"
        },
        "outputId": "5288468e-1214-4ecb-e40d-a438d16d71b5"
      },
      "execution_count": null,
      "outputs": [
        {
          "output_type": "stream",
          "name": "stdout",
          "text": [
            "La variable l contiene: [1, 2, 3]\n",
            "La variable l contiene: [0, 2, 3]\n"
          ]
        }
      ]
    },
    {
      "cell_type": "markdown",
      "source": [
        "Como hemos explicado antes, id() nos devuelve un identificador único del objeto. Como puedes observar, es el mismo antes y después de realizar la modificación."
      ],
      "metadata": {
        "id": "TwWax1gRrKjx"
      }
    },
    {
      "cell_type": "code",
      "source": [
        "l:list = [1, 2, 3]\n",
        "print('La variable l contiene:', l, ' - y el id es: ', id(l))\n",
        "l[0] = 0\n",
        "print('La variable l contiene:', l, ' - y el id es: ', id(l))"
      ],
      "metadata": {
        "id": "MAgYc0G-rMHz",
        "colab": {
          "base_uri": "https://localhost:8080/"
        },
        "outputId": "36ca1613-093c-492c-ae2a-2ac9b11ae9c5"
      },
      "execution_count": null,
      "outputs": [
        {
          "output_type": "stream",
          "name": "stdout",
          "text": [
            "La variable l contiene: [1, 2, 3]  - y el id es:  133628832432448\n",
            "La variable l contiene: [0, 2, 3]  - y el id es:  133628832432448\n"
          ]
        }
      ]
    },
    {
      "cell_type": "markdown",
      "source": [
        "Sin embargo, una tupla es inmutable, por lo que la siguiente asignación dará un error.\n",
        "\n"
      ],
      "metadata": {
        "id": "ih3X6ZRxrQ94"
      }
    },
    {
      "cell_type": "code",
      "source": [
        "import traceback"
      ],
      "metadata": {
        "id": "Q2Mb8TbD9QkO"
      },
      "execution_count": null,
      "outputs": []
    },
    {
      "cell_type": "code",
      "source": [
        "t:tuple = (1, 2, 3)\n",
        "print('La variable t contiene:', t)\n",
        "try:\n",
        "  t[0] = 0\n",
        "except Exception:\n",
        "  traceback.print_exc()"
      ],
      "metadata": {
        "id": "FC29hYr4rSE9",
        "colab": {
          "base_uri": "https://localhost:8080/"
        },
        "outputId": "dd623f99-6eb7-41ae-e6bf-647e51e9980f"
      },
      "execution_count": null,
      "outputs": [
        {
          "output_type": "stream",
          "name": "stdout",
          "text": [
            "La variable t contiene: (1, 2, 3)\n"
          ]
        },
        {
          "output_type": "stream",
          "name": "stderr",
          "text": [
            "Traceback (most recent call last):\n",
            "  File \"<ipython-input-5-7c3e6119a757>\", line 4, in <cell line: 3>\n",
            "    t[0] = 0\n",
            "TypeError: 'tuple' object does not support item assignment\n"
          ]
        }
      ]
    },
    {
      "cell_type": "markdown",
      "source": [
        "Aunque la tupla es inmutable, si que habría una forma de modificar el valor de t, pero lo que en realidad hacemos es crear una nueva tupla y asignarle el mismo nombre.\n",
        "\n",
        "Se podría hacer algo como lo siguiente, convertir la tupla en lista, modificar la lista y convertir a tupla otra vez."
      ],
      "metadata": {
        "id": "XgeuyKE0rVNh"
      }
    },
    {
      "cell_type": "code",
      "source": [
        "t:tuple = (1, 2, 3)\n",
        "print('La variable t contiene:', t, ' - y el id es: ', id(t))\n",
        "# convertimos la tupla en una lista\n",
        "t:list = list(t)\n",
        "\n",
        "# Modificar elemento\n",
        "t[0] = 0\n",
        "#convertimos la lista a una tupla\n",
        "t:tuple = tuple(t)\n",
        "\n",
        "print('La variable t contiene:', t, ' - y el id es: ', id(t))"
      ],
      "metadata": {
        "id": "N0pBJ7rqrWyy",
        "colab": {
          "base_uri": "https://localhost:8080/"
        },
        "outputId": "95c7c0a0-0292-4a2c-a829-671a7bbabb71"
      },
      "execution_count": null,
      "outputs": [
        {
          "output_type": "stream",
          "name": "stdout",
          "text": [
            "La variable t contiene: (1, 2, 3)  - y el id es:  133628832358528\n",
            "La variable t contiene: (0, 2, 3)  - y el id es:  133628832435648\n"
          ]
        }
      ]
    },
    {
      "cell_type": "markdown",
      "source": [
        "Como puedes ver, hemos conseguido modificar el valor de t, pero id(t) ya no nos devuelve el mismo valor. El nombre de la variable es el mismo, pero el objeto al que “apunta” ha cambiado.\n",
        "\n",
        "Lo mismo pasa con los sets (mutables) y los frozenset (no mutables).\n",
        "\n",
        "Esto no resulta tan evidente si usamos un entero. Veamos un ejemplo.\n",
        "\n",
        "Tenemos una variable x con su id y le añadimos una unidad. El resultado es que el identificador cambia, ya que Python no puede cambiar el 5 al ser el entero un tipo inmutable."
      ],
      "metadata": {
        "id": "V8ojMbNzrgnb"
      }
    },
    {
      "cell_type": "code",
      "source": [
        "x:int = 5\n",
        "print('La variable x contiene:', x, ' - y el id es: ', id(x))\n",
        "x:int = x + 1\n",
        "print('La variable x contiene:', x, ' - y el id es: ', id(x))\n",
        "print('Ha cambiado')"
      ],
      "metadata": {
        "id": "pLz2oVdjrkSm",
        "colab": {
          "base_uri": "https://localhost:8080/"
        },
        "outputId": "51942f9a-f4e0-4ecf-b47d-85234e0cccf0"
      },
      "execution_count": null,
      "outputs": [
        {
          "output_type": "stream",
          "name": "stdout",
          "text": [
            "La variable x contiene: 5  - y el id es:  133629263167856\n",
            "La variable x contiene: 6  - y el id es:  133629263167888\n",
            "Ha cambiado\n"
          ]
        }
      ]
    },
    {
      "cell_type": "markdown",
      "source": [
        "Sin embargo, si usamos una lista, que es un tipo mutable, al intentar modificar la x, dicha modificación puede ser realizada en la misma variable, por lo que el id() es el mismo"
      ],
      "metadata": {
        "id": "hx4W9R7VrnwI"
      }
    },
    {
      "cell_type": "code",
      "source": [
        "x:list = [1, 2]\n",
        "print('La variable x contiene:', x, ' - y el id es: ', id(x))\n",
        "x.append(3)\n",
        "print('La variable x contiene:', x, ' - y el id es: ', id(x))\n",
        "print('No cambia')"
      ],
      "metadata": {
        "id": "nGO6UJk_ro32",
        "colab": {
          "base_uri": "https://localhost:8080/"
        },
        "outputId": "bbf86c40-be19-4c92-9c6c-ab51fe5c4d69"
      },
      "execution_count": null,
      "outputs": [
        {
          "output_type": "stream",
          "name": "stdout",
          "text": [
            "La variable x contiene: [1, 2]  - y el id es:  133628832363648\n",
            "La variable x contiene: [1, 2, 3]  - y el id es:  133628832363648\n",
            "No cambia\n"
          ]
        }
      ]
    },
    {
      "cell_type": "markdown",
      "source": [
        "Las principales diferencias entre tipos mutables e inmutables son las siguientes:\n",
        "\n",
        "* Los tipos inmutables son generalmente más rápidos de acceder. Por lo que si no piensas modificar una lista, es mejor que uses una tupla.\n",
        "* Los tipos mutables son perfectos cuando quieres cambiar su contenido repetidas veces.\n",
        "* Los tipos inmutables son caros de cambiar, ya que lo que se hace en realidad es hacer una copia de su contenido en un nuevo objeto con las modificaciones."
      ],
      "metadata": {
        "id": "-BCjhsrIrr4x"
      }
    },
    {
      "cell_type": "markdown",
      "source": [
        "## Excepciones de mutabilidad\n",
        "Aunque tampoco se trata de una excepción propiamente dicha ya que no rompe con lo explicado anteriormente, hay casos en los que si podría parecer que se modifica un tipo inmutable.\n",
        "\n",
        "Imaginemos que tenemos una tupla (inmutable) compuesta por varios elementos, donde hay una lista (mutable)."
      ],
      "metadata": {
        "id": "i12NYwDpruyM"
      }
    },
    {
      "cell_type": "code",
      "source": [
        "l:list = [4, 5, 6]\n",
        "\n",
        "# La lista es parte de la tupla\n",
        "t:tuple = (1, 2, 3, l)\n",
        "print('La variable t contiene:', t, ' - y el id es: ', id(t))\n",
        "# Podemos modificar la lista\n",
        "l[0] = 0\n",
        "\n",
        "# Que también modifica la tupla\n",
        "print('La variable t contiene:', t, ' - y el id es: ', id(t))"
      ],
      "metadata": {
        "id": "4dpiLuc0rwks",
        "colab": {
          "base_uri": "https://localhost:8080/"
        },
        "outputId": "b97f96cf-688d-437b-c3e7-4e0ac4825481"
      },
      "execution_count": null,
      "outputs": [
        {
          "output_type": "stream",
          "name": "stdout",
          "text": [
            "La variable t contiene: (1, 2, 3, [4, 5, 6])  - y el id es:  133629261175664\n",
            "La variable t contiene: (1, 2, 3, [0, 5, 6])  - y el id es:  133629261175664\n"
          ]
        }
      ]
    },
    {
      "cell_type": "markdown",
      "source": [
        "Aunque parece que hayamos modificado la tupla t, lo que en realidad hemos modificado es la lista l, y como la tupla referencia a ella, también se ve modificada."
      ],
      "metadata": {
        "id": "hrdniSVnr1ez"
      }
    },
    {
      "cell_type": "markdown",
      "source": [
        "## Mutabilidad y paso por valor/referencia\n",
        "La mutabilidad de los objetos es una característica muy importante cuando tratamos con funciones, ya que Python los tratará de manera distinta.\n",
        "\n",
        "Si conoces lenguajes de programación como C, los conceptos de paso por valor o referencia te resultarán familiares:\n",
        "\n",
        "* Los tipos inmutables son pasados por valor, por lo tanto dentro de la función se accede a una copia y no al valor original.\n",
        "* Los tipos mutables son pasados por referencia, como es el caso de las listas y los diccionarios. Algo similar a como C pasa las array como punteros.\n",
        "\n",
        "En otros posts te explicamos con más detalle el paso por valor y referencia, pero veamos un ejemplo.\n",
        "\n",
        "Tenemos una función que modifica dos variables."
      ],
      "metadata": {
        "id": "k0YJakX9r3m3"
      }
    },
    {
      "cell_type": "code",
      "source": [
        "def funcion(a, b):\n",
        "    a:int = 10\n",
        "    b[0] = 10\n",
        "    print('Dentro de la función')\n",
        "    print('La variable a contiene:', a, ' - y el id es: ', id(a))\n",
        "    print('La variable b contiene:', b, ' - y el id es: ', id(b))\n",
        "\n",
        "# x es un entero\n",
        "x:int = 5\n",
        "\n",
        "# y es una lista\n",
        "y:int = [5]"
      ],
      "metadata": {
        "id": "W-dIbSzKr9dl"
      },
      "execution_count": null,
      "outputs": []
    },
    {
      "cell_type": "markdown",
      "source": [
        "Si llamamos a la función con ambas variables, vemos como el valor de x no ha cambiado, pero el de y sí.\n",
        "\n"
      ],
      "metadata": {
        "id": "1wc7ObC2sBsZ"
      }
    },
    {
      "cell_type": "code",
      "source": [
        "print('La variable x contiene:', x, ' - y el id es: ', id(x))\n",
        "print('La variable y contiene:', y, ' - y el id es: ', id(y))\n",
        "\n",
        "funcion(x, y)\n",
        "print('Después de llamar a la función')\n",
        "print('La variable x contiene:', x, ' - y el id es: ', id(x))\n",
        "print('La variable y contiene:', y, ' - y el id es: ', id(y))"
      ],
      "metadata": {
        "id": "iEP2Ic5nsDAP",
        "colab": {
          "base_uri": "https://localhost:8080/"
        },
        "outputId": "b2826953-5303-45c9-cee3-88e12e78bccc"
      },
      "execution_count": null,
      "outputs": [
        {
          "output_type": "stream",
          "name": "stdout",
          "text": [
            "La variable x contiene: 5  - y el id es:  133629263167856\n",
            "La variable y contiene: [5]  - y el id es:  133628832508416\n",
            "Dentro de la función\n",
            "La variable a contiene: 10  - y el id es:  133629263168016\n",
            "La variable b contiene: [10]  - y el id es:  133628832508416\n",
            "Después de llamar a la función\n",
            "La variable x contiene: 5  - y el id es:  133629263167856\n",
            "La variable y contiene: [10]  - y el id es:  133628832508416\n"
          ]
        }
      ]
    },
    {
      "cell_type": "markdown",
      "source": [
        "Esto se debe a que a=10 trabaja con un valor de a local a la función, al ser el entero un tipo inmutable. Sin embargo b[0]=10 actúa sobre la variable original."
      ],
      "metadata": {
        "id": "eoweCO7_sE4z"
      }
    },
    {
      "cell_type": "markdown",
      "source": [
        "## Ejercicios y ejemplos\n"
      ],
      "metadata": {
        "id": "nueNbpBWsGhA"
      }
    },
    {
      "cell_type": "markdown",
      "source": [
        "### Modificar una tupla con slicing\n",
        "Como hemos visto anteriormente, realizar la siguiente asignación no es posible."
      ],
      "metadata": {
        "id": "DhjppTSnsKDh"
      }
    },
    {
      "cell_type": "code",
      "source": [
        "T:tuple = (1, 2, 3, 4, 5)\n",
        "try:\n",
        "  T[2] = 0\n",
        "except Exception:\n",
        "  traceback.print_exc()"
      ],
      "metadata": {
        "id": "NmIW6OqXsMXK",
        "colab": {
          "base_uri": "https://localhost:8080/"
        },
        "outputId": "6d5513c4-f375-482b-e871-9491d4efc46e"
      },
      "execution_count": null,
      "outputs": [
        {
          "output_type": "stream",
          "name": "stderr",
          "text": [
            "Traceback (most recent call last):\n",
            "  File \"<ipython-input-12-14e1832e00d2>\", line 3, in <cell line: 2>\n",
            "    T[2] = 0\n",
            "TypeError: 'tuple' object does not support item assignment\n"
          ]
        }
      ]
    },
    {
      "cell_type": "markdown",
      "source": [
        "Si por ejemplo queremos modificar el índice T[2], podemos hacer uso del slicing.\n",
        "\n"
      ],
      "metadata": {
        "id": "AyspSrvQsPmD"
      }
    },
    {
      "cell_type": "code",
      "source": [
        "T:tuple = (1, 2, 3, 4, 5)\n",
        "T:tuple = T[:2] + (0,) + T[3:]\n",
        "print(T)\n"
      ],
      "metadata": {
        "colab": {
          "base_uri": "https://localhost:8080/"
        },
        "id": "6oOn1z94sP0P",
        "outputId": "3a5d6f93-68ba-4982-b697-95e64fc11efb"
      },
      "execution_count": null,
      "outputs": [
        {
          "output_type": "stream",
          "name": "stdout",
          "text": [
            "(1, 2, 0, 4, 5)\n"
          ]
        }
      ]
    }
  ]
}