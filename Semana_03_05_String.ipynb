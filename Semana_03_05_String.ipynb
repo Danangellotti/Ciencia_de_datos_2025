{
  "nbformat": 4,
  "nbformat_minor": 0,
  "metadata": {
    "colab": {
      "provenance": [],
      "toc_visible": true,
      "include_colab_link": true
    },
    "kernelspec": {
      "name": "python3",
      "display_name": "Python 3"
    },
    "language_info": {
      "name": "python"
    }
  },
  "cells": [
    {
      "cell_type": "markdown",
      "metadata": {
        "id": "view-in-github",
        "colab_type": "text"
      },
      "source": [
        "<a href=\"https://colab.research.google.com/github/Danangellotti/Ciencia_de_datos_2025/blob/main/Semana_03_05_String.ipynb\" target=\"_parent\"><img src=\"https://colab.research.google.com/assets/colab-badge.svg\" alt=\"Open In Colab\"/></a>"
      ]
    },
    {
      "cell_type": "markdown",
      "source": [
        "## str\n",
        "\n",
        "Las cadenas de texto en Python o strings son un tipo inmutable que permite almacenar secuencias de caracteres. Para crear una, es necesario incluir el texto entre comillas dobles `\"` o simples `'`."
      ],
      "metadata": {
        "id": "HU0QxUxHQeM9"
      }
    },
    {
      "cell_type": "markdown",
      "source": [
        "Puedes obtener más ayuda con el comando help."
      ],
      "metadata": {
        "id": "YhI6Pe5hhrep"
      }
    },
    {
      "cell_type": "code",
      "source": [
        "help(str)"
      ],
      "metadata": {
        "id": "-5Gx5UAphuaI",
        "colab": {
          "base_uri": "https://localhost:8080/"
        },
        "outputId": "bfd35282-ebd3-46a5-dfa6-04095788c1bd"
      },
      "execution_count": null,
      "outputs": [
        {
          "output_type": "stream",
          "name": "stdout",
          "text": [
            "Help on class str in module builtins:\n",
            "\n",
            "class str(object)\n",
            " |  str(object='') -> str\n",
            " |  str(bytes_or_buffer[, encoding[, errors]]) -> str\n",
            " |  \n",
            " |  Create a new string object from the given object. If encoding or\n",
            " |  errors is specified, then the object must expose a data buffer\n",
            " |  that will be decoded using the given encoding and error handler.\n",
            " |  Otherwise, returns the result of object.__str__() (if defined)\n",
            " |  or repr(object).\n",
            " |  encoding defaults to sys.getdefaultencoding().\n",
            " |  errors defaults to 'strict'.\n",
            " |  \n",
            " |  Methods defined here:\n",
            " |  \n",
            " |  __add__(self, value, /)\n",
            " |      Return self+value.\n",
            " |  \n",
            " |  __contains__(self, key, /)\n",
            " |      Return key in self.\n",
            " |  \n",
            " |  __eq__(self, value, /)\n",
            " |      Return self==value.\n",
            " |  \n",
            " |  __format__(self, format_spec, /)\n",
            " |      Return a formatted version of the string as described by format_spec.\n",
            " |  \n",
            " |  __ge__(self, value, /)\n",
            " |      Return self>=value.\n",
            " |  \n",
            " |  __getattribute__(self, name, /)\n",
            " |      Return getattr(self, name).\n",
            " |  \n",
            " |  __getitem__(self, key, /)\n",
            " |      Return self[key].\n",
            " |  \n",
            " |  __getnewargs__(...)\n",
            " |  \n",
            " |  __gt__(self, value, /)\n",
            " |      Return self>value.\n",
            " |  \n",
            " |  __hash__(self, /)\n",
            " |      Return hash(self).\n",
            " |  \n",
            " |  __iter__(self, /)\n",
            " |      Implement iter(self).\n",
            " |  \n",
            " |  __le__(self, value, /)\n",
            " |      Return self<=value.\n",
            " |  \n",
            " |  __len__(self, /)\n",
            " |      Return len(self).\n",
            " |  \n",
            " |  __lt__(self, value, /)\n",
            " |      Return self<value.\n",
            " |  \n",
            " |  __mod__(self, value, /)\n",
            " |      Return self%value.\n",
            " |  \n",
            " |  __mul__(self, value, /)\n",
            " |      Return self*value.\n",
            " |  \n",
            " |  __ne__(self, value, /)\n",
            " |      Return self!=value.\n",
            " |  \n",
            " |  __repr__(self, /)\n",
            " |      Return repr(self).\n",
            " |  \n",
            " |  __rmod__(self, value, /)\n",
            " |      Return value%self.\n",
            " |  \n",
            " |  __rmul__(self, value, /)\n",
            " |      Return value*self.\n",
            " |  \n",
            " |  __sizeof__(self, /)\n",
            " |      Return the size of the string in memory, in bytes.\n",
            " |  \n",
            " |  __str__(self, /)\n",
            " |      Return str(self).\n",
            " |  \n",
            " |  capitalize(self, /)\n",
            " |      Return a capitalized version of the string.\n",
            " |      \n",
            " |      More specifically, make the first character have upper case and the rest lower\n",
            " |      case.\n",
            " |  \n",
            " |  casefold(self, /)\n",
            " |      Return a version of the string suitable for caseless comparisons.\n",
            " |  \n",
            " |  center(self, width, fillchar=' ', /)\n",
            " |      Return a centered string of length width.\n",
            " |      \n",
            " |      Padding is done using the specified fill character (default is a space).\n",
            " |  \n",
            " |  count(...)\n",
            " |      S.count(sub[, start[, end]]) -> int\n",
            " |      \n",
            " |      Return the number of non-overlapping occurrences of substring sub in\n",
            " |      string S[start:end].  Optional arguments start and end are\n",
            " |      interpreted as in slice notation.\n",
            " |  \n",
            " |  encode(self, /, encoding='utf-8', errors='strict')\n",
            " |      Encode the string using the codec registered for encoding.\n",
            " |      \n",
            " |      encoding\n",
            " |        The encoding in which to encode the string.\n",
            " |      errors\n",
            " |        The error handling scheme to use for encoding errors.\n",
            " |        The default is 'strict' meaning that encoding errors raise a\n",
            " |        UnicodeEncodeError.  Other possible values are 'ignore', 'replace' and\n",
            " |        'xmlcharrefreplace' as well as any other name registered with\n",
            " |        codecs.register_error that can handle UnicodeEncodeErrors.\n",
            " |  \n",
            " |  endswith(...)\n",
            " |      S.endswith(suffix[, start[, end]]) -> bool\n",
            " |      \n",
            " |      Return True if S ends with the specified suffix, False otherwise.\n",
            " |      With optional start, test S beginning at that position.\n",
            " |      With optional end, stop comparing S at that position.\n",
            " |      suffix can also be a tuple of strings to try.\n",
            " |  \n",
            " |  expandtabs(self, /, tabsize=8)\n",
            " |      Return a copy where all tab characters are expanded using spaces.\n",
            " |      \n",
            " |      If tabsize is not given, a tab size of 8 characters is assumed.\n",
            " |  \n",
            " |  find(...)\n",
            " |      S.find(sub[, start[, end]]) -> int\n",
            " |      \n",
            " |      Return the lowest index in S where substring sub is found,\n",
            " |      such that sub is contained within S[start:end].  Optional\n",
            " |      arguments start and end are interpreted as in slice notation.\n",
            " |      \n",
            " |      Return -1 on failure.\n",
            " |  \n",
            " |  format(...)\n",
            " |      S.format(*args, **kwargs) -> str\n",
            " |      \n",
            " |      Return a formatted version of S, using substitutions from args and kwargs.\n",
            " |      The substitutions are identified by braces ('{' and '}').\n",
            " |  \n",
            " |  format_map(...)\n",
            " |      S.format_map(mapping) -> str\n",
            " |      \n",
            " |      Return a formatted version of S, using substitutions from mapping.\n",
            " |      The substitutions are identified by braces ('{' and '}').\n",
            " |  \n",
            " |  index(...)\n",
            " |      S.index(sub[, start[, end]]) -> int\n",
            " |      \n",
            " |      Return the lowest index in S where substring sub is found,\n",
            " |      such that sub is contained within S[start:end].  Optional\n",
            " |      arguments start and end are interpreted as in slice notation.\n",
            " |      \n",
            " |      Raises ValueError when the substring is not found.\n",
            " |  \n",
            " |  isalnum(self, /)\n",
            " |      Return True if the string is an alpha-numeric string, False otherwise.\n",
            " |      \n",
            " |      A string is alpha-numeric if all characters in the string are alpha-numeric and\n",
            " |      there is at least one character in the string.\n",
            " |  \n",
            " |  isalpha(self, /)\n",
            " |      Return True if the string is an alphabetic string, False otherwise.\n",
            " |      \n",
            " |      A string is alphabetic if all characters in the string are alphabetic and there\n",
            " |      is at least one character in the string.\n",
            " |  \n",
            " |  isascii(self, /)\n",
            " |      Return True if all characters in the string are ASCII, False otherwise.\n",
            " |      \n",
            " |      ASCII characters have code points in the range U+0000-U+007F.\n",
            " |      Empty string is ASCII too.\n",
            " |  \n",
            " |  isdecimal(self, /)\n",
            " |      Return True if the string is a decimal string, False otherwise.\n",
            " |      \n",
            " |      A string is a decimal string if all characters in the string are decimal and\n",
            " |      there is at least one character in the string.\n",
            " |  \n",
            " |  isdigit(self, /)\n",
            " |      Return True if the string is a digit string, False otherwise.\n",
            " |      \n",
            " |      A string is a digit string if all characters in the string are digits and there\n",
            " |      is at least one character in the string.\n",
            " |  \n",
            " |  isidentifier(self, /)\n",
            " |      Return True if the string is a valid Python identifier, False otherwise.\n",
            " |      \n",
            " |      Call keyword.iskeyword(s) to test whether string s is a reserved identifier,\n",
            " |      such as \"def\" or \"class\".\n",
            " |  \n",
            " |  islower(self, /)\n",
            " |      Return True if the string is a lowercase string, False otherwise.\n",
            " |      \n",
            " |      A string is lowercase if all cased characters in the string are lowercase and\n",
            " |      there is at least one cased character in the string.\n",
            " |  \n",
            " |  isnumeric(self, /)\n",
            " |      Return True if the string is a numeric string, False otherwise.\n",
            " |      \n",
            " |      A string is numeric if all characters in the string are numeric and there is at\n",
            " |      least one character in the string.\n",
            " |  \n",
            " |  isprintable(self, /)\n",
            " |      Return True if the string is printable, False otherwise.\n",
            " |      \n",
            " |      A string is printable if all of its characters are considered printable in\n",
            " |      repr() or if it is empty.\n",
            " |  \n",
            " |  isspace(self, /)\n",
            " |      Return True if the string is a whitespace string, False otherwise.\n",
            " |      \n",
            " |      A string is whitespace if all characters in the string are whitespace and there\n",
            " |      is at least one character in the string.\n",
            " |  \n",
            " |  istitle(self, /)\n",
            " |      Return True if the string is a title-cased string, False otherwise.\n",
            " |      \n",
            " |      In a title-cased string, upper- and title-case characters may only\n",
            " |      follow uncased characters and lowercase characters only cased ones.\n",
            " |  \n",
            " |  isupper(self, /)\n",
            " |      Return True if the string is an uppercase string, False otherwise.\n",
            " |      \n",
            " |      A string is uppercase if all cased characters in the string are uppercase and\n",
            " |      there is at least one cased character in the string.\n",
            " |  \n",
            " |  join(self, iterable, /)\n",
            " |      Concatenate any number of strings.\n",
            " |      \n",
            " |      The string whose method is called is inserted in between each given string.\n",
            " |      The result is returned as a new string.\n",
            " |      \n",
            " |      Example: '.'.join(['ab', 'pq', 'rs']) -> 'ab.pq.rs'\n",
            " |  \n",
            " |  ljust(self, width, fillchar=' ', /)\n",
            " |      Return a left-justified string of length width.\n",
            " |      \n",
            " |      Padding is done using the specified fill character (default is a space).\n",
            " |  \n",
            " |  lower(self, /)\n",
            " |      Return a copy of the string converted to lowercase.\n",
            " |  \n",
            " |  lstrip(self, chars=None, /)\n",
            " |      Return a copy of the string with leading whitespace removed.\n",
            " |      \n",
            " |      If chars is given and not None, remove characters in chars instead.\n",
            " |  \n",
            " |  partition(self, sep, /)\n",
            " |      Partition the string into three parts using the given separator.\n",
            " |      \n",
            " |      This will search for the separator in the string.  If the separator is found,\n",
            " |      returns a 3-tuple containing the part before the separator, the separator\n",
            " |      itself, and the part after it.\n",
            " |      \n",
            " |      If the separator is not found, returns a 3-tuple containing the original string\n",
            " |      and two empty strings.\n",
            " |  \n",
            " |  removeprefix(self, prefix, /)\n",
            " |      Return a str with the given prefix string removed if present.\n",
            " |      \n",
            " |      If the string starts with the prefix string, return string[len(prefix):].\n",
            " |      Otherwise, return a copy of the original string.\n",
            " |  \n",
            " |  removesuffix(self, suffix, /)\n",
            " |      Return a str with the given suffix string removed if present.\n",
            " |      \n",
            " |      If the string ends with the suffix string and that suffix is not empty,\n",
            " |      return string[:-len(suffix)]. Otherwise, return a copy of the original\n",
            " |      string.\n",
            " |  \n",
            " |  replace(self, old, new, count=-1, /)\n",
            " |      Return a copy with all occurrences of substring old replaced by new.\n",
            " |      \n",
            " |        count\n",
            " |          Maximum number of occurrences to replace.\n",
            " |          -1 (the default value) means replace all occurrences.\n",
            " |      \n",
            " |      If the optional argument count is given, only the first count occurrences are\n",
            " |      replaced.\n",
            " |  \n",
            " |  rfind(...)\n",
            " |      S.rfind(sub[, start[, end]]) -> int\n",
            " |      \n",
            " |      Return the highest index in S where substring sub is found,\n",
            " |      such that sub is contained within S[start:end].  Optional\n",
            " |      arguments start and end are interpreted as in slice notation.\n",
            " |      \n",
            " |      Return -1 on failure.\n",
            " |  \n",
            " |  rindex(...)\n",
            " |      S.rindex(sub[, start[, end]]) -> int\n",
            " |      \n",
            " |      Return the highest index in S where substring sub is found,\n",
            " |      such that sub is contained within S[start:end].  Optional\n",
            " |      arguments start and end are interpreted as in slice notation.\n",
            " |      \n",
            " |      Raises ValueError when the substring is not found.\n",
            " |  \n",
            " |  rjust(self, width, fillchar=' ', /)\n",
            " |      Return a right-justified string of length width.\n",
            " |      \n",
            " |      Padding is done using the specified fill character (default is a space).\n",
            " |  \n",
            " |  rpartition(self, sep, /)\n",
            " |      Partition the string into three parts using the given separator.\n",
            " |      \n",
            " |      This will search for the separator in the string, starting at the end. If\n",
            " |      the separator is found, returns a 3-tuple containing the part before the\n",
            " |      separator, the separator itself, and the part after it.\n",
            " |      \n",
            " |      If the separator is not found, returns a 3-tuple containing two empty strings\n",
            " |      and the original string.\n",
            " |  \n",
            " |  rsplit(self, /, sep=None, maxsplit=-1)\n",
            " |      Return a list of the substrings in the string, using sep as the separator string.\n",
            " |      \n",
            " |        sep\n",
            " |          The separator used to split the string.\n",
            " |      \n",
            " |          When set to None (the default value), will split on any whitespace\n",
            " |          character (including \\\\n \\\\r \\\\t \\\\f and spaces) and will discard\n",
            " |          empty strings from the result.\n",
            " |        maxsplit\n",
            " |          Maximum number of splits (starting from the left).\n",
            " |          -1 (the default value) means no limit.\n",
            " |      \n",
            " |      Splitting starts at the end of the string and works to the front.\n",
            " |  \n",
            " |  rstrip(self, chars=None, /)\n",
            " |      Return a copy of the string with trailing whitespace removed.\n",
            " |      \n",
            " |      If chars is given and not None, remove characters in chars instead.\n",
            " |  \n",
            " |  split(self, /, sep=None, maxsplit=-1)\n",
            " |      Return a list of the substrings in the string, using sep as the separator string.\n",
            " |      \n",
            " |        sep\n",
            " |          The separator used to split the string.\n",
            " |      \n",
            " |          When set to None (the default value), will split on any whitespace\n",
            " |          character (including \\\\n \\\\r \\\\t \\\\f and spaces) and will discard\n",
            " |          empty strings from the result.\n",
            " |        maxsplit\n",
            " |          Maximum number of splits (starting from the left).\n",
            " |          -1 (the default value) means no limit.\n",
            " |      \n",
            " |      Note, str.split() is mainly useful for data that has been intentionally\n",
            " |      delimited.  With natural text that includes punctuation, consider using\n",
            " |      the regular expression module.\n",
            " |  \n",
            " |  splitlines(self, /, keepends=False)\n",
            " |      Return a list of the lines in the string, breaking at line boundaries.\n",
            " |      \n",
            " |      Line breaks are not included in the resulting list unless keepends is given and\n",
            " |      true.\n",
            " |  \n",
            " |  startswith(...)\n",
            " |      S.startswith(prefix[, start[, end]]) -> bool\n",
            " |      \n",
            " |      Return True if S starts with the specified prefix, False otherwise.\n",
            " |      With optional start, test S beginning at that position.\n",
            " |      With optional end, stop comparing S at that position.\n",
            " |      prefix can also be a tuple of strings to try.\n",
            " |  \n",
            " |  strip(self, chars=None, /)\n",
            " |      Return a copy of the string with leading and trailing whitespace removed.\n",
            " |      \n",
            " |      If chars is given and not None, remove characters in chars instead.\n",
            " |  \n",
            " |  swapcase(self, /)\n",
            " |      Convert uppercase characters to lowercase and lowercase characters to uppercase.\n",
            " |  \n",
            " |  title(self, /)\n",
            " |      Return a version of the string where each word is titlecased.\n",
            " |      \n",
            " |      More specifically, words start with uppercased characters and all remaining\n",
            " |      cased characters have lower case.\n",
            " |  \n",
            " |  translate(self, table, /)\n",
            " |      Replace each character in the string using the given translation table.\n",
            " |      \n",
            " |        table\n",
            " |          Translation table, which must be a mapping of Unicode ordinals to\n",
            " |          Unicode ordinals, strings, or None.\n",
            " |      \n",
            " |      The table must implement lookup/indexing via __getitem__, for instance a\n",
            " |      dictionary or list.  If this operation raises LookupError, the character is\n",
            " |      left untouched.  Characters mapped to None are deleted.\n",
            " |  \n",
            " |  upper(self, /)\n",
            " |      Return a copy of the string converted to uppercase.\n",
            " |  \n",
            " |  zfill(self, width, /)\n",
            " |      Pad a numeric string with zeros on the left, to fill a field of the given width.\n",
            " |      \n",
            " |      The string is never truncated.\n",
            " |  \n",
            " |  ----------------------------------------------------------------------\n",
            " |  Static methods defined here:\n",
            " |  \n",
            " |  __new__(*args, **kwargs) from builtins.type\n",
            " |      Create and return a new object.  See help(type) for accurate signature.\n",
            " |  \n",
            " |  maketrans(...)\n",
            " |      Return a translation table usable for str.translate().\n",
            " |      \n",
            " |      If there is only one argument, it must be a dictionary mapping Unicode\n",
            " |      ordinals (integers) or characters to Unicode ordinals, strings or None.\n",
            " |      Character keys will be then converted to ordinals.\n",
            " |      If there are two arguments, they must be strings of equal length, and\n",
            " |      in the resulting dictionary, each character in x will be mapped to the\n",
            " |      character at the same position in y. If there is a third argument, it\n",
            " |      must be a string, whose characters will be mapped to None in the result.\n",
            "\n"
          ]
        }
      ]
    },
    {
      "cell_type": "code",
      "source": [
        "s:str = \"Esto es una cadena\"\n",
        "\n",
        "print('La variable s contiene: ', s)\n",
        "print('La variable s es de tipo: ', type(s))"
      ],
      "metadata": {
        "id": "TLBfY41-QyiN",
        "colab": {
          "base_uri": "https://localhost:8080/"
        },
        "outputId": "1a6df70b-26a5-4288-8aa4-a308d1e98447"
      },
      "execution_count": null,
      "outputs": [
        {
          "output_type": "stream",
          "name": "stdout",
          "text": [
            "La variable s contiene:  Esto es una cadena\n",
            "La variable s es de tipo:  <class 'str'>\n"
          ]
        }
      ]
    },
    {
      "cell_type": "markdown",
      "source": [
        "También es valido declarar las cadenas con comillas simples simples '.\n",
        "\n"
      ],
      "metadata": {
        "id": "pzhKvgEOQ0Cl"
      }
    },
    {
      "cell_type": "code",
      "source": [
        "s:str = 'Esto es otra cadena'\n",
        "\n",
        "print('La variable s contiene: ', s)\n",
        "print('La variable s es de tipo: ', type(s))"
      ],
      "metadata": {
        "id": "AQbOTqPoQ2dY",
        "colab": {
          "base_uri": "https://localhost:8080/"
        },
        "outputId": "148752b3-7dc6-47ae-9fb4-f7688fd241a2"
      },
      "execution_count": null,
      "outputs": [
        {
          "output_type": "stream",
          "name": "stdout",
          "text": [
            "La variable s contiene:  Esto es otra cadena\n",
            "La variable s es de tipo:  <class 'str'>\n"
          ]
        }
      ]
    },
    {
      "cell_type": "markdown",
      "source": [
        "Las cadenas no están limitadas en tamaño, por lo que el único límite es la memoria de tu ordenador. Una cadena puede estar también vacía."
      ],
      "metadata": {
        "id": "6h87l4eZQ4ot"
      }
    },
    {
      "cell_type": "code",
      "source": [
        "s:str = ''\n",
        "print('La variable s contiene: ', s)"
      ],
      "metadata": {
        "id": "EySXrgCqQ5yx",
        "colab": {
          "base_uri": "https://localhost:8080/"
        },
        "outputId": "5e4232b0-9461-4ae3-80f2-8597285bbbca"
      },
      "execution_count": null,
      "outputs": [
        {
          "output_type": "stream",
          "name": "stdout",
          "text": [
            "La variable s contiene:  \n"
          ]
        }
      ]
    },
    {
      "cell_type": "markdown",
      "source": [
        "## Caracter de escape `\\`\n",
        "\n",
        "Una situación que muchas veces se puede dar, es cuando queremos introducir una comilla, bien sea simple `'` o doble `\"` dentro de una cadena. Si lo hacemos de la siguiente forma tendríamos un error, ya que Python no sabe muy bien donde empieza y termina.\n",
        "\n",
        "```\n",
        "s = \"Esto es una comilla doble \" de ejemplo\" # Error!\n",
        " SyntaxError: unterminated string literal (detected at line 1)\n",
        "```\n",
        "\n",
        "Para resolver este problema debemos recurrir a las secuencias de escape `\\`.\n",
        "\n",
        "Por ahora, la más importante es `\\\"`, que nos permite incrustar comillas dentro de una cadena."
      ],
      "metadata": {
        "id": "s-EsOzMtQ904"
      }
    },
    {
      "cell_type": "code",
      "source": [
        "s:str = \"Esto es una comilla doble \\\" de ejemplo\"\n",
        "print('La variable s contiene: ', s)"
      ],
      "metadata": {
        "id": "PUjPnPsURCCB",
        "colab": {
          "base_uri": "https://localhost:8080/"
        },
        "outputId": "ff223b42-2e43-4d48-ce83-aa0c30e7f6a2"
      },
      "execution_count": null,
      "outputs": [
        {
          "output_type": "stream",
          "name": "stdout",
          "text": [
            "La variable s contiene:  Esto es una comilla doble \" de ejemplo\n"
          ]
        }
      ]
    },
    {
      "cell_type": "markdown",
      "source": [
        "## Nueva línea `\\n`\n",
        "\n",
        "Un salto de línea se puede agregar a una cadena si agregamos el `\\n`, lo que significa que al querer imprimir un mensaje por pantalla, la función `print`, al encontrarse con este caracter se producirá un salto, se imprimirá en una nueva línea."
      ],
      "metadata": {
        "id": "J93jPQNBREjw"
      }
    },
    {
      "cell_type": "code",
      "source": [
        "s:str = \"Primer linea\\nSegunda linea\"\n",
        "print(s)"
      ],
      "metadata": {
        "id": "4ARZrJPdRGBQ",
        "colab": {
          "base_uri": "https://localhost:8080/"
        },
        "outputId": "3c6cefb0-a73c-46f0-aee5-62672568348b"
      },
      "execution_count": null,
      "outputs": [
        {
          "output_type": "stream",
          "name": "stdout",
          "text": [
            "Primer linea\n",
            "Segunda linea\n"
          ]
        }
      ]
    },
    {
      "cell_type": "markdown",
      "source": [
        "## Caracter de escape e int\n",
        "\n",
        "También podemos usar `\\` acompañado de un número entero, lo que imprimirá el carácter asociado a la tabla ASCII. En este caso imprimimos el carácter 110 que se corresponde con la H y el 111 que corresponde a la I."
      ],
      "metadata": {
        "id": "i2cpn80TRJBo"
      }
    },
    {
      "cell_type": "code",
      "source": [
        "print(\"\\110\\111\")"
      ],
      "metadata": {
        "colab": {
          "base_uri": "https://localhost:8080/"
        },
        "id": "CPE_TtBpRNKs",
        "outputId": "1f63f749-3a5b-4e8c-c09a-c55ca5165c27"
      },
      "execution_count": null,
      "outputs": [
        {
          "output_type": "stream",
          "name": "stdout",
          "text": [
            "HI\n"
          ]
        }
      ]
    },
    {
      "cell_type": "markdown",
      "source": [
        "Te recomiendo que busques información sobre [ASCII](https://en.wikipedia.org/wiki/ASCII#Control_code_chart) y [Unicode](https://en.wikipedia.org/wiki/Unicode). Ambos son conceptos muy útiles a la hora de entender los strings.\n",
        "Para la tabla ASCII tendras que observar la columna de los octales o oct.\n",
        "\n",
        "Se puede definir una cadena que ocupe varias líneas usando triple `\"\"\"` comilla. Puede ser muy útil si tenemos textos muy largo que no queremos tener en una sola línea.\n",
        "\n",
        "Existe también otra forma de declarar cadenas llamado raw strings. Usando como prefijo `r`, la cadena ignora todos las secuencias de escape, por lo que la salida es diferente a la anterior."
      ],
      "metadata": {
        "id": "ivkpBdfiRVjk"
      }
    },
    {
      "cell_type": "code",
      "source": [
        "print(r\"\\110\\111\")\n"
      ],
      "metadata": {
        "colab": {
          "base_uri": "https://localhost:8080/"
        },
        "id": "h1hmkQhbSyNb",
        "outputId": "e38e2d0c-f9bd-4118-f96a-367b9e504378"
      },
      "execution_count": null,
      "outputs": [
        {
          "output_type": "stream",
          "name": "stdout",
          "text": [
            "\\110\\111\n"
          ]
        }
      ]
    },
    {
      "cell_type": "markdown",
      "source": [
        "## Función str\n",
        "\n",
        "Es posible convertir un determinado valor a str usando la función `str`."
      ],
      "metadata": {
        "id": "dImUidAlJfCG"
      }
    },
    {
      "cell_type": "code",
      "source": [
        "print('10: ', str(10))\n",
        "print('True: ', str(True))\n",
        "print('[]: ', str([]))"
      ],
      "metadata": {
        "id": "c19-mgCuJhg2",
        "colab": {
          "base_uri": "https://localhost:8080/"
        },
        "outputId": "940f3f17-ad2a-425b-9d20-bec0d228f07f"
      },
      "execution_count": null,
      "outputs": [
        {
          "output_type": "stream",
          "name": "stdout",
          "text": [
            "10:  10\n",
            "True:  True\n",
            "[]:  []\n"
          ]
        }
      ]
    },
    {
      "cell_type": "markdown",
      "source": [
        "## [Docstring](https://peps.python.org/pep-0257/)"
      ],
      "metadata": {
        "id": "XzbJW_aNS8O4"
      }
    },
    {
      "cell_type": "markdown",
      "source": [
        "Son los literales de cadena que aparecen justo después de la definición de una función, método, clase o módulo. Se utilizan para escribir varias renglones de un string sin tener que utilizar los separadores.\n",
        "\n",
        "Se utilizan para documentar funciones, métodos, clases y son muy importantes a la hora del desarrollo. Existen varias formas de escribirlos pero una de las más utilizadas es la que propone [google](https://google.github.io/styleguide/pyguide.html).\n",
        "\n",
        "Ejemplo con docstring que sirve solo a modo didáctico ya que no estamos documentando nada."
      ],
      "metadata": {
        "id": "GqXEU0d-TBNq"
      }
    },
    {
      "cell_type": "code",
      "source": [
        "print(\"\"\"La siguiente\n",
        "cadena ocupa\n",
        "varias lineas\"\"\")"
      ],
      "metadata": {
        "colab": {
          "base_uri": "https://localhost:8080/"
        },
        "id": "1LmCRnZFTBiu",
        "outputId": "ef43e2fd-7e82-4c27-d5ba-570c46445923"
      },
      "execution_count": null,
      "outputs": [
        {
          "output_type": "stream",
          "name": "stdout",
          "text": [
            "La siguiente\n",
            "cadena ocupa\n",
            "varias lineas\n"
          ]
        }
      ]
    },
    {
      "cell_type": "markdown",
      "source": [
        "Ejemplo con separadores"
      ],
      "metadata": {
        "id": "cwUGojoET4ez"
      }
    },
    {
      "cell_type": "code",
      "source": [
        "print(\"La siguiente \\n\" \\\n",
        "\"cadena ocupa \\n\" \\\n",
        "\"varias lineas\")"
      ],
      "metadata": {
        "colab": {
          "base_uri": "https://localhost:8080/"
        },
        "id": "Sb8k1IfNT63H",
        "outputId": "8fa00cdc-972a-4be4-968d-5b12cd9eddb0"
      },
      "execution_count": null,
      "outputs": [
        {
          "output_type": "stream",
          "name": "stdout",
          "text": [
            "La siguiente \n",
            "cadena ocupa \n",
            "varias lineas\n"
          ]
        }
      ]
    },
    {
      "cell_type": "markdown",
      "source": [
        "## Formateo de cadenas\n",
        "Tal vez queramos declarar una cadena que contenga variables en su interior, como números o incluso otras cadenas. Una forma de hacerlo sería concatenando la cadena que queremos con otra usando el operador `+`. Nótese que `str` convierte en string lo que se pasa como parámetro."
      ],
      "metadata": {
        "id": "qpDtjpVqUK_j"
      }
    },
    {
      "cell_type": "code",
      "source": [
        "x:int = 5\n",
        "s:str = \"El número es: \" + str(x)\n",
        "print(s)"
      ],
      "metadata": {
        "id": "FvCOTYsKUOgj",
        "colab": {
          "base_uri": "https://localhost:8080/"
        },
        "outputId": "7a9d862c-7c0e-4974-c9dd-62c4c9287ef2"
      },
      "execution_count": null,
      "outputs": [
        {
          "output_type": "stream",
          "name": "stdout",
          "text": [
            "El número es: 5\n"
          ]
        }
      ]
    },
    {
      "cell_type": "markdown",
      "source": [
        "Otra forma es usando `%`. Por un lado tenemos `%s` que indica el tipo que se quiere imprimir, y por otro a la derecha del `%` tenemos la variable a imprimir. Para imprimir una cadena se usaría `%s` o `%f` para un valor en coma flotante.\n",
        "\n",
        "En el siguiente [enlace](https://docs.python.org/3/library/stdtypes.html#printf-style-string-formatting) puedes encontrar más información sobre el uso de `%`."
      ],
      "metadata": {
        "id": "rM1hWYIRUTs6"
      }
    },
    {
      "cell_type": "code",
      "source": [
        "x:int = 5\n",
        "s:str = \"El número es: %d\" % x\n",
        "print(s)"
      ],
      "metadata": {
        "id": "YeaGG61lUaI4",
        "colab": {
          "base_uri": "https://localhost:8080/"
        },
        "outputId": "d966fb1f-f588-4d21-e889-9432dac1e6d5"
      },
      "execution_count": null,
      "outputs": [
        {
          "output_type": "stream",
          "name": "stdout",
          "text": [
            "El número es: 5\n"
          ]
        }
      ]
    },
    {
      "cell_type": "markdown",
      "source": [
        "Si tenemos más de una variable, también se puede hacer pasando los parámetros dentro de `()`. Si vienes de lenguajes como C, esta forma te resultará muy familiar. No obstante, esta no es la forma preferida de hacerlo, ahora que tenemos nuevas versiones de Python."
      ],
      "metadata": {
        "id": "nfoKBh-cUeDs"
      }
    },
    {
      "cell_type": "code",
      "source": [
        "s:str = \"Los números son %d y %d.\" % (5, 10)\n",
        "print(s)"
      ],
      "metadata": {
        "id": "dqhhbdzHUfPD",
        "colab": {
          "base_uri": "https://localhost:8080/"
        },
        "outputId": "1bdf4378-a86b-48d6-ee1e-0271fc9efd9d"
      },
      "execution_count": null,
      "outputs": [
        {
          "output_type": "stream",
          "name": "stdout",
          "text": [
            "Los números son 5 y 10.\n"
          ]
        }
      ]
    },
    {
      "cell_type": "markdown",
      "source": [
        "Una forma un poco más moderna de realizar lo mismo, es haciendo uso de `format`. En este caso cada `{}` será reemplazado por el valor que se encuentra en la misma posición que los parámetros que recibe la función `format`.\n",
        "\n"
      ],
      "metadata": {
        "id": "V6r2N9I4Uhez"
      }
    },
    {
      "cell_type": "code",
      "source": [
        "s:str = \"Los números son {} y {}\".format(5, 10)\n",
        "print(s)"
      ],
      "metadata": {
        "id": "wKmA43PUUjCb",
        "colab": {
          "base_uri": "https://localhost:8080/"
        },
        "outputId": "8c8034b6-8b1b-4934-f4e0-f8fcb25cf783"
      },
      "execution_count": null,
      "outputs": [
        {
          "output_type": "stream",
          "name": "stdout",
          "text": [
            "Los números son 5 y 10\n"
          ]
        }
      ]
    },
    {
      "cell_type": "markdown",
      "source": [
        "Es posible también darle nombre a cada elemento, y format se encargará de reemplazar todo.\n",
        "\n"
      ],
      "metadata": {
        "id": "kI_rXQWHUkhK"
      }
    },
    {
      "cell_type": "code",
      "source": [
        "s:str = \"Los números son {a} y {b}\".format(a=5, b=10)\n",
        "print(s)"
      ],
      "metadata": {
        "id": "MOVqRg_yUl_C",
        "colab": {
          "base_uri": "https://localhost:8080/"
        },
        "outputId": "1c569384-41f0-4195-b23b-91c450c4e2ab"
      },
      "execution_count": null,
      "outputs": [
        {
          "output_type": "stream",
          "name": "stdout",
          "text": [
            "Los números son 5 y 10\n"
          ]
        }
      ]
    },
    {
      "cell_type": "markdown",
      "source": [
        "Por si no fueran pocas ya, existe una tercera forma de hacerlo introducida en la versión 3.6 de Python. Reciben el nombre de cadenas literales o f-strings. Esta nueva característica, permite incrustar expresiones dentro de cadenas."
      ],
      "metadata": {
        "id": "oB7pnzkXUpQu"
      }
    },
    {
      "cell_type": "code",
      "source": [
        "a:int = 5; b:int = 10\n",
        "s:str = f\"Los números son {a} y {b}\"\n",
        "print(s)"
      ],
      "metadata": {
        "id": "ozWB6690Uqkv",
        "colab": {
          "base_uri": "https://localhost:8080/"
        },
        "outputId": "2c65e09e-356b-4c02-cede-5ad465a77e1d"
      },
      "execution_count": null,
      "outputs": [
        {
          "output_type": "stream",
          "name": "stdout",
          "text": [
            "Los números son 5 y 10\n"
          ]
        }
      ]
    },
    {
      "cell_type": "markdown",
      "source": [
        "Puedes incluso hacer operaciones dentro de la creación del string.\n",
        "\n"
      ],
      "metadata": {
        "id": "uxwL157TUv-I"
      }
    },
    {
      "cell_type": "code",
      "source": [
        "a:int = 5; b:int = 10\n",
        "s:str = f\"a + b = {a+b}\"\n",
        "print(s)"
      ],
      "metadata": {
        "id": "5CobC022UxY6",
        "colab": {
          "base_uri": "https://localhost:8080/"
        },
        "outputId": "1a8568ee-c876-46ae-a993-3768d2fc492b"
      },
      "execution_count": null,
      "outputs": [
        {
          "output_type": "stream",
          "name": "stdout",
          "text": [
            "a + b = 15\n"
          ]
        }
      ]
    },
    {
      "cell_type": "markdown",
      "source": [
        "Puedes incluso llamar a una función dentro.\n",
        "\n"
      ],
      "metadata": {
        "id": "Av4lKVkJU2UR"
      }
    },
    {
      "cell_type": "code",
      "source": [
        "def funcion():\n",
        "    return 20\n",
        "\n",
        "s:str = f\"El resultado de la función es {funcion()}\"\n",
        "print(s)"
      ],
      "metadata": {
        "id": "0T3AwqkAU3w_",
        "colab": {
          "base_uri": "https://localhost:8080/"
        },
        "outputId": "67adc6b0-ebd6-45ec-fe6f-f71c667ba70f"
      },
      "execution_count": null,
      "outputs": [
        {
          "output_type": "stream",
          "name": "stdout",
          "text": [
            "El resultado de la función es 20\n"
          ]
        }
      ]
    },
    {
      "cell_type": "markdown",
      "source": [
        "## Ejemplos string\n",
        "Para entender mejor la clase string, vamos a ver unos ejemplos de como se comportan. Podemos sumar dos strings con el operador +."
      ],
      "metadata": {
        "id": "otPhNCg5U7nT"
      }
    },
    {
      "cell_type": "code",
      "source": [
        "s1:str = \"Parte 1\"\n",
        "s2:str = \"Parte 2\"\n",
        "print(s1 + \" \" + s2)"
      ],
      "metadata": {
        "id": "cRNXPpPQU-9K",
        "colab": {
          "base_uri": "https://localhost:8080/"
        },
        "outputId": "1356e9a6-9779-4b1b-d169-8e1819a6679a"
      },
      "execution_count": null,
      "outputs": [
        {
          "output_type": "stream",
          "name": "stdout",
          "text": [
            "Parte 1 Parte 2\n"
          ]
        }
      ]
    },
    {
      "cell_type": "markdown",
      "source": [
        "Se puede multiplicar un string por un int. Su resultado es replicarlo tantas veces como el valor del entero."
      ],
      "metadata": {
        "id": "1vW8n3P3VCTt"
      }
    },
    {
      "cell_type": "code",
      "source": [
        "s:str = \"Hola \"\n",
        "print(s*3)"
      ],
      "metadata": {
        "id": "UUz7QG4RVDcd",
        "colab": {
          "base_uri": "https://localhost:8080/"
        },
        "outputId": "0029ad8f-fddf-4219-eb9b-4f4ae19e7a8e"
      },
      "execution_count": null,
      "outputs": [
        {
          "output_type": "stream",
          "name": "stdout",
          "text": [
            "Hola Hola Hola \n"
          ]
        }
      ]
    },
    {
      "cell_type": "markdown",
      "source": [
        "Podemos ver si una cadena o parte de ella está contenida en otra con `in`.\n",
        "\n"
      ],
      "metadata": {
        "id": "VB0guAyrVJfc"
      }
    },
    {
      "cell_type": "code",
      "source": [
        "print(\"ytho\" in \"Hola Python\")\n"
      ],
      "metadata": {
        "id": "MNyCjBmAVKlw",
        "colab": {
          "base_uri": "https://localhost:8080/"
        },
        "outputId": "d3d91b3d-7d32-4f26-943b-a306fb36b6fa"
      },
      "execution_count": null,
      "outputs": [
        {
          "output_type": "stream",
          "name": "stdout",
          "text": [
            "True\n"
          ]
        }
      ]
    },
    {
      "cell_type": "markdown",
      "source": [
        "Con `chr` y `ord` podemos convertir entre carácter y su valor numérico que lo representa y viceversa. El segundo solo funciona con un caracter, es decir, un string con un solo elemento."
      ],
      "metadata": {
        "id": "3w7rwIl_VMz8"
      }
    },
    {
      "cell_type": "code",
      "source": [
        "print(chr(36))\n",
        "print(ord(\"$\"))"
      ],
      "metadata": {
        "id": "VZ3B8N9HVOJz",
        "colab": {
          "base_uri": "https://localhost:8080/"
        },
        "outputId": "ac7bc685-f654-422e-a181-a0edb74fb7fa"
      },
      "execution_count": null,
      "outputs": [
        {
          "output_type": "stream",
          "name": "stdout",
          "text": [
            "$\n",
            "36\n"
          ]
        }
      ]
    },
    {
      "cell_type": "markdown",
      "source": [
        "La longitud de una cadena viene determinada por su número de caracteres, y se puede consultar con la función len()."
      ],
      "metadata": {
        "id": "iPRs8ah_VPjD"
      }
    },
    {
      "cell_type": "code",
      "source": [
        "print(len(\"Esta es mi cadena\"))"
      ],
      "metadata": {
        "id": "EjSjf_7BVQxT",
        "colab": {
          "base_uri": "https://localhost:8080/"
        },
        "outputId": "477cdd76-c9e4-4d97-ddbd-fe91e9f51c7f"
      },
      "execution_count": null,
      "outputs": [
        {
          "output_type": "stream",
          "name": "stdout",
          "text": [
            "17\n"
          ]
        }
      ]
    },
    {
      "cell_type": "markdown",
      "source": [
        "Como hemos visto al principio, se puede convertir a string otras clases, como int o float."
      ],
      "metadata": {
        "id": "nDYEgk4MVSjD"
      }
    },
    {
      "cell_type": "code",
      "source": [
        "x:str = str(10.4)\n",
        "print('La variable x posee el valor: ', x)\n",
        "print('La variable x es de tipo: ', type(x))"
      ],
      "metadata": {
        "id": "mEHRQpxoVUJh",
        "colab": {
          "base_uri": "https://localhost:8080/"
        },
        "outputId": "b89acdf2-5348-470c-b71a-f9a4cc8d610c"
      },
      "execution_count": null,
      "outputs": [
        {
          "output_type": "stream",
          "name": "stdout",
          "text": [
            "La variable x posee el valor:  10.4\n",
            "La variable x es de tipo:  <class 'str'>\n"
          ]
        }
      ]
    },
    {
      "cell_type": "markdown",
      "source": [
        "Las cadenas se pueden indexar, es decir, que podemos acceder al caracter que se encuentra en una posición determina utilizando los corchetes y la posición. La posición es un número entero o int que comienza desde el valor `0` y en caso de ser negativo comienza desde el final hacia el inicio, por ejemplo el `-1` retorna el último caracter.\n",
        "\n"
      ],
      "metadata": {
        "id": "8UcaZh6nVWNa"
      }
    },
    {
      "cell_type": "code",
      "source": [
        "x:str = \"abcde\"\n",
        "print(x[0])\n",
        "print(x[-1])"
      ],
      "metadata": {
        "id": "tdDbe8rWVW6O",
        "colab": {
          "base_uri": "https://localhost:8080/"
        },
        "outputId": "3160f7d3-be7b-4cfd-d3f6-c7da7e11338c"
      },
      "execution_count": null,
      "outputs": [
        {
          "output_type": "stream",
          "name": "stdout",
          "text": [
            "a\n",
            "e\n"
          ]
        }
      ]
    },
    {
      "cell_type": "markdown",
      "source": [
        "## Slicing\n",
        "\n",
        "La expresión slicing hace referencia a la operación por la cual se extraen elementos de una secuencia. Dependiendo del caso, los elementos podrían ser consecutivos o podrían estar separados dentro de la secuencia original. Dado que esta operación es de uso bastante frecuente, Python ofrece características que hacen posible construir slices de forma breve, sin tener que construir funciones especializadas para hacerlo.\n",
        "\n",
        "La forma de construción es: `[inicio:fin:paso]`\n",
        "\n",
        "- inicio: es un entero que indica la posición de inicio para la construcción. El valor de inicio es inclusive. Sino se indica el valor de inicio entonces por defecto se comienza desde 0.\n",
        "- fin: es un entero que indica la posición de fin para la construcción. El valor de fin es no inclusivo. Sino se indica el valor de fin entonces por defecto es la longitud total de la cadena.\n",
        "- paso: es un entero que indica cuantos pasos hacia adelante o hacia atrás se van a realizar para la construcción. Sino se indica el valor de paso entonces por defecto es 1.\n",
        "\n",
        "Vamos a utilizar de ejemplo la cadena \"abcde\" donde las posiciones son:\n",
        "\n",
        "| Letras | a | b | c | d | e |\n",
        "| --- | --- | --- | --- | --- | --- |\n",
        "| Posiciones | 0 | 1 | 2 | 3 | 4 |\n",
        "\n",
        "Vamos a obtener las 2 primeras letras de la cadena."
      ],
      "metadata": {
        "id": "BmNtDuUxoSzl"
      }
    },
    {
      "cell_type": "code",
      "source": [
        "x:str = \"abcde\"\n",
        "print(x[0:2])"
      ],
      "metadata": {
        "id": "Sczk9s3QVcjh",
        "colab": {
          "base_uri": "https://localhost:8080/"
        },
        "outputId": "951fc085-2f32-47dd-fab3-d275341743d5"
      },
      "execution_count": null,
      "outputs": [
        {
          "output_type": "stream",
          "name": "stdout",
          "text": [
            "ab\n"
          ]
        }
      ]
    },
    {
      "cell_type": "markdown",
      "source": [
        "Si no se indica ningún valor a la derecha de los : se llega hasta el final.\n",
        "\n"
      ],
      "metadata": {
        "id": "9F8Q-8xTVf8x"
      }
    },
    {
      "cell_type": "code",
      "source": [
        "x:str = \"abcde\"\n",
        "print(x[2:])"
      ],
      "metadata": {
        "id": "nJ54Yu2KViYQ",
        "colab": {
          "base_uri": "https://localhost:8080/"
        },
        "outputId": "2bc74b1f-c73c-4d92-d804-1e88c21d7f16"
      },
      "execution_count": null,
      "outputs": [
        {
          "output_type": "stream",
          "name": "stdout",
          "text": [
            "cde\n"
          ]
        }
      ]
    },
    {
      "cell_type": "markdown",
      "source": [
        "Es posible también crear subcadenas que contengan elementos salteados y no contiguos añadiendo un tercer elemento entre []. Indica los elementos que se saltan. En el siguiente ejemplo se toman elementos del 0 al 3 de dos en dos."
      ],
      "metadata": {
        "id": "tl2ykMycVk0V"
      }
    },
    {
      "cell_type": "code",
      "source": [
        "x:str = \"abcde\"\n",
        "print(x[0:3:2])"
      ],
      "metadata": {
        "id": "saoqLJdJVmFp",
        "colab": {
          "base_uri": "https://localhost:8080/"
        },
        "outputId": "fc44b417-b9ec-473c-cb6c-edfbf824355f"
      },
      "execution_count": null,
      "outputs": [
        {
          "output_type": "stream",
          "name": "stdout",
          "text": [
            "ac\n"
          ]
        }
      ]
    },
    {
      "cell_type": "markdown",
      "source": [
        "Tampoco es necesario saber el tamaño de la cadena, y el segundo valor se podría omitir. El siguiente ejemplo es igual al anterior."
      ],
      "metadata": {
        "id": "hiOXcmdPVogu"
      }
    },
    {
      "cell_type": "code",
      "source": [
        "x:str = \"abcde\"\n",
        "print(x[0::2])"
      ],
      "metadata": {
        "id": "uaTTH9h-Vp3k",
        "colab": {
          "base_uri": "https://localhost:8080/"
        },
        "outputId": "9dc3efd8-0c60-4c62-fe5d-f8523539b11f"
      },
      "execution_count": null,
      "outputs": [
        {
          "output_type": "stream",
          "name": "stdout",
          "text": [
            "ace\n"
          ]
        }
      ]
    },
    {
      "cell_type": "markdown",
      "source": [
        "## Métodos string\n",
        "Algunos de los métodos de la clase string.\n",
        "\n"
      ],
      "metadata": {
        "id": "UTovyjA8Vtij"
      }
    },
    {
      "cell_type": "markdown",
      "source": [
        "### capitalize\n",
        "El método capitalize se aplica sobre una cadena y la devuelve con su primera letra en mayúscula."
      ],
      "metadata": {
        "id": "PhijcupmVwnK"
      }
    },
    {
      "cell_type": "code",
      "source": [
        "s:str = \"mi cadena\"\n",
        "print(s.capitalize())"
      ],
      "metadata": {
        "id": "VROZgtmbVyPu",
        "colab": {
          "base_uri": "https://localhost:8080/"
        },
        "outputId": "d2044f9b-eeb2-4132-c8d2-24cd65d01a14"
      },
      "execution_count": null,
      "outputs": [
        {
          "output_type": "stream",
          "name": "stdout",
          "text": [
            "Mi cadena\n"
          ]
        }
      ]
    },
    {
      "cell_type": "markdown",
      "source": [
        "### lower\n",
        "El método lower convierte todos los caracteres alfabéticos en minúscula."
      ],
      "metadata": {
        "id": "lv1YIdewV3RV"
      }
    },
    {
      "cell_type": "code",
      "source": [
        "s:str = \"MI CADENA\"\n",
        "print(s.lower())"
      ],
      "metadata": {
        "id": "haQhcuTmV5mF",
        "colab": {
          "base_uri": "https://localhost:8080/"
        },
        "outputId": "a617dc70-2a43-4985-f4c6-d3deb0850812"
      },
      "execution_count": null,
      "outputs": [
        {
          "output_type": "stream",
          "name": "stdout",
          "text": [
            "mi cadena\n"
          ]
        }
      ]
    },
    {
      "cell_type": "markdown",
      "source": [
        "### swapcase\n",
        "El método swapcase convierte los caracteres alfabéticos con mayúsculas en minúsculas y viceversa."
      ],
      "metadata": {
        "id": "u7XzypJEV72F"
      }
    },
    {
      "cell_type": "code",
      "source": [
        "s:str = \"mI cAdEnA\"\n",
        "print(s.swapcase())"
      ],
      "metadata": {
        "id": "yf3DM9NHV-JG",
        "colab": {
          "base_uri": "https://localhost:8080/"
        },
        "outputId": "d872f663-c52d-46a1-92fa-3f29f471b972"
      },
      "execution_count": null,
      "outputs": [
        {
          "output_type": "stream",
          "name": "stdout",
          "text": [
            "Mi CaDeNa\n"
          ]
        }
      ]
    },
    {
      "cell_type": "markdown",
      "source": [
        "### upper\n",
        "El método upper convierte todos los caracteres alfabéticos en mayúsculas."
      ],
      "metadata": {
        "id": "XocY6xekWB8W"
      }
    },
    {
      "cell_type": "code",
      "source": [
        "s:str = \"mi cadena\"\n",
        "print(s.upper())"
      ],
      "metadata": {
        "id": "l0Oy9t7gWDBo",
        "colab": {
          "base_uri": "https://localhost:8080/"
        },
        "outputId": "d087ccd0-b117-426a-8ce4-7133b6d0b6d2"
      },
      "execution_count": null,
      "outputs": [
        {
          "output_type": "stream",
          "name": "stdout",
          "text": [
            "MI CADENA\n"
          ]
        }
      ]
    },
    {
      "cell_type": "markdown",
      "source": [
        "### count(sub[, start[, end]])\n",
        "El método count permite contar las veces que otra cadena se encuentra dentro de la primera. Permite también dos parámetros opcionales que indican donde empezar y acabar de buscar."
      ],
      "metadata": {
        "id": "vBx77ku_WHo7"
      }
    },
    {
      "cell_type": "code",
      "source": [
        "s:str = \"el bello cuello \"\n",
        "print(s.count(\"llo\"))\n",
        "print(s.count(\"llo\", 0, 9))"
      ],
      "metadata": {
        "id": "HvDr4NL5WG-f",
        "colab": {
          "base_uri": "https://localhost:8080/"
        },
        "outputId": "4f188178-3b5e-4d94-cfe0-70532b31cfd5"
      },
      "execution_count": null,
      "outputs": [
        {
          "output_type": "stream",
          "name": "stdout",
          "text": [
            "2\n",
            "1\n"
          ]
        }
      ]
    },
    {
      "cell_type": "markdown",
      "source": [
        "### isalnum\n",
        "El método isalnum devuelve True si la cadena esta formada únicamente por caracteres alfanuméricos, False de lo contrario. Caracteres como @ o & no son alfanumericos."
      ],
      "metadata": {
        "id": "4op9-CzCWO3b"
      }
    },
    {
      "cell_type": "code",
      "source": [
        "s:str = \"correo@dominio.com\"\n",
        "print(s.isalnum())"
      ],
      "metadata": {
        "id": "8Y7fUOqZWRqL",
        "colab": {
          "base_uri": "https://localhost:8080/"
        },
        "outputId": "c71e18d8-7a67-4918-e690-b0f48e85ef96"
      },
      "execution_count": null,
      "outputs": [
        {
          "output_type": "stream",
          "name": "stdout",
          "text": [
            "False\n"
          ]
        }
      ]
    },
    {
      "cell_type": "markdown",
      "source": [
        "### isalpha\n",
        "El método isalpha devuelve True si todos los caracteres son alfabéticos, False de lo contrario."
      ],
      "metadata": {
        "id": "mwZY9ED3WT7K"
      }
    },
    {
      "cell_type": "code",
      "source": [
        "s:str = \"abcdefg\"\n",
        "print(s.isalpha())"
      ],
      "metadata": {
        "id": "Jtg3HBQJWWby",
        "colab": {
          "base_uri": "https://localhost:8080/"
        },
        "outputId": "87b04369-5795-4c55-b2e6-ecf20c6d96c8"
      },
      "execution_count": null,
      "outputs": [
        {
          "output_type": "stream",
          "name": "stdout",
          "text": [
            "True\n"
          ]
        }
      ]
    },
    {
      "cell_type": "markdown",
      "source": [
        "### strip\n",
        "El método strip elimina a la izquierda y derecha el carácter que se le introduce. Si se llama sin parámetros elimina los espacios. Muy útil para limpiar cadenas."
      ],
      "metadata": {
        "id": "X_HJDdYsWYzp"
      }
    },
    {
      "cell_type": "code",
      "source": [
        "s:str = \"  abc  \"\n",
        "print(f'|{s}|')\n",
        "print(f'|{s.strip()}|')"
      ],
      "metadata": {
        "id": "6FX4wgH6WcIm",
        "colab": {
          "base_uri": "https://localhost:8080/"
        },
        "outputId": "8c462866-81bd-4a91-e336-67ba3cfbb7e0"
      },
      "execution_count": null,
      "outputs": [
        {
          "output_type": "stream",
          "name": "stdout",
          "text": [
            "|  abc  |\n",
            "|abc|\n"
          ]
        }
      ]
    },
    {
      "cell_type": "markdown",
      "source": [
        "### zfill(<width>)\n",
        "El método zfill rellena la cadena con ceros a la izquierda hasta llegar a la longitud pasada como parámetro."
      ],
      "metadata": {
        "id": "xETPx68XWfAG"
      }
    },
    {
      "cell_type": "code",
      "source": [
        "s:str = \"123\"\n",
        "print(s.zfill(5))"
      ],
      "metadata": {
        "id": "cV5CfAQ-Wfw0",
        "colab": {
          "base_uri": "https://localhost:8080/"
        },
        "outputId": "d19da88a-31ce-42e5-d1ae-26aa7dacf5f4"
      },
      "execution_count": null,
      "outputs": [
        {
          "output_type": "stream",
          "name": "stdout",
          "text": [
            "00123\n"
          ]
        }
      ]
    },
    {
      "cell_type": "markdown",
      "source": [
        "### join(<iterable>)\n",
        "El método join devuelve la primera cadena unida a cada uno de los elementos de la lista que se le pasa como parámetro."
      ],
      "metadata": {
        "id": "YK62SuH1WjVs"
      }
    },
    {
      "cell_type": "code",
      "source": [
        "s:str = \" y \".join([\"1\", \"2\", \"3\"])\n",
        "print(s)"
      ],
      "metadata": {
        "id": "7uFX46eEWkPg",
        "colab": {
          "base_uri": "https://localhost:8080/"
        },
        "outputId": "01cd640d-2934-4a80-a866-8a2dc69b54b8"
      },
      "execution_count": null,
      "outputs": [
        {
          "output_type": "stream",
          "name": "stdout",
          "text": [
            "1 y 2 y 3\n"
          ]
        }
      ]
    },
    {
      "cell_type": "markdown",
      "source": [
        "### split(sep=None, maxsplit=-1)\n",
        "El método split divide una cadena en subcadenas y las devuelve almacenadas en una lista. La división es realizada de acuerdo a el primer parámetro, y el segundo parámetro indica el número máximo de divisiones a realizar."
      ],
      "metadata": {
        "id": "FMe4U9ElWmP8"
      }
    },
    {
      "cell_type": "code",
      "source": [
        "s:str = \"Python,Java,C\"\n",
        "print(s.split(\",\"))\n",
        "print(s.split(sep=\",\", maxsplit=1))"
      ],
      "metadata": {
        "id": "qWTBKWCCWo0f",
        "colab": {
          "base_uri": "https://localhost:8080/"
        },
        "outputId": "8ba0f6ba-9e34-40ff-8780-e35b076fcaaf"
      },
      "execution_count": null,
      "outputs": [
        {
          "output_type": "stream",
          "name": "stdout",
          "text": [
            "['Python', 'Java', 'C']\n",
            "['Python', 'Java,C']\n"
          ]
        }
      ]
    },
    {
      "cell_type": "markdown",
      "source": [
        "Notesé que en la segunda impresión los valores de `Java,C` están unidos. Esto se debe a que le pedimos que solo realice 1 separación."
      ],
      "metadata": {
        "id": "rav0czxBs1vH"
      }
    }
  ]
}