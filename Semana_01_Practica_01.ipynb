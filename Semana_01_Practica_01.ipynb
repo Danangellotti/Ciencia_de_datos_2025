{
  "nbformat": 4,
  "nbformat_minor": 0,
  "metadata": {
    "colab": {
      "provenance": [],
      "include_colab_link": true
    },
    "kernelspec": {
      "name": "python3",
      "display_name": "Python 3"
    },
    "language_info": {
      "name": "python"
    }
  },
  "cells": [
    {
      "cell_type": "markdown",
      "metadata": {
        "id": "view-in-github",
        "colab_type": "text"
      },
      "source": [
        "<a href=\"https://colab.research.google.com/github/Danangellotti/Ciencia_de_datos_2025/blob/main/Semana_01_Practica_01.ipynb\" target=\"_parent\"><img src=\"https://colab.research.google.com/assets/colab-badge.svg\" alt=\"Open In Colab\"/></a>"
      ]
    },
    {
      "cell_type": "markdown",
      "source": [
        "# Ejercicio 01\n",
        "\n",
        "La función `print`, es una de las directivas más sencillas de Python, simplemente imprime una línea de texto en la pantalla.\n",
        "\n",
        "En tu primer laboratorio:\n",
        "* Utiliza la función `print` para imprimir la linea \"¡Hola, Mundo!\" en la pantalla.\n",
        "\n",
        "* Una vez hecho esto, utiliza la función `print` nuevamente, pero esta vez imprime tu nombre.\n",
        "\n",
        "* Cambia las comillas dobles por comillas simple.\n",
        "\n",
        "* Imprime más de 1 valor haciendo que la función reciba varios parámetros separados por una coma.\n",
        "\n",
        "* Igual al punto anterior pero utiliza el parámetro llamado `sep` para serparar los valores. Prueba pasandole a `sep` el valor '#sep#'. (sep='#sep#'). ¿Como afecta esto a la salida?\n",
        "\n",
        "* Igual al punto anterior pero utiliza el parámetro llamado `end` para serparar las líneas. Prueba pasandole a `end` el valor '\\n'\\*4. (end='\\n'\\*4). ¿Como afecta esto a la salida?\n",
        "\n",
        "* Elimina las comillas dobles y ejecuta el código. Observa la reacción de Python. ¿Qué tipo de error se produce?\n",
        "\n",
        "* Luego, elimina los paréntesis, vuelve a poner las comillas dobles y vuelve a ejecutar el código. ¿Qué tipo de error se produce esta vez?\n",
        "\n",
        "* Experimenta tanto como puedas. Cambia las comillas dobles a comillas simples, utiliza múltiples funciones `print` en la misma línea y luego en líneas diferentes. Observa que es lo que ocurre."
      ],
      "metadata": {
        "id": "ANRJsKo_tIEF"
      }
    },
    {
      "cell_type": "code",
      "source": [],
      "metadata": {
        "id": "PIqLH7pkKdDo"
      },
      "execution_count": null,
      "outputs": []
    },
    {
      "cell_type": "markdown",
      "source": [
        "# Ejercicio 2\n",
        "\n",
        "Modifica la primera línea de código en el editor, utilizando las palabras clave sep y end, para que coincida con el resultado esperado. Recuerda, utilizar dos funciones print().\n",
        "\n",
        "No cambies nada en la segunda invocación de print()."
      ],
      "metadata": {
        "id": "g0toWyljxXMT"
      }
    },
    {
      "cell_type": "code",
      "source": [
        "## Salida Esperada\n",
        "# Fundamentos***Programación***en...Python\n",
        "print(\"Fundamentos\",\"Programación\",\"en\")\n",
        "\n",
        "## NO TOCAR\n",
        "print(\"Python\")"
      ],
      "metadata": {
        "id": "iFz9oAp-xeyg"
      },
      "execution_count": null,
      "outputs": []
    },
    {
      "cell_type": "markdown",
      "source": [
        "# Ejercicio 3\n",
        "\n",
        "Recomendamos que juegues con el código que hemos escrito para ti y que realices algunas correcciones (quizás incluso destructivas). Siéntete libre de modificar cualquier parte del código, pero hay una condición: aprende de tus errores y saca tus propias conclusiones.\n",
        "\n",
        "Intenta:\n",
        "\n",
        "* Minimizar el número de invocaciones de la función print() insertando la secuencia \\n en las cadenas. Utilizar una sola llamada a print.\n",
        "\n",
        "* Hacer la flecha dos veces más grande (pero mantener las proporciones).\n",
        "\n",
        "* Duplicar la flecha, colocando ambas flechas lado a lado.\n"
      ],
      "metadata": {
        "id": "HtluMPOQyEtX"
      }
    },
    {
      "cell_type": "code",
      "source": [
        "print(\"    *\")\n",
        "print(\"   * *\")\n",
        "print(\"  *   *\")\n",
        "print(\" *     *\")\n",
        "print(\"***   ***\")\n",
        "print(\"  *   *\")\n",
        "print(\"  *   *\")\n",
        "print(\"  *****\")"
      ],
      "metadata": {
        "id": "TczoCjUu0Hlv"
      },
      "execution_count": null,
      "outputs": []
    },
    {
      "cell_type": "markdown",
      "source": [
        "# Ejercicio 4\n",
        "\n",
        "Escribe una sola línea de código, utilizando la función print(), así como los caracteres de nueva línea y escape, para obtener la salida esperada de tres líneas.\n",
        "\n",
        "```\n",
        "## Salida Esperada\n",
        "\n",
        "\"Estoy\"\n",
        "\"\"aprendiendo\"\"\n",
        "\"\"\"Python\"\"\"\n",
        "```"
      ],
      "metadata": {
        "id": "y2mgegzs-FMQ"
      }
    },
    {
      "cell_type": "code",
      "source": [],
      "metadata": {
        "id": "zKfGDYb3Kpm3"
      },
      "execution_count": null,
      "outputs": []
    },
    {
      "cell_type": "markdown",
      "source": [
        "# Ejercicio 5\n",
        "\n",
        "Tu tarea es:\n",
        "\n",
        "* Crear las variables: juan, maria, y adan.\n",
        "\n",
        "* Asignar valores a las variables. El valor debe de ser igual al número de manzanas que cada quien tenía.\n",
        "\n",
        "* Una vez almacenados los números en las variables, imprimir las variables en una línea, y separar cada una de ellas con una coma.\n",
        "\n",
        "* Después se debe crear una nueva variable llamada total_manzanas y se debe igualar a la suma de las tres variables anteriores.\n",
        "\n",
        "* Imprime el valor almacenado en total_manzanas en la consola.\n",
        "\n",
        "* Experimenta con tu código: crea nuevas variables, asigna diferentes valores a ellas, y realiza varias operaciones aritméticas con ellas (por ejemplo, +, -, *, /, //, etc.). Intenta poner una cadena con un entero juntos en la misma línea, por ejemplo, \"Número Total de Manzanas:\" y total_manzanas."
      ],
      "metadata": {
        "id": "u78ep9UO-Iyd"
      }
    },
    {
      "cell_type": "code",
      "source": [],
      "metadata": {
        "id": "NgYVcOeOKs7i"
      },
      "execution_count": null,
      "outputs": []
    },
    {
      "cell_type": "markdown",
      "source": [
        "# Ejercicio 6\n",
        "\n",
        "Millas y kilómetros son unidades de longitud o distancia.\n",
        "\n",
        "Teniendo en mente que 1 milla equivale aproximadamente a 1.61 kilómetros, complementa el programa en el editor para que convierta de:\n",
        "\n",
        "\n",
        "*   Millas a kilómetros.\n",
        "\n",
        "*   Kilómetros a millas.\n",
        "\n",
        "No se debe cambiar el código existente. Escribe tu código en los lugares indicados con ###. Prueba tu programa con los datos que han sido provistos en el código fuente.\n",
        "\n",
        "\n",
        "Pon mucha atención a lo que esta ocurriendo dentro de la función print(). Analiza como es que se proveen múltiples argumentos para la función, y como es que se muestra el resultado.\n",
        "\n",
        "Nota que algunos de los argumentos dentro de la función print() son cadenas (por ejemplo \"millas son\", y otros son variables (por ejemplo miles).\n",
        "\n",
        "### TIP\n",
        "Hay una cosa interesante más que esta ocurriendo. ¿Puedes ver otra función dentro de la función print()? Es la función round(). Su trabajo es redondear la salida del resultado al número de decimales especificados en el paréntesis, y regresar un valor flotante (dentro de la función round() se puede encontrar el nombre de la variable, el nombre, una coma, y el número de decimales que se desean mostrar). Se hablará más de esta función muy pronto, no te preocupes si no todo queda muy claro. Solo se quiere impulsar tu curiosidad.\n",
        "\n",
        "\n",
        "Después de completar el laboratorio, abre Sandbox, y experimenta más. Intenta escribir diferentes convertidores, por ejemplo, un convertidor de USD a EUR, un convertidor de temperatura, etc. ¡Deja que tu imaginación vuele! Intenta mostrar los resultados combinando cadenas y variables. Intenta utilizar y experimentar con la función round() para redondear tus resultados a uno, dos o tres decimales. Revisa que es lo que sucede si no se provee un dígito al redondear. Recuerda probar tus programas.\n",
        "\n",
        "Experimenta, saca tus propias conclusiones, y aprende. Sé curioso.\n",
        "\n",
        "```\n",
        "# Resultado Esperado\n",
        "7.38 millas son 11.88 kilómetros\n",
        "12.25 kilómetros son 7.61 millas\n",
        "```"
      ],
      "metadata": {
        "id": "vk4M3KEJ-McE"
      }
    },
    {
      "cell_type": "code",
      "source": [
        "# Código sobre el que trabajar\n",
        "kilometers = 12.25\n",
        "miles = 7.38\n",
        "\n",
        "miles_to_kilometers = ###\n",
        "kilometers_to_miles = ###\n",
        "\n",
        "print(miles, \"millas son\", round(miles_to_kilometers, 2), \"kilómetros\")\n",
        "print(kilometers, \"kilómetros son\", round(kilometers_to_miles, 2), \"millas\")\n"
      ],
      "metadata": {
        "id": "P61qTfXZ2SxO"
      },
      "execution_count": null,
      "outputs": []
    },
    {
      "cell_type": "markdown",
      "source": [
        "# Ejercicio 7\n",
        "\n",
        "Observa el código en el editor: lee un valor flotante, lo coloca en una variable llamada x, e imprime el valor de la variable llamada y. Tu tarea es completar el código para evaluar la siguiente expresión:\n",
        "\n",
        "$3x^3 - 2x^2 + 3x - 1$\n",
        "\n",
        "El resultado debe ser asignado a y.\n",
        "\n",
        "Recuerda que la notación algebraica clásica muy seguido omite el operador de multiplicación, aquí se debe de incluir de manera explicita. Nota como se cambia el tipo de dato para asegurarnos de que x es del tipo flotante.\n",
        "\n",
        "Mantén tu código limpio y legible, y pruébalo utilizando los datos que han sido proporcionados. No te desanimes por no lograrlo en el primer intento. Se persistente y curioso.\n",
        "Datos de Prueba:\n",
        "\n",
        "| x | y |\n",
        "| --- | --- |  \n",
        "| 0 | -1.0 |\n",
        "| 1 | 3.0 |\n",
        "| -1 | -9.0 |"
      ],
      "metadata": {
        "id": "dWWYxLkR-QC9"
      }
    },
    {
      "cell_type": "code",
      "source": [
        "# Código sobre el que trabajar\n",
        "x =  # codifica aquí tus datos de prueba\n",
        "x = float(x)\n",
        "# escribe tu código aquí\n",
        "print(\"y = \", y)"
      ],
      "metadata": {
        "id": "x-FgRfmI3AH8"
      },
      "execution_count": null,
      "outputs": []
    },
    {
      "cell_type": "markdown",
      "source": [
        "# Ejercicio 8\n",
        "\n",
        "El código en el editor contiene comentarios. Intenta mejorarlo: agrega o quita comentarios donde consideres que sea apropiado (en ocasiones el remover un comentario lo hace mas legible), además, cambia el nombre de las variables donde consideres que esto mejorará la comprensión del código.\n",
        "### NOTA\n",
        "Los comentarios son muy importantes. No solo hacen que el programa sea más fácil de entender, pero también sirven para deshabilitar aquellas partes de código que no son necesarias (por ejemplo, cuando se necesita probar cierta parte del código, e ignorar el resto). Los buenos programadores describen cada parte importante del código, y dan nombres significativos a variables, debido a que en ocasiones es mucho más sencillo dejar el comentario dentro del código mismo.\n",
        "\n",
        "Es bueno utilizar nombres de variables legibles, y en ocasiones es mejor dividir el código en partes con nombres (por ejemplo en funciones). En algunas situaciones, es una buena idea escribir los pasos de como se realizaron los cálculos de una forma sencilla y clara.\n",
        "\n",
        "Una cosa mas: puede ocurrir que un comentario contenga una pieza de información incorrecta o errónea, nunca se debe de hacer eso a propósito."
      ],
      "metadata": {
        "id": "8HYeUBwQ-Thn"
      }
    },
    {
      "cell_type": "code",
      "source": [
        "# Código sobre el que trabajar\n",
        "# este programa calcula los segundos en cierto número de horas determinadas\n",
        "# este programa fue escrito hace dos días\n",
        "\n",
        "a = 2 # número de horas\n",
        "seconds = 3600 # número de segundos en una hora\n",
        "\n",
        "print(\"Horas: \", a) #imprime el numero de horas\n",
        "print(\"Segundos en Horas: \", a * seconds) # se imprime el numero de segundos en determinado numero de horas\n",
        "\n",
        "#aquí también se debe de imprimir un \"Adiós\", pero el programador no tuvo tiempo de escribirlo\n",
        "#este el es fin del programa que calcula el numero de segundos en 2 horas\n"
      ],
      "metadata": {
        "id": "YgqxsluJ3f5H"
      },
      "execution_count": null,
      "outputs": []
    },
    {
      "cell_type": "markdown",
      "source": [
        "# Ejercicio 9\n",
        "\n",
        "La tarea es completar el código para evaluar y mostrar el resultado de cuatro operaciones aritméticas básicas.\n",
        "\n",
        "El resultado debe ser mostrado en consola.\n",
        "\n",
        "Quizá no podrás proteger el código de un usuario que intente dividir entre cero. Por ahora, no hay que preocuparse por ello.\n",
        "\n",
        "Prueba tu código - ¿Produce los resultados esperados?\n",
        "\n",
        "No te mostraremos ningún dato de prueba, eso sería demasiado sencillo."
      ],
      "metadata": {
        "id": "I6ba_3IZ-YfW"
      }
    },
    {
      "cell_type": "code",
      "source": [
        "# Código sobre el cúal trabajar\n",
        "# ingresa un valor flotante para la variable a aquí\n",
        "# ingresa un valor flotante para la variable b aquí\n",
        "\n",
        "# muestra el resultado de la suma aquí\n",
        "# muestra el resultado de la resta aquí\n",
        "# muestra el resultado de la multiplicación aquí\n",
        "# muestra el resultado de la división aquí\n",
        "\n",
        "print(\"\\n¡Eso es todo, amigos!\")\n"
      ],
      "metadata": {
        "id": "gCRh18o-33ZA"
      },
      "execution_count": null,
      "outputs": []
    },
    {
      "cell_type": "markdown",
      "source": [
        "# Ejercicio 10\n",
        "\n",
        "La tarea es completar el código para poder evaluar la siguiente expresión:\n",
        "\n",
        "\n",
        "# $\\frac{1}{x + \\left( \\frac{1}{x + \\left( \\frac{1}{x + \\frac{1}{x}} \\right)} \\right)}\n",
        "$\n",
        "\n",
        "El resultado debe de ser asignado a y. Se cauteloso, observa los operadores y priorízalos. Utiliza cuantos paréntesis sean necesarios.\n",
        "\n",
        "Puedes utilizar variables adicionales para acortar la expresión (sin embargo, no es muy necesario). Prueba tu código cuidadosamente.\n",
        "\n",
        "Datos de Prueba:\n",
        "\n",
        "| x | y |\n",
        "| --- | --- |  \n",
        "| 1 | 0.6000000000000001 |\n",
        "| 10 | 0.09901951266867294 |\n",
        "| 100 | 0.009999000199950014 |\n",
        "| 5 | -0.19258202567760344 |\n"
      ],
      "metadata": {
        "id": "bESkLxW99zOt"
      }
    },
    {
      "cell_type": "code",
      "source": [],
      "metadata": {
        "id": "Q9hQWwN3K6oB"
      },
      "execution_count": null,
      "outputs": []
    },
    {
      "cell_type": "markdown",
      "source": [
        "# Ejercicio 11\n",
        "\n",
        "La tarea es preparar un código simple para evaluar o encontrar el tiempo final de un periodo de tiempo dado, expresándolo en horas y minutos. Las horas van de 0 a 23 y los minutos de 0 a 59. El resultado debe ser mostrado en la consola.\n",
        "\n",
        "Por ejemplo, si el evento comienza a las 12:17 y dura 59 minutos, terminará a las 13:16.\n",
        "\n",
        "No te preocupes si tu código no es perfecto, está bien si acepta una hora invalida, lo más importante es que el código produzca una salida correcta acorde a la entrada dada.\n",
        "\n",
        "Prueba el código cuidadosamente. Pista: utilizar el operador % puede ser clave para el éxito.\n",
        "\n",
        "Datos de Prueba:\n",
        "\n",
        "| Horas | Minutos | Duración | Salida |\n",
        "| --- | --- | --- | --- |  \n",
        "| 12 | 17 | 59 | 13:16 |\n",
        "| 23 | 58 | 642 | 10:40 |\n",
        "| 0 | 1 | 2939 | 1:0 |"
      ],
      "metadata": {
        "id": "4AkVcM-t9ppg"
      }
    },
    {
      "cell_type": "code",
      "source": [],
      "metadata": {
        "id": "nLyJMkfsK9NW"
      },
      "execution_count": null,
      "outputs": []
    }
  ]
}