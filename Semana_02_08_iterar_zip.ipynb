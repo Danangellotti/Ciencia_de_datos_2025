{
  "nbformat": 4,
  "nbformat_minor": 0,
  "metadata": {
    "colab": {
      "provenance": [],
      "include_colab_link": true
    },
    "kernelspec": {
      "name": "python3",
      "display_name": "Python 3"
    },
    "language_info": {
      "name": "python"
    }
  },
  "cells": [
    {
      "cell_type": "markdown",
      "metadata": {
        "id": "view-in-github",
        "colab_type": "text"
      },
      "source": [
        "<a href=\"https://colab.research.google.com/github/Danangellotti/Ciencia_de_datos_2025/blob/main/Semana_02_08_iterar_zip.ipynb\" target=\"_parent\"><img src=\"https://colab.research.google.com/assets/colab-badge.svg\" alt=\"Open In Colab\"/></a>"
      ]
    },
    {
      "cell_type": "markdown",
      "source": [
        "# Iterar con zip en Python\n",
        "\n",
        "La función `zip` me permite agrupar variables iterables e iterarlas todas juntas en una sola pasada.\n",
        "\n",
        "Dicho de otra manera, si por ejemplos pasamos dos listas a `zip` como entrada, el resultado será una tupla donde cada elemento tendrá todos y cada uno de los elementos i-ésimos de las pasadas como entrada.\n",
        "\n",
        "Veamos un ejemplo. Como podemos ver, el resultado tras aplicar `zip` es una tupla con (a[0], b[0]) en el primer elemento y (a[1], b[1]) como segundo."
      ],
      "metadata": {
        "id": "2-b5F6K-FAZZ"
      }
    },
    {
      "cell_type": "code",
      "execution_count": null,
      "metadata": {
        "id": "A1R9ZkyyE6OP",
        "colab": {
          "base_uri": "https://localhost:8080/"
        },
        "outputId": "d3ab8682-31e3-42e0-f0cf-1088d5900e28"
      },
      "outputs": [
        {
          "output_type": "stream",
          "name": "stdout",
          "text": [
            "[(1, 'Uno'), (2, 'Dos')]\n"
          ]
        }
      ],
      "source": [
        "a = [1, 2]\n",
        "b = [\"Uno\", \"Dos\"]\n",
        "c = zip(a, b)\n",
        "\n",
        "print(list(c))"
      ]
    },
    {
      "cell_type": "markdown",
      "source": [
        "A priori puede parecer una función no muy relevante, pero es realmente útil combinada con un for para iterar dos listas en paralelo."
      ],
      "metadata": {
        "id": "QAKNpuSsFE9J"
      }
    },
    {
      "cell_type": "code",
      "source": [
        "a = [1, 2]\n",
        "b = [\"Uno\", \"Dos\"]\n",
        "\n",
        "for numero, texto in zip(a, b):\n",
        "    print(\"Número: \", numero, \" - Español: \", texto)"
      ],
      "metadata": {
        "id": "vWoUtQkmFGkS",
        "colab": {
          "base_uri": "https://localhost:8080/"
        },
        "outputId": "d74722b8-5e32-4a39-e9fe-1eb2d679d98d"
      },
      "execution_count": null,
      "outputs": [
        {
          "output_type": "stream",
          "name": "stdout",
          "text": [
            "Número:  1  - Español:  Uno\n",
            "Número:  2  - Español:  Dos\n"
          ]
        }
      ]
    },
    {
      "cell_type": "markdown",
      "source": [
        "## zip con n argumentos\n",
        "Ya hemos visto el uso de `zip` con dos listas, pero dado que está definida como zip(*iterables), es posible pasar un número arbitrario de iterables como entrada.\n",
        "\n",
        "Veamos un ejemplo con varias listas. Es importante notar que todas tienen la misma longitud."
      ],
      "metadata": {
        "id": "ub9ruQlyFIFj"
      }
    },
    {
      "cell_type": "code",
      "source": [
        "numeros = [1, 2]\n",
        "espanol = [\"Uno\", \"Dos\"]\n",
        "ingles = [\"One\", \"Two\"]\n",
        "frances = [\"Un\", \"Deux\"]\n",
        "\n",
        "for n, e, i, f in zip(numeros, espanol, ingles, frances):\n",
        "    print('Número: ', n, ' - Español: ', e, ' - Inglés: ', i, ' - Frances: ', f)"
      ],
      "metadata": {
        "id": "_ZAv0wvXFLZo",
        "colab": {
          "base_uri": "https://localhost:8080/"
        },
        "outputId": "c184727a-2cc7-449f-fbfb-e0cc54cfbaef"
      },
      "execution_count": null,
      "outputs": [
        {
          "output_type": "stream",
          "name": "stdout",
          "text": [
            "Número:  1  - Español:  Uno  - Inglés:  One  - Frances:  Un\n",
            "Número:  2  - Español:  Dos  - Inglés:  Two  - Frances:  Deux\n"
          ]
        }
      ]
    },
    {
      "cell_type": "markdown",
      "source": [
        "## zip() con diferentes longitudes\n",
        "\n",
        "También podemos usar `zip` usando iterables de diferentes longitudes. En este caso lo que pasará es que cuando el iterador de la lista más pequeña se acabe, entonces se terminará la ejecución del zip."
      ],
      "metadata": {
        "id": "uX5Hbg6tFNag"
      }
    },
    {
      "cell_type": "code",
      "source": [
        "numeros = [1, 2, 3, 4, 5]\n",
        "espanol = [\"Uno\", \"Dos\"]\n",
        "\n",
        "for n, e in zip(numeros, espanol):\n",
        "    print('Número: ', n, ' - Español: ', e)"
      ],
      "metadata": {
        "id": "BjqRbIyRFQWm",
        "colab": {
          "base_uri": "https://localhost:8080/"
        },
        "outputId": "78cb1a72-7628-4323-c888-4f792ec41faf"
      },
      "execution_count": null,
      "outputs": [
        {
          "output_type": "stream",
          "name": "stdout",
          "text": [
            "Número:  1  - Español:  Uno\n",
            "Número:  2  - Español:  Dos\n"
          ]
        }
      ]
    },
    {
      "cell_type": "markdown",
      "source": [
        "Resulta lógico que este sea el comportamiento, porque de no ser así y se continuara, no tendríamos valores para usar.\n",
        "\n"
      ],
      "metadata": {
        "id": "_es4tDw8FSAu"
      }
    },
    {
      "cell_type": "markdown",
      "source": [
        "## zip() con un argumento\n",
        "Como cabría esperar, dado que `zip` está definido para un número arbitrario de parámetros de entrada, es posible también posible usar un único valor. El resultado son tuplas de un elemento."
      ],
      "metadata": {
        "id": "EuTpksGwFi0P"
      }
    },
    {
      "cell_type": "code",
      "source": [
        "numeros = [1, 2, 3, 4, 5]\n",
        "zz = zip(numeros)\n",
        "print(list(zz))"
      ],
      "metadata": {
        "id": "elRxigzQFUOJ",
        "colab": {
          "base_uri": "https://localhost:8080/"
        },
        "outputId": "3adbd37c-e056-44ea-9d98-d7fc815a84b2"
      },
      "execution_count": null,
      "outputs": [
        {
          "output_type": "stream",
          "name": "stdout",
          "text": [
            "[(1,), (2,), (3,), (4,), (5,)]\n"
          ]
        }
      ]
    },
    {
      "cell_type": "markdown",
      "source": [
        "## zip() con diccionarios\n",
        "Hasta ahora nos hemos limitado a usar `zip` con listas, pero la función está definida para cualquier clase iterable. Por lo tanto podemos usarla también con diccionarios.\n",
        "\n",
        "Si realizamos lo siguiente, a,b toman los valores de las key del diccionario. Tal vez algo no demasiado interesante."
      ],
      "metadata": {
        "id": "AcAt4VolFUnp"
      }
    },
    {
      "cell_type": "code",
      "source": [
        "esp = {'1-esp': 'Uno', '2-esp': 'Dos', '3-esp': 'Tres'}\n",
        "eng = {'1-eng': 'One', '2-eng': 'Two', '3-eng': 'Three'}\n",
        "\n",
        "for a, b in zip(esp, eng):\n",
        "    print('Key esp: ', a, ' - key eng: ', b)"
      ],
      "metadata": {
        "id": "tMxTINNLFYf0",
        "colab": {
          "base_uri": "https://localhost:8080/"
        },
        "outputId": "4cd07ef4-2466-4f72-8b1c-c462412de401"
      },
      "execution_count": null,
      "outputs": [
        {
          "output_type": "stream",
          "name": "stdout",
          "text": [
            "Key esp:  1-esp  - key eng:  1-eng\n",
            "Key esp:  2-esp  - key eng:  2-eng\n",
            "Key esp:  3-esp  - key eng:  3-eng\n"
          ]
        }
      ]
    },
    {
      "cell_type": "markdown",
      "source": [
        "Sin embargo, si hacemos uso de la función items, podemos acceder al key y value de cada elemento, por lo tanto cada posición de la tupla es una nueva tupla con los items de cada diccionario."
      ],
      "metadata": {
        "id": "nfRmITYUFaJH"
      }
    },
    {
      "cell_type": "code",
      "source": [
        "esp = {'1': 'Uno', '2': 'Dos', '3': 'Tres'}\n",
        "eng = {'1': 'One', '2': 'Two', '3': 'Three'}\n",
        "\n",
        "for (k1, v1), (k2, v2) in zip(esp.items(), eng.items()):\n",
        "    print('key esp: ', k1,' - value esp: ',  v1,' - key eng: ',  k2,' - value eng: ',  v2)"
      ],
      "metadata": {
        "id": "TJSOfoX9FbXm",
        "colab": {
          "base_uri": "https://localhost:8080/"
        },
        "outputId": "733a44da-c93d-4daa-ca62-831a02976c4a"
      },
      "execution_count": null,
      "outputs": [
        {
          "output_type": "stream",
          "name": "stdout",
          "text": [
            "key esp:  1  - value esp:  Uno  - key eng:  1  - value eng:  One\n",
            "key esp:  2  - value esp:  Dos  - key eng:  2  - value eng:  Two\n",
            "key esp:  3  - value esp:  Tres  - key eng:  3  - value eng:  Three\n"
          ]
        }
      ]
    },
    {
      "cell_type": "markdown",
      "source": [
        "Nótese que en este caso ambas key k1 y k2 son iguales.\n",
        "\n",
        "## Deshacer el zip()\n",
        "Con un pequeño truco, es posible deshacer el zip en una sola línea de código. Supongamos que hemos usado `zip` para obtener c.\n",
        "\n"
      ],
      "metadata": {
        "id": "rlZ8uX3JFcyq"
      }
    },
    {
      "cell_type": "code",
      "source": [
        "a = [1, 2, 3]\n",
        "b = [\"One\", \"Two\", \"Three\"]\n",
        "z = zip(a, b)\n",
        "\n",
        "print(list(z))"
      ],
      "metadata": {
        "id": "NVSLdthWFgaR",
        "colab": {
          "base_uri": "https://localhost:8080/"
        },
        "outputId": "7cecade9-7943-4159-8260-d9c1932042cf"
      },
      "execution_count": null,
      "outputs": [
        {
          "output_type": "stream",
          "name": "stdout",
          "text": [
            "[(1, 'One'), (2, 'Two'), (3, 'Three')]\n"
          ]
        }
      ]
    },
    {
      "cell_type": "markdown",
      "source": [
        "¿Es posible obtener a y b desde c? Sí, tan sencillo como:"
      ],
      "metadata": {
        "id": "vj8DDcPaFjzs"
      }
    },
    {
      "cell_type": "code",
      "source": [
        "c = [(1, 'One'), (2, 'Two'), (3, 'Three')]\n",
        "a, b = zip(*c)\n",
        "\n",
        "print('Lista a: ', a)\n",
        "print('Lista b: ', b)"
      ],
      "metadata": {
        "id": "1046HljbFkHu",
        "colab": {
          "base_uri": "https://localhost:8080/"
        },
        "outputId": "243d3410-840e-4b7c-d9a2-012c3d599118"
      },
      "execution_count": null,
      "outputs": [
        {
          "output_type": "stream",
          "name": "stdout",
          "text": [
            "Lista a:  (1, 2, 3)\n",
            "Lista b:  ('One', 'Two', 'Three')\n"
          ]
        }
      ]
    },
    {
      "cell_type": "markdown",
      "source": [
        "Nótese el uso de *c, lo que es conocido como unpacking en Python y que las variables `z` y `c` son iguales.\n",
        "\n"
      ],
      "metadata": {
        "id": "5dUaSBEcFm5D"
      }
    }
  ]
}