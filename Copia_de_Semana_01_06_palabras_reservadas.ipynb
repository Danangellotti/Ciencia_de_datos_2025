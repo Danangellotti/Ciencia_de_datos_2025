{
  "nbformat": 4,
  "nbformat_minor": 0,
  "metadata": {
    "colab": {
      "provenance": [],
      "include_colab_link": true
    },
    "kernelspec": {
      "name": "python3",
      "display_name": "Python 3"
    },
    "language_info": {
      "name": "python"
    }
  },
  "cells": [
    {
      "cell_type": "markdown",
      "metadata": {
        "id": "view-in-github",
        "colab_type": "text"
      },
      "source": [
        "<a href=\"https://colab.research.google.com/github/Danangellotti/Ciencia_de_datos_2025/blob/main/Copia_de_Semana_01_06_palabras_reservadas.ipynb\" target=\"_parent\"><img src=\"https://colab.research.google.com/assets/colab-badge.svg\" alt=\"Open In Colab\"/></a>"
      ]
    },
    {
      "cell_type": "markdown",
      "source": [
        "# Palabras reservadas en Python\n",
        "\n",
        "Python tiene un conjunto de palabras reservadas que no podemos utilizar para nombrar variables ni funciones, ya que las reserva internamente para su funcionamiento.\n",
        "\n",
        "Por ejemplo, no podemos llamar a una función `True`, y si intentamos hacerlo, tendremos un SyntaxError. Esto es lógico ya que Python usa internamente `True` para representar el tipo booleano."
      ],
      "metadata": {
        "id": "U4cvOrPurhoE"
      }
    },
    {
      "cell_type": "code",
      "source": [
        "import traceback"
      ],
      "metadata": {
        "id": "icRXCQ4a9SmB"
      },
      "execution_count": null,
      "outputs": []
    },
    {
      "cell_type": "code",
      "source": [
        "## No válido, cualquiera de estas definiciones generan un error de SyntaxError\n",
        "## descomentar para verificar\n",
        "#def True():\n",
        "#  pass"
      ],
      "metadata": {
        "id": "8nOJ68pYqbBn"
      },
      "execution_count": null,
      "outputs": []
    },
    {
      "cell_type": "markdown",
      "source": [
        "\n",
        "Análogamente, no podemos llamar a una variable `is` ya que se trata del operador de identidad.\n"
      ],
      "metadata": {
        "id": "rJYlHoQTqdv2"
      }
    },
    {
      "cell_type": "code",
      "source": [
        "## No válido, cualquiera de estas definiciones generan un error de SyntaxError\n",
        "## descomentar para verificar\n",
        "#is = 4"
      ],
      "metadata": {
        "id": "neyc1joVqgNN"
      },
      "execution_count": null,
      "outputs": []
    },
    {
      "cell_type": "markdown",
      "source": [
        "Resulta lógico que no se nos permita realizar esto, ya que de ser posible, podríamos romper el lenguaje. Algo muy importante a tener en cuenta es que palabras como list no están reservadas, y esto es algo que puede generar problemas. El siguiente código crea una lista usando la función estándar de Python `list()`.\n"
      ],
      "metadata": {
        "id": "xzPXCufBqjDg"
      }
    },
    {
      "cell_type": "code",
      "source": [
        "lista = list(\"letras\")\n",
        "print(f\"La lista contiene: \\n\", lista)"
      ],
      "metadata": {
        "id": "_q0u1MEFqnLb",
        "colab": {
          "base_uri": "https://localhost:8080/"
        },
        "outputId": "c26d82e6-74ef-4d35-b091-07a46703f089"
      },
      "execution_count": null,
      "outputs": [
        {
          "output_type": "stream",
          "name": "stdout",
          "text": [
            "La lista contiene: \n",
            " ['l', 'e', 't', 'r', 'a', 's']\n"
          ]
        }
      ]
    },
    {
      "cell_type": "markdown",
      "source": [
        "Sin embargo, y aunque pueda parece extraño, podemos crear una función con ese nombre. Al hacer esto, estamos sobre escribiendo la función list() de Python, y por lo tanto al intentar hacer la llamada anterior falla, ya que nuestra función en este caso no acepta argumentos. Mucho cuidado con esto."
      ],
      "metadata": {
        "id": "5_P-FsOKqqqO"
      }
    },
    {
      "cell_type": "code",
      "source": [
        "def list():\n",
        "    print(\"Función list\")"
      ],
      "metadata": {
        "id": "EofV4Q6rq4tJ"
      },
      "execution_count": null,
      "outputs": []
    },
    {
      "cell_type": "code",
      "source": [
        "try:\n",
        "  lista = list(\"letras\")\n",
        "  print(f\"La lista contiene: \\n\", lista)\n",
        "except Exception:\n",
        "  print(\"Falla porque sobre escribimos la función list.\")\n",
        "  traceback.print_exc()"
      ],
      "metadata": {
        "colab": {
          "base_uri": "https://localhost:8080/"
        },
        "id": "xJYfoDAK-Yl7",
        "outputId": "6a5489fb-cfbe-4993-f36f-2852f107af9e"
      },
      "execution_count": null,
      "outputs": [
        {
          "output_type": "stream",
          "name": "stdout",
          "text": [
            "Falla porque sobre escribimos la función list.\n"
          ]
        },
        {
          "output_type": "stream",
          "name": "stderr",
          "text": [
            "Traceback (most recent call last):\n",
            "  File \"<ipython-input-6-6097473a33ae>\", line 2, in <cell line: 1>\n",
            "    lista = list(\"letras\")\n",
            "TypeError: list() takes 0 positional arguments but 1 was given\n"
          ]
        }
      ]
    },
    {
      "cell_type": "code",
      "source": [
        "print(\"Al invocar la función sobre escrita obtendremos el mensaje 'Función list'\")\n",
        "list()"
      ],
      "metadata": {
        "colab": {
          "base_uri": "https://localhost:8080/"
        },
        "id": "WD9-7nMJ-jsC",
        "outputId": "c3bc1334-c2a0-4906-c0c8-352514b415a3"
      },
      "execution_count": null,
      "outputs": [
        {
          "output_type": "stream",
          "name": "stdout",
          "text": [
            "Al invocar la función sobre escrita obtendremos el mensaje 'Función list'\n",
            "Función list\n"
          ]
        }
      ]
    },
    {
      "cell_type": "markdown",
      "source": [
        "\n",
        "Pero volviendo a las palabras reservadas, Python nos ofrece una forma de acceder a estas palabras programmatically, es decir, a través de código. Aquí tenemos un listado con todas las palabras reservadas.\n"
      ],
      "metadata": {
        "id": "JQgoLpM9q82n"
      }
    },
    {
      "cell_type": "code",
      "source": [
        "import keyword\n",
        "print(keyword.kwlist)"
      ],
      "metadata": {
        "id": "-abzxf9krDZP",
        "colab": {
          "base_uri": "https://localhost:8080/"
        },
        "outputId": "9d710c00-f245-4f6f-c149-7e1971cd6957"
      },
      "execution_count": null,
      "outputs": [
        {
          "output_type": "stream",
          "name": "stdout",
          "text": [
            "['False', 'None', 'True', 'and', 'as', 'assert', 'async', 'await', 'break', 'class', 'continue', 'def', 'del', 'elif', 'else', 'except', 'finally', 'for', 'from', 'global', 'if', 'import', 'in', 'is', 'lambda', 'nonlocal', 'not', 'or', 'pass', 'raise', 'return', 'try', 'while', 'with', 'yield']\n"
          ]
        }
      ]
    },
    {
      "cell_type": "markdown",
      "source": [
        "Vistas ya las palabras reservadas de Python, a continuación explicaremos para que sirve cada una de ellas y las pondremos en contexto.\n"
      ],
      "metadata": {
        "id": "Gp9grFHVrH8j"
      }
    },
    {
      "cell_type": "markdown",
      "source": [
        "## Funciones: def, return, lambda, pass, yield\n",
        "Todas estas palabras están relacionadas con las funciones. El uso de `def` nos permite crear una función.\n",
        "\n",
        "Una función (también conocida como método o procedimiento) es un bloque de código que realiza una tarea específica y puede ser llamada varias veces desde diferentes partes del programa.\n",
        "\n",
        "Las funciones tienen varios propósitos clave:\n",
        "- Reutilización: Las funciones permiten reutilizar código para realizar tareas similares en diferentes partes del programa, lo que reduce la duplicación y facilita la mantenibilidad.\n",
        "- Modularidad: Las funciones dividen el código en módulos autónomos, lo que facilita la comprensión y el mantenimiento del programa.\n",
        "- Encapsulación: Las funciones pueden encapsular datos y lógica relacionados con una tarea específica, lo que ayuda a mantener la integridad y la consistencia del programa.\n",
        "\n",
        "Una función típica tiene los siguientes componentes:\n",
        "- Nombre: Un identificador único que se utiliza para llamar a la función.\n",
        "- Parámetros o Argumentos: Variables que se pasan como entrada a la función, que pueden ser utilizados para realizar la tarea.\n",
        "- Cuerpo: El bloque de código que se ejecuta cuando se llama a la función.\n",
        "- Return: La función puede devolver un valor o resultado después de ejecutarse.\n"
      ],
      "metadata": {
        "id": "dIBznIBbtAWM"
      }
    },
    {
      "cell_type": "code",
      "source": [
        "def funcion_suma(a, b):\n",
        "    print(\"La suma es\", a + b)\n",
        "\n",
        "funcion_suma(3, 5)"
      ],
      "metadata": {
        "id": "zD6kG-hbtMqV",
        "colab": {
          "base_uri": "https://localhost:8080/"
        },
        "outputId": "e60bc46b-12ca-4ff4-b9e0-f734519dd49f"
      },
      "execution_count": null,
      "outputs": [
        {
          "output_type": "stream",
          "name": "stdout",
          "text": [
            "La suma es 8\n"
          ]
        }
      ]
    },
    {
      "cell_type": "markdown",
      "source": [
        "Si queremos que la función devuelva uno o varios valores, podemos usar return.\n"
      ],
      "metadata": {
        "id": "X8BYYcFBtPsx"
      }
    },
    {
      "cell_type": "code",
      "source": [
        "def funcion_suma(a, b):\n",
        "    return a + b\n",
        "\n",
        "suma = funcion_suma(3, 5)\n",
        "print(\"La suma es\", suma)"
      ],
      "metadata": {
        "id": "7QrCMsBMtT_u",
        "colab": {
          "base_uri": "https://localhost:8080/"
        },
        "outputId": "29f0b617-3f97-4fd2-c0ee-0eb419d6d344"
      },
      "execution_count": null,
      "outputs": [
        {
          "output_type": "stream",
          "name": "stdout",
          "text": [
            "La suma es 8\n"
          ]
        }
      ]
    },
    {
      "cell_type": "markdown",
      "source": [
        "El uso de `lambda` nos permite crear funciones lambda, una especie de funciones “para vagos”. Dichas funciones no tienen un nombre per se, salvo asignado explícitamente."
      ],
      "metadata": {
        "id": "k1nCDIx9tW3K"
      }
    },
    {
      "cell_type": "code",
      "source": [
        "print(\"La suma es\", (lambda a, b: a + b)(3, 5))"
      ],
      "metadata": {
        "id": "05VW8x2HtfT6",
        "colab": {
          "base_uri": "https://localhost:8080/"
        },
        "outputId": "8b56bd1b-9799-4bad-aa9e-d2a2c5534e5a"
      },
      "execution_count": null,
      "outputs": [
        {
          "output_type": "stream",
          "name": "stdout",
          "text": [
            "La suma es 8\n"
          ]
        }
      ]
    },
    {
      "cell_type": "markdown",
      "source": [
        "Por otro lado, podemos usar `pass` cuando no queramos definir la función, es decir si la queremos dejar en blanco por el momento. Nótese que también puede ser usado en clases, estructuras de control, etc.\n"
      ],
      "metadata": {
        "id": "LCu6ExVeti7i"
      }
    },
    {
      "cell_type": "code",
      "source": [
        "def funcion_suma(a, b):\n",
        "    pass"
      ],
      "metadata": {
        "id": "RD5GEPrytqYL"
      },
      "execution_count": null,
      "outputs": []
    },
    {
      "cell_type": "markdown",
      "source": [
        "Por último, `yield` está asociado a los generadores y las corrutinas, un concepto un tanto avanzado pero muy interesante. En el siguiente generador vemos como se generan tres valores, obteniendo uno cada vez que iteramos el generador.\n",
        "\n"
      ],
      "metadata": {
        "id": "aiq9CWe_ttkr"
      }
    },
    {
      "cell_type": "code",
      "source": [
        "def generador():\n",
        "    n = 1\n",
        "    yield n\n",
        "\n",
        "    n += 1\n",
        "    yield n\n",
        "\n",
        "    n += 1\n",
        "    yield n\n",
        "\n",
        "for i in generador():\n",
        "    print(i)"
      ],
      "metadata": {
        "id": "W8_nbDHzty_3",
        "colab": {
          "base_uri": "https://localhost:8080/"
        },
        "outputId": "0c8c38d3-02df-4cdb-c4a3-c97357f44f39"
      },
      "execution_count": null,
      "outputs": [
        {
          "output_type": "stream",
          "name": "stdout",
          "text": [
            "1\n",
            "2\n",
            "3\n"
          ]
        }
      ]
    },
    {
      "cell_type": "markdown",
      "source": [
        "Los generadores pueden ser usados para generar secuencias infinitas de valores, sin que tengan que ser almacenados a priori, siendo creados bajo demanda. Este es una utilidad muy importante trabajando con listas muy grandes, cuyo almacenamiento en memoria sería muy costoso.\n",
        "\n"
      ],
      "metadata": {
        "id": "QDYEI8skt2fD"
      }
    },
    {
      "cell_type": "markdown",
      "source": [
        "## Clases: class\n",
        "El uso de `class` nos permite crear clases. Las clases son el núcleo de la programación orientada objetos, y son una especie de estructura de datos que agrupa un conjunto de funciones (métodos) y variables (atributos).\n"
      ],
      "metadata": {
        "id": "uYJXWKgXt72c"
      }
    },
    {
      "cell_type": "code",
      "source": [
        "class MiClase:\n",
        "    def __init__(self):\n",
        "        print(\"Creando objeto de MiClase\")\n",
        "\n",
        "objeto = MiClase()"
      ],
      "metadata": {
        "id": "yzyqDVJtuGvQ",
        "colab": {
          "base_uri": "https://localhost:8080/"
        },
        "outputId": "0f6b7e3f-47f9-48f5-f07f-7e8611fb6c0d"
      },
      "execution_count": null,
      "outputs": [
        {
          "output_type": "stream",
          "name": "stdout",
          "text": [
            "Creando objeto de MiClase\n"
          ]
        }
      ]
    },
    {
      "cell_type": "markdown",
      "source": [
        "## Excepciones: assert, try, except, finally, raise\n",
        "Las palabras clave `assert`, `try`, `except`, `finally` y `raise` están relacionadas con las excepciones, y nos permiten tratar el qué hacer cuando las cosas no salen como esperamos. El siguiente código intenta hacer un cast de cadena a entero, manejando un posible error.\n",
        "\n",
        "* Si x=\"10\" el casteo se realiza sin problemas, ya que es posible representar esa cadena como un entero. Sin embargo hay que estar preparados siempre para lo peor.\n",
        "* Si x=\"a\" no se podría hacer int() y tendríamos un error. Si no manejamos este error, el programa se pararía, y esto no es algo deseable. El uso de try, except y finally nos permite controlar dicho error y actuar en consecuencia sin que el programa se pare.\n"
      ],
      "metadata": {
        "id": "Wvf4tOgfuJZP"
      }
    },
    {
      "cell_type": "code",
      "source": [
        "x = \"10\"\n",
        "\n",
        "valor = None\n",
        "try:\n",
        "    valor = int(x)\n",
        "except Exception as e:\n",
        "    print(\"Hubo un error:\", e)\n",
        "finally:\n",
        "    print(\"El valor es\", valor)"
      ],
      "metadata": {
        "id": "1Oox6G50uUgA",
        "colab": {
          "base_uri": "https://localhost:8080/"
        },
        "outputId": "8ca81306-74f8-4a7c-af6a-044b4da70d95"
      },
      "execution_count": null,
      "outputs": [
        {
          "output_type": "stream",
          "name": "stdout",
          "text": [
            "El valor es 10\n"
          ]
        }
      ]
    },
    {
      "cell_type": "markdown",
      "source": [
        "## Variables: global, nonlocal\n",
        "El uso de `global` permite realizar lo siguiente, y de no usarlo tendríamos un UnboundLocalError. Aunque puede resultar muy útil, mucho cuidado con las variables globales.\n"
      ],
      "metadata": {
        "id": "U5Gx3a0QuXi7"
      }
    },
    {
      "cell_type": "code",
      "source": [
        "a = 0\n",
        "\n",
        "def suma_uno():\n",
        "    global a\n",
        "    a = a + 1\n",
        "\n",
        "suma_uno()\n",
        "print('La salida es uno porque se modifica dentro de la función: ', a)"
      ],
      "metadata": {
        "id": "2KHs5WvpudER",
        "colab": {
          "base_uri": "https://localhost:8080/"
        },
        "outputId": "33c4d738-5079-4ad5-f12b-3488458c150a"
      },
      "execution_count": null,
      "outputs": [
        {
          "output_type": "stream",
          "name": "stdout",
          "text": [
            "La salida es uno porque se modifica dentro de la función:  1\n"
          ]
        }
      ]
    },
    {
      "cell_type": "markdown",
      "source": [
        "El uso de `nonlocal` es útil cuando tenemos funciones anidadas. El el siguiente ejemplo podemos ver como cuando funcion_b modifica x, también afecta a la x de la funcion_a, ya que la hemos declarado como `nonlocal`. Te invito a que elimines el `nonlocal` y veas el comportamiento.\n"
      ],
      "metadata": {
        "id": "rD8yFpKbuf1s"
      }
    },
    {
      "cell_type": "code",
      "source": [
        "def funcion_a():\n",
        "    x = 10\n",
        "\n",
        "    def funcion_b():\n",
        "        nonlocal x\n",
        "        x = 20\n",
        "        print(\"funcion_b\", x)\n",
        "\n",
        "    funcion_b()\n",
        "    print(\"funcion_a\", x)\n",
        "\n",
        "funcion_a()"
      ],
      "metadata": {
        "id": "ap1W-GX9uncN",
        "colab": {
          "base_uri": "https://localhost:8080/"
        },
        "outputId": "5ab41954-25eb-4723-adc0-220ff8892a34"
      },
      "execution_count": null,
      "outputs": [
        {
          "output_type": "stream",
          "name": "stdout",
          "text": [
            "funcion_b 20\n",
            "funcion_a 20\n"
          ]
        }
      ]
    },
    {
      "cell_type": "markdown",
      "source": [
        "## Módulos: from, import\n",
        "El uso de `from` e `import` nos permite importar módulos o librerías, tanto estándar de Python como externas o definidas por nosotros. En ejemplos como este es donde podemos ver que la sintaxis de Python se asemeja bastante al lenguaje natural. Por ejemplo: `de collections importa namedtuple`.\n"
      ],
      "metadata": {
        "id": "4z4XKomauzSg"
      }
    },
    {
      "cell_type": "code",
      "source": [
        "from collections import namedtuple"
      ],
      "metadata": {
        "id": "yGoVL5VmvG5y"
      },
      "execution_count": null,
      "outputs": []
    },
    {
      "cell_type": "markdown",
      "source": [
        "## Pertenencia e Identidad: in, is\n",
        "El uso de `in` nos permite saber si un determinado elemento está en una clase iterable, devolviendo `True` en el caso de que sea cierto.\n"
      ],
      "metadata": {
        "id": "MBzm0yVwvLgF"
      }
    },
    {
      "cell_type": "code",
      "source": [
        "lista = [\"a\", \"b\", \"c\"]\n",
        "print(\"a\" in lista)"
      ],
      "metadata": {
        "id": "TfamAjntvQz6",
        "colab": {
          "base_uri": "https://localhost:8080/"
        },
        "outputId": "148ec82c-e910-4032-e554-e824ba3630b7"
      },
      "execution_count": null,
      "outputs": [
        {
          "output_type": "stream",
          "name": "stdout",
          "text": [
            "True\n"
          ]
        }
      ]
    },
    {
      "cell_type": "markdown",
      "source": [
        "El uso de `is` nos permite saber si dos variables apuntan en realidad al mismo objeto. Por debajo se usa la función `id()` y es importante notar que la igualdad `==` no implica que `is` sea `True`.\n"
      ],
      "metadata": {
        "id": "SdXssTTvvSvm"
      }
    },
    {
      "cell_type": "code",
      "source": [
        "a = [1, 2]\n",
        "b = [1, 2]\n",
        "c = a\n",
        "\n",
        "print('a is b: ', a is b)\n",
        "print('a is c: ', a is c)"
      ],
      "metadata": {
        "id": "r2hlMjcAvbhx",
        "colab": {
          "base_uri": "https://localhost:8080/"
        },
        "outputId": "39af6e53-54e4-4d92-b63f-fe502b4e759c"
      },
      "execution_count": null,
      "outputs": [
        {
          "output_type": "stream",
          "name": "stdout",
          "text": [
            "a is b:  False\n",
            "a is c:  True\n"
          ]
        }
      ]
    },
    {
      "cell_type": "markdown",
      "source": [
        "## Eliminar variables: del\n",
        "El uso de `del` nos permite eliminar una variable del scope, pudiendo resultar útil cuando trabajamos con variables que almacenan gran cantidad de datos. Es una manera explícita de indicar que ya no queremos una variable, pero no olvidemos que Python tiene gargabe collector.\n"
      ],
      "metadata": {
        "id": "IisegEjQveA5"
      }
    },
    {
      "cell_type": "code",
      "source": [
        "a = 10\n",
        "del a\n",
        "try:\n",
        "  print(a)\n",
        "except Exception:\n",
        "  traceback.print_exc()"
      ],
      "metadata": {
        "id": "u2szQyLevkZt",
        "colab": {
          "base_uri": "https://localhost:8080/"
        },
        "outputId": "ba32b331-e59b-4d1a-8ef9-d1e093765be8"
      },
      "execution_count": null,
      "outputs": [
        {
          "output_type": "stream",
          "name": "stderr",
          "text": [
            "Traceback (most recent call last):\n",
            "  File \"<ipython-input-21-e5763c020a47>\", line 4, in <cell line: 3>\n",
            "    print(a)\n",
            "NameError: name 'a' is not defined\n"
          ]
        }
      ]
    },
    {
      "cell_type": "markdown",
      "source": [
        "## Context Managers: with, as\n",
        "El uso de `with` y `as` es muy utilizado a la hora de manejar ficheros, pero en realidad pertenecen a los context managers o gestores de contexto, un concepto algo avanzado.\n"
      ],
      "metadata": {
        "id": "6lDY3qtJvmtF"
      }
    },
    {
      "cell_type": "code",
      "source": [
        "%%writefile fichero.txt\n",
        "Creamos un fichero de pruebas"
      ],
      "metadata": {
        "id": "jqmko-ZTv_dj",
        "colab": {
          "base_uri": "https://localhost:8080/"
        },
        "outputId": "87856a9d-c153-47e0-d7b5-a2508a41c8fa"
      },
      "execution_count": null,
      "outputs": [
        {
          "output_type": "stream",
          "name": "stdout",
          "text": [
            "Overwriting fichero.txt\n"
          ]
        }
      ]
    },
    {
      "cell_type": "code",
      "source": [
        "with open('fichero.txt', 'r') as file:\n",
        "    print(file.read())"
      ],
      "metadata": {
        "id": "ydDsDcuBvrXV",
        "colab": {
          "base_uri": "https://localhost:8080/"
        },
        "outputId": "ba212279-3a32-46bb-dc40-57bb80d643b0"
      },
      "execution_count": null,
      "outputs": [
        {
          "output_type": "stream",
          "name": "stdout",
          "text": [
            "Creamos un fichero de pruebas\n",
            "\n"
          ]
        }
      ]
    },
    {
      "cell_type": "markdown",
      "source": [
        "## Concurrencia: async, await\n",
        "El uso de `async` y `await` nos permite ejecutar procesos de manera concurrente en vez de secuencial. Imaginemos un proceso() que tarda 10 segundos en ejecutarse, ya que realiza una petición a una base de datos que lo bloquea durante ese tiempo. Sin esta herramienta, si quisiéramos ejecutar 3 veces el proceso tardaríamos 30 segundos, ya que por defecto se ejecutan de manera secuencial, hasta que uno no acaba no pasamos al siguiente.\n",
        "\n",
        "Sin embargo, creando una función `async` y usando `await`, podemos paralelizar la ejecución de los procesos, aprovechando el tiempo “muerto” mientras se retorna al await. En el siguiente ejemplo podemos ver como se tarda unos 10 segundos en ejecutar los 3 procesos.\n"
      ],
      "metadata": {
        "id": "rf7E4u2Xvv65"
      }
    },
    {
      "cell_type": "code",
      "source": [
        "import asyncio\n",
        "import nest_asyncio\n",
        "import random\n",
        "\n",
        "nest_asyncio.apply()\n",
        "\n",
        "async def proceso(id_proceso):\n",
        "    print(\"Empieza proceso: \", id_proceso)\n",
        "    if id_proceso % 3 == 0:\n",
        "      # solo se penalizan los procesos múltiplos de 3\n",
        "      print(\"El proceso \", id_proceso, \" es penalizado con 10 segundos de timeout\")\n",
        "      await asyncio.sleep(10)\n",
        "    print(\"\\tAcaba proceso: \", id_proceso, '\\n')\n",
        "\n",
        "async def main():\n",
        "    await asyncio.gather(*[proceso(i) for i in range(0,10)])\n",
        "\n",
        "asyncio.run(main())"
      ],
      "metadata": {
        "colab": {
          "base_uri": "https://localhost:8080/"
        },
        "id": "KuwTz1QZbdF7",
        "outputId": "a384034a-5ce0-4643-f325-7dbe80e44eba"
      },
      "execution_count": null,
      "outputs": [
        {
          "output_type": "stream",
          "name": "stdout",
          "text": [
            "Empieza proceso:  0\n",
            "El proceso  0  es penalizado con 10 segundos de timeout\n",
            "Empieza proceso:  1\n",
            "\tAcaba proceso:  1 \n",
            "\n",
            "Empieza proceso:  2\n",
            "\tAcaba proceso:  2 \n",
            "\n",
            "Empieza proceso:  3\n",
            "El proceso  3  es penalizado con 10 segundos de timeout\n",
            "Empieza proceso:  4\n",
            "\tAcaba proceso:  4 \n",
            "\n",
            "Empieza proceso:  5\n",
            "\tAcaba proceso:  5 \n",
            "\n",
            "Empieza proceso:  6\n",
            "El proceso  6  es penalizado con 10 segundos de timeout\n",
            "Empieza proceso:  7\n",
            "\tAcaba proceso:  7 \n",
            "\n",
            "Empieza proceso:  8\n",
            "\tAcaba proceso:  8 \n",
            "\n",
            "Empieza proceso:  9\n",
            "El proceso  9  es penalizado con 10 segundos de timeout\n",
            "\tAcaba proceso:  0 \n",
            "\n",
            "\tAcaba proceso:  3 \n",
            "\n",
            "\tAcaba proceso:  6 \n",
            "\n",
            "\tAcaba proceso:  9 \n",
            "\n"
          ]
        }
      ]
    }
  ]
}