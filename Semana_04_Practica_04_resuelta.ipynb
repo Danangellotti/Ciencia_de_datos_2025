{
  "nbformat": 4,
  "nbformat_minor": 0,
  "metadata": {
    "colab": {
      "provenance": [],
      "include_colab_link": true
    },
    "kernelspec": {
      "name": "python3",
      "display_name": "Python 3"
    },
    "language_info": {
      "name": "python"
    }
  },
  "cells": [
    {
      "cell_type": "markdown",
      "metadata": {
        "id": "view-in-github",
        "colab_type": "text"
      },
      "source": [
        "<a href=\"https://colab.research.google.com/github/Danangellotti/Ciencia_de_datos_2025/blob/main/Semana_04_Practica_04_resuelta.ipynb\" target=\"_parent\"><img src=\"https://colab.research.google.com/assets/colab-badge.svg\" alt=\"Open In Colab\"/></a>"
      ]
    },
    {
      "cell_type": "markdown",
      "source": [
        "\n",
        "`IMPORTANTE: Los datos deben ser ingresados por el usuario, no pueden ser fijos en variables.`"
      ],
      "metadata": {
        "id": "AuDmIuoWNsbd"
      }
    },
    {
      "cell_type": "markdown",
      "source": [
        "# Ejercicio 1\n",
        "\n",
        "Escribir una función que calcule el área de un círculo.\n"
      ],
      "metadata": {
        "id": "m5PM-2jVH6pw"
      }
    },
    {
      "cell_type": "code",
      "source": [],
      "metadata": {
        "id": "tQrGMC2VLKC-"
      },
      "execution_count": null,
      "outputs": []
    },
    {
      "cell_type": "code",
      "source": [
        "#@title Solución\n",
        "\n",
        "from math import pi\n",
        "\n",
        "def e1_ingreso_dato() -> float:\n",
        "  \"\"\" Ingreso de datos.\n",
        "\n",
        "  Returns:\n",
        "    float: Retorna el valor ingresado.\n",
        "  \"\"\"\n",
        "  return float(input('Ingrese el radio: '))\n",
        "\n",
        "def e1_calculo_area(radio:float) -> float:\n",
        "  \"\"\" Cálculo del área.\n",
        "\n",
        "  Args:\n",
        "    radio (float): Contiene el valor del radio.\n",
        "\n",
        "  Returns:\n",
        "    float: Returna el área de un círculo.\n",
        "  \"\"\"\n",
        "  return pi*pow(radio,2)\n",
        "\n",
        "print(f'El área es: {e1_calculo_area(radio=e1_ingreso_dato()):.2f}')"
      ],
      "metadata": {
        "id": "WZ57pADBLKMW"
      },
      "execution_count": null,
      "outputs": []
    },
    {
      "cell_type": "markdown",
      "source": [
        "# Ejercicio 2\n",
        "\n",
        "Escribir una función que determine si un número es par o impar."
      ],
      "metadata": {
        "id": "UBTZlZCzLKcH"
      }
    },
    {
      "cell_type": "code",
      "source": [],
      "metadata": {
        "id": "6PkuvEDiLM-W"
      },
      "execution_count": null,
      "outputs": []
    },
    {
      "cell_type": "code",
      "source": [
        "#@title Solución\n",
        "\n",
        "\n",
        "def e2_ingreso_dato() -> int:\n",
        "  \"\"\" Ingreso de datos.\n",
        "\n",
        "  Returns:\n",
        "    int: Retorna el valor ingresado.\n",
        "  \"\"\"\n",
        "  return int(input('Ingrese un número: '))\n",
        "\n",
        "def e2_verificar_impar(numero:int) -> bool:\n",
        "  \"\"\" Verifica si el número es par.\n",
        "\n",
        "  Args:\n",
        "    numero (int): Contiene el número a verificar.\n",
        "\n",
        "  Returns:\n",
        "    bool: Retorna True si el número es impar.\n",
        "  \"\"\"\n",
        "  # NOTA: el módulo siempre devuelve los valores 0 o 1\n",
        "  # RECORDAR: bool(0) es False\n",
        "  #           bool(1) es True\n",
        "  # EJEMPLO:\n",
        "  #          numero = 4 -> 4 % 2 = 0 -> bool(0) -> False\n",
        "  #          numero = 5 -> 5 % 2 = 1 -> bool(1) -> True\n",
        "  return numero % 2\n",
        "\n",
        "numero = e2_ingreso_dato()\n",
        "\n",
        "print(f'El número {numero} es {\"IMPAR\" if e2_verificar_impar(numero=numero) else \"PAR\"}')"
      ],
      "metadata": {
        "id": "HNtX2qGsLNDV"
      },
      "execution_count": null,
      "outputs": []
    },
    {
      "cell_type": "markdown",
      "source": [
        "# Ejercicio 3\n",
        "\n",
        "Escribir una función que calcule la distancia entre dos puntos cartesianos.\n",
        "\n",
        "Ayuda: $d = \\sqrt[2]{((x_2-x_1)^2 + (y_2-y_1)^2)}$"
      ],
      "metadata": {
        "id": "ZwYXF0ctLNRn"
      }
    },
    {
      "cell_type": "code",
      "source": [],
      "metadata": {
        "id": "cTLonLGOLQR0"
      },
      "execution_count": null,
      "outputs": []
    },
    {
      "cell_type": "code",
      "source": [
        "#@title Solución\n",
        "\n",
        "def e3_ingreso_dato(coordenada:str) -> float:\n",
        "  \"\"\" Ingreso de datos.\n",
        "\n",
        "  Returns:\n",
        "    float: Retorna el valor ingresado.\n",
        "  \"\"\"\n",
        "  return float(input(f'Ingrese la coordenada {coordenada}: '))\n",
        "\n",
        "def e3_ingreso_punto() -> tuple[float,float]:\n",
        "  \"\"\" Ingreso de los datos de un punto.\n",
        "\n",
        "  Returns:\n",
        "    tuple[float,float]: Retorna una tupla con los valores de las coordenadas.\n",
        "      (x, y)\n",
        "  \"\"\"\n",
        "  return e3_ingreso_dato(coordenada='x'),e3_ingreso_dato(coordenada='y')\n",
        "\n",
        "def e3_calculo_distancia(punto_1:tuple[float,float],\n",
        "                         punto_2:tuple[float,float]) -> float:\n",
        "    \"\"\" Calcula la distancia entre 2 puntos.\n",
        "\n",
        "    Args:\n",
        "      punto_1 (tuple[float,float]): Contiene un tupla con las coordenadas (x, y).\n",
        "      punto_2 (tuple[float,float]): Contiene un tupla con las coordenadas (x, y).\n",
        "\n",
        "    Returns:\n",
        "      float: Retorna el cálculo de la distancia entre los 2 puntos.\n",
        "    \"\"\"\n",
        "    return pow(pow((punto_2[0] - punto_1[0]), 2)\n",
        "              + pow((punto_2[1] - punto_1[1]), 2), .5)\n",
        "punto_1:tuple[float,float] = e3_ingreso_punto()\n",
        "punto_2:tuple[float,float] = e3_ingreso_punto()\n",
        "print(f'La distancia entre los puntos {punto_1} y {punto_2} es {e3_calculo_distancia(punto_1=punto_1, punto_2=punto_2):.3f}')"
      ],
      "metadata": {
        "id": "OfBUZAXJLR6N"
      },
      "execution_count": null,
      "outputs": []
    },
    {
      "cell_type": "markdown",
      "source": [
        "# Ejercicio 4\n",
        "\n",
        "Escribir una función que devuelva el valor máximo y su posición de una lista de números positivos. Se debe desarrollar la función que encuentra el máximo, no se puede utilizar `max`."
      ],
      "metadata": {
        "id": "LYN23adrMuo5"
      }
    },
    {
      "cell_type": "code",
      "source": [],
      "metadata": {
        "id": "8OAbHAJpM3Y0"
      },
      "execution_count": null,
      "outputs": []
    },
    {
      "cell_type": "code",
      "source": [
        "#@title Solución\n",
        "def e4_ingreso_dato(posicion:int) -> float:\n",
        "  \"\"\" Ingreso de datos.\n",
        "\n",
        "  Args:\n",
        "    posicion (int): Contiene la posición que estoy ingresando.\n",
        "\n",
        "  Returns:\n",
        "    float: Retorna el valor ingresado.\n",
        "  \"\"\"\n",
        "  return float(input(f'Ingrese el valor de la posición {posicion} (-1 corta el ingreso de datos): '))\n",
        "\n",
        "def e4_ingreso_datos() -> list[float]:\n",
        "  \"\"\" Ingresa datos hasta que se encuentra un -1.\n",
        "\n",
        "  Returns:\n",
        "    list[float]: Retorna una lista de flotantes.\n",
        "  \"\"\"\n",
        "  lista:list[float] = []\n",
        "  posicion = 1\n",
        "  valor:float = e4_ingreso_dato(posicion=posicion)\n",
        "  while valor != -1:\n",
        "    lista.append(valor)\n",
        "    posicion += 1\n",
        "    valor = e4_ingreso_dato(posicion=posicion)\n",
        "  return lista\n",
        "\n",
        "def e4_encontrar_maximo(lista:list[float]) -> tuple[int,float]:\n",
        "  \"\"\" Busca el mayor número de una lista.\n",
        "\n",
        "  Args:\n",
        "    lista (list[float]): Contiene la lista de números.\n",
        "\n",
        "  Returns:\n",
        "    tuple[int,float]: Retorna una tupla con la posición y el máximo número.\n",
        "  \"\"\"\n",
        "  respuesta:tuple[int,float] = 1,0\n",
        "  for indice,valor in enumerate(lista):\n",
        "    if valor > respuesta[1]:\n",
        "      respuesta = indice+1,valor\n",
        "  return respuesta\n",
        "\n",
        "maximo:tuple[int,float] = e4_encontrar_maximo(lista=e4_ingreso_datos())\n",
        "\n",
        "print(f'El máximo número es {maximo[1]} y se encuentra en la posición {maximo[0]}')"
      ],
      "metadata": {
        "id": "CGt4obPUM3gJ"
      },
      "execution_count": null,
      "outputs": []
    },
    {
      "cell_type": "markdown",
      "source": [
        "# Ejercicio 5\n",
        "\n",
        "Escribir una función que agregue un elemento a una lista. Luego de cada ingreso se debe mostrar la lista completa."
      ],
      "metadata": {
        "id": "DXiPHC9zM3vZ"
      }
    },
    {
      "cell_type": "code",
      "source": [],
      "metadata": {
        "id": "ZnQAD5vCM6sl"
      },
      "execution_count": null,
      "outputs": []
    },
    {
      "cell_type": "code",
      "source": [
        "#@title Solución\n",
        "\n",
        "def e5_ingreso_dato(posicion:int) -> float:\n",
        "  \"\"\" Ingreso de datos.\n",
        "\n",
        "  Args:\n",
        "    posicion (int): Contiene la posición que estoy ingresando.\n",
        "\n",
        "  Returns:\n",
        "    float: Retorna el valor ingresado.\n",
        "  \"\"\"\n",
        "  return float(input(f'Ingrese el valor de la posición {posicion} (-1 corta el ingreso de datos): '))\n",
        "\n",
        "def e5_agregar_valor(lista:list[float], valor:float):\n",
        "  \"\"\" Agrega un valor a una lista.\n",
        "\n",
        "  Args:\n",
        "    lista (list[float]): Contiene la lista de números.\n",
        "    valor (float): Contiene el valor a agregar.\n",
        "\n",
        "  \"\"\"\n",
        "  lista.append(valor)\n",
        "\n",
        "def e5_ingreso_datos():\n",
        "  \"\"\" Ingresa datos hasta que se encuentra un -1.\n",
        "  \"\"\"\n",
        "  lista:list[float] = []\n",
        "  posicion = 1\n",
        "  valor:float = e5_ingreso_dato(posicion=posicion)\n",
        "  while valor != -1:\n",
        "    e5_agregar_valor(lista=lista, valor=valor)\n",
        "    print('La lista contiene:', lista)\n",
        "    posicion += 1\n",
        "    valor = e5_ingreso_dato(posicion=posicion)\n",
        "\n",
        "e5_ingreso_datos()"
      ],
      "metadata": {
        "id": "9SqDifxNM6zd"
      },
      "execution_count": null,
      "outputs": []
    },
    {
      "cell_type": "markdown",
      "source": [
        "# Ejercicio 6\n",
        "\n",
        "Completa la función `e6_funcion` para que imprima la cantidad variables que recibe como parámetros."
      ],
      "metadata": {
        "id": "ZSMTQnkjNWIH"
      }
    },
    {
      "cell_type": "code",
      "source": [
        "def e6_ingreso_dato(posicion:int) -> float:\n",
        "  \"\"\" Ingreso de datos.\n",
        "\n",
        "  Args:\n",
        "    posicion (int): Contiene la posición que estoy ingresando.\n",
        "\n",
        "  Returns:\n",
        "    float: Retorna el valor ingresado.\n",
        "  \"\"\"\n",
        "  return float(input(f'Ingrese el valor de la posición {posicion} (-1 corta el ingreso de datos): '))\n",
        "\n",
        "def e6_ingreso_datos() -> list[float]:\n",
        "  \"\"\" Ingresa datos hasta que se encuentra un -1.\n",
        "  \"\"\"\n",
        "  lista:list[float] = []\n",
        "  posicion = 1\n",
        "  valor:float = e6_ingreso_dato(posicion=posicion)\n",
        "  while valor != -1:\n",
        "    lista.append(valor)\n",
        "    posicion += 1\n",
        "    valor = e6_ingreso_dato(posicion=posicion)\n",
        "  return lista\n",
        "\n",
        "def e6_funcion(*args:float):\n",
        "  \"\"\" Función que muestra por pantalla la cantidad de valores que recibe.\n",
        "\n",
        "  Args:\n",
        "    args (float): Valores flotantes.\n",
        "  \"\"\"\n",
        "  ### COMPLETAR\n",
        "\n",
        "e6_funcion(*e6_ingreso_datos())"
      ],
      "metadata": {
        "id": "wCjJlQYwN03F"
      },
      "execution_count": null,
      "outputs": []
    },
    {
      "cell_type": "code",
      "source": [
        "#@title Solución\n",
        "def e6_ingreso_dato(posicion:int) -> float:\n",
        "  \"\"\" Ingreso de datos.\n",
        "\n",
        "  Args:\n",
        "    posicion (int): Contiene la posición que estoy ingresando.\n",
        "\n",
        "  Returns:\n",
        "    float: Retorna el valor ingresado.\n",
        "  \"\"\"\n",
        "  return float(input(f'Ingrese el valor de la posición {posicion} (-1 corta el ingreso de datos): '))\n",
        "\n",
        "def e6_ingreso_datos() -> list[float]:\n",
        "  \"\"\" Ingresa datos hasta que se encuentra un -1.\n",
        "  \"\"\"\n",
        "  lista:list[float] = []\n",
        "  posicion = 1\n",
        "  valor:float = e6_ingreso_dato(posicion=posicion)\n",
        "  while valor != -1:\n",
        "    lista.append(valor)\n",
        "    posicion += 1\n",
        "    valor = e6_ingreso_dato(posicion=posicion)\n",
        "  return lista\n",
        "\n",
        "def e6_funcion(*args:float):\n",
        "  \"\"\" Función que muestra por pantalla la cantidad de valores que recibe.\n",
        "\n",
        "  Args:\n",
        "    args (float): Valores flotantes.\n",
        "  \"\"\"\n",
        "  ### COMPLETAR\n",
        "  print(f'La función recibio {len(args) + 1} parámetros')\n",
        "\n",
        "e6_funcion(*e6_ingreso_datos())"
      ],
      "metadata": {
        "id": "9HBrDXoVN085"
      },
      "execution_count": null,
      "outputs": []
    },
    {
      "cell_type": "markdown",
      "source": [
        "# Ejercicio 7\n",
        "\n",
        "Escribir una función que calcule la suma de una cantidad variable de números. La función no puede recibir una lista y no se puede utilizar la función `sum`."
      ],
      "metadata": {
        "id": "kuRwuzonM_rk"
      }
    },
    {
      "cell_type": "code",
      "source": [],
      "metadata": {
        "id": "gjd90w54NVx_"
      },
      "execution_count": null,
      "outputs": []
    },
    {
      "cell_type": "code",
      "source": [
        "#@title Solución\n",
        "\n",
        "\n",
        "def e7_ingreso_dato(posicion:int) -> float:\n",
        "  \"\"\" Ingreso de datos.\n",
        "\n",
        "  Args:\n",
        "    posicion (int): Contiene la posición que estoy ingresando.\n",
        "\n",
        "  Returns:\n",
        "    float: Retorna el valor ingresado.\n",
        "  \"\"\"\n",
        "  return float(input(f'Ingrese el valor de la posición {posicion} (-1 corta el ingreso de datos): '))\n",
        "\n",
        "def e7_ingreso_datos() -> list[float]:\n",
        "  \"\"\" Ingresa datos hasta que se encuentra un -1.\n",
        "  \"\"\"\n",
        "  lista:list[float] = []\n",
        "  posicion = 1\n",
        "  valor:float = e7_ingreso_dato(posicion=posicion)\n",
        "  while valor != -1:\n",
        "    lista.append(valor)\n",
        "    posicion += 1\n",
        "    valor = e7_ingreso_dato(posicion=posicion)\n",
        "  return lista\n",
        "\n",
        "def e7_sumar(*args:float) -> float:\n",
        "  \"\"\" Función que suma valores.\n",
        "\n",
        "  Args:\n",
        "    args (float): Valores flotantes.\n",
        "\n",
        "  Returns:\n",
        "    float: Retorna la suma de los valores.\n",
        "  \"\"\"\n",
        "  suma:float = 0\n",
        "  for valor in args:\n",
        "    suma += valor\n",
        "  return suma\n",
        "\n",
        "valores:list[float] = e7_ingreso_datos()\n",
        "print(f'La suma de la lista\\n{valores}\\nes: {e7_sumar(*valores)}')"
      ],
      "metadata": {
        "id": "intP5_rvNV5n"
      },
      "execution_count": null,
      "outputs": []
    },
    {
      "cell_type": "markdown",
      "source": [
        "# Ejercicio 8\n",
        "\n",
        "Ejercutar el siguiente código con las siguientes secuencias y anotar que pasa en cada una.\n",
        "\n",
        "Para cada secuencia responder:\n",
        "\n",
        "> ¿Qué sucedió?\n",
        "\n",
        "> Se mostraron los valores?\n",
        "\n",
        "> Porqué?\n",
        "\n",
        "> Comó lo podría solucionar?"
      ],
      "metadata": {
        "id": "4gV1TSkzgVow"
      }
    },
    {
      "cell_type": "code",
      "source": [
        "\n",
        "def e8_ingreso_dato(posicion:int, corte:str = '') -> float:\n",
        "  \"\"\" Ingreso de datos.\n",
        "\n",
        "  Args:\n",
        "    posicion (int): Contiene la posición que estoy ingresando.\n",
        "    corte (str): Contiene el mensaje de corte. Defaults to ''.\n",
        "\n",
        "  Returns:\n",
        "    float: Retorna el valor ingresado.\n",
        "  \"\"\"\n",
        "  return float(input(f'Ingrese un número de la posición {posicion}{corte}: '))\n",
        "\n",
        "def e8_ingreso_nombre(posicion:int) -> str:\n",
        "  \"\"\" Ingreso de nombres de variables.\n",
        "\n",
        "  Args:\n",
        "    posicion (int): Contiene la posición que estoy ingresando.\n",
        "\n",
        "  Returns:\n",
        "    float: Retorna el nombre de una variable.\n",
        "  \"\"\"\n",
        "  return input(f'Ingrese el nombre de la variable en la posición {posicion} (enter corta el ingreso de datos): ').strip()\n",
        "\n",
        "def e8_ingreso_datos() -> list:\n",
        "  \"\"\" Ingresa datos hasta que se encuentra un -1.\n",
        "  \"\"\"\n",
        "  lista:list = []\n",
        "  posicion = 1\n",
        "  valor:float = e8_ingreso_dato(posicion=posicion, corte=' (-1 corta el ingreso de datos)')\n",
        "  while valor != -1:\n",
        "    lista.append(valor)\n",
        "    posicion += 1\n",
        "    valor = e8_ingreso_dato(posicion=posicion, corte=' (-1 corta el ingreso de datos)')\n",
        "  return lista\n",
        "\n",
        "def e8_ingreso_datos_nombre() -> dict:\n",
        "  \"\"\" Ingresa datos hasta que se encuentra un -1.\n",
        "  \"\"\"\n",
        "  diccionario:dict = {}\n",
        "  posicion = 1\n",
        "  variable:str = e8_ingreso_nombre(posicion=posicion)\n",
        "  while variable != '':\n",
        "    valor:float = e8_ingreso_dato(posicion=posicion)\n",
        "    diccionario[variable] = valor\n",
        "    posicion += 1\n",
        "    variable = e8_ingreso_nombre(posicion=posicion)\n",
        "  return diccionario\n",
        "\n",
        "def e8_funcion(par_1, par_2, par_3):\n",
        "  \"\"\" Función que recibe valores.\n",
        "\n",
        "  Args:\n",
        "    par_1: Parámetro 1.\n",
        "    par_2: Parámetro 2.\n",
        "    par_3: Parámetro 3.\n",
        "  \"\"\"\n",
        "  print(f'par_1 = {par_1}')\n",
        "  print(f'par_2 = {par_2}')\n",
        "  print(f'par_3 = {par_3}')\n"
      ],
      "metadata": {
        "id": "TBMm5yN_g070"
      },
      "execution_count": null,
      "outputs": []
    },
    {
      "cell_type": "markdown",
      "source": [
        "### Secuencia 1\n",
        "\n",
        "Ingresar los valores:\n",
        "\n",
        "| Valor |\n",
        "| --- |\n",
        "| 5 |\n",
        "| 8 |\n",
        "| 1 |\n",
        "| -1 |"
      ],
      "metadata": {
        "id": "D0QC6oMnimKL"
      }
    },
    {
      "cell_type": "code",
      "source": [
        "e8_funcion(*e8_ingreso_datos())"
      ],
      "metadata": {
        "id": "TbItGy2QicBO"
      },
      "execution_count": null,
      "outputs": []
    },
    {
      "cell_type": "markdown",
      "source": [
        "### Secuencia 2\n",
        "\n",
        "Ingresar los valores:\n",
        "\n",
        "| Valor |\n",
        "| --- |\n",
        "| 5 |\n",
        "| 8 |\n",
        "| -1 |"
      ],
      "metadata": {
        "id": "Z8BHTrD1lErc"
      }
    },
    {
      "cell_type": "code",
      "source": [
        "e8_funcion(*e8_ingreso_datos())"
      ],
      "metadata": {
        "id": "Ff9QhBtJlJzb"
      },
      "execution_count": null,
      "outputs": []
    },
    {
      "cell_type": "markdown",
      "source": [
        "### Secuencia 3\n",
        "\n",
        "Ingresar los valores:\n",
        "\n",
        "| Valor |\n",
        "| --- |\n",
        "| 5 |\n",
        "| 8 |\n",
        "| 1 |\n",
        "| 3 |\n",
        "| -1 |"
      ],
      "metadata": {
        "id": "wQY8HjDDlsmN"
      }
    },
    {
      "cell_type": "code",
      "source": [
        "e8_funcion(*e8_ingreso_datos())"
      ],
      "metadata": {
        "id": "66pxQxYBkWKn"
      },
      "execution_count": null,
      "outputs": []
    },
    {
      "cell_type": "markdown",
      "source": [
        "### Secuencia 4\n",
        "\n",
        "Ingresar los valores:\n",
        "\n",
        "| Variable | Valor |\n",
        "| --- | --- |\n",
        "| par_1 | 5 |\n",
        "| par_2 | 8 |\n",
        "| par_3 | 1 |\n",
        "| vacio o persionar enter |  |"
      ],
      "metadata": {
        "id": "2V38T5H6i-cb"
      }
    },
    {
      "cell_type": "code",
      "source": [
        "e8_funcion(**e8_ingreso_datos_nombre())"
      ],
      "metadata": {
        "id": "0zJG2XZMmeaC"
      },
      "execution_count": null,
      "outputs": []
    },
    {
      "cell_type": "markdown",
      "source": [
        "### Secuencia 5\n",
        "\n",
        "Ingresar los valores:\n",
        "\n",
        "| Variable | Valor |\n",
        "| --- | --- |\n",
        "| par_1 | 5 |\n",
        "| par_2 | 8 |\n",
        "| vacio o persionar enter |  |"
      ],
      "metadata": {
        "id": "eImIwFj7mFF8"
      }
    },
    {
      "cell_type": "code",
      "source": [
        "e8_funcion(**e8_ingreso_datos_nombre())"
      ],
      "metadata": {
        "id": "sXs8BEg1l3Tt"
      },
      "execution_count": null,
      "outputs": []
    },
    {
      "cell_type": "markdown",
      "source": [
        "### Secuencia 6\n",
        "\n",
        "Ingresar los valores:\n",
        "\n",
        "| Variable | Valor |\n",
        "| --- | --- |\n",
        "| par_1 | 5 |\n",
        "| par_2 | 8 |\n",
        "| par_3 | 1 |\n",
        "| par_4 | 2 |\n",
        "| vacio o persionar enter |  |"
      ],
      "metadata": {
        "id": "FkKEwujVmQ13"
      }
    },
    {
      "cell_type": "code",
      "source": [
        "e8_funcion(**e8_ingreso_datos_nombre())"
      ],
      "metadata": {
        "id": "eFnnpShWmSBX"
      },
      "execution_count": null,
      "outputs": []
    },
    {
      "cell_type": "markdown",
      "source": [
        "### Secuencia 7\n",
        "\n",
        "Ingresar los valores:\n",
        "\n",
        "| Variable | Valor |\n",
        "| --- | --- |\n",
        "| par_1 | 5 |\n",
        "| par_2 | 8 |\n",
        "| par_4 | 1 |\n",
        "| vacio o persionar enter |  |"
      ],
      "metadata": {
        "id": "FOJtK8lZmpAu"
      }
    },
    {
      "cell_type": "code",
      "source": [
        "e8_funcion(**e8_ingreso_datos_nombre())"
      ],
      "metadata": {
        "id": "ntOrDZZCmpO2"
      },
      "execution_count": null,
      "outputs": []
    },
    {
      "cell_type": "code",
      "source": [],
      "metadata": {
        "id": "z3z9H2R-nnDF"
      },
      "execution_count": null,
      "outputs": []
    }
  ]
}