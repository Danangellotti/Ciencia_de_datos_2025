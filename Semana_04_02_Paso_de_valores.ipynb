{
  "nbformat": 4,
  "nbformat_minor": 0,
  "metadata": {
    "colab": {
      "provenance": [],
      "include_colab_link": true
    },
    "kernelspec": {
      "name": "python3",
      "display_name": "Python 3"
    },
    "language_info": {
      "name": "python"
    }
  },
  "cells": [
    {
      "cell_type": "markdown",
      "metadata": {
        "id": "view-in-github",
        "colab_type": "text"
      },
      "source": [
        "<a href=\"https://colab.research.google.com/github/Danangellotti/Ciencia_de_datos_2025/blob/main/Semana_04_02_Paso_de_valores.ipynb\" target=\"_parent\"><img src=\"https://colab.research.google.com/assets/colab-badge.svg\" alt=\"Open In Colab\"/></a>"
      ]
    },
    {
      "cell_type": "markdown",
      "source": [
        "# Paso por valor y referencia\n",
        "En muchos lenguajes de programación existen los conceptos de paso por valor y por referencia que aplican a la hora de como trata una función a los parámetros que se le pasan como entrada. Su comportamiento es el siguiente:\n",
        "\n",
        "* Si usamos un parámetro pasado por valor, se creará una copia local de la variable, lo que implica que cualquier modificación sobre la misma no tendrá efecto sobre la original.\n",
        "* Con una variable pasada como referencia, se actuará directamente sobre la variable pasada, por lo que las modificaciones afectarán a la variable original.\n",
        "\n",
        "En Python las cosas son un poco distintas, y el comportamiento estará definido por el tipo de variable con la que estamos tratando. Veamos un ejemplo de paso por valor.\n",
        "\n"
      ],
      "metadata": {
        "id": "gNTx0bF2Cto_"
      }
    },
    {
      "cell_type": "code",
      "source": [
        "x:int = 10\n",
        "print('Valor de la variable x original: ', x)\n",
        "def funcion(entrada:int):\n",
        "    entrada = 0\n",
        "funcion(x)\n",
        "\n",
        "print('En este caso la variable x no se ve afectada por la función: ', x)"
      ],
      "metadata": {
        "id": "xBxWeN9TKZa-",
        "colab": {
          "base_uri": "https://localhost:8080/"
        },
        "outputId": "eee95e40-270a-42a6-c926-3bab682652ed"
      },
      "execution_count": null,
      "outputs": [
        {
          "output_type": "stream",
          "name": "stdout",
          "text": [
            "Valor de la variable x original:  10\n",
            "En este caso la variable x no se ve afectada por la función:  10\n"
          ]
        }
      ]
    },
    {
      "cell_type": "markdown",
      "source": [
        "Inicializamos la variable `x` a `10` y se la pasamos a `funcion`. Dentro de la función hacemos que la variable tome el valor de `0`. Dado que Python trata a los `int` como pasados por valor, dentro de la función se crea una copia local de `x`, por lo que la variable original no es modificada.\n",
        "\n",
        "No pasa lo mismo si por ejemplo `x` es una lista como en el siguiente ejemplo.\n",
        "\n",
        "En este caso Python lo trata como si estuviese pasada por referencia, lo que hace que se modifique la variable original. La variable original `x` ha sido modificada."
      ],
      "metadata": {
        "id": "ionEDskFKiu8"
      }
    },
    {
      "cell_type": "code",
      "source": [
        "x:list[int] = [10, 20, 30]\n",
        "print('Valor de la variable x original: ', x)\n",
        "\n",
        "def funcion(entrada:list[int]):\n",
        "    entrada.append(40)\n",
        "\n",
        "funcion(x)\n",
        "print('En este caso la variable x no se ve afectada por la función: ', x)"
      ],
      "metadata": {
        "id": "LJQ9sM_oKjOg",
        "colab": {
          "base_uri": "https://localhost:8080/"
        },
        "outputId": "570c9d83-9f8b-4e5c-e845-08df46eab7b6"
      },
      "execution_count": null,
      "outputs": [
        {
          "output_type": "stream",
          "name": "stdout",
          "text": [
            "Valor de la variable x original:  [10, 20, 30]\n",
            "En este caso la variable x no se ve afectada por la función:  [10, 20, 30, 40]\n"
          ]
        }
      ]
    },
    {
      "cell_type": "markdown",
      "source": [
        "El ejemplo anterior nos podría llevar a pensar que si en vez de añadir un elemento a `x`, hacemos `x=[]`, estaríamos destruyendo la lista original. Sin embargo esto no es cierto.\n",
        "\n"
      ],
      "metadata": {
        "id": "GlJrql--KsPU"
      }
    },
    {
      "cell_type": "code",
      "source": [
        "x:list[int] = [10, 20, 30]\n",
        "print('Valor de la variable x original: ', x)\n",
        "\n",
        "def funcion(entrada:list[int]):\n",
        "    entrada = []\n",
        "\n",
        "funcion(x)\n",
        "print('En este caso la variable x no se ve afectada por la función: ', x)"
      ],
      "metadata": {
        "id": "kLikp6yaKtdo",
        "colab": {
          "base_uri": "https://localhost:8080/"
        },
        "outputId": "7110f181-64d8-495b-eea9-42925fb01908"
      },
      "execution_count": null,
      "outputs": [
        {
          "output_type": "stream",
          "name": "stdout",
          "text": [
            "Valor de la variable x original:  [10, 20, 30]\n",
            "En este caso la variable x no se ve afectada por la función:  [10, 20, 30]\n"
          ]
        }
      ]
    },
    {
      "cell_type": "markdown",
      "source": [
        "Una forma muy útil de saber lo que pasa por debajo de Python, es haciendo uso de la función `id`. Esta función nos devuelve un identificador único para cada objeto. Volviendo al primer ejemplo podemos ver como los objetos a los que “apuntan” `x` de entrada y salida son distintos."
      ],
      "metadata": {
        "id": "fxgxuknTK2eZ"
      }
    },
    {
      "cell_type": "code",
      "source": [
        "x:int = 10\n",
        "print('Valor de la variable x original: ', x, ' - el id es: ', id(x))\n",
        "def funcion(entrada:int):\n",
        "    entrada = 0\n",
        "    print('Valor de la variable entrada original: ', entrada, ' - el id es: ', id(entrada))\n",
        "\n",
        "funcion(x)"
      ],
      "metadata": {
        "id": "fRzfaJ9DK36_",
        "colab": {
          "base_uri": "https://localhost:8080/"
        },
        "outputId": "93e1211d-b04f-4063-f076-3fafe76c18bc"
      },
      "execution_count": null,
      "outputs": [
        {
          "output_type": "stream",
          "name": "stdout",
          "text": [
            "Valor de la variable x original:  10  - el id es:  134492261433872\n",
            "Valor de la variable entrada original:  0  - el id es:  134492261433552\n"
          ]
        }
      ]
    },
    {
      "cell_type": "markdown",
      "source": [
        "Sin embargo si hacemos lo mismo cuando la variable de entrada es una lista, podemos ver que en este caso el objeto con el que se trabaja dentro de la función es el mismo que tenemos fuera."
      ],
      "metadata": {
        "id": "1eb6IdX1K9Qf"
      }
    },
    {
      "cell_type": "code",
      "source": [
        "x:list[int] = [10, 20, 30]\n",
        "print('Valor de la variable x original: ', x, ' - el id es: ', id(x))\n",
        "def funcion(entrada:list[int]):\n",
        "    entrada.append(40)\n",
        "    print('Valor de la variable entrada original: ', entrada, ' - el id es: ', id(entrada))\n",
        "\n",
        "funcion(x)"
      ],
      "metadata": {
        "id": "EqOAHXbnK_35",
        "colab": {
          "base_uri": "https://localhost:8080/"
        },
        "outputId": "1b3703ac-2289-478e-bae6-cf851e230c7d"
      },
      "execution_count": null,
      "outputs": [
        {
          "output_type": "stream",
          "name": "stdout",
          "text": [
            "Valor de la variable x original:  [10, 20, 30]  - el id es:  134491830437824\n",
            "Valor de la variable entrada original:  [10, 20, 30, 40]  - el id es:  134491830437824\n"
          ]
        }
      ]
    },
    {
      "cell_type": "code",
      "source": [
        "x:list[int] = [10, 20, 30]\n",
        "print('Valor de la variable x original: ', x, ' - el id es: ', id(x))\n",
        "\n",
        "def funcion(entrada:list[int]):\n",
        "    entrada = []\n",
        "    print('Valor de la variable entrada original: ', entrada, ' - el id es: ', id(entrada))\n",
        "\n",
        "funcion(x)\n",
        "print('En este caso la variable x no se ve afectada por la función: ', x, ' - el id es: ', id(x))"
      ],
      "metadata": {
        "colab": {
          "base_uri": "https://localhost:8080/"
        },
        "id": "kQ5nmhDfiQoj",
        "outputId": "00f73cd6-5827-407e-c63f-fc0b97a3ef6b"
      },
      "execution_count": null,
      "outputs": [
        {
          "output_type": "stream",
          "name": "stdout",
          "text": [
            "Valor de la variable x original:  [10, 20, 30]  - el id es:  134491830082496\n",
            "Valor de la variable entrada original:  []  - el id es:  134491830675648\n",
            "En este caso la variable x no se ve afectada por la función:  [10, 20, 30]  - el id es:  134491830082496\n"
          ]
        }
      ]
    },
    {
      "cell_type": "code",
      "source": [],
      "metadata": {
        "id": "ddEkzvgeilJz"
      },
      "execution_count": null,
      "outputs": []
    }
  ]
}