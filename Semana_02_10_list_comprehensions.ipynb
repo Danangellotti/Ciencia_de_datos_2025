{
  "nbformat": 4,
  "nbformat_minor": 0,
  "metadata": {
    "colab": {
      "provenance": [],
      "include_colab_link": true
    },
    "kernelspec": {
      "name": "python3",
      "display_name": "Python 3"
    },
    "language_info": {
      "name": "python"
    }
  },
  "cells": [
    {
      "cell_type": "markdown",
      "metadata": {
        "id": "view-in-github",
        "colab_type": "text"
      },
      "source": [
        "<a href=\"https://colab.research.google.com/github/Danangellotti/Ciencia_de_datos_2025/blob/main/Semana_02_10_list_comprehensions.ipynb\" target=\"_parent\"><img src=\"https://colab.research.google.com/assets/colab-badge.svg\" alt=\"Open In Colab\"/></a>"
      ]
    },
    {
      "cell_type": "markdown",
      "source": [
        "# List comprehensions\n",
        "Una de las principales ventajas de Python es que una misma funcionalidad puede ser escrita de maneras muy diferentes, ya que su sintaxis es muy rica en lo que se conoce como expresiones idiomáticas o idiomatic expressions. Las list comprehension o comprensión de listas son una de ellas.\n",
        "\n",
        "Vayamos al grano, las list comprehension nos permiten crear listas de elementos en una sola línea de código.\n",
        "\n",
        "Por ejemplo, podemos crear una lista con los cuadrados de los primeros 5 números de la siguiente forma"
      ],
      "metadata": {
        "id": "iX4vq5_OGQtD"
      }
    },
    {
      "cell_type": "code",
      "execution_count": null,
      "metadata": {
        "id": "NARptHuiGIy_",
        "colab": {
          "base_uri": "https://localhost:8080/"
        },
        "outputId": "1c425efb-7a79-4264-f83c-616caacc04aa"
      },
      "outputs": [
        {
          "output_type": "stream",
          "name": "stdout",
          "text": [
            "Lista de cuadrados:  [0, 1, 4, 9, 16]\n"
          ]
        }
      ],
      "source": [
        "cuadrados = [i**2 for i in range(5)]\n",
        "print('Lista de cuadrados: ', cuadrados)"
      ]
    },
    {
      "cell_type": "markdown",
      "source": [
        "De no existir, podríamos hacer lo mismo de la siguiente forma, pero necesitamos alguna que otra línea más de código."
      ],
      "metadata": {
        "id": "TP-SAq8OGUGC"
      }
    },
    {
      "cell_type": "code",
      "source": [
        "cuadrados = []\n",
        "for i in range(5):\n",
        "    cuadrados.append(i**2)\n",
        "print('Lista de cuadrados: ', cuadrados)"
      ],
      "metadata": {
        "id": "k8zvCCfOGVxa",
        "colab": {
          "base_uri": "https://localhost:8080/"
        },
        "outputId": "9db8f90e-98ec-4d9f-b7c3-9136c0927304"
      },
      "execution_count": null,
      "outputs": [
        {
          "output_type": "stream",
          "name": "stdout",
          "text": [
            "Lista de cuadrados:  [0, 1, 4, 9, 16]\n"
          ]
        }
      ]
    },
    {
      "cell_type": "markdown",
      "source": [
        "El resultado es el mismo, pero resulta menos claro. Antes de continuar, veamos la sintaxis general de las comprensiones de listas.\n",
        "\n",
        "```\n",
        "lista = [expresión for elemento in iterable]\n",
        "```\n",
        "\n",
        "Es decir, por un lado tenemos el `for elemento in iterable`, que itera un determinado iterable y “almacena” cada uno de los elementos en `elemento` como vimos en la explicación del `for`. Por otro lado, tenemos la `expresión`, que es lo que será añadido a la lista en cada iteración.\n",
        "\n",
        "La `expresión` puede ser una operación como hemos visto anteriormente i**2, pero también puede ser un valor constante o una sentencia anidada pero se debe escribir en una sola línea y debe ser un valor o conjunto de valores.\n",
        "\n",
        "El siguiente ejemplo genera una lista de cinco unos."
      ],
      "metadata": {
        "id": "LeN-VdoSGaFE"
      }
    },
    {
      "cell_type": "code",
      "source": [
        "unos = [1 for i in range(5)]\n",
        "print('Lista de unos: ', unos)"
      ],
      "metadata": {
        "id": "2ydPrpWeGeBX",
        "colab": {
          "base_uri": "https://localhost:8080/"
        },
        "outputId": "069a3816-92ef-4006-b658-16486f9830cc"
      },
      "execution_count": null,
      "outputs": [
        {
          "output_type": "stream",
          "name": "stdout",
          "text": [
            "Lista de unos:  [1, 1, 1, 1, 1]\n"
          ]
        }
      ]
    },
    {
      "cell_type": "markdown",
      "source": [
        "La expresión también puede ser una llamada a una función. Se podría escribir el ejemplo anterior del cálculo de cuadrados de la siguiente manera."
      ],
      "metadata": {
        "id": "oP_ajxQFGfTX"
      }
    },
    {
      "cell_type": "code",
      "source": [
        "def eleva_al_2(i):\n",
        "    return i**2\n",
        "\n",
        "cuadrados = [eleva_al_2(i) for i in range(5)]\n",
        "print('Lista de cuadrados: ', cuadrados)"
      ],
      "metadata": {
        "id": "wL3fYqf1Ggf_",
        "colab": {
          "base_uri": "https://localhost:8080/"
        },
        "outputId": "24aa73a4-0aac-4a45-d87e-4dd17efe0ed5"
      },
      "execution_count": null,
      "outputs": [
        {
          "output_type": "stream",
          "name": "stdout",
          "text": [
            "Lista de cuadrados:  [0, 1, 4, 9, 16]\n"
          ]
        }
      ]
    },
    {
      "cell_type": "markdown",
      "source": [
        "Como puedes observar, las posibilidades son bastante amplias. Cualquier elemento que sea iterable puede ser usado con las list comprehensions. Anteriormente hemos iterado range() pero podemos hacer lo mismo para una lista. En el siguiente ejemplo vemos como dividir todos los números de una lista entre 10."
      ],
      "metadata": {
        "id": "QcgQG9lKGhuK"
      }
    },
    {
      "cell_type": "code",
      "source": [
        "lista = [10, 20, 30, 40 , 50]\n",
        "divididos = [i/10 for i in lista]\n",
        "print('Lista de valores divididos: ', divididos)"
      ],
      "metadata": {
        "id": "R7eC8xMEGi4A",
        "colab": {
          "base_uri": "https://localhost:8080/"
        },
        "outputId": "3b5043f7-748e-4f6f-c00e-98839a992e4e"
      },
      "execution_count": null,
      "outputs": [
        {
          "output_type": "stream",
          "name": "stdout",
          "text": [
            "Lista de valores divididos:  [1.0, 2.0, 3.0, 4.0, 5.0]\n"
          ]
        }
      ]
    },
    {
      "cell_type": "markdown",
      "source": [
        "## Añadiendo condicionales\n",
        "En el apartado anterior hemos visto como modificar todos los elementos de un iterable (como una lista) de diferentes maneras. La primera elevando cada elemento al cuadrado, y la segunda dividiendo cada elemento por diez.\n",
        "\n",
        "Pero, ¿y si quisiéramos realizar la operación sobre el elemento sólo si una determinada condición se cumple? Pues tenemos buenas noticias, porque es posible añadir un condicional `if`. La expresión genérica sería la siguiente.\n",
        "\n",
        "```\n",
        "lista = [expresión for elemento in iterable if condición]\n",
        "```\n",
        "\n",
        "Por lo tanto la expresión sólo se aplicará al elemento si se cumple la condición. Veamos un ejemplo con una frase, de la que queremos saber el número de erres que tiene."
      ],
      "metadata": {
        "id": "9Rysq-35Gkfy"
      }
    },
    {
      "cell_type": "code",
      "source": [
        "frase = \"El perro de san roque no tiene rabo\"\n",
        "erres = [i for i in frase if i == 'r']\n",
        "print('Posee la cantidad de ', len(erres), ' r')"
      ],
      "metadata": {
        "id": "In6W5q0GGoXB",
        "colab": {
          "base_uri": "https://localhost:8080/"
        },
        "outputId": "62d2c1f6-2daf-4472-8cb6-af6846894ab5"
      },
      "execution_count": null,
      "outputs": [
        {
          "output_type": "stream",
          "name": "stdout",
          "text": [
            "Posee la cantidad de  4  r\n"
          ]
        }
      ]
    },
    {
      "cell_type": "markdown",
      "source": [
        "De esta forma podemos agregar una `expresión` a la lista en caso de que se cumpla la condición del `if`.\n",
        "\n",
        "Por otro lado podemos utilizar el `if` como una `expresión` y en este caso asignaremos un valor u otro dependiendo de la condición. Veamos el ejemplo donde reemplazamos las erre por un `_`."
      ],
      "metadata": {
        "id": "SbfPYqIEU6LV"
      }
    },
    {
      "cell_type": "code",
      "source": [
        "frase = \"El perro de san roque no tiene rabo\"\n",
        "erres_ = [i if i != 'r' else \"_\" for i in frase]\n",
        "print('La nueva lista es: \\n', erres_)\n"
      ],
      "metadata": {
        "colab": {
          "base_uri": "https://localhost:8080/"
        },
        "id": "6-osjFp1RDoY",
        "outputId": "a21c8538-5079-4de5-8c73-34971460d553"
      },
      "execution_count": null,
      "outputs": [
        {
          "output_type": "stream",
          "name": "stdout",
          "text": [
            "La nueva lista es: \n",
            " ['E', 'l', ' ', 'p', 'e', '_', '_', 'o', ' ', 'd', 'e', ' ', 's', 'a', 'n', ' ', '_', 'o', 'q', 'u', 'e', ' ', 'n', 'o', ' ', 't', 'i', 'e', 'n', 'e', ' ', '_', 'a', 'b', 'o']\n"
          ]
        }
      ]
    },
    {
      "cell_type": "markdown",
      "source": [
        "## Sets comprehension\n",
        "\n",
        "Las set comprehensions son muy similares a las listas que hemos visto con anterioridad. La única diferencia es que debemos cambiar los `[]` por `{}`. Como resulta evidente, dado que los `set` no permiten duplicados, si intentamos añadir un elemento que ya existe en el `set`, simplemente no se añadirá."
      ],
      "metadata": {
        "id": "5yjLRc40GsoA"
      }
    },
    {
      "cell_type": "code",
      "source": [
        "frase = \"El perro de san roque no tiene rabo\"\n",
        "mi_set = {i for i in frase if i == \"r\"}\n",
        "print('Posee la cantidad de ', len(mi_set), ' r')"
      ],
      "metadata": {
        "id": "ulZUDeYaGvRq",
        "colab": {
          "base_uri": "https://localhost:8080/"
        },
        "outputId": "1bb1c589-eb5a-4daf-f70e-73995f8563e4"
      },
      "execution_count": null,
      "outputs": [
        {
          "output_type": "stream",
          "name": "stdout",
          "text": [
            "Posee la cantidad de  1  r\n"
          ]
        }
      ]
    },
    {
      "cell_type": "markdown",
      "source": [
        "## Dictionary comprehension\n",
        "Y por último, también tenemos las comprensiones de diccionarios. Son muy similares a las anteriores, con la única diferencia que debemos especificar la key o llave. Veamos un ejemplo."
      ],
      "metadata": {
        "id": "3ueGdPzRGxcT"
      }
    },
    {
      "cell_type": "code",
      "source": [
        "lista1 = ['nombre', 'edad', 'región']\n",
        "lista2 = ['Pelayo', 30, 'Asturias']\n",
        "\n",
        "mi_dict = {i:j for i,j in zip(lista1, lista2)}\n",
        "print(mi_dict)"
      ],
      "metadata": {
        "id": "YRGm8ZH4GzTf",
        "colab": {
          "base_uri": "https://localhost:8080/"
        },
        "outputId": "ae9fca15-5abc-4d21-a2f4-c72e2567e3dc"
      },
      "execution_count": null,
      "outputs": [
        {
          "output_type": "stream",
          "name": "stdout",
          "text": [
            "{'nombre': 'Pelayo', 'edad': 30, 'región': 'Asturias'}\n"
          ]
        }
      ]
    },
    {
      "cell_type": "markdown",
      "source": [
        "Como se puede ver, usando `:` asignamos un valor a una llave. Hemos usado también `zip`, que nos permite iterar dos listas paralelamente. Por lo tanto, en este ejemplo estamos convirtiendo dos listas a un diccionario.\n",
        "\n"
      ],
      "metadata": {
        "id": "RyBJiTL8G2Sa"
      }
    },
    {
      "cell_type": "markdown",
      "source": [
        "## Conclusiones\n",
        "Las comprensiones de listas, sets o diccionarios son una herramienta muy útil para hacer que nuestro código resulte más compacto y fácil de leer. Siempre que tengamos una colección iterable que queramos modificar, son una buena opción para evitar tener que escribir bucles for.\n",
        "\n",
        "Las comprensiones están también muy relacionadas con el concepto de programación funcional y otra funciones que Python nos ofrece como filter o map, por lo que si no las conoces te recomendamos que leas sobre ellas.\n",
        "\n",
        "En ciertas ocasiones, las comprensiones no resultan sólo útiles por que puedan ser escritas en una sola línea de código, sino que también pueden llegar a ser más rápidas que otros métodos. Es muy importante por lo tanto medir su tiempo de ejecución para saber si son una buena elección.\n",
        "\n",
        "Y por último, aunque su uso resulte de lo más Pythónico y elegante (algo que a muchos programadores de Python les encanta), hay que tener cuidado con su uso y no abusar de ellas. Resulta fácil caer en la tentación de acabar escribiendo comprensiones que son tan largas que prácticamente son imposibles de leer, algo que puede no ser muy buena idea."
      ],
      "metadata": {
        "id": "X1O42CBIINiy"
      }
    }
  ]
}