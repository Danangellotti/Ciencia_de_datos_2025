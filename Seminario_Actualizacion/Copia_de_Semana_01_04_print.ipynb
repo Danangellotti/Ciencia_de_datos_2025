{
  "nbformat": 4,
  "nbformat_minor": 0,
  "metadata": {
    "colab": {
      "provenance": [],
      "include_colab_link": true
    },
    "kernelspec": {
      "name": "python3",
      "display_name": "Python 3"
    },
    "language_info": {
      "name": "python"
    }
  },
  "cells": [
    {
      "cell_type": "markdown",
      "metadata": {
        "id": "view-in-github",
        "colab_type": "text"
      },
      "source": [
        "<a href=\"https://colab.research.google.com/github/Danangellotti/Ciencia_de_datos_2025/blob/main/Copia_de_Semana_01_04_print.ipynb\" target=\"_parent\"><img src=\"https://colab.research.google.com/assets/colab-badge.svg\" alt=\"Open In Colab\"/></a>"
      ]
    },
    {
      "cell_type": "markdown",
      "metadata": {
        "id": "pJZ7ZgLXNl15"
      },
      "source": [
        "# Función print\n",
        "\n",
        "Función para mostrar datos por pantalla. Puede recibir uno o varios argumentos/parámetros, los cuales se pasan dentro de paréntesis.\n",
        "\n",
        "Tiene la particularidad en imprimir cualquier tipo de dato siempre y cuando tenga implementada la función o método `__str__`. Más adelante vamos a ampliar sobre este tema."
      ]
    },
    {
      "cell_type": "markdown",
      "source": [
        "Muestra el valor `123`"
      ],
      "metadata": {
        "id": "U9CMdjvBSdyg"
      }
    },
    {
      "cell_type": "code",
      "metadata": {
        "id": "JZFmfT13Nx42",
        "colab": {
          "base_uri": "https://localhost:8080/"
        },
        "outputId": "be8e7f35-55c3-4558-ff0a-33854529287a"
      },
      "source": [
        "print(123)"
      ],
      "execution_count": null,
      "outputs": [
        {
          "output_type": "stream",
          "name": "stdout",
          "text": [
            "123\n"
          ]
        }
      ]
    },
    {
      "cell_type": "markdown",
      "source": [
        "Muestra un línea en blanco. Está escribiendo una nueva línea."
      ],
      "metadata": {
        "id": "BFHGBa42Sjsu"
      }
    },
    {
      "cell_type": "code",
      "source": [
        "print()"
      ],
      "metadata": {
        "id": "yWJvcUk2SrIc",
        "colab": {
          "base_uri": "https://localhost:8080/"
        },
        "outputId": "3a4415d6-5c88-48ec-8de6-c5d297047733"
      },
      "execution_count": null,
      "outputs": [
        {
          "output_type": "stream",
          "name": "stdout",
          "text": [
            "\n"
          ]
        }
      ]
    },
    {
      "cell_type": "markdown",
      "source": [
        "Vamos a crear una variable, asignandole un valor por defecto para luego imprimer el valor."
      ],
      "metadata": {
        "id": "5UZJuyPSStYt"
      }
    },
    {
      "cell_type": "code",
      "source": [
        "variale_string = 'a'\n",
        "print(variale_string)"
      ],
      "metadata": {
        "id": "_gjYeYrxSuKg",
        "colab": {
          "base_uri": "https://localhost:8080/"
        },
        "outputId": "de12d940-54b0-4a99-a0ab-4092c4854550"
      },
      "execution_count": null,
      "outputs": [
        {
          "output_type": "stream",
          "name": "stdout",
          "text": [
            "a\n"
          ]
        }
      ]
    },
    {
      "cell_type": "markdown",
      "source": [
        "Una función muy importante es `type` la cual se encarga de mostrar el tipo de dato de una variable.\n",
        "\n",
        "En este caso vamos a mostrar el tipo de la variable `variable_string`"
      ],
      "metadata": {
        "id": "aYRYNQ12S6CA"
      }
    },
    {
      "cell_type": "code",
      "source": [
        "print(type(variale_string))"
      ],
      "metadata": {
        "id": "VrWuSQ44TEFT",
        "colab": {
          "base_uri": "https://localhost:8080/"
        },
        "outputId": "25532750-f840-4797-f10b-b80b0ab5564c"
      },
      "execution_count": null,
      "outputs": [
        {
          "output_type": "stream",
          "name": "stdout",
          "text": [
            "<class 'str'>\n"
          ]
        }
      ]
    },
    {
      "cell_type": "markdown",
      "source": [
        "## Caracter de escape \\\n",
        "Curiosamente, mietras tu ves dos caracteres, Python ve solo uno.\n",
        "La barra invertida `\\` tiene un significado muy especial cuando se usa dentro de las cadenas de carácteres o strings y es llamado caracter de escape.\n",
        "\n",
        "La palabra escape debe entenderse claramente, significa que la serie de caracteres en la cadena se escapa(detiene) por un momento(un momento muy corto) para introducir una inclusión especial.\n",
        "\n",
        "En otras palabras, la barra invertida no sifnifca nada, sino que es solo un tipo de anuncio, de que el siguiente caracter después de la barra invertida también tiene un significado diferente.\n",
        "\n",
        "`Importante: El caracter de escape funciona tanto con la comilla simple como con la comilla doble`"
      ],
      "metadata": {
        "id": "zwUa-I9oROoC"
      }
    },
    {
      "cell_type": "markdown",
      "source": [
        "En el siguiente ejemplo vamos a escapar una comilla doble `\"` dentro de un string para que podamos imprimirla por pantalla."
      ],
      "metadata": {
        "id": "y3SvafXOTqce"
      }
    },
    {
      "cell_type": "code",
      "source": [
        "print(\"utilizando el caracter de escape, puedo printear una \\\", efectivamente, no hay errores\")"
      ],
      "metadata": {
        "id": "GNlnUwCLSalD",
        "colab": {
          "base_uri": "https://localhost:8080/"
        },
        "outputId": "99f714c3-f682-4b07-fba4-89bea83775f7"
      },
      "execution_count": null,
      "outputs": [
        {
          "output_type": "stream",
          "name": "stdout",
          "text": [
            "utilizando el caracter de escape, puedo printear una \", efectivamente, no hay errores\n"
          ]
        }
      ]
    },
    {
      "cell_type": "markdown",
      "source": [
        "En el siguiente ejemplo vamos a escapar una comilla simple `'` dentro de un string para que podamos imprimirla por pantalla."
      ],
      "metadata": {
        "id": "bcpLbmcpUHFV"
      }
    },
    {
      "cell_type": "code",
      "source": [
        "print('utilizando el caracter de escape, puedo printear una \\', efectivamente, no hay errores')"
      ],
      "metadata": {
        "id": "cPA0SGe-UN9b",
        "colab": {
          "base_uri": "https://localhost:8080/"
        },
        "outputId": "a66608a6-6ab9-4eb3-8108-996c2b605824"
      },
      "execution_count": null,
      "outputs": [
        {
          "output_type": "stream",
          "name": "stdout",
          "text": [
            "utilizando el caracter de escape, puedo printear una ', efectivamente, no hay errores\n"
          ]
        }
      ]
    },
    {
      "cell_type": "markdown",
      "source": [
        "Si quiero evitar el uso del caracter de escape en la definición de string puedo invertir las comillas."
      ],
      "metadata": {
        "id": "sXn23JRSUW_e"
      }
    },
    {
      "cell_type": "code",
      "source": [
        "print('utilizando el caracter de escape, puedo printear una \", efectivamente, no hay errores')"
      ],
      "metadata": {
        "id": "S3pTg_4wUWeS",
        "colab": {
          "base_uri": "https://localhost:8080/"
        },
        "outputId": "e70a58e0-48fc-443f-ce95-baa925791c64"
      },
      "execution_count": null,
      "outputs": [
        {
          "output_type": "stream",
          "name": "stdout",
          "text": [
            "utilizando el caracter de escape, puedo printear una \", efectivamente, no hay errores\n"
          ]
        }
      ]
    },
    {
      "cell_type": "markdown",
      "metadata": {
        "id": "sfwgbmClLQQ9"
      },
      "source": [
        "### Nueva línea\n",
        "\n",
        "Para escribir una nueva línea podemos utilizar la siguiente cadena `\\n`\n",
        "\n"
      ]
    },
    {
      "cell_type": "code",
      "metadata": {
        "id": "dju3I6n2Lbb8",
        "colab": {
          "base_uri": "https://localhost:8080/"
        },
        "outputId": "dd6932d0-b012-443c-b222-88d17684c4aa"
      },
      "source": [
        "print(\"hola mundo,\\ncomo va?\")"
      ],
      "execution_count": null,
      "outputs": [
        {
          "output_type": "stream",
          "name": "stdout",
          "text": [
            "hola mundo,\n",
            "como va?\n"
          ]
        }
      ]
    },
    {
      "cell_type": "markdown",
      "source": [
        "### Sangría\n",
        "\n",
        "Para escribir una sangría podemos utilizar la siguiente cadena `\\t`"
      ],
      "metadata": {
        "id": "kcXN4UxdYcPY"
      }
    },
    {
      "cell_type": "code",
      "source": [
        "print('Hola mundo, \\t como va?')"
      ],
      "metadata": {
        "colab": {
          "base_uri": "https://localhost:8080/"
        },
        "id": "gIfkXp4eY0gM",
        "outputId": "4e89be22-946a-4fe6-c3a9-2dc81be23eb2"
      },
      "execution_count": null,
      "outputs": [
        {
          "output_type": "stream",
          "name": "stdout",
          "text": [
            "Hola mundo, \t como va?\n"
          ]
        }
      ]
    },
    {
      "cell_type": "markdown",
      "source": [
        "Combinamos la sangría y la nueva línea"
      ],
      "metadata": {
        "id": "hk3HwJcjVUii"
      }
    },
    {
      "cell_type": "code",
      "source": [
        "print('Hola mundo,\\n\\tcomo va?')"
      ],
      "metadata": {
        "colab": {
          "base_uri": "https://localhost:8080/"
        },
        "id": "Am1SwCc4VT4u",
        "outputId": "f6482cd6-0cf1-46c6-d4d5-0b053ff069dd"
      },
      "execution_count": null,
      "outputs": [
        {
          "output_type": "stream",
          "name": "stdout",
          "text": [
            "Hola mundo,\n",
            "\tcomo va?\n"
          ]
        }
      ]
    },
    {
      "cell_type": "markdown",
      "metadata": {
        "id": "Ez6mUeqtKy7A"
      },
      "source": [
        "## Argumentos múltiples\n",
        "\n",
        "A la función print le podemos pasar todos los argumentos que deseemos y estos pueden ser de diferentes tipos. La función se encarga de mostrarlo de forma correcta."
      ]
    },
    {
      "cell_type": "code",
      "metadata": {
        "id": "xwGTYElhNSno",
        "colab": {
          "base_uri": "https://localhost:8080/"
        },
        "outputId": "305d012c-6cd2-4fd1-f51d-f12a4e650727"
      },
      "source": [
        "print(\"argumento 1\", \"argumento 2\", \"valor entero igual a\", 3., \"siempre separarlos con comas!!\")"
      ],
      "execution_count": null,
      "outputs": [
        {
          "output_type": "stream",
          "name": "stdout",
          "text": [
            "argumento 1 argumento 2 valor entero igual a 3.0 siempre separarlos con comas!!\n"
          ]
        }
      ]
    },
    {
      "cell_type": "markdown",
      "metadata": {
        "id": "o7Zkb7C5I8ZO"
      },
      "source": [
        "## Argumentos de palabras clave\n",
        "\n",
        "* sep, es el argumento de separación de argumentos y por defecto en un espacio en blanco.\n",
        "* end, es el argumento de nuevas líneas y por defecto es una nueva línea."
      ]
    },
    {
      "cell_type": "markdown",
      "source": [
        "Utilizando los valores de `sep` por defecto."
      ],
      "metadata": {
        "id": "YtrTV2CPWUFO"
      }
    },
    {
      "cell_type": "code",
      "metadata": {
        "id": "T1hszwPLJG8o",
        "colab": {
          "base_uri": "https://localhost:8080/"
        },
        "outputId": "dd469dec-cc1c-4b05-d650-060f8a9ab08b"
      },
      "source": [
        "print(\"Hola\", \"mundo\", \"!\")"
      ],
      "execution_count": null,
      "outputs": [
        {
          "output_type": "stream",
          "name": "stdout",
          "text": [
            "Hola mundo !\n"
          ]
        }
      ]
    },
    {
      "cell_type": "markdown",
      "source": [
        "Cambiando el valor de sep por un cardinal"
      ],
      "metadata": {
        "id": "OHly4KABWoEN"
      }
    },
    {
      "cell_type": "code",
      "source": [
        "print(\"Hola\", \"mundo\", \"!\", sep= '#')"
      ],
      "metadata": {
        "colab": {
          "base_uri": "https://localhost:8080/"
        },
        "id": "g7z4vz1EWss0",
        "outputId": "917b84e3-10ce-4565-c6c8-b27ae5e837d7"
      },
      "execution_count": null,
      "outputs": [
        {
          "output_type": "stream",
          "name": "stdout",
          "text": [
            "Hola#mundo#!\n"
          ]
        }
      ]
    },
    {
      "cell_type": "markdown",
      "source": [
        "Utilizando el valor de `end` por defecto."
      ],
      "metadata": {
        "id": "auzb9-VaWwFo"
      }
    },
    {
      "cell_type": "code",
      "source": [
        "print(\"Hola\", \"mundo\")\n",
        "print(\"!\")"
      ],
      "metadata": {
        "colab": {
          "base_uri": "https://localhost:8080/"
        },
        "id": "k6jiBoWCXEbx",
        "outputId": "e50510dd-afca-4a35-9d73-206eff2db773"
      },
      "execution_count": null,
      "outputs": [
        {
          "output_type": "stream",
          "name": "stdout",
          "text": [
            "Hola mundo\n",
            "!\n"
          ]
        }
      ]
    },
    {
      "cell_type": "markdown",
      "source": [
        "Cambiando el valor de end por un vacio."
      ],
      "metadata": {
        "id": "8FAYH0L0XJr9"
      }
    },
    {
      "cell_type": "code",
      "source": [
        "print(\"Hola\", \"mundo\", end='')\n",
        "print(\"!\")"
      ],
      "metadata": {
        "id": "sRU8WCobXNCQ",
        "outputId": "01a8f480-c831-40f8-a928-7f6bf0caa982",
        "colab": {
          "base_uri": "https://localhost:8080/"
        }
      },
      "execution_count": null,
      "outputs": [
        {
          "output_type": "stream",
          "name": "stdout",
          "text": [
            "Hola mundo!\n"
          ]
        }
      ]
    },
    {
      "cell_type": "markdown",
      "metadata": {
        "id": "V5DJtRT1RS0-"
      },
      "source": [
        "# input\n",
        "\n",
        "La función `input` se utiliza para obtener datos. El dispositivo externo que que realiza la entrada es el teclado.\n",
        "\n",
        "La salida de esta función la debemos almacenar en alguna variable para no perder la información.\n",
        "\n",
        "`IMPORTANTE: La salida es un string`"
      ]
    },
    {
      "cell_type": "code",
      "metadata": {
        "id": "mO0TZJNASE5R",
        "colab": {
          "base_uri": "https://localhost:8080/"
        },
        "outputId": "ecdd615d-1bd6-49d4-d338-aa187cd74df5"
      },
      "source": [
        "print(\"Dime algo: \")\n",
        "algo = input()\n",
        "print(f\"Mmm... {algo} ...¿en serio?\")"
      ],
      "execution_count": null,
      "outputs": [
        {
          "output_type": "stream",
          "name": "stdout",
          "text": [
            "Dime algo: \n",
            "vamos a utilizar la función input\n",
            "Mmm... vamos a utilizar la función input ...¿en serio?\n"
          ]
        }
      ]
    },
    {
      "cell_type": "markdown",
      "metadata": {
        "id": "BmuBnuwhSW4p"
      },
      "source": [
        "Está función recibe como parámetro un prompt o mensaje que se mostrará por pantalla, de esta forma no evitamos utilizar la llamada a la función print."
      ]
    },
    {
      "cell_type": "code",
      "metadata": {
        "id": "rJXnrXJOS1tT",
        "colab": {
          "base_uri": "https://localhost:8080/"
        },
        "outputId": "60474e0b-45bb-40bf-bf8d-01bcbb402f72"
      },
      "source": [
        "algo = input(\"Dime algo: \")\n",
        "print(f\"Mmm... {algo} ...¿En serio?\")"
      ],
      "execution_count": null,
      "outputs": [
        {
          "output_type": "stream",
          "name": "stdout",
          "text": [
            "Dime algo: vamos a utilizar la función input\n",
            "Mmm... vamos a utilizar la función input ...¿En serio?\n"
          ]
        }
      ]
    },
    {
      "cell_type": "markdown",
      "source": [
        "# Función help\n",
        "\n",
        "La función help es la encargada de brindarnos ayuda sobre las funciones.\n",
        "\n",
        "Nos mostrará una descripción de su funcionamiento, nos explicará los argumentos de entrada y la salida."
      ],
      "metadata": {
        "id": "1IQYPeo5gimw"
      }
    },
    {
      "cell_type": "code",
      "source": [
        "import random"
      ],
      "metadata": {
        "id": "xW-JLuzjhGfi"
      },
      "execution_count": null,
      "outputs": []
    },
    {
      "cell_type": "code",
      "source": [
        " help(random.randint)"
      ],
      "metadata": {
        "id": "Tp74jDKvhF0j",
        "colab": {
          "base_uri": "https://localhost:8080/"
        },
        "outputId": "878b9804-3561-4db3-95b9-f0e6d2106e12"
      },
      "execution_count": null,
      "outputs": [
        {
          "output_type": "stream",
          "name": "stdout",
          "text": [
            "Help on method randint in module random:\n",
            "\n",
            "randint(a, b) method of random.Random instance\n",
            "    Return random integer in range [a, b], including both end points.\n",
            "\n"
          ]
        }
      ]
    }
  ]
}