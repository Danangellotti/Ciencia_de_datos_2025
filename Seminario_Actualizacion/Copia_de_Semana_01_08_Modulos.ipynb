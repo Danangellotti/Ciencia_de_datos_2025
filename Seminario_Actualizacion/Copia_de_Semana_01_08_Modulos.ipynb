{
  "nbformat": 4,
  "nbformat_minor": 0,
  "metadata": {
    "colab": {
      "provenance": [],
      "include_colab_link": true
    },
    "kernelspec": {
      "name": "python3",
      "display_name": "Python 3"
    },
    "language_info": {
      "name": "python"
    }
  },
  "cells": [
    {
      "cell_type": "markdown",
      "metadata": {
        "id": "view-in-github",
        "colab_type": "text"
      },
      "source": [
        "<a href=\"https://colab.research.google.com/github/Danangellotti/Ciencia_de_datos_2025/blob/main/Copia_de_Semana_01_08_Modulos.ipynb\" target=\"_parent\"><img src=\"https://colab.research.google.com/assets/colab-badge.svg\" alt=\"Open In Colab\"/></a>"
      ]
    },
    {
      "cell_type": "markdown",
      "source": [
        "# Módulos y scripts en Python"
      ],
      "metadata": {
        "id": "kFny96-Hbk5j"
      }
    },
    {
      "cell_type": "markdown",
      "source": [
        "## Script\n",
        "\n",
        "En programación, un script es un archivo de código fuente con instrucciones sencillas, que puede ser ejecutado a través de la línea de comandos."
      ],
      "metadata": {
        "id": "i6V1ZSaCYP-p"
      }
    },
    {
      "cell_type": "markdown",
      "source": [
        "## Módulo\n",
        "\n",
        "Un módulo o module en Python es un fichero .py que alberga un conjunto de funciones, variables o clases y que puede ser usado por otros módulos. Nos permiten reutilizar código y organizarlo mejor en namespaces. Por ejemplo, podemos definir un módulo mimodulo.py con dos funciones suma() y resta()."
      ],
      "metadata": {
        "id": "OhJygBqkYZ-t"
      }
    },
    {
      "cell_type": "code",
      "source": [
        "%%writefile mimodulo.py\n",
        "def suma(valor_1:int, valor_2:int) -> int:\n",
        "    \"\"\" Función que suma dos valores enteros\n",
        "\n",
        "    Args:\n",
        "        valor_1 (int): Primer valor a sumar\n",
        "        valor_2 (int): Segundo valor a sumar\n",
        "\n",
        "    Returns:\n",
        "        int: Suma de los dos valores\n",
        "    \"\"\"\n",
        "    return valor_1 + valor_2\n",
        "\n",
        "def resta(valor_1:int, valor_2:int) -> int:\n",
        "    \"\"\" Función que resta dos valores enteros\n",
        "\n",
        "    Args:\n",
        "        valor_1 (int): Primer valor a restar\n",
        "        valor_2 (int): Segundo valor a restar\n",
        "\n",
        "    Returns:\n",
        "        int: Resta de los dos valores\n",
        "    \"\"\"\n",
        "    return valor_1 - valor_2"
      ],
      "metadata": {
        "colab": {
          "base_uri": "https://localhost:8080/"
        },
        "id": "S5DGtVY5b8aF",
        "outputId": "aae95b07-8cb7-46a3-e741-3a10143aa8f9"
      },
      "execution_count": null,
      "outputs": [
        {
          "output_type": "stream",
          "name": "stdout",
          "text": [
            "Overwriting mimodulo.py\n"
          ]
        }
      ]
    },
    {
      "cell_type": "markdown",
      "source": [
        "Una vez definido, dicho módulo puede ser usado o importado en otro fichero, como mostramos a continuación. Usando import podemos importar todo el contenido."
      ],
      "metadata": {
        "id": "N1KlrODRcCCY"
      }
    },
    {
      "cell_type": "code",
      "source": [
        "# otromodulo.py\n",
        "import mimodulo\n",
        "valor_1:int = 10\n",
        "valor_2:int = 5\n",
        "\n",
        "print(f'El resultado de sumar {valor_1} + {valor_2} es: {mimodulo.suma(valor_1, valor_2)}')\n",
        "print(f'El resultado de restar {valor_1} - {valor_2} es: {mimodulo.resta(valor_1, valor_2)}')"
      ],
      "metadata": {
        "colab": {
          "base_uri": "https://localhost:8080/"
        },
        "id": "c17U42wKcDY5",
        "outputId": "94eb43af-eec2-4372-a03a-4a8e316c1f9c"
      },
      "execution_count": null,
      "outputs": [
        {
          "output_type": "stream",
          "name": "stdout",
          "text": [
            "El resultado de sumar 10 + 5 es: 15\n",
            "El resultado de restar 10 - 5 es: 5\n"
          ]
        }
      ]
    },
    {
      "cell_type": "markdown",
      "source": [
        "También podemos importar únicamente los componentes que nos interesen como mostramos a continuación."
      ],
      "metadata": {
        "id": "CBTXAjMpcIGt"
      }
    },
    {
      "cell_type": "code",
      "source": [
        "from mimodulo import suma, resta\n",
        "\n",
        "print(f'El resultado de sumar {valor_1} + {valor_2} es: {suma(valor_1, valor_2)}')\n",
        "print(f'El resultado de restar {valor_1} - {valor_2} es: {resta(valor_1, valor_2)}')"
      ],
      "metadata": {
        "id": "Y2UFw5jlcJb9",
        "colab": {
          "base_uri": "https://localhost:8080/"
        },
        "outputId": "9928132f-bd68-43e0-b273-a1895d0fbd61"
      },
      "execution_count": null,
      "outputs": [
        {
          "output_type": "stream",
          "name": "stdout",
          "text": [
            "El resultado de sumar 10 + 5 es: 15\n",
            "El resultado de restar 10 - 5 es: 5\n"
          ]
        }
      ]
    },
    {
      "cell_type": "markdown",
      "source": [
        "Por último, podemos importar todo el módulo haciendo uso de \\*, sin necesidad de usar mimodulo.\\*.\n",
        "\n"
      ],
      "metadata": {
        "id": "yDNynCiVcKmg"
      }
    },
    {
      "cell_type": "code",
      "source": [
        "from mimodulo import *\n",
        "\n",
        "print(f'El resultado de sumar {valor_1} + {valor_2} es: {suma(valor_1, valor_2)}')\n",
        "print(f'El resultado de restar {valor_1} - {valor_2} es: {resta(valor_1, valor_2)}')"
      ],
      "metadata": {
        "id": "J8mmVB5lcPI9",
        "colab": {
          "base_uri": "https://localhost:8080/"
        },
        "outputId": "23ca1b32-9606-45fa-e61d-cdbdff98d7f8"
      },
      "execution_count": null,
      "outputs": [
        {
          "output_type": "stream",
          "name": "stdout",
          "text": [
            "El resultado de sumar 10 + 5 es: 15\n",
            "El resultado de restar 10 - 5 es: 5\n"
          ]
        }
      ]
    },
    {
      "cell_type": "markdown",
      "source": [
        "## Rutas y Uso de sys.path\n",
        "Normalmente los módulos que importamos están en la misma carpeta, pero es posible acceder también a módulos ubicados en una subcarpeta. Imaginemos la siguiente estructura:\n",
        "```\n",
        ".\n",
        "├── ejemplo.py\n",
        "├── carpeta\n",
        "│   └── modulo.py\n",
        "```\n",
        "\n",
        "Donde modulo.py contiene lo siguiente:"
      ],
      "metadata": {
        "id": "dFQXuqB6cQos"
      }
    },
    {
      "cell_type": "code",
      "source": [
        "!mkdir carpeta"
      ],
      "metadata": {
        "id": "8V2ovk56cj-Y",
        "colab": {
          "base_uri": "https://localhost:8080/"
        },
        "outputId": "160a7624-685a-41a1-d945-2c9105b890d7"
      },
      "execution_count": null,
      "outputs": [
        {
          "output_type": "stream",
          "name": "stdout",
          "text": [
            "mkdir: cannot create directory ‘carpeta’: File exists\n"
          ]
        }
      ]
    },
    {
      "cell_type": "code",
      "source": [
        "%%writefile carpeta/modulo.py\n",
        "def hola():\n",
        "\tprint(\"Hola\")"
      ],
      "metadata": {
        "colab": {
          "base_uri": "https://localhost:8080/"
        },
        "id": "2Se3kNGhcZuR",
        "outputId": "be41814b-f83b-49f6-bee0-e17760422f7d"
      },
      "execution_count": null,
      "outputs": [
        {
          "output_type": "stream",
          "name": "stdout",
          "text": [
            "Overwriting carpeta/modulo.py\n"
          ]
        }
      ]
    },
    {
      "cell_type": "markdown",
      "source": [
        "Desde nuestro ejemplo.py, podemos importar el módulo modulo.py de la siguiente manera:\n",
        "\n"
      ],
      "metadata": {
        "id": "Pp7MJfXZcfPg"
      }
    },
    {
      "cell_type": "code",
      "source": [
        "from carpeta.modulo import *\n",
        "hola()"
      ],
      "metadata": {
        "colab": {
          "base_uri": "https://localhost:8080/"
        },
        "id": "ypp5eEmfcs4G",
        "outputId": "3aff715e-a2dd-4360-d61b-7191a091e49f"
      },
      "execution_count": null,
      "outputs": [
        {
          "output_type": "stream",
          "name": "stdout",
          "text": [
            "Hola\n"
          ]
        }
      ]
    },
    {
      "cell_type": "markdown",
      "source": [
        "Es importante notar que Python busca los módulos en las rutas indicadas por el sys.path. Es decir, cuando se importa un módulo, lo intenta buscar en dichas carpetas. Puedes ver tu sys.path de la siguiente manera:"
      ],
      "metadata": {
        "id": "RQZlfAOscY-M"
      }
    },
    {
      "cell_type": "code",
      "source": [
        "import sys\n",
        "print(sys.path)"
      ],
      "metadata": {
        "id": "9vGZetX_c_-I",
        "colab": {
          "base_uri": "https://localhost:8080/"
        },
        "outputId": "88976186-945e-4ef7-fa23-50d2b0ad2070"
      },
      "execution_count": null,
      "outputs": [
        {
          "output_type": "stream",
          "name": "stdout",
          "text": [
            "['/content', '/env/python', '/usr/lib/python310.zip', '/usr/lib/python3.10', '/usr/lib/python3.10/lib-dynload', '', '/usr/local/lib/python3.10/dist-packages', '/usr/lib/python3/dist-packages', '/usr/local/lib/python3.10/dist-packages/IPython/extensions', '/usr/local/lib/python3.10/dist-packages/setuptools/_vendor', '/root/.ipython', '/ruta/de/tu/modulo']\n"
          ]
        }
      ]
    },
    {
      "cell_type": "markdown",
      "source": [
        "Como es obvio, verás que la carpeta de tu proyecta está incluida, pero ¿y si queremos importar un módulo en una ubicación distinta? Pues bien, podemos añadir al sys.path la ruta en la que queremos que Python busque."
      ],
      "metadata": {
        "id": "Jqh9plnndBK3"
      }
    },
    {
      "cell_type": "code",
      "source": [
        "import sys\n",
        "sys.path.append(r'/ruta/de/tu/modulo')"
      ],
      "metadata": {
        "id": "3XCIEhZjdCMY"
      },
      "execution_count": null,
      "outputs": []
    },
    {
      "cell_type": "markdown",
      "source": [
        "Una vez realizado esto, los módulos contenidos en dicha carpeta podrán ser importados sin problema como hemos visto anteriormente."
      ],
      "metadata": {
        "id": "mb7tbCZcdDOC"
      }
    },
    {
      "cell_type": "markdown",
      "source": [
        "## Cambiando los Nombres con as\n",
        "Por otro lado, es posible cambiar el nombre del módulo usando as. Imaginemos que tenemos un módulo moduloconnombrelargo.py."
      ],
      "metadata": {
        "id": "uxDwG2cMdExh"
      }
    },
    {
      "cell_type": "code",
      "source": [
        "%%writefile moduloconnombrelargo.py\n",
        "hola = \"hola\""
      ],
      "metadata": {
        "colab": {
          "base_uri": "https://localhost:8080/"
        },
        "id": "LrhAWHHsdGqw",
        "outputId": "8c4281b0-175a-4733-a32f-d826bc538033"
      },
      "execution_count": null,
      "outputs": [
        {
          "output_type": "stream",
          "name": "stdout",
          "text": [
            "Overwriting moduloconnombrelargo.py\n"
          ]
        }
      ]
    },
    {
      "cell_type": "markdown",
      "source": [
        "En vez de usar el siguiente import, tal vez queramos asignar un nombre más corto al módulo.\n",
        "\n"
      ],
      "metadata": {
        "id": "Fx2Znb4zdL1s"
      }
    },
    {
      "cell_type": "code",
      "source": [
        "import moduloconnombrelargo\n",
        "print(moduloconnombrelargo.hola)"
      ],
      "metadata": {
        "colab": {
          "base_uri": "https://localhost:8080/"
        },
        "id": "t2S1hvN7dM9w",
        "outputId": "3a743deb-85f3-4a69-b8f1-aacc42e3a9bf"
      },
      "execution_count": null,
      "outputs": [
        {
          "output_type": "stream",
          "name": "stdout",
          "text": [
            "hola\n"
          ]
        }
      ]
    },
    {
      "cell_type": "markdown",
      "source": [
        "Podemos hacerlo de la siguiente manera con as:\n",
        "\n"
      ],
      "metadata": {
        "id": "r1Ki6Wn3dOhT"
      }
    },
    {
      "cell_type": "code",
      "source": [
        "import moduloconnombrelargo as m\n",
        "print(m.hola)"
      ],
      "metadata": {
        "id": "6qxtcKmodgLI",
        "colab": {
          "base_uri": "https://localhost:8080/"
        },
        "outputId": "31c71e24-1eb9-47c6-8d5f-81bfa8577430"
      },
      "execution_count": null,
      "outputs": [
        {
          "output_type": "stream",
          "name": "stdout",
          "text": [
            "hola\n"
          ]
        }
      ]
    },
    {
      "cell_type": "markdown",
      "source": [
        "## Listando dir\n",
        "\n",
        "La función dir() nos permite ver los nombres (variables, funciones, clases, etc) existentes en nuestro namespace. Si probamos en un módulo vacío, podemos ver como tenemos varios nombres rodeados de \\_\\_. Se trata de nombres que Python crea por debajo."
      ],
      "metadata": {
        "id": "A6b-0HQhdk2s"
      }
    },
    {
      "cell_type": "code",
      "source": [
        "def mostrar_funcion_dir_format(dir_list:list):\n",
        "    \"\"\" Función que muestra la salida de la función dir. \"\"\"\n",
        "    output = \"\"\n",
        "    for i, name in enumerate(dir_list):\n",
        "      output += name\n",
        "      if i > 0 and i % 5 == 0:\n",
        "        output += \"\\n\"\n",
        "      else:\n",
        "        output += \", \"\n",
        "    print(output)\n"
      ],
      "metadata": {
        "id": "z87Zs-dPdqd_"
      },
      "execution_count": null,
      "outputs": []
    },
    {
      "cell_type": "code",
      "source": [
        "mostrar_funcion_dir_format(dir())"
      ],
      "metadata": {
        "colab": {
          "base_uri": "https://localhost:8080/"
        },
        "id": "ldWkvF9uDj2s",
        "outputId": "3b24e881-b066-4f16-9dc4-b76ac40d48b2"
      },
      "execution_count": null,
      "outputs": [
        {
          "output_type": "stream",
          "name": "stdout",
          "text": [
            "In, Out, _, __, ___, __annotations__\n",
            "__builtin__, __builtins__, __doc__, __loader__, __name__\n",
            "__package__, __spec__, _dh, _exit_code, _i\n",
            "_i1, _i10, _i11, _i12, _i13\n",
            "_i14, _i15, _i16, _i17, _i18\n",
            "_i19, _i2, _i20, _i21, _i22\n",
            "_i23, _i24, _i25, _i26, _i27\n",
            "_i28, _i29, _i3, _i30, _i31\n",
            "_i32, _i33, _i34, _i35, _i36\n",
            "_i4, _i5, _i6, _i7, _i8\n",
            "_i9, _ih, _ii, _iii, _oh\n",
            "exit, get_ipython, hola, m, mi_funcion\n",
            "mi_variable, mimodulo, moduloconnombrelargo, mostrar_funcion_dir_format, quit\n",
            "resta, suma, sys, valor_1, valor_2\n",
            "\n"
          ]
        }
      ]
    },
    {
      "cell_type": "markdown",
      "source": [
        "Por ejemplo, __file__ es creado automáticamente y alberga el nombre del fichero .py."
      ],
      "metadata": {
        "id": "JVR02rv1dr8M"
      }
    },
    {
      "cell_type": "code",
      "source": [
        "%%writefile carpeta/mifichero.py\n",
        "print(__file__)"
      ],
      "metadata": {
        "colab": {
          "base_uri": "https://localhost:8080/"
        },
        "id": "tvDJy088dtUf",
        "outputId": "4da28633-216a-4e78-f9d2-8a93b8a1bac4"
      },
      "execution_count": null,
      "outputs": [
        {
          "output_type": "stream",
          "name": "stdout",
          "text": [
            "Overwriting carpeta/mifichero.py\n"
          ]
        }
      ]
    },
    {
      "cell_type": "code",
      "source": [
        "!python carpeta/mifichero.py"
      ],
      "metadata": {
        "colab": {
          "base_uri": "https://localhost:8080/"
        },
        "id": "H7MBKJ3Dd9rJ",
        "outputId": "08a179a7-1754-4ac5-b290-347081aacee1"
      },
      "execution_count": null,
      "outputs": [
        {
          "output_type": "stream",
          "name": "stdout",
          "text": [
            "/content/carpeta/mifichero.py\n"
          ]
        }
      ]
    },
    {
      "cell_type": "markdown",
      "source": [
        "Imaginemos ahora que tenemos alguna variable y función definida en nuestro script. Como era de esperar, dir() ahora nos muestra también los nuevos nombres que hemos creado, y que por supuesto pueden ser usados."
      ],
      "metadata": {
        "id": "q7fu6Y_seJfV"
      }
    },
    {
      "cell_type": "code",
      "source": [
        "mi_variable = \"Python\"\n",
        "def mi_funcion():\n",
        "    pass\n",
        "\n",
        "mostrar_funcion_dir_format(dir())"
      ],
      "metadata": {
        "colab": {
          "base_uri": "https://localhost:8080/"
        },
        "id": "mxIU49e7eLcZ",
        "outputId": "2253dc02-cd6b-4557-bb01-a651ce3c46a7"
      },
      "execution_count": null,
      "outputs": [
        {
          "output_type": "stream",
          "name": "stdout",
          "text": [
            "In, Out, _, __, ___, __annotations__\n",
            "__builtin__, __builtins__, __doc__, __loader__, __name__\n",
            "__package__, __spec__, _dh, _exit_code, _i\n",
            "_i1, _i10, _i11, _i12, _i13\n",
            "_i14, _i15, _i16, _i17, _i18\n",
            "_i19, _i2, _i20, _i21, _i22\n",
            "_i23, _i24, _i25, _i26, _i27\n",
            "_i28, _i29, _i3, _i30, _i31\n",
            "_i32, _i33, _i34, _i35, _i36\n",
            "_i37, _i38, _i39, _i4, _i5\n",
            "_i6, _i7, _i8, _i9, _ih\n",
            "_ii, _iii, _oh, exit, get_ipython\n",
            "hola, m, mi_funcion, mi_variable, mimodulo\n",
            "moduloconnombrelargo, mostrar_funcion_dir_format, quit, resta, suma\n",
            "sys, valor_1, valor_2, \n"
          ]
        }
      ]
    },
    {
      "cell_type": "markdown",
      "source": [
        "Por último, vamos a importar el contenido de un módulo externo. Podemos ver que en el namespace tenemos también los nombres resta y suma, que han sido tomados de mimodulo."
      ],
      "metadata": {
        "id": "5wSO4U06ePcS"
      }
    },
    {
      "cell_type": "code",
      "source": [
        "from mimodulo import *\n",
        "mostrar_funcion_dir_format(dir())"
      ],
      "metadata": {
        "colab": {
          "base_uri": "https://localhost:8080/"
        },
        "id": "SfT_Qe0keRQ8",
        "outputId": "3162dee4-cce1-48bb-b98b-09e23a9840da"
      },
      "execution_count": null,
      "outputs": [
        {
          "output_type": "stream",
          "name": "stdout",
          "text": [
            "In, Out, _, __, ___, __annotations__\n",
            "__builtin__, __builtins__, __doc__, __loader__, __name__\n",
            "__package__, __spec__, _dh, _exit_code, _i\n",
            "_i1, _i10, _i11, _i12, _i13\n",
            "_i14, _i15, _i16, _i17, _i18\n",
            "_i19, _i2, _i20, _i21, _i22\n",
            "_i23, _i24, _i25, _i26, _i27\n",
            "_i28, _i29, _i3, _i30, _i31\n",
            "_i32, _i33, _i34, _i35, _i36\n",
            "_i37, _i38, _i39, _i4, _i40\n",
            "_i5, _i6, _i7, _i8, _i9\n",
            "_ih, _ii, _iii, _oh, exit\n",
            "get_ipython, hola, m, mi_funcion, mi_variable\n",
            "mimodulo, moduloconnombrelargo, mostrar_funcion_dir_format, quit, resta\n",
            "suma, sys, valor_1, valor_2, \n"
          ]
        }
      ]
    },
    {
      "cell_type": "markdown",
      "source": [
        "El uso de dir() también acepta parámetros de entrada, por lo que podemos por ejemplo pasar nuestro modulo y nos dará más información sobre lo que contiene."
      ],
      "metadata": {
        "id": "BFqwZ12yeTFA"
      }
    },
    {
      "cell_type": "code",
      "source": [
        "import mimodulo\n",
        "\n",
        "mostrar_funcion_dir_format(dir(mimodulo))"
      ],
      "metadata": {
        "colab": {
          "base_uri": "https://localhost:8080/"
        },
        "id": "5o4UOleYeUoQ",
        "outputId": "895068de-2a0e-408f-c0e7-0a2180b8af4d"
      },
      "execution_count": null,
      "outputs": [
        {
          "output_type": "stream",
          "name": "stdout",
          "text": [
            "__builtins__, __cached__, __doc__, __file__, __loader__, __name__\n",
            "__package__, __spec__, resta, suma, \n"
          ]
        }
      ]
    },
    {
      "cell_type": "code",
      "source": [
        "print(mimodulo.__name__)"
      ],
      "metadata": {
        "colab": {
          "base_uri": "https://localhost:8080/"
        },
        "id": "hrHr75xnD7RY",
        "outputId": "ece93514-5e17-4807-8db4-98f02d612a06"
      },
      "execution_count": null,
      "outputs": [
        {
          "output_type": "stream",
          "name": "stdout",
          "text": [
            "mimodulo\n"
          ]
        }
      ]
    },
    {
      "cell_type": "code",
      "source": [
        "print(mimodulo.__file__)"
      ],
      "metadata": {
        "colab": {
          "base_uri": "https://localhost:8080/"
        },
        "id": "lNOM7MvxD8uQ",
        "outputId": "0f21df6b-4ec9-4c28-d616-172b1cdb61ea"
      },
      "execution_count": null,
      "outputs": [
        {
          "output_type": "stream",
          "name": "stdout",
          "text": [
            "/content/mimodulo.py\n"
          ]
        }
      ]
    },
    {
      "cell_type": "markdown",
      "source": [
        "## Excepción ImportError\n",
        "Importar un módulo puede lanzar una excepción, cuando se intenta importar un módulo que no ha sido encontrado. Se trata de ModuleNotFoundError."
      ],
      "metadata": {
        "id": "8OVoRMpreXWN"
      }
    },
    {
      "cell_type": "code",
      "source": [
        "import moduloquenoexiste\n",
        "# ModuleNotFoundError: No module named 'moduloquenoexiste'"
      ],
      "metadata": {
        "id": "fn5uW_T8eapw",
        "colab": {
          "base_uri": "https://localhost:8080/",
          "height": 345
        },
        "outputId": "ef952897-fb6b-477b-fcb1-5892b3b4bec0"
      },
      "execution_count": null,
      "outputs": [
        {
          "output_type": "error",
          "ename": "ModuleNotFoundError",
          "evalue": "No module named 'moduloquenoexiste'",
          "traceback": [
            "\u001b[0;31m---------------------------------------------------------------------------\u001b[0m",
            "\u001b[0;31mModuleNotFoundError\u001b[0m                       Traceback (most recent call last)",
            "\u001b[0;32m<ipython-input-44-a891b9784947>\u001b[0m in \u001b[0;36m<cell line: 1>\u001b[0;34m()\u001b[0m\n\u001b[0;32m----> 1\u001b[0;31m \u001b[0;32mimport\u001b[0m \u001b[0mmoduloquenoexiste\u001b[0m\u001b[0;34m\u001b[0m\u001b[0;34m\u001b[0m\u001b[0m\n\u001b[0m\u001b[1;32m      2\u001b[0m \u001b[0;31m# ModuleNotFoundError: No module named 'moduloquenoexiste'\u001b[0m\u001b[0;34m\u001b[0m\u001b[0;34m\u001b[0m\u001b[0m\n",
            "\u001b[0;31mModuleNotFoundError\u001b[0m: No module named 'moduloquenoexiste'",
            "",
            "\u001b[0;31m---------------------------------------------------------------------------\u001b[0;32m\nNOTE: If your import is failing due to a missing package, you can\nmanually install dependencies using either !pip or !apt.\n\nTo view examples of installing some common dependencies, click the\n\"Open Examples\" button below.\n\u001b[0;31m---------------------------------------------------------------------------\u001b[0m\n"
          ],
          "errorDetails": {
            "actions": [
              {
                "action": "open_url",
                "actionText": "Open Examples",
                "url": "/notebooks/snippets/importing_libraries.ipynb"
              }
            ]
          }
        }
      ]
    },
    {
      "cell_type": "markdown",
      "source": [
        "Dicha excepción puede ser capturada para evitar la interrupción del programa."
      ],
      "metadata": {
        "id": "1IZWqbTFecFo"
      }
    },
    {
      "cell_type": "code",
      "source": [
        "try:\n",
        "    import moduloquenoexiste\n",
        "except ModuleNotFoundError as e:\n",
        "    print(\"Hubo un error:\", e)"
      ],
      "metadata": {
        "id": "1dyZSURdeegX",
        "colab": {
          "base_uri": "https://localhost:8080/"
        },
        "outputId": "a9d96c3e-2327-4584-9afe-5b3d3a3e2e51"
      },
      "execution_count": null,
      "outputs": [
        {
          "output_type": "stream",
          "name": "stdout",
          "text": [
            "Hubo un error: No module named 'moduloquenoexiste'\n"
          ]
        }
      ]
    },
    {
      "cell_type": "markdown",
      "source": [
        "## Módulos y Función Main\n",
        "Un problema muy recurrente es cuando creamos un módulo con una función como en el siguiente ejemplo, y añadimos algunas sentencias a ejecutar."
      ],
      "metadata": {
        "id": "nll4gj3Hegh0"
      }
    },
    {
      "cell_type": "code",
      "source": [
        "%%writefile modulo.py\n",
        "\n",
        "def suma(valor_1:int, valor_2:int) -> int:\n",
        "    \"\"\" Función que suma dos valores enteros\n",
        "\n",
        "    Args:\n",
        "        valor_1 (int): Primer valor a sumar\n",
        "        valor_2 (int): Segundo valor a sumar\n",
        "\n",
        "    Returns:\n",
        "        int: Suma de los dos valores\n",
        "    \"\"\"\n",
        "    return valor_1 + valor_2\n",
        "\n",
        "c = suma(1, 2)\n",
        "print(\"La suma es:\", c)"
      ],
      "metadata": {
        "colab": {
          "base_uri": "https://localhost:8080/"
        },
        "id": "og-VTtTLeiuD",
        "outputId": "f5460636-a972-4184-8848-3234a222be79"
      },
      "execution_count": null,
      "outputs": [
        {
          "output_type": "stream",
          "name": "stdout",
          "text": [
            "Overwriting modulo.py\n"
          ]
        }
      ]
    },
    {
      "cell_type": "markdown",
      "source": [
        "Si en otro módulo importamos nuestro modulo.py, tal como está nuestro código el contenido se ejecutará, y esto puede no ser lo que queramos."
      ],
      "metadata": {
        "id": "tvfHRxuVenzs"
      }
    },
    {
      "cell_type": "code",
      "source": [
        "# otromodulo.py\n",
        "import modulo\n",
        "\n",
        "## al realizar un import de todo el módulo se ejecuta la asignación de c y el print"
      ],
      "metadata": {
        "colab": {
          "base_uri": "https://localhost:8080/"
        },
        "id": "2s-4w7iMeqWE",
        "outputId": "21831828-8ef8-4be3-dd7d-c8726cd14b41"
      },
      "execution_count": null,
      "outputs": [
        {
          "output_type": "stream",
          "name": "stdout",
          "text": [
            "La suma es: 3\n"
          ]
        }
      ]
    },
    {
      "cell_type": "code",
      "source": [
        "from modulo import suma\n",
        "suma(2,2)\n",
        "\n",
        "## al importar solo la función de suma, NO se ejecuta la asignación de c y el print"
      ],
      "metadata": {
        "colab": {
          "base_uri": "https://localhost:8080/"
        },
        "id": "3DxtntjIezWS",
        "outputId": "1a408de8-7c6f-49c6-b3f2-e8b705169b26"
      },
      "execution_count": null,
      "outputs": [
        {
          "output_type": "execute_result",
          "data": {
            "text/plain": [
              "4"
            ]
          },
          "metadata": {},
          "execution_count": 48
        }
      ]
    },
    {
      "cell_type": "markdown",
      "source": [
        "Dependiendo de la situación, puede ser importante especificar que únicamente queremos que se ejecute el código si el módulo es el __main__. Con la siguiente modificación, si hacemos import modulo desde otro módulo, este fragmento ya no se ejecutará al ser el módulo main otro."
      ],
      "metadata": {
        "id": "MV61HEdletxX"
      }
    },
    {
      "cell_type": "code",
      "source": [
        "# modulo.py\n",
        "%%writefile modulo.py\n",
        "\n",
        "def suma(valor_1:int, valor_2:int) -> int:\n",
        "    \"\"\" Función que suma dos valores enteros\n",
        "\n",
        "    Args:\n",
        "        valor_1 (int): Primer valor a sumar\n",
        "        valor_2 (int): Segundo valor a sumar\n",
        "\n",
        "    Returns:\n",
        "        int: Suma de los dos valores\n",
        "    \"\"\"\n",
        "    return valor_1 + valor_2\n",
        "\n",
        "if (__name__ == '__main__'):\n",
        "    c = suma(1, 2)\n",
        "    print(\"La suma es:\", c)"
      ],
      "metadata": {
        "id": "5lKJchBFeuW8",
        "colab": {
          "base_uri": "https://localhost:8080/"
        },
        "outputId": "398fd8f9-d2d5-429d-ecda-94cd444e3a50"
      },
      "execution_count": null,
      "outputs": [
        {
          "output_type": "stream",
          "name": "stdout",
          "text": [
            "Overwriting modulo.py\n"
          ]
        }
      ]
    },
    {
      "cell_type": "code",
      "source": [
        "import modulo\n"
      ],
      "metadata": {
        "id": "RvnUyR25ejZ-"
      },
      "execution_count": null,
      "outputs": []
    },
    {
      "cell_type": "code",
      "source": [
        "!python modulo.py"
      ],
      "metadata": {
        "colab": {
          "base_uri": "https://localhost:8080/"
        },
        "id": "VNkoBpqleqaO",
        "outputId": "76266f5b-de66-4c15-aada-61207a4841ca"
      },
      "execution_count": null,
      "outputs": [
        {
          "output_type": "stream",
          "name": "stdout",
          "text": [
            "La suma es: 3\n"
          ]
        }
      ]
    },
    {
      "cell_type": "markdown",
      "source": [
        "## Recargando Módulos\n",
        "Es importante notar que los módulos solamente son cargados una vez. Es decir, no importa el número de veces que llamemos a import mimodulo, que sólo se importará una vez.\n",
        "\n",
        "Imaginemos que tenemos el siguiente módulo que imprime el siguiente contenido cuando es importado."
      ],
      "metadata": {
        "id": "61ZHZ5zVfOGx"
      }
    },
    {
      "cell_type": "code",
      "source": [
        "%%writefile mimodulo1.py\n",
        "\n",
        "print(\"Importando mimodulo\")\n",
        "\n",
        "def suma(valor_1:int, valor_2:int) -> int:\n",
        "    \"\"\" Función que suma dos valores enteros\n",
        "\n",
        "    Args:\n",
        "        valor_1 (int): Primer valor a sumar\n",
        "        valor_2 (int): Segundo valor a sumar\n",
        "\n",
        "    Returns:\n",
        "        int: Suma de los dos valores\n",
        "    \"\"\"\n",
        "    return valor_1 + valor_2\n",
        "\n",
        "def resta(valor_1:int, valor_2:int) -> int:\n",
        "    \"\"\" Función que resta dos valores enteros\n",
        "\n",
        "    Args:\n",
        "        valor_1 (int): Primer valor a restar\n",
        "        valor_2 (int): Segundo valor a restar\n",
        "\n",
        "    Returns:\n",
        "        int: Resta de los dos valores\n",
        "    \"\"\"\n",
        "    return valor_1 - valor_2"
      ],
      "metadata": {
        "colab": {
          "base_uri": "https://localhost:8080/"
        },
        "id": "n15i4a-9fRT2",
        "outputId": "bf32d338-8226-4b1c-f962-7ac66fa1e319"
      },
      "execution_count": null,
      "outputs": [
        {
          "output_type": "stream",
          "name": "stdout",
          "text": [
            "Overwriting mimodulo1.py\n"
          ]
        }
      ]
    },
    {
      "cell_type": "markdown",
      "source": [
        "A pesar de que llamamos tres veces al import, sólo vemos una única vez el contenido del print."
      ],
      "metadata": {
        "id": "RroYvjZrfVQA"
      }
    },
    {
      "cell_type": "code",
      "source": [
        "import mimodulo1\n",
        "import mimodulo1\n",
        "import mimodulo1"
      ],
      "metadata": {
        "id": "TQ9-goPlfWYb",
        "colab": {
          "base_uri": "https://localhost:8080/"
        },
        "outputId": "b87c8953-8097-4a08-81dc-6801d0826d1d"
      },
      "execution_count": null,
      "outputs": [
        {
          "output_type": "stream",
          "name": "stdout",
          "text": [
            "Importando mimodulo\n"
          ]
        }
      ]
    },
    {
      "cell_type": "markdown",
      "source": [
        "Si queremos que el módulo sea recargado, tenemos que ser explícitos, haciendo uso de reload."
      ],
      "metadata": {
        "id": "ARc2rGvEfXlx"
      }
    },
    {
      "cell_type": "code",
      "source": [
        "import mimodulo1\n",
        "import importlib\n",
        "importlib.reload(mimodulo1)\n",
        "importlib.reload(mimodulo1)"
      ],
      "metadata": {
        "id": "LOKh8PCeffuj",
        "outputId": "433d7819-2da9-4c7f-c695-af6ac298307c",
        "colab": {
          "base_uri": "https://localhost:8080/"
        }
      },
      "execution_count": null,
      "outputs": [
        {
          "output_type": "stream",
          "name": "stdout",
          "text": [
            "Importando mimodulo\n",
            "Importando mimodulo\n"
          ]
        },
        {
          "output_type": "execute_result",
          "data": {
            "text/plain": [
              "<module 'mimodulo1' from '/content/mimodulo1.py'>"
            ]
          },
          "metadata": {},
          "execution_count": 54
        }
      ]
    },
    {
      "cell_type": "code",
      "source": [],
      "metadata": {
        "id": "osH97y77EZDL"
      },
      "execution_count": null,
      "outputs": []
    }
  ]
}