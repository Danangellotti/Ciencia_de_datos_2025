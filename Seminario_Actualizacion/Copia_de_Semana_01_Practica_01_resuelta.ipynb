{
  "nbformat": 4,
  "nbformat_minor": 0,
  "metadata": {
    "colab": {
      "provenance": [],
      "collapsed_sections": [
        "FslWT-0892HB",
        "_dFsyyU4yDWq",
        "apdI5mPb98o2",
        "fLeO0avw9-45",
        "y2mgegzs-FMQ",
        "u78ep9UO-Iyd",
        "vk4M3KEJ-McE",
        "dWWYxLkR-QC9",
        "8HYeUBwQ-Thn",
        "I6ba_3IZ-YfW",
        "bESkLxW99zOt",
        "4AkVcM-t9ppg",
        "VO6DwQHx4eae"
      ],
      "include_colab_link": true
    },
    "kernelspec": {
      "name": "python3",
      "display_name": "Python 3"
    },
    "language_info": {
      "name": "python"
    }
  },
  "cells": [
    {
      "cell_type": "markdown",
      "metadata": {
        "id": "view-in-github",
        "colab_type": "text"
      },
      "source": [
        "<a href=\"https://colab.research.google.com/github/Danangellotti/Ciencia_de_datos_2025/blob/main/Copia_de_Semana_01_Practica_01_resuelta.ipynb\" target=\"_parent\"><img src=\"https://colab.research.google.com/assets/colab-badge.svg\" alt=\"Open In Colab\"/></a>"
      ]
    },
    {
      "cell_type": "markdown",
      "source": [
        "# Ejercicio 01\n",
        "\n",
        "La función `print`, es una de las directivas más sencillas de Python, simplemente imprime una línea de texto en la pantalla.\n",
        "\n",
        "En tu primer laboratorio:\n",
        "* Utiliza la función `print` para imprimir la linea \"¡Hola, Mundo!\" en la pantalla.\n",
        "\n",
        "* Una vez hecho esto, utiliza la función `print` nuevamente, pero esta vez imprime tu nombre.\n",
        "\n",
        "* Cambia las comillas dobles por comillas simple.\n",
        "\n",
        "* Imprime más de 1 valor haciendo que la función reciba varios parámetros separados por una coma.\n",
        "\n",
        "* Igual al punto anterior pero utiliza el parámetro llamado `sep` para serparar los valores. Prueba pasandole a `sep` el valor '#sep#'. (sep='#sep#'). ¿Como afecta esto a la salida?\n",
        "\n",
        "* Igual al punto anterior pero utiliza el parámetro llamado `end` para serparar las líneas. Prueba pasandole a `end` el valor '\\n'\\*4. (end='\\n'\\*4). ¿Como afecta esto a la salida?\n",
        "\n",
        "* Elimina las comillas dobles y ejecuta el código. Observa la reacción de Python. ¿Qué tipo de error se produce?\n",
        "\n",
        "* Luego, elimina los paréntesis, vuelve a poner las comillas dobles y vuelve a ejecutar el código. ¿Qué tipo de error se produce esta vez?\n",
        "\n",
        "* Experimenta tanto como puedas. Cambia las comillas dobles a comillas simples, utiliza múltiples funciones `print` en la misma línea y luego en líneas diferentes. Observa que es lo que ocurre."
      ],
      "metadata": {
        "id": "ANRJsKo_tIEF"
      }
    },
    {
      "cell_type": "code",
      "source": [
        "#@title Solución: Utiliza la función `print` para imprimir la linea \"¡Hola, Mundo!\" en la pantalla.\n",
        "\n",
        "print(\"!Hola, Python!\")"
      ],
      "metadata": {
        "colab": {
          "base_uri": "https://localhost:8080/"
        },
        "id": "HfYf_lvMtVWy",
        "outputId": "5b28f261-db59-4d5f-dedc-19ca0e708fc3"
      },
      "execution_count": null,
      "outputs": [
        {
          "output_type": "stream",
          "name": "stdout",
          "text": [
            "!Hola, Python!\n"
          ]
        }
      ]
    },
    {
      "cell_type": "code",
      "source": [
        "#@title Solución: Una vez hecho esto, utiliza la función print nuevamente, pero esta vez imprime tu nombre.\n",
        "\n",
        "print(\"Seminario de Actualización I\")"
      ],
      "metadata": {
        "colab": {
          "base_uri": "https://localhost:8080/"
        },
        "id": "sDn8TaH_tmIK",
        "outputId": "44a49398-fba6-42ab-d451-8d272405d182"
      },
      "execution_count": null,
      "outputs": [
        {
          "output_type": "stream",
          "name": "stdout",
          "text": [
            "Seminario de Actualización I\n"
          ]
        }
      ]
    },
    {
      "cell_type": "code",
      "source": [
        "#@title Solución: Cambia las comillas dobles por comillas simple.\n",
        "\n",
        "print('Seminario de Actualización I')"
      ],
      "metadata": {
        "id": "XwgRJVCyv1wE"
      },
      "execution_count": null,
      "outputs": []
    },
    {
      "cell_type": "code",
      "source": [
        "#@title Solución: Imprime más de 1 valor haciendo que la función reciba varios parámetros separados por una coma.\n",
        "\n",
        "print('Seminario', 'de', 'Actualización', 1)"
      ],
      "metadata": {
        "colab": {
          "base_uri": "https://localhost:8080/"
        },
        "id": "4mFDDEycv91y",
        "outputId": "51fa72b9-ede2-47cd-9ad3-a088c309d160"
      },
      "execution_count": null,
      "outputs": [
        {
          "output_type": "stream",
          "name": "stdout",
          "text": [
            "Seminario de Actualización 1\n"
          ]
        }
      ]
    },
    {
      "cell_type": "code",
      "source": [
        "#@title Solución: Igual al punto anterior pero utiliza el parámetro llamado sep para serparar los valores. Prueba pasandole a sep el valor '#sep#'. (sep='#sep#'). ¿Como afecta esto a la salida?\n",
        "\n",
        "print('Seminario', 'de', 'Actualización', 1, sep='#sep#')"
      ],
      "metadata": {
        "colab": {
          "base_uri": "https://localhost:8080/"
        },
        "id": "1_GjDSbMwKk9",
        "outputId": "9738debd-8de0-44d7-f10d-446543139cb2"
      },
      "execution_count": null,
      "outputs": [
        {
          "output_type": "stream",
          "name": "stdout",
          "text": [
            "Seminario#sep#de#sep#Actualización#sep#1\n"
          ]
        }
      ]
    },
    {
      "cell_type": "code",
      "source": [
        "#@title Solución: Igual al punto anterior pero utiliza el parámetro llamado end para serparar las líneas. Prueba pasandole a end el valor '\\n'*4. (end='\\n'*4). ¿Como afecta esto a la salida?\n",
        "\n",
        "print('Seminario', 'de', 'Actualización', 1, end='\\n'*4)"
      ],
      "metadata": {
        "colab": {
          "base_uri": "https://localhost:8080/"
        },
        "id": "Be6AM-riwcEw",
        "outputId": "5262bd46-c481-4d0f-f249-aa983c65a3ec"
      },
      "execution_count": null,
      "outputs": [
        {
          "output_type": "stream",
          "name": "stdout",
          "text": [
            "Seminario de Actualización 1\n",
            "\n",
            "\n",
            "\n"
          ]
        }
      ]
    },
    {
      "cell_type": "code",
      "source": [
        "#@title Solución: Elimina las comillas dobles y ejecuta el código. Observa la reacción de Python. ¿Qué tipo de error se produce?\n",
        "\n",
        "print(Greg)"
      ],
      "metadata": {
        "colab": {
          "base_uri": "https://localhost:8080/",
          "height": 183
        },
        "id": "k0IVC8b3tnov",
        "outputId": "8156d6c0-9b49-458d-ffc4-715e7c969a18"
      },
      "execution_count": null,
      "outputs": [
        {
          "output_type": "error",
          "ename": "NameError",
          "evalue": "name 'Greg' is not defined",
          "traceback": [
            "\u001b[0;31m---------------------------------------------------------------------------\u001b[0m",
            "\u001b[0;31mNameError\u001b[0m                                 Traceback (most recent call last)",
            "\u001b[0;32m<ipython-input-3-80b94af08a56>\u001b[0m in \u001b[0;36m<cell line: 3>\u001b[0;34m()\u001b[0m\n\u001b[1;32m      1\u001b[0m \u001b[0;31m#@title Solución punto 3\u001b[0m\u001b[0;34m\u001b[0m\u001b[0;34m\u001b[0m\u001b[0m\n\u001b[1;32m      2\u001b[0m \u001b[0;34m\u001b[0m\u001b[0m\n\u001b[0;32m----> 3\u001b[0;31m \u001b[0mprint\u001b[0m\u001b[0;34m(\u001b[0m\u001b[0mGreg\u001b[0m\u001b[0;34m)\u001b[0m\u001b[0;34m\u001b[0m\u001b[0;34m\u001b[0m\u001b[0m\n\u001b[0m",
            "\u001b[0;31mNameError\u001b[0m: name 'Greg' is not defined"
          ]
        }
      ]
    },
    {
      "cell_type": "code",
      "source": [
        "#@title Solución: Luego, elimina los paréntesis, vuelve a poner las comillas dobles y vuelve a ejecutar el código. ¿Qué tipo de error se produce esta vez?\n",
        "print \"Greg\""
      ],
      "metadata": {
        "colab": {
          "base_uri": "https://localhost:8080/",
          "height": 110
        },
        "id": "P3HngN8VtoBW",
        "outputId": "1829959d-c7a6-44ed-9efa-188bc7dd648c"
      },
      "execution_count": null,
      "outputs": [
        {
          "output_type": "error",
          "ename": "SyntaxError",
          "evalue": "Missing parentheses in call to 'print'. Did you mean print(...)? (<ipython-input-4-eb1369d4bc76>, line 2)",
          "traceback": [
            "\u001b[0;36m  File \u001b[0;32m\"<ipython-input-4-eb1369d4bc76>\"\u001b[0;36m, line \u001b[0;32m2\u001b[0m\n\u001b[0;31m    print \"Greg\"\u001b[0m\n\u001b[0m    ^\u001b[0m\n\u001b[0;31mSyntaxError\u001b[0m\u001b[0;31m:\u001b[0m Missing parentheses in call to 'print'. Did you mean print(...)?\n"
          ]
        }
      ]
    },
    {
      "cell_type": "code",
      "source": [
        "#@title Solución: Experimenta tanto como puedas. Cambia las comillas dobles a comillas simples, utiliza múltiples funciones print en la misma línea y luego en líneas diferentes. Observa que es lo que ocurre.\n",
        "\n",
        "print('Seminario', 'de', 'Actualización', 1, end='\\n'*4)\n",
        "print(\"Utlizo\", \"2\", \"prints\", sep='-')"
      ],
      "metadata": {
        "colab": {
          "base_uri": "https://localhost:8080/"
        },
        "id": "bzr2FUMZtoTC",
        "outputId": "1f9f8195-4c6a-4d1a-95e8-518e3f9b6698"
      },
      "execution_count": null,
      "outputs": [
        {
          "output_type": "stream",
          "name": "stdout",
          "text": [
            "Seminario de Actualización 1\n",
            "\n",
            "\n",
            "\n",
            "Utlizo-2-prints\n"
          ]
        }
      ]
    },
    {
      "cell_type": "markdown",
      "source": [
        "# Ejercicio 2\n",
        "\n",
        "Modifica la primera línea de código en el editor, utilizando las palabras clave sep y end, para que coincida con el resultado esperado. Recuerda, utilizar dos funciones print().\n",
        "\n",
        "No cambies nada en la segunda invocación de print()."
      ],
      "metadata": {
        "id": "g0toWyljxXMT"
      }
    },
    {
      "cell_type": "code",
      "source": [
        "## Salida Esperada\n",
        "# Fundamentos***Programación***en...Python\n",
        "print(\"Fundamentos\",\"Programación\",\"en\")\n",
        "\n",
        "## NO TOCAR\n",
        "print(\"Python\")"
      ],
      "metadata": {
        "id": "iFz9oAp-xeyg"
      },
      "execution_count": null,
      "outputs": []
    },
    {
      "cell_type": "code",
      "source": [
        "#@title Solución\n",
        "# Fundamentos***Programación***en...Python\n",
        "print(\"Fundamentos\",\"Programación\",\"en\", sep=\"***\", end=\"...\")\n",
        "\n",
        "## NO TOCAR\n",
        "print(\"Python\")"
      ],
      "metadata": {
        "colab": {
          "base_uri": "https://localhost:8080/"
        },
        "id": "zvnBllOsxfrQ",
        "outputId": "4af72c14-4f57-4991-8826-9ba4b0f5f4ff"
      },
      "execution_count": null,
      "outputs": [
        {
          "output_type": "stream",
          "name": "stdout",
          "text": [
            "Fundamentos***Programación***en...Python\n"
          ]
        }
      ]
    },
    {
      "cell_type": "markdown",
      "source": [
        "# Ejercicio 3\n",
        "\n",
        "Recomendamos que juegues con el código que hemos escrito para ti y que realices algunas correcciones (quizás incluso destructivas). Siéntete libre de modificar cualquier parte del código, pero hay una condición: aprende de tus errores y saca tus propias conclusiones.\n",
        "\n",
        "Intenta:\n",
        "\n",
        "* Minimizar el número de invocaciones de la función print() insertando la secuencia \\n en las cadenas. Utilizar una sola llamada a print.\n",
        "\n",
        "* Hacer la flecha dos veces más grande (pero mantener las proporciones).\n",
        "\n",
        "* Duplicar la flecha, colocando ambas flechas lado a lado.\n"
      ],
      "metadata": {
        "id": "HtluMPOQyEtX"
      }
    },
    {
      "cell_type": "code",
      "source": [
        "print(\"    *\")\n",
        "print(\"   * *\")\n",
        "print(\"  *   *\")\n",
        "print(\" *     *\")\n",
        "print(\"***   ***\")\n",
        "print(\"  *   *\")\n",
        "print(\"  *   *\")\n",
        "print(\"  *****\")"
      ],
      "metadata": {
        "id": "TczoCjUu0Hlv"
      },
      "execution_count": null,
      "outputs": []
    },
    {
      "cell_type": "code",
      "source": [
        "#@title Solución: Minimizar el número de invocaciones de la función print() insertando la secuencia \\n en las cadenas. Utilizar una sola llamada a print.\n",
        "# Solución\n",
        "\n",
        "print(\"    *\", \"   * *\", \"  *   *\", \" *     *\", \"***   ***\",\"  *   *\", \"  *   *\", \"  *****\", sep= '\\n')"
      ],
      "metadata": {
        "colab": {
          "base_uri": "https://localhost:8080/"
        },
        "id": "s36g4pBMyf7U",
        "outputId": "a8070d60-2841-4199-9ed6-758810be81d6"
      },
      "execution_count": null,
      "outputs": [
        {
          "output_type": "stream",
          "name": "stdout",
          "text": [
            "    *\n",
            "   * *\n",
            "  *   *\n",
            " *     *\n",
            "***   ***\n",
            "  *   *\n",
            "  *   *\n",
            "  *****\n"
          ]
        }
      ]
    },
    {
      "cell_type": "code",
      "source": [
        "#@title Solución: Hacer la flecha dos veces más grande (pero mantener las proporciones).\n",
        "# Solución\n",
        "\n",
        "print(\"        *\")\n",
        "print(\"       * *\")\n",
        "print(\"      *   *\")\n",
        "print(\"     *     *\")\n",
        "print(\"    *       *\")\n",
        "print(\"   *         *\")\n",
        "print(\"  *           *\")\n",
        "print(\" *             *\")\n",
        "print(\"******     ******\")\n",
        "print(\"     *     *\")\n",
        "print(\"     *     *\")\n",
        "print(\"     *     *\")\n",
        "print(\"     *     *\")\n",
        "print(\"     *     *\")\n",
        "print(\"     *     *\")\n",
        "print(\"     *******\")"
      ],
      "metadata": {
        "colab": {
          "base_uri": "https://localhost:8080/"
        },
        "id": "EEsXpRbKzArm",
        "outputId": "9a901d7d-2eab-4c40-f466-2dd3cf18fdd8"
      },
      "execution_count": null,
      "outputs": [
        {
          "output_type": "stream",
          "name": "stdout",
          "text": [
            "        *\n",
            "       * *\n",
            "      *   *\n",
            "     *     *\n",
            "    *       *\n",
            "   *         *\n",
            "  *           *\n",
            " *             *\n",
            "******     ******\n",
            "     *     *\n",
            "     *     *\n",
            "     *     *\n",
            "     *     *\n",
            "     *     *\n",
            "     *     *\n",
            "     *******\n"
          ]
        }
      ]
    },
    {
      "cell_type": "code",
      "source": [
        "#@title Solución: Duplicar la flecha, colocando ambas flechas lado a lado.\n",
        "# Solución\n",
        "\n",
        "print(\"        *        \"*2)\n",
        "print(\"       * *       \"*2)\n",
        "print(\"      *   *      \"*2)\n",
        "print(\"     *     *     \"*2)\n",
        "print(\"    *       *    \"*2)\n",
        "print(\"   *         *   \"*2)\n",
        "print(\"  *           *  \"*2)\n",
        "print(\" *             * \"*2)\n",
        "print(\"******     ******\"*2)\n",
        "print(\"     *     *     \"*2)\n",
        "print(\"     *     *     \"*2)\n",
        "print(\"     *     *     \"*2)\n",
        "print(\"     *     *     \"*2)\n",
        "print(\"     *     *     \"*2)\n",
        "print(\"     *     *     \"*2)\n",
        "print(\"     *******     \"*2)"
      ],
      "metadata": {
        "colab": {
          "base_uri": "https://localhost:8080/"
        },
        "id": "JVtSOV0fzBmC",
        "outputId": "3143db45-a7e0-4a6e-e200-57f21438b7db"
      },
      "execution_count": null,
      "outputs": [
        {
          "output_type": "stream",
          "name": "stdout",
          "text": [
            "        *                *        \n",
            "       * *              * *       \n",
            "      *   *            *   *      \n",
            "     *     *          *     *     \n",
            "    *       *        *       *    \n",
            "   *         *      *         *   \n",
            "  *           *    *           *  \n",
            " *             *  *             * \n",
            "******     ************     ******\n",
            "     *     *          *     *     \n",
            "     *     *          *     *     \n",
            "     *     *          *     *     \n",
            "     *     *          *     *     \n",
            "     *     *          *     *     \n",
            "     *     *          *     *     \n",
            "     *******          *******     \n"
          ]
        }
      ]
    },
    {
      "cell_type": "markdown",
      "source": [
        "# Ejercicio 4\n",
        "\n",
        "Escribe una sola línea de código, utilizando la función print(), así como los caracteres de nueva línea y escape, para obtener la salida esperada de tres líneas.\n",
        "\n",
        "```\n",
        "## Salida Esperada\n",
        "\n",
        "\"Estoy\"\n",
        "\"\"aprendiendo\"\"\n",
        "\"\"\"Python\"\"\"\n",
        "```"
      ],
      "metadata": {
        "id": "y2mgegzs-FMQ"
      }
    },
    {
      "cell_type": "code",
      "source": [
        "#@title Solución 1\n",
        "\n",
        "print(\"\\\"Estoy\\\"\\n\\\"\\\"aprendiendo\\\"\\\"\\n\\\"\\\"\\\"Python\\\"\\\"\\\"\")"
      ],
      "metadata": {
        "id": "jJpSffCg03qn"
      },
      "execution_count": null,
      "outputs": []
    },
    {
      "cell_type": "code",
      "source": [
        "#@title Solución 2\n",
        "\n",
        "print('\\\"Estoy\\\"\\n\\\"\\\"aprendiendo\\\"\\\"\\n\\\"\\\"\\\"Python\\\"\\\"\\\"')"
      ],
      "metadata": {
        "id": "4fewHWe4B2pe"
      },
      "execution_count": null,
      "outputs": []
    },
    {
      "cell_type": "markdown",
      "source": [
        "# Ejercicio 5\n",
        "\n",
        "Tu tarea es:\n",
        "\n",
        "* Crear las variables: juan, maria, y adan.\n",
        "\n",
        "* Asignar valores a las variables. El valor debe de ser igual al número de manzanas que cada quien tenía.\n",
        "\n",
        "* Una vez almacenados los números en las variables, imprimir las variables en una línea, y separar cada una de ellas con una coma.\n",
        "\n",
        "* Después se debe crear una nueva variable llamada total_manzanas y se debe igualar a la suma de las tres variables anteriores.\n",
        "\n",
        "* Imprime el valor almacenado en total_manzanas en la consola.\n",
        "\n",
        "* Experimenta con tu código: crea nuevas variables, asigna diferentes valores a ellas, y realiza varias operaciones aritméticas con ellas (por ejemplo, +, -, *, /, //, etc.). Intenta poner una cadena con un entero juntos en la misma línea, por ejemplo, \"Número Total de Manzanas:\" y total_manzanas."
      ],
      "metadata": {
        "id": "u78ep9UO-Iyd"
      }
    },
    {
      "cell_type": "code",
      "source": [
        "#@title Solucion\n",
        "\n",
        "juan = 3\n",
        "maria = 5\n",
        "adan = 6\n",
        "\n",
        "print('Manzanas por participante: ')\n",
        "print(f'\\t{juan=}', f'\\t{maria=}', f'\\t{adan=}', sep='\\n')\n",
        "\n",
        "total_manzanas = juan + maria + adan\n",
        "print(f'Total de manzanas: {total_manzanas}')"
      ],
      "metadata": {
        "id": "Qppyg01Y12TJ",
        "colab": {
          "base_uri": "https://localhost:8080/"
        },
        "outputId": "cbb2125b-926d-4263-838c-80bed9025525"
      },
      "execution_count": null,
      "outputs": [
        {
          "output_type": "stream",
          "name": "stdout",
          "text": [
            "Manzanas por participante: \n",
            "\tjuan=3\n",
            "\tmaria=5\n",
            "\tadan=6\n",
            "Total de manzanas: 14\n"
          ]
        }
      ]
    },
    {
      "cell_type": "markdown",
      "source": [
        "# Ejercicio 6\n",
        "\n",
        "Millas y kilómetros son unidades de longitud o distancia.\n",
        "\n",
        "Teniendo en mente que 1 milla equivale aproximadamente a 1.61 kilómetros, complementa el programa en el editor para que convierta de:\n",
        "\n",
        "\n",
        "*   Millas a kilómetros.\n",
        "\n",
        "*   Kilómetros a millas.\n",
        "\n",
        "No se debe cambiar el código existente. Escribe tu código en los lugares indicados con ###. Prueba tu programa con los datos que han sido provistos en el código fuente.\n",
        "\n",
        "\n",
        "Pon mucha atención a lo que esta ocurriendo dentro de la función print(). Analiza como es que se proveen múltiples argumentos para la función, y como es que se muestra el resultado.\n",
        "\n",
        "Nota que algunos de los argumentos dentro de la función print() son cadenas (por ejemplo \"millas son\", y otros son variables (por ejemplo miles).\n",
        "\n",
        "### TIP\n",
        "Hay una cosa interesante más que esta ocurriendo. ¿Puedes ver otra función dentro de la función print()? Es la función round(). Su trabajo es redondear la salida del resultado al número de decimales especificados en el paréntesis, y regresar un valor flotante (dentro de la función round() se puede encontrar el nombre de la variable, el nombre, una coma, y el número de decimales que se desean mostrar). Se hablará más de esta función muy pronto, no te preocupes si no todo queda muy claro. Solo se quiere impulsar tu curiosidad.\n",
        "\n",
        "\n",
        "Después de completar el laboratorio, abre Sandbox, y experimenta más. Intenta escribir diferentes convertidores, por ejemplo, un convertidor de USD a EUR, un convertidor de temperatura, etc. ¡Deja que tu imaginación vuele! Intenta mostrar los resultados combinando cadenas y variables. Intenta utilizar y experimentar con la función round() para redondear tus resultados a uno, dos o tres decimales. Revisa que es lo que sucede si no se provee un dígito al redondear. Recuerda probar tus programas.\n",
        "\n",
        "Experimenta, saca tus propias conclusiones, y aprende. Sé curioso.\n",
        "\n",
        "```\n",
        "# Resultado Esperado\n",
        "7.38 millas son 11.88 kilómetros\n",
        "12.25 kilómetros son 7.61 millas\n",
        "```"
      ],
      "metadata": {
        "id": "vk4M3KEJ-McE"
      }
    },
    {
      "cell_type": "code",
      "source": [
        "# Código sobre el que trabajar\n",
        "kilometers = 12.25\n",
        "miles = 7.38\n",
        "\n",
        "miles_to_kilometers = ###\n",
        "kilometers_to_miles = ###\n",
        "\n",
        "print(miles, \"millas son\", round(miles_to_kilometers, 2), \"kilómetros\")\n",
        "print(kilometers, \"kilómetros son\", round(kilometers_to_miles, 2), \"millas\")\n"
      ],
      "metadata": {
        "id": "P61qTfXZ2SxO"
      },
      "execution_count": null,
      "outputs": []
    },
    {
      "cell_type": "code",
      "source": [
        "#@title Solución\n",
        "\n",
        "kilometers = 12.25\n",
        "miles = 7.38\n",
        "\n",
        "miles_to_kilometers = miles * 1.61\n",
        "kilometers_to_miles = kilometers / 1.61\n",
        "\n",
        "print(miles, \"millas son\", round(miles_to_kilometers, 2), \"kilómetros\")\n",
        "print(kilometers, \"kilómetros son\", round(kilometers_to_miles, 2), \"millas\")\n"
      ],
      "metadata": {
        "id": "fSXEpW872Wxt",
        "colab": {
          "base_uri": "https://localhost:8080/"
        },
        "outputId": "dce40a46-59fa-40b6-c320-903ea6970738"
      },
      "execution_count": null,
      "outputs": [
        {
          "output_type": "stream",
          "name": "stdout",
          "text": [
            "7.38 millas son 11.88 kilómetros\n",
            "12.25 kilómetros son 7.61 millas\n"
          ]
        }
      ]
    },
    {
      "cell_type": "markdown",
      "source": [
        "# Ejercicio 7\n",
        "\n",
        "Observa el código en el editor: lee un valor flotante, lo coloca en una variable llamada x, e imprime el valor de la variable llamada y. Tu tarea es completar el código para evaluar la siguiente expresión:\n",
        "\n",
        "$3x^3 - 2x^2 + 3x - 1$\n",
        "\n",
        "El resultado debe ser asignado a y.\n",
        "\n",
        "Recuerda que la notación algebraica clásica muy seguido omite el operador de multiplicación, aquí se debe de incluir de manera explicita. Nota como se cambia el tipo de dato para asegurarnos de que x es del tipo flotante.\n",
        "\n",
        "Mantén tu código limpio y legible, y pruébalo utilizando los datos que han sido proporcionados. No te desanimes por no lograrlo en el primer intento. Se persistente y curioso.\n",
        "Datos de Prueba:\n",
        "\n",
        "| x | y |\n",
        "| --- | --- |  \n",
        "| 0 | -1.0 |\n",
        "| 1 | 3.0 |\n",
        "| -1 | -9.0 |"
      ],
      "metadata": {
        "id": "dWWYxLkR-QC9"
      }
    },
    {
      "cell_type": "code",
      "source": [
        "# Código sobre el que trabajar\n",
        "x =  # codifica aquí tus datos de prueba\n",
        "x = float(x)\n",
        "# escribe tu código aquí\n",
        "print(\"y = \", y)"
      ],
      "metadata": {
        "id": "x-FgRfmI3AH8"
      },
      "execution_count": null,
      "outputs": []
    },
    {
      "cell_type": "code",
      "source": [
        "#@title Solución\n",
        "\n",
        "x = 0\n",
        "x = float(x)\n",
        "y = 3 * x**3 - 2 * x**2 + 3 * x - 1\n",
        "print(\"y = \", y)\n",
        "\n",
        "x = 1\n",
        "x = float(x)\n",
        "y = 3 * x**3 - 2 * x**2 + 3 * x - 1\n",
        "print(\"y = \", y)\n",
        "\n",
        "x = -1\n",
        "x = float(x)\n",
        "y = 3 * x**3 - 2 * x**2 + 3 * x - 1\n",
        "print(\"y = \", y)"
      ],
      "metadata": {
        "id": "ZVR7zSuC3Egi",
        "colab": {
          "base_uri": "https://localhost:8080/"
        },
        "outputId": "856b1eda-cae0-4741-df43-9ac123924d24"
      },
      "execution_count": null,
      "outputs": [
        {
          "output_type": "stream",
          "name": "stdout",
          "text": [
            "y =  -1.0\n",
            "y =  3.0\n",
            "y =  -9.0\n"
          ]
        }
      ]
    },
    {
      "cell_type": "markdown",
      "source": [
        "# Ejercicio 8\n",
        "\n",
        "El código en el editor contiene comentarios. Intenta mejorarlo: agrega o quita comentarios donde consideres que sea apropiado (en ocasiones el remover un comentario lo hace mas legible), además, cambia el nombre de las variables donde consideres que esto mejorará la comprensión del código.\n",
        "### NOTA\n",
        "Los comentarios son muy importantes. No solo hacen que el programa sea más fácil de entender, pero también sirven para deshabilitar aquellas partes de código que no son necesarias (por ejemplo, cuando se necesita probar cierta parte del código, e ignorar el resto). Los buenos programadores describen cada parte importante del código, y dan nombres significativos a variables, debido a que en ocasiones es mucho más sencillo dejar el comentario dentro del código mismo.\n",
        "\n",
        "Es bueno utilizar nombres de variables legibles, y en ocasiones es mejor dividir el código en partes con nombres (por ejemplo en funciones). En algunas situaciones, es una buena idea escribir los pasos de como se realizaron los cálculos de una forma sencilla y clara.\n",
        "\n",
        "Una cosa mas: puede ocurrir que un comentario contenga una pieza de información incorrecta o errónea, nunca se debe de hacer eso a propósito."
      ],
      "metadata": {
        "id": "8HYeUBwQ-Thn"
      }
    },
    {
      "cell_type": "code",
      "source": [
        "# Código sobre el que trabajar\n",
        "# este programa calcula los segundos en cierto número de horas determinadas\n",
        "# este programa fue escrito hace dos días\n",
        "\n",
        "a = 2 # número de horas\n",
        "seconds = 3600 # número de segundos en una hora\n",
        "\n",
        "print(\"Horas: \", a) #imprime el numero de horas\n",
        "print(\"Segundos en Horas: \", a * seconds) # se imprime el numero de segundos en determinado numero de horas\n",
        "\n",
        "#aquí también se debe de imprimir un \"Adiós\", pero el programador no tuvo tiempo de escribirlo\n",
        "#este el es fin del programa que calcula el numero de segundos en 2 horas\n"
      ],
      "metadata": {
        "id": "YgqxsluJ3f5H"
      },
      "execution_count": null,
      "outputs": []
    },
    {
      "cell_type": "code",
      "source": [
        "#@title Solución\n",
        "\n",
        "horas = 2\n",
        "segundos = 3600\n",
        "\n",
        "print(\"Horas: \", horas)\n",
        "print(\"Segundos en Horas: \", horas * segundos)\n",
        "\n",
        "print( \"Adiós\")"
      ],
      "metadata": {
        "colab": {
          "base_uri": "https://localhost:8080/"
        },
        "id": "gXloFaaSFVEB",
        "outputId": "a7d2d371-2b18-414b-f466-04f604df3e21"
      },
      "execution_count": null,
      "outputs": [
        {
          "output_type": "stream",
          "name": "stdout",
          "text": [
            "Horas:  2\n",
            "Segundos en Horas:  7200\n",
            "Adiós\n"
          ]
        }
      ]
    },
    {
      "cell_type": "markdown",
      "source": [
        "# Ejercicio 9\n",
        "\n",
        "La tarea es completar el código para evaluar y mostrar el resultado de cuatro operaciones aritméticas básicas.\n",
        "\n",
        "El resultado debe ser mostrado en consola.\n",
        "\n",
        "Quizá no podrás proteger el código de un usuario que intente dividir entre cero. Por ahora, no hay que preocuparse por ello.\n",
        "\n",
        "Prueba tu código - ¿Produce los resultados esperados?\n",
        "\n",
        "No te mostraremos ningún dato de prueba, eso sería demasiado sencillo."
      ],
      "metadata": {
        "id": "I6ba_3IZ-YfW"
      }
    },
    {
      "cell_type": "code",
      "source": [
        "# Código sobre el cúal trabajar\n",
        "# ingresa un valor flotante para la variable a aquí\n",
        "# ingresa un valor flotante para la variable b aquí\n",
        "\n",
        "# muestra el resultado de la suma aquí\n",
        "# muestra el resultado de la resta aquí\n",
        "# muestra el resultado de la multiplicación aquí\n",
        "# muestra el resultado de la división aquí\n",
        "\n",
        "print(\"\\n¡Eso es todo, amigos!\")\n"
      ],
      "metadata": {
        "id": "gCRh18o-33ZA"
      },
      "execution_count": null,
      "outputs": []
    },
    {
      "cell_type": "code",
      "source": [
        "#@title Solución\n",
        "\n",
        "a = float(input(\"Ingresa el primer valor: \"))\n",
        "b = float(input(\"Ingresa el segundo valor: \"))\n",
        "\n",
        "print(\"Suma:\", a + b)\n",
        "print(\"Resta:\", a - b)\n",
        "print(\"Multiplicación:\", a * b)\n",
        "print(\"División:\", a / b)\n",
        "\n",
        "print(\"\\n¡Eso es todo, amigos!\")\n"
      ],
      "metadata": {
        "id": "qVaJbIN236b5"
      },
      "execution_count": null,
      "outputs": []
    },
    {
      "cell_type": "markdown",
      "source": [
        "# Ejercicio 10\n",
        "\n",
        "La tarea es completar el código para poder evaluar la siguiente expresión:\n",
        "\n",
        "\n",
        "# $\\frac{1}{x + \\left( \\frac{1}{x + \\left( \\frac{1}{x + \\frac{1}{x}} \\right)} \\right)}\n",
        "$\n",
        "\n",
        "El resultado debe de ser asignado a y. Se cauteloso, observa los operadores y priorízalos. Utiliza cuantos paréntesis sean necesarios.\n",
        "\n",
        "Puedes utilizar variables adicionales para acortar la expresión (sin embargo, no es muy necesario). Prueba tu código cuidadosamente.\n",
        "\n",
        "Datos de Prueba:\n",
        "\n",
        "| x | y |\n",
        "| --- | --- |  \n",
        "| 1 | 0.6000000000000001 |\n",
        "| 10 | 0.09901951266867294 |\n",
        "| 100 | 0.009999000199950014 |\n",
        "| 5 | -0.19258202567760344 |\n"
      ],
      "metadata": {
        "id": "bESkLxW99zOt"
      }
    },
    {
      "cell_type": "code",
      "source": [
        "#@title Solución\n",
        "# Solucion\n",
        "x = float(input(\"Ingresa un valor para x: \"))\n",
        "\n",
        "y = 1/(x + 1/(x + 1/(x + 1/x)))\n",
        "\n",
        "print(\"y =\", y)"
      ],
      "metadata": {
        "id": "8lXKrgt84b4J"
      },
      "execution_count": null,
      "outputs": []
    },
    {
      "cell_type": "markdown",
      "source": [
        "# Ejercicio 11\n",
        "\n",
        "La tarea es preparar un código simple para evaluar o encontrar el tiempo final de un periodo de tiempo dado, expresándolo en horas y minutos. Las horas van de 0 a 23 y los minutos de 0 a 59. El resultado debe ser mostrado en la consola.\n",
        "\n",
        "Por ejemplo, si el evento comienza a las 12:17 y dura 59 minutos, terminará a las 13:16.\n",
        "\n",
        "No te preocupes si tu código no es perfecto, está bien si acepta una hora invalida, lo más importante es que el código produzca una salida correcta acorde a la entrada dada.\n",
        "\n",
        "Prueba el código cuidadosamente. Pista: utilizar el operador % puede ser clave para el éxito.\n",
        "\n",
        "Datos de Prueba:\n",
        "\n",
        "| Horas | Minutos | Duración | Salida |\n",
        "| --- | --- | --- | --- |  \n",
        "| 12 | 17 | 59 | 13:16 |\n",
        "| 23 | 58 | 642 | 10:40 |\n",
        "| 0 | 1 | 2939 | 1:0 |"
      ],
      "metadata": {
        "id": "4AkVcM-t9ppg"
      }
    },
    {
      "cell_type": "code",
      "source": [
        "#@title Solución\n",
        "\n",
        "hour = int(input(\"Hora de inicio (horas): \"))\n",
        "mins = int(input(\"Minuto de inicio (minutos): \"))\n",
        "dura = int(input(\"Duración del evento (minutos): \"))\n",
        "mins = mins + dura # encuentra el número total de minutos\n",
        "hour = hour + mins // 60 # encuentra el número de horas ocultas en los minutos y actualiza las horas\n",
        "mins = mins % 60 # corrige los minutos para que estén en un rango de (0..59)\n",
        "hour = hour % 24 # corrige las horas para que estén en un rango de (0..23)\n",
        "print(hour, \":\", mins, sep='')"
      ],
      "metadata": {
        "id": "d50pXHEm4xm_"
      },
      "execution_count": null,
      "outputs": []
    }
  ]
}