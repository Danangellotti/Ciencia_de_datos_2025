{
  "nbformat": 4,
  "nbformat_minor": 0,
  "metadata": {
    "colab": {
      "provenance": [],
      "include_colab_link": true
    },
    "kernelspec": {
      "name": "python3",
      "display_name": "Python 3"
    },
    "language_info": {
      "name": "python"
    }
  },
  "cells": [
    {
      "cell_type": "markdown",
      "metadata": {
        "id": "view-in-github",
        "colab_type": "text"
      },
      "source": [
        "<a href=\"https://colab.research.google.com/github/Danangellotti/Ciencia_de_datos_2025/blob/main/Copia_de_Semana_01_07_tipado_dinamico.ipynb\" target=\"_parent\"><img src=\"https://colab.research.google.com/assets/colab-badge.svg\" alt=\"Open In Colab\"/></a>"
      ]
    },
    {
      "cell_type": "markdown",
      "source": [
        "# Duck Typing en Python\n",
        "El duck typing o tipado de pato es un concepto relacionado con la programación que aplica a ciertos lenguajes orientados a objetos, y que tiene origen en la siguiente frase:\n",
        "\n",
        "> If it walks like a duck and it quacks like a duck, then it must be a duck\n",
        "\n",
        "Lo que se podría traducir al español como. Si camina como un pato y habla como un pato, entonces tiene que ser un pato.\n",
        "\n",
        "¿Y qué relación tienen los patos con la programación? Pues bien, se trata de un símil en el que los patos son objetos y hablar/andar métodos. Es decir, que si un determinado objeto tiene los métodos que nos interesan, nos basta, siendo su tipo irrelevante.\n",
        "\n",
        "Dicho de otra manera, no mires si es un pato. Fíjate si habla como un pato, camina como un pato, etc. Si cumple con todas estas características, ¿no podríamos acaso decir que se trata de un pato?\n",
        "\n",
        "> Don’t check whether it is-a duck: check whether it quacks-like-a duck, walks-like-a duck, etc, etc, depending on exactly what subset of duck-like behavior you need to play your language-games with. (comp.lang.python, Jul. 26, 2000) — Alex Martelli\n",
        "\n",
        "El concepto de duck typing se fundamenta en el razonamiento inductivo, donde una serie de premisas apoyan la conclusión, pero no la garantizan. Si vemos a un animal que parece un pato, habla como tal y anda como tal, sería razonable pensar que se trata de un pato, pero sin un test de ADN nunca estaríamos al cien por cien seguros.\n",
        "\n",
        "Una vez entendido el origen del concepto, veamos lo que realmente significa esto en Python. En pocas palabras, a Python le dan igual los tipos de los objetos, lo único que le importan son los métodos.\n",
        "\n",
        "Definamos una clase Pato con un método hablar()."
      ],
      "metadata": {
        "id": "C6Zr_GbywUFT"
      }
    },
    {
      "cell_type": "code",
      "source": [
        "class Pato:\n",
        "    def hablar(self):\n",
        "        print(\"¡Cua!, Cua!\")"
      ],
      "metadata": {
        "id": "9Hqf60Y1wuMc"
      },
      "execution_count": null,
      "outputs": []
    },
    {
      "cell_type": "markdown",
      "source": [
        "Y llamamos al método de la siguiente forma.\n"
      ],
      "metadata": {
        "id": "1j97EWJXwvwe"
      }
    },
    {
      "cell_type": "code",
      "source": [
        "p = Pato()\n",
        "p.hablar()"
      ],
      "metadata": {
        "id": "JpAsrishwxjC",
        "colab": {
          "base_uri": "https://localhost:8080/"
        },
        "outputId": "e108af46-f1b6-4e0f-e0d3-f52f6fe803e4"
      },
      "execution_count": null,
      "outputs": [
        {
          "output_type": "stream",
          "name": "stdout",
          "text": [
            "¡Cua!, Cua!\n"
          ]
        }
      ]
    },
    {
      "cell_type": "markdown",
      "source": [
        "Hasta aquí nada nuevo, pero vamos a definir una función llama_hablar(), que llama al método hablar() del objeto que se le pase.\n"
      ],
      "metadata": {
        "id": "qez9uTPtwy-G"
      }
    },
    {
      "cell_type": "code",
      "source": [
        "def llama_hablar(x):\n",
        "    x.hablar()"
      ],
      "metadata": {
        "id": "4mo8J56qw25_"
      },
      "execution_count": null,
      "outputs": []
    },
    {
      "cell_type": "markdown",
      "source": [
        "Como puedes observar, en Python no es necesario especificar los tipos, simplemente decimos que el parámetro de entrada tiene el nombre x, pero no especificamos su tipo.\n",
        "\n",
        "Cuando Python entra en la función y evalúa x.hablar(), le da igual el tipo al que pertenezca x siempre y cuando tenga el método hablar(). Esto es el duck typing en todo su esplendor."
      ],
      "metadata": {
        "id": "k7HXnNcNw4iH"
      }
    },
    {
      "cell_type": "code",
      "source": [
        "p = Pato()\n",
        "llama_hablar(p)"
      ],
      "metadata": {
        "id": "XLHVcU02w942",
        "colab": {
          "base_uri": "https://localhost:8080/"
        },
        "outputId": "7e6550ae-76fe-45b2-d2e5-a488e437ecd4"
      },
      "execution_count": null,
      "outputs": [
        {
          "output_type": "stream",
          "name": "stdout",
          "text": [
            "¡Cua!, Cua!\n"
          ]
        }
      ]
    },
    {
      "cell_type": "markdown",
      "source": [
        "¿Y qué pasa si usamos otros objetos que no son de la clase Pato? Pues bien, como hemos dicho, a la función llama_hablar() le da igual el tipo. Lo único que el importa es que el objeto tenga el método hablar().\n",
        "\n",
        "Definamos tres clases de animales distintas que implementan el método hablar(). Nótese que no existe herencia entre ellas, son clases totalmente independientes. De haberla estaríamos hablando de polimorfismo."
      ],
      "metadata": {
        "id": "y3D3Y6pPxAgs"
      }
    },
    {
      "cell_type": "code",
      "source": [
        "class Perro:\n",
        "    def hablar(self):\n",
        "        print(\"¡Guau, Guau!\")\n",
        "\n",
        "class Gato:\n",
        "    def hablar(self):\n",
        "        print(\"¡Miau, Miau!\")\n",
        "\n",
        "class Vaca:\n",
        "    def hablar(self):\n",
        "        print(\"¡Muuu, Muuu!\")"
      ],
      "metadata": {
        "id": "aoTbUu2ixFgx"
      },
      "execution_count": null,
      "outputs": []
    },
    {
      "cell_type": "markdown",
      "source": [
        "Y como es de esperar la función llama_hablar() funciona correctamente con todos los objetos.\n"
      ],
      "metadata": {
        "id": "Fb3xObWQxGtJ"
      }
    },
    {
      "cell_type": "code",
      "source": [
        "print(\"Llamamos al método 'hablar' del objeto 'Perro'.\")\n",
        "llama_hablar(Perro())\n",
        "\n",
        "print(\"Llamamos al método 'hablar' del objeto 'Gato'.\")\n",
        "llama_hablar(Gato())\n",
        "\n",
        "print(\"Llamamos al método 'hablar' del objeto 'Vaca'.\")\n",
        "llama_hablar(Vaca())"
      ],
      "metadata": {
        "id": "jghJKO31xIlJ",
        "colab": {
          "base_uri": "https://localhost:8080/"
        },
        "outputId": "d3f5ed19-4064-459c-af65-73025306cd4f"
      },
      "execution_count": null,
      "outputs": [
        {
          "output_type": "stream",
          "name": "stdout",
          "text": [
            "Llamamos al método 'hablar' del objeto 'Perro'.\n",
            "¡Guau, Guau!\n",
            "Llamamos al método 'hablar' del objeto 'Gato'.\n",
            "¡Miau, Miau!\n",
            "Llamamos al método 'hablar' del objeto 'Vaca'.\n",
            "¡Muuu, Muuu!\n"
          ]
        }
      ]
    },
    {
      "cell_type": "markdown",
      "source": [
        "Otra forma de verlo, es iterando una lista con diferentes animales, donde animal va tomando los valores de cada objeto animal. Todo un ejemplo del duck typing y del tipado dinámico en Python."
      ],
      "metadata": {
        "id": "lNNdGbqExLBD"
      }
    },
    {
      "cell_type": "code",
      "source": [
        "lista = [Perro(), Gato(), Vaca()]\n",
        "for animal in lista:\n",
        "    print(f\"Llamamos al método 'hablar' del objeto '{animal.__class__.__name__}'.\")\n",
        "    animal.hablar()"
      ],
      "metadata": {
        "id": "FG6D5Y18xNTT",
        "colab": {
          "base_uri": "https://localhost:8080/"
        },
        "outputId": "9279f32b-0361-4b4e-fc8d-ec85b62b38c9"
      },
      "execution_count": null,
      "outputs": [
        {
          "output_type": "stream",
          "name": "stdout",
          "text": [
            "Llamamos al método 'hablar' del objeto 'Perro'.\n",
            "¡Guau, Guau!\n",
            "Llamamos al método 'hablar' del objeto 'Gato'.\n",
            "¡Miau, Miau!\n",
            "Llamamos al método 'hablar' del objeto 'Vaca'.\n",
            "¡Muuu, Muuu!\n"
          ]
        }
      ]
    },
    {
      "cell_type": "markdown",
      "source": [
        "## Ejemplos Duck Typing\n"
      ],
      "metadata": {
        "id": "2rMq_qMbxPdq"
      }
    },
    {
      "cell_type": "markdown",
      "source": [
        "### Ejemplo len()\n",
        "Podemos ver el duck typing en todo su esplendor con la función `len()`. Dicha función lo único que realiza por debajo es llamar al método mágico `__len__()`.\n",
        "\n",
        "Definamos dos clases:\n",
        "* Foo implementa el método `__len__()`.\n",
        "* Bar no lo implementa."
      ],
      "metadata": {
        "id": "Jd_DckAGxSXG"
      }
    },
    {
      "cell_type": "code",
      "source": [
        "class Foo():\n",
        "    def __len__(self):\n",
        "        return 99\n",
        "\n",
        "class Bar():\n",
        "    pass"
      ],
      "metadata": {
        "id": "ZTHHxSBixVPT"
      },
      "execution_count": null,
      "outputs": []
    },
    {
      "cell_type": "markdown",
      "source": [
        "Como ya hemos explicado, a la función `len()` no le importa el tipo del objeto que se le pase, siempre y cuando tenga el método `__len__()` implementado. Por ello, en el segundo caso falla."
      ],
      "metadata": {
        "id": "UJqKlBZ8xcz1"
      }
    },
    {
      "cell_type": "code",
      "source": [
        "import traceback"
      ],
      "metadata": {
        "id": "HYmS96WfJoVA"
      },
      "execution_count": null,
      "outputs": []
    },
    {
      "cell_type": "code",
      "source": [
        "print(\"La longitud es: \", len(Foo()))\n",
        "\n",
        "try:\n",
        "  print(\"La longitud es: \", len(Bar()))\n",
        "except Exception:\n",
        "  traceback.print_exc()\n",
        "  print(\"Salta una excepción porque la clase 'Bar' no tiene definido el método 'len'\")\n"
      ],
      "metadata": {
        "id": "45ZMYZSAxgYM",
        "colab": {
          "base_uri": "https://localhost:8080/"
        },
        "outputId": "70372c4f-374c-4228-dbcb-685eeb4f1ac6"
      },
      "execution_count": null,
      "outputs": [
        {
          "output_type": "stream",
          "name": "stdout",
          "text": [
            "La longitud es:  99\n",
            "Salta una excepción porque la clase 'Bar' no tiene definido el método 'len'\n"
          ]
        },
        {
          "output_type": "stream",
          "name": "stderr",
          "text": [
            "Traceback (most recent call last):\n",
            "  File \"<ipython-input-10-0024386495f0>\", line 4, in <cell line: 3>\n",
            "    print(\"La longitud es: \", len(Bar()))\n",
            "TypeError: object of type 'Bar' has no len()\n"
          ]
        }
      ]
    },
    {
      "cell_type": "markdown",
      "source": [
        "\n",
        "### Ejemplo multiplicar\n",
        "Por otro lado, cuando hacemos una multiplicación utilizando el operador aritmético `*` el resultado depende de los tipos que estemos usando.\n",
        "\n",
        "No es lo mismo multiplicar dos enteros que un entero y cadena."
      ],
      "metadata": {
        "id": "XC7WR-ZXxiLE"
      }
    },
    {
      "cell_type": "code",
      "source": [
        "print(\"La multiplicación de 3*3 entera es: \" ,3*3)\n",
        "print(\"La multiplicación de 3*\\\"3\\\" (int*str) es: \" ,3*'3')"
      ],
      "metadata": {
        "id": "Cnj2eGB7xmvQ",
        "colab": {
          "base_uri": "https://localhost:8080/"
        },
        "outputId": "cfce2a81-21ac-48f2-82a2-98ad75bc5d4e"
      },
      "execution_count": null,
      "outputs": [
        {
          "output_type": "stream",
          "name": "stdout",
          "text": [
            "La multiplicación de 3*3 entera es:  9\n",
            "La multiplicación de 3*\"3\" (int*str) es:  333\n"
          ]
        }
      ]
    },
    {
      "cell_type": "markdown",
      "source": [
        "Una vez más, podemos ver el duck typing en Python. Simplemente se busca que los objetos a la izquierda y derecha del `*` tengan implementado el `__rmul__` o `__mul__`."
      ],
      "metadata": {
        "id": "j3IqriVOxoEp"
      }
    },
    {
      "cell_type": "markdown",
      "source": [
        "\n",
        "## Conclusiones\n",
        "Python es un lenguaje que soporta el duck typing, lo que hace que el tipo de los objetos no sea tan relevante, siendo más importante lo que pueden hacer (sus métodos).\n",
        "Otros lenguajes como Java no soporta el duck typing, pero se puede conseguir un comportamiento similar cuando los objetos comparten un interfaz (si existe herencia entre ellos). Este concepto relacionado es el polimorfismo.\n",
        "El duck typing está en todos lados, desde la función len() hasta el uso del operador *."
      ],
      "metadata": {
        "id": "QOHkb46LxqUB"
      }
    }
  ]
}