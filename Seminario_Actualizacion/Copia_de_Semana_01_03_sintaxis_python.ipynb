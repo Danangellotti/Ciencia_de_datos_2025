{
  "nbformat": 4,
  "nbformat_minor": 0,
  "metadata": {
    "colab": {
      "provenance": [],
      "toc_visible": true,
      "include_colab_link": true
    },
    "kernelspec": {
      "name": "python3",
      "display_name": "Python 3"
    },
    "language_info": {
      "name": "python"
    }
  },
  "cells": [
    {
      "cell_type": "markdown",
      "metadata": {
        "id": "view-in-github",
        "colab_type": "text"
      },
      "source": [
        "<a href=\"https://colab.research.google.com/github/Danangellotti/Ciencia_de_datos_2025/blob/main/Copia_de_Semana_01_03_sintaxis_python.ipynb\" target=\"_parent\"><img src=\"https://colab.research.google.com/assets/colab-badge.svg\" alt=\"Open In Colab\"/></a>"
      ]
    },
    {
      "cell_type": "markdown",
      "source": [
        "# Sintaxis Python\n",
        "\n",
        "A continuación veremos la sintaxis de Python, creando nuestras primeras variables y estructuras de control.\n",
        "\n",
        "El termino sintaxis hace referencia al conjunto de reglas que definen como se tiene que escribir el código en un determinado lenguaje de programación. Es decir, hace referencia a la forma en la que debemos escribir las instrucciones para que el ordenador, o más bien lenguaje de programación, nos entienda.\n",
        "\n",
        "En la mayoría de lenguajes existe una sintaxis común, como por ejemplo el uso de `=` para asignar un dato a una variable, o el uso de `{}` para designar bloques de código, pero Python tiene ciertas particularidades.\n",
        "\n",
        "La sintaxis es a la programación lo que la gramática es a los idiomas. De la misma forma que la frase “Yo estamos aquí” no es correcta, el siguiente código en Python no sería correcto, ya que no respeta las normas del lenguaje.\n",
        "\n",
        "```\n",
        "if ($variable) {\n",
        "    x = 9;\n",
        "}\n",
        "```\n",
        "\n",
        "Lo veremos a continuación en detalle, pero Python no soporta el uso de `$` ni hace falta terminar las líneas con `;` como en otros lenguajes, y tampoco hay que usar `{}` en estructuras de control como en el if.\n",
        "\n",
        "Por otro lado, de la misma forma que un idioma no se habla simplemente sabeiendo todas sus palabras, en la programación no basta con saber la sintaxis de un lenguaje para programar correctamente en él. Es cierto que sabiendo la sintaxis podremos empezar a programar y a hacer lo que queramos, pero el uso de un lenguaje de programación va mucho más allá de la sintaxis.\n",
        "\n",
        "Para empezar a perderle el miedo a la sintaxis de Python, vamos a ver un ejemplo donde vemos cadenas, operadores aritméticos y el uso del condicional if.\n",
        "\n",
        "El siguiente código simplemente define tres valores a, b y c, realiza unas operaciones con ellos y muestra el resultado por pantalla."
      ],
      "metadata": {
        "id": "JApKmCZbis6t"
      }
    },
    {
      "cell_type": "code",
      "source": [
        "# Definimos una variable x con una cadena\n",
        "x = \"El valor de (a+b)*c es\"\n",
        "\n",
        "# Podemos realizar múltiples asignaciones\n",
        "a, b, c = 4, 3, 2\n",
        "\n",
        "# Realizamos unas operaciones con a,b,c\n",
        "d = (a + b) * c\n",
        "\n",
        "# Definimos una variable booleana\n",
        "imprimir = True\n",
        "\n",
        "# Si imprimir, print()\n",
        "if imprimir:\n",
        "    print(x, d)"
      ],
      "metadata": {
        "id": "dXzMs_Ofiyiw",
        "colab": {
          "base_uri": "https://localhost:8080/"
        },
        "outputId": "71b010ad-01ed-4c5b-caa9-4438e8fa7841"
      },
      "execution_count": null,
      "outputs": [
        {
          "output_type": "stream",
          "name": "stdout",
          "text": [
            "El valor de (a+b)*c es 14\n"
          ]
        }
      ]
    },
    {
      "cell_type": "markdown",
      "source": [
        "\n",
        "Como puedes observar, la sintaxis de Python es muy parecida al lenguaje natural o pseudocódigo, lo que hace que sea relativamente fácil de leer. Otra ventaja es que no necesitamos nada más, el código anterior puede ser ejecutado tal cual está. Si conoces otros lenguajes como C o Java, esto te resultará cómodo, ya que no es necesario crear la típica función main().\n"
      ],
      "metadata": {
        "id": "nJqbRMTai2OQ"
      }
    },
    {
      "cell_type": "markdown",
      "source": [
        "##Identación y bloques de código\n",
        "\n",
        "En Python los bloques de código se representan con identación, y aunque hay un poco de debate con respecto a usar tabulador o espacios, la norma general es usar cuatro espacios.\n",
        "\n",
        "En el siguiente código tenemos un condicional `if`. Justo después tenemos un `print()` identado con cuatro espacios. Por lo tanto, todo lo que tenga esa identación pertenecerá al bloque del `if`."
      ],
      "metadata": {
        "id": "BMKYLBPFjimU"
      }
    },
    {
      "cell_type": "code",
      "source": [
        "if True:\n",
        "    print(\"True\")"
      ],
      "metadata": {
        "id": "8UUmFUoCjtW0",
        "colab": {
          "base_uri": "https://localhost:8080/"
        },
        "outputId": "f2c41b7f-370f-45b1-e2f9-f86020add06d"
      },
      "execution_count": null,
      "outputs": [
        {
          "output_type": "stream",
          "name": "stdout",
          "text": [
            "True\n"
          ]
        }
      ]
    },
    {
      "cell_type": "markdown",
      "source": [
        "\n",
        "Esto es muy importante ya que el código anterior y el siguiente no son lo mismo. De hecho el siguiente código produce un error ya que el if no contiene ningún bloque de código, y eso es algo que no se puede hacer en Python.\n",
        "\n",
        "El ejecutar la celda siguiente vamos a obtener el siguiente error:\n",
        "```\n",
        "  File \"<ipython-input-5-ec4b411d8ab1>\", line 2\n",
        "    print(\"True\")\n",
        "    ^\n",
        "IndentationError: expected an indented block after 'if' statement on line 1\n",
        "```\n",
        "\n",
        "Descomentar para verificarlo."
      ],
      "metadata": {
        "id": "URgBFSs8jw_p"
      }
    },
    {
      "cell_type": "code",
      "source": [
        "#if True:\n",
        "#print(\"True\")"
      ],
      "metadata": {
        "id": "-3EwjvPlj7HN"
      },
      "execution_count": null,
      "outputs": []
    },
    {
      "cell_type": "markdown",
      "source": [
        "\n",
        "Por otro lado, a diferencia de en otros lenguajes de programación, no es necesario utilizar `;` para terminar cada línea.\n"
      ],
      "metadata": {
        "id": "jfNhu_Pfj-qW"
      }
    },
    {
      "cell_type": "code",
      "source": [
        "x = 10;"
      ],
      "metadata": {
        "id": "fD68nNVOjBSA"
      },
      "execution_count": null,
      "outputs": []
    },
    {
      "cell_type": "markdown",
      "source": [
        "Sin embargo en Python no es necesario, basta con un salto de línea.\n"
      ],
      "metadata": {
        "id": "iehiZX3XkHww"
      }
    },
    {
      "cell_type": "code",
      "source": [
        "x = 5\n",
        "y = 10"
      ],
      "metadata": {
        "id": "dMgLUPWKkOez"
      },
      "execution_count": null,
      "outputs": []
    },
    {
      "cell_type": "markdown",
      "source": [
        "Pero se puede usar el punto y coma ; para tener dos sentencias en la misma línea."
      ],
      "metadata": {
        "id": "EbsK4JQOkQ8L"
      }
    },
    {
      "cell_type": "code",
      "source": [
        "x = 5; y = 10"
      ],
      "metadata": {
        "id": "WcWBB7O_kTKD"
      },
      "execution_count": null,
      "outputs": []
    },
    {
      "cell_type": "markdown",
      "source": [
        "\n",
        "## Múltiples líneas\n",
        "\n",
        "En algunas situaciones se puede dar el caso de que queramos tener una sola instrucción en varias línea de código. Uno de los motivos principales podría ser que fuera demasiado larga, y de hecho en la especificación [PEP8](https://peps.python.org/pep-0008/) se recomienda que las líneas no excedan los 79 caracteres.\n",
        "\n",
        "Haciendo uso de `\\` se puede romper el código en varias líneas, lo que en determinados casos hace que el código sea mucho más legible."
      ],
      "metadata": {
        "id": "mTfM_8lBkV_s"
      }
    },
    {
      "cell_type": "code",
      "source": [
        "x = 1 + 2 + 3 + 4 +\\\n",
        "    5 + 6 + 7 + 8"
      ],
      "metadata": {
        "id": "Ah9ZnzO5kgY5"
      },
      "execution_count": null,
      "outputs": []
    },
    {
      "cell_type": "markdown",
      "source": [
        "Si por lo contrario estamos dentro de un bloque rodeado con paréntesis `()`, bastaría con saltar a la siguiente línea sin la necesidad de utilizar `\\`."
      ],
      "metadata": {
        "id": "vhvhLDP4kjxh"
      }
    },
    {
      "cell_type": "code",
      "source": [
        "x = (1 + 2 + 3 + 4 +\n",
        "     5 + 6 + 7 + 8)"
      ],
      "metadata": {
        "id": "wQqVFwrJkx2U"
      },
      "execution_count": null,
      "outputs": []
    },
    {
      "cell_type": "markdown",
      "source": [
        "Se puede hacer lo mismo para llamadas a funciones"
      ],
      "metadata": {
        "id": "H_BtUPLQk02S"
      }
    },
    {
      "cell_type": "code",
      "source": [
        "def funcion(a, b, c):\n",
        "    return a + b + c\n",
        "\n",
        "d = funcion(10,\n",
        "23,\n",
        "3)"
      ],
      "metadata": {
        "id": "6UEdi-bKk3P-"
      },
      "execution_count": null,
      "outputs": []
    },
    {
      "cell_type": "markdown",
      "source": [
        "## Uso de paréntesis\n",
        "Python soporta todos los operadores matemáticos más comunes, conocidos como operadores aritméticos. Por lo tanto podemos realizar sumas, restas, multiplicaciones, exponentes (usando **) y otros que no vamos a explicar por ahora. En el siguiente ejemplo realizamos varias operaciones en la misma línea, y almacenamos su resultado en y.\n",
        "\n",
        "\n"
      ],
      "metadata": {
        "id": "HLFaZSUVll4y"
      }
    },
    {
      "cell_type": "code",
      "source": [
        "x = 10\n",
        "y = x * 3 - 3**10 - 2 + 3"
      ],
      "metadata": {
        "id": "003gVAQ8loop"
      },
      "execution_count": null,
      "outputs": []
    },
    {
      "cell_type": "markdown",
      "source": [
        "\n",
        "Pero el comportamiento del código anterior y el siguiente es distinto, ya que el uso de paréntesis () da prioridad a unas operaciones sobre otras.\n"
      ],
      "metadata": {
        "id": "_piZwNENl6Mk"
      }
    },
    {
      "cell_type": "code",
      "source": [
        "x = 10\n",
        "y = (x * 3 - 3)**(10 - 2) + 3"
      ],
      "metadata": {
        "id": "9mfall4fl9NZ"
      },
      "execution_count": null,
      "outputs": []
    },
    {
      "cell_type": "markdown",
      "source": [
        "\n",
        "El uso de paréntesis no solo se aplica a los operadores aritméticos, sino que también pueden ser aplicados a otros operadores como los relacionales o de membresía que vemos en otros posts.\n",
        "\n"
      ],
      "metadata": {
        "id": "KVQfeSr-l_RX"
      }
    },
    {
      "cell_type": "markdown",
      "source": [
        "## Variables y alcance\n",
        "Un concepto muy importante cuando definimos una variable, es saber el alcance o scope que tiene. En el siguiente ejemplo la variable con valor 10 tiene un alcance global y la que tiene el valor 5 dentro de la función, tiene un alcance local. Esto significa que cuando hacemos print(x), estamos accediendo a la variable global x y no a la x definida dentro de la función.\n"
      ],
      "metadata": {
        "id": "djGIgCdqmB2b"
      }
    },
    {
      "cell_type": "code",
      "source": [
        "x = 10\n",
        "\n",
        "def funcion():\n",
        "    x = 5\n",
        "\n",
        "funcion()\n",
        "print(x)"
      ],
      "metadata": {
        "id": "0XZ1iM2SmJ_9",
        "colab": {
          "base_uri": "https://localhost:8080/"
        },
        "outputId": "f69b4ca6-de37-4a7d-99c4-7ca34f69825d"
      },
      "execution_count": null,
      "outputs": [
        {
          "output_type": "stream",
          "name": "stdout",
          "text": [
            "10\n"
          ]
        }
      ]
    },
    {
      "cell_type": "markdown",
      "source": [
        "\n",
        "Vamos a verlo con un gráfico."
      ],
      "metadata": {
        "id": "0excW75imM4U"
      }
    },
    {
      "cell_type": "markdown",
      "source": [
        "![image.png](data:image/png;base64,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)"
      ],
      "metadata": {
        "id": "iEpYwCw2m4oC"
      }
    },
    {
      "cell_type": "markdown",
      "source": [
        "Como puedes observar existen 3 bloques de código y existe la creación de la variables por un lado y sobre la columna izquierda podemos observar el ámbito de nuestra variable.\n",
        "\n",
        "El Bloque3 va a poder acceder a nuestra variable porque se encuentra por debajo de la declaración y se encuentra indentado hacia la derecha.\n",
        "\n",
        "El Bloque2 solo va a poder acceder siempre y cuando la llamemos luego de haberla creado, es decir, que si la llamamos antes de haberla creado nos va a mostrar un mensaje de error.\n",
        "\n",
        "El Bloque1 no la conoce porque se encuentra indentado hacia la izquierda de la declaración."
      ],
      "metadata": {
        "id": "hXVo8mVpm8f7"
      }
    }
  ]
}