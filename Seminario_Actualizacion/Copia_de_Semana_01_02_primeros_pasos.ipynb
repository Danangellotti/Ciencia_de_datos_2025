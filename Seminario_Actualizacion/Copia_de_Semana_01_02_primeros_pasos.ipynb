{
  "nbformat": 4,
  "nbformat_minor": 0,
  "metadata": {
    "colab": {
      "provenance": [],
      "include_colab_link": true
    },
    "kernelspec": {
      "name": "python3",
      "display_name": "Python 3"
    },
    "language_info": {
      "name": "python"
    }
  },
  "cells": [
    {
      "cell_type": "markdown",
      "metadata": {
        "id": "view-in-github",
        "colab_type": "text"
      },
      "source": [
        "<a href=\"https://colab.research.google.com/github/Danangellotti/Ciencia_de_datos_2025/blob/main/Copia_de_Semana_01_02_primeros_pasos.ipynb\" target=\"_parent\"><img src=\"https://colab.research.google.com/assets/colab-badge.svg\" alt=\"Open In Colab\"/></a>"
      ]
    },
    {
      "cell_type": "markdown",
      "source": [
        "# Primeros pasos"
      ],
      "metadata": {
        "id": "p2-AWTyoXLpS"
      }
    },
    {
      "cell_type": "markdown",
      "source": [
        "## Comentando código\n",
        "\n",
        "Decimos que un fragmento de código está comentado cuando el interpreté (o compilador, no es este el caso) no toma en cuenta esas líneas de código y las omite.\n",
        "\n",
        "Estos comentarios son muy importantes para ofrecer a otros programadores o a nuestro yo futuro información relevante acerca del código que está escrito y los pensamientos que utilizamos para crear dicho código.\n",
        "\n",
        "Al mencionar la importancia de los comentarios también debo mencionar que no se deben comentar línea de código que son obvias. Esto lo único que hace en ensuciar el código y hacerlo ilegible.\n",
        "\n",
        "Para realizar comentarios en Python utilizamos el caracter de cardinal `#`.\n",
        "Todo lo que se encuentra luego del cardinal no será tomado en cuenta a la hora de realizar la ejecución del código.\n",
        "\n",
        "La siguiente línea de código debe mostrar la cadena de caracteres 'Prueba de comentarios'."
      ],
      "metadata": {
        "id": "gRwt4oTFXt9B"
      }
    },
    {
      "cell_type": "code",
      "source": [
        "print('Prueba de comentarios')"
      ],
      "metadata": {
        "colab": {
          "base_uri": "https://localhost:8080/"
        },
        "id": "sNgB_JgBYazH",
        "outputId": "3b04a37d-57d5-47db-830d-58d6382fafbb"
      },
      "execution_count": null,
      "outputs": [
        {
          "output_type": "stream",
          "name": "stdout",
          "text": [
            "Prueba de comentarios\n"
          ]
        }
      ]
    },
    {
      "cell_type": "markdown",
      "source": [
        "Ahora le aplicamos el comentarios y vamos a ver que no se muestra nada por pantalla."
      ],
      "metadata": {
        "id": "hB_clvptYgJ0"
      }
    },
    {
      "cell_type": "code",
      "source": [
        "# print('Prueba de comentarios')"
      ],
      "metadata": {
        "id": "i3rVrZIJYmmf"
      },
      "execution_count": null,
      "outputs": []
    },
    {
      "cell_type": "markdown",
      "source": [
        "Existen otras formas que se pueden tomar como comentarios pero debemos tener en cuenta que si son interpretadas por Python y por lo tanto consumen recursos sino se ponen en los lugares.\n",
        "\n",
        "Esta otra forma son los multiline string, es decir, son string de muchas líneas que al no estar asignadas a una variable no son tomados en cuenta pero si son procesados.\n",
        "\n",
        "Notesé como se ejecutá para no muestra nada."
      ],
      "metadata": {
        "id": "mOzzu5V2YzLP"
      }
    },
    {
      "cell_type": "code",
      "source": [
        "'''Esto es una\n",
        "cadena de caracteres\n",
        "multilínea\n",
        "con identación\n",
        "'''\n",
        "print() # necesitamos está línea para evitar que nos tome el multiline como una salida"
      ],
      "metadata": {
        "colab": {
          "base_uri": "https://localhost:8080/"
        },
        "id": "R5WKeaY3azt-",
        "outputId": "7b09d373-be93-467f-e12f-298c21bb0cc4"
      },
      "execution_count": null,
      "outputs": [
        {
          "output_type": "stream",
          "name": "stdout",
          "text": [
            "\n"
          ]
        }
      ]
    },
    {
      "cell_type": "markdown",
      "source": [
        "Podemos reemplazar las comillas simple por doble y obtener el mismo resultado."
      ],
      "metadata": {
        "id": "XROyQhVjbCx9"
      }
    },
    {
      "cell_type": "code",
      "source": [
        "\"\"\"Esto es una\n",
        "cadena de caracteres\n",
        "multilínea\n",
        "con identación\n",
        "\"\"\"\n",
        "print() # necesitamos está línea para evitar que nos tome el multiline como una salida"
      ],
      "metadata": {
        "colab": {
          "base_uri": "https://localhost:8080/"
        },
        "id": "GiuVOxvrbd8h",
        "outputId": "915ca6c9-a2c9-4f99-94a5-0483faad44b0"
      },
      "execution_count": null,
      "outputs": [
        {
          "output_type": "stream",
          "name": "stdout",
          "text": [
            "\n"
          ]
        }
      ]
    },
    {
      "cell_type": "markdown",
      "source": [
        "Tener en cuenta que las comillas dobles son utilizadas en los [docstring](https://peps.python.org/pep-0257/) y es la forma correcta de comentar el código según los estandares.\n",
        "\n",
        "Lo veremos más adelante."
      ],
      "metadata": {
        "id": "4vSfQhvNbhR3"
      }
    },
    {
      "cell_type": "markdown",
      "source": [
        "## Definición de variable en programación\n",
        "\n",
        "En programación, una variable es un espacio en la memoria del ordenador que se utiliza para almacenar un valor. Este valor puede ser de cualquier tipo, como un número, una cadena de caracteres, un booleano (verdadero o falso), un objeto, etc. Las variables se identifican con un nombre único y sus valores pueden cambiar durante la ejecución del programa.\n",
        "\n",
        "Las variables tienen aspectos importantes:\n",
        "\n",
        "- Nombre: El nombre que se le asigna a la variable, que se utiliza para referirse a ella en el código.\n",
        "- Tipo de dato: El tipo de dato que la variable almacena, como número entero, cadena de texto, booleano, etc.\n",
        "- Valor: El contenido actual de la variable, que puede cambiar durante la ejecución del programa.\n",
        "- Ámbito: El área del código donde la variable es accesible, que puede ser local (dentro de un método o función) o global (en todo el programa).\n",
        "\n",
        "Las variables se utilizan para almacenar y manipular datos en un programa, lo que permite escribir código más eficiente y flexible. Algunos ejemplos de uso de variables incluyen:\n",
        "\n",
        "- Almacenar el radio de un círculo para calcular su área.\n",
        "- Guardar la edad de una persona para realizar cálculos de edad avanzada.\n",
        "- Almacenar una cadena de texto para mostrar un mensaje en la pantalla.\n",
        "\n",
        "En resumen, una variable en programación es un espacio en la memoria que se utiliza para almacenar un valor, identificado por un nombre, y que puede cambiar durante la ejecución del programa."
      ],
      "metadata": {
        "id": "JztzXQlldGCy"
      }
    },
    {
      "cell_type": "markdown",
      "source": [
        "## Definiendo variables en Python\n",
        "\n",
        "Python posee variables con la particularidad que no tiene un `tipo de dato` predefinido.\n",
        "\n",
        "Creemos una variable que almacene un número, Python es muy listo y al ver el número 5, sabrá de que tipo tiene que ser la x.\n"
      ],
      "metadata": {
        "id": "gbcoVpq_ngmO"
      }
    },
    {
      "cell_type": "code",
      "source": [
        "x = 5"
      ],
      "metadata": {
        "id": "YBcmh549ntj4"
      },
      "execution_count": null,
      "outputs": []
    },
    {
      "cell_type": "markdown",
      "source": [
        "Ahora podemos mostrar el valor que contiene nuestra variable x."
      ],
      "metadata": {
        "id": "FMb1RmXPnxUg"
      }
    },
    {
      "cell_type": "code",
      "source": [
        "print(f'El valor de la variable x es: {x}')"
      ],
      "metadata": {
        "id": "5bjdx9TjnzCA",
        "colab": {
          "base_uri": "https://localhost:8080/"
        },
        "outputId": "6474a1d3-e36f-40d7-ff72-10e419d77bcd"
      },
      "execution_count": null,
      "outputs": [
        {
          "output_type": "stream",
          "name": "stdout",
          "text": [
            "El valor de la variable x es: 5\n"
          ]
        }
      ]
    },
    {
      "cell_type": "markdown",
      "source": [
        "## Sumando variables en Python\n",
        "\n",
        "Vamos a sumar dos variables e imprimir su valor.\n",
        "\n",
        "Lo primero que vamos hacer es declararlas, con nombres a y b. Declarar una variable significa `crearla`."
      ],
      "metadata": {
        "id": "QlHwcizhn0i7"
      }
    },
    {
      "cell_type": "code",
      "source": [
        "a = 3\n",
        "b = 7"
      ],
      "metadata": {
        "id": "nPpmXdGHn40Z"
      },
      "execution_count": null,
      "outputs": []
    },
    {
      "cell_type": "markdown",
      "source": [
        "Ahora Python ya conoce las variables a y b y sus respectivos valores. Podemos hacer uso del operador + para sumarlos, y una vez más el print() para mostrar su valor por pantalla."
      ],
      "metadata": {
        "id": "BFrG1UCan5HZ"
      }
    },
    {
      "cell_type": "code",
      "source": [
        "print(f'El resultado de sumar {a} + {b} es: {a+b}')"
      ],
      "metadata": {
        "id": "vPGlqvEkn9KR",
        "colab": {
          "base_uri": "https://localhost:8080/"
        },
        "outputId": "5c8f1b02-1ff8-4e30-f2aa-27507426ab30"
      },
      "execution_count": null,
      "outputs": [
        {
          "output_type": "stream",
          "name": "stdout",
          "text": [
            "El resultado de sumar 3 + 7 es: 10\n"
          ]
        }
      ]
    },
    {
      "cell_type": "markdown",
      "source": [
        "Es importante que sólo usemos variables que hayan sido definidas, porque de lo contrario tendremos un error.\n",
        "\n",
        "Si ejecutamos la siguiente línea obtendremos el siguiente error.\n"
      ],
      "metadata": {
        "id": "UTQlG_sNn9XR"
      }
    },
    {
      "cell_type": "markdown",
      "source": [
        "Esto pasa porque Python no sabe que es z, ya que no ha sido declarada con anterioridad."
      ],
      "metadata": {
        "id": "9JEzE3t-ewVX"
      }
    },
    {
      "cell_type": "code",
      "source": [
        "import traceback"
      ],
      "metadata": {
        "id": "qaNFHCbAXRLz"
      },
      "execution_count": null,
      "outputs": []
    },
    {
      "cell_type": "code",
      "source": [
        "try:\n",
        "    print(z)\n",
        "except Exception:\n",
        "    traceback.print_exc()"
      ],
      "metadata": {
        "id": "eMdtX63rn_Nt",
        "colab": {
          "base_uri": "https://localhost:8080/"
        },
        "outputId": "02d7c97c-3228-4b5b-8930-72f31a7342d5"
      },
      "execution_count": null,
      "outputs": [
        {
          "output_type": "stream",
          "name": "stderr",
          "text": [
            "Traceback (most recent call last):\n",
            "  File \"<ipython-input-10-73f755cb897f>\", line 2, in <cell line: 1>\n",
            "    print(z)\n",
            "NameError: name 'z' is not defined\n"
          ]
        }
      ]
    }
  ]
}