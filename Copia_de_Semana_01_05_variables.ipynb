{
  "nbformat": 4,
  "nbformat_minor": 0,
  "metadata": {
    "colab": {
      "provenance": [],
      "include_colab_link": true
    },
    "kernelspec": {
      "name": "python3",
      "display_name": "Python 3"
    },
    "language_info": {
      "name": "python"
    }
  },
  "cells": [
    {
      "cell_type": "markdown",
      "metadata": {
        "id": "view-in-github",
        "colab_type": "text"
      },
      "source": [
        "<a href=\"https://colab.research.google.com/github/Danangellotti/Ciencia_de_datos_2025/blob/main/Copia_de_Semana_01_05_variables.ipynb\" target=\"_parent\"><img src=\"https://colab.research.google.com/assets/colab-badge.svg\" alt=\"Open In Colab\"/></a>"
      ]
    },
    {
      "cell_type": "markdown",
      "source": [
        "\n",
        "# Nombrando variables\n",
        "Puedes nombrar a tus variables como quieras, pero es importante saber que las mayúsculas y minúsculas son importantes. Las variables `x` y `X` son distintas.\n",
        "\n",
        "Por otro lado existen ciertas normas a la hora de nombrar variables:\n",
        "\n",
        "* El nombre no puede empezar por un número\n",
        "* No se permite el uso de guiones -\n",
        "* Tampoco se permite el uso de espacios.\n",
        "\n",
        "Se muestran unos ejemplos de nombres de variables válidos y no válidos."
      ],
      "metadata": {
        "id": "cnQikLiXlOD0"
      }
    },
    {
      "cell_type": "code",
      "source": [
        "import traceback"
      ],
      "metadata": {
        "id": "l-3t-ds-9VQ8"
      },
      "execution_count": null,
      "outputs": []
    },
    {
      "cell_type": "code",
      "source": [
        "# Válido\n",
        "_variable = 10\n",
        "vari_able = 20\n",
        "variable10 = 30\n",
        "variable = 60\n",
        "variaBle = 10\n",
        "\n",
        "## No válido, cualquiera de estas definiciones generan un error de SyntaxError\n",
        "## descomentar para verificar\n",
        "#2variable = 10\n",
        "#var-iable = 10\n",
        "#var iable = 10"
      ],
      "metadata": {
        "id": "gbIGihaClXkk"
      },
      "execution_count": null,
      "outputs": []
    },
    {
      "cell_type": "markdown",
      "source": [
        "Una última condición para nombrar a una variable en Python, es no usar nombres reservados para Python. Las palabras reservadas son utilizadas por Python internamente, por lo que no podemos usarlas para nuestras variables o funciones.\n",
        "\n",
        "Más adelante veremos cuales son todas estas palabras."
      ],
      "metadata": {
        "id": "M4V20VbMlcks"
      }
    },
    {
      "cell_type": "markdown",
      "source": [
        "\n",
        "## Creando variables\n",
        "Anteriormente ya hemos visto como crear una variable y asignarle un valor con el uso de `=`. Existen también otras formas de hacerlo de una manera un poco más sofisticada.\n",
        "\n",
        "Podemos por ejemplo asignar el mismo valor a diferentes variables con el siguiente código.\n"
      ],
      "metadata": {
        "id": "0s0b4eG1k9hO"
      }
    },
    {
      "cell_type": "code",
      "source": [
        "x = y = z = 10"
      ],
      "metadata": {
        "id": "uUIUwJTblERP"
      },
      "execution_count": null,
      "outputs": []
    },
    {
      "cell_type": "markdown",
      "source": [
        "O también podemos asignar varios valores separados por coma."
      ],
      "metadata": {
        "id": "jVZvNMgKlIxc"
      }
    },
    {
      "cell_type": "code",
      "source": [
        "x, y = 4, 2\n",
        "x, y, z = 1, 2, 3"
      ],
      "metadata": {
        "id": "YhGOiVrFlG6T"
      },
      "execution_count": null,
      "outputs": []
    },
    {
      "cell_type": "markdown",
      "source": [
        "## Tipos de escritura\n",
        "\n",
        "Existen varias formas de escrituras para los nombres de variables, funciones o clases.\n",
        "\n",
        "Vamos a suponer que queremos llamar a una variable utilizando las siguientes palabras `aumentar nivel dificultad`"
      ],
      "metadata": {
        "id": "jnigiT81fLsT"
      }
    },
    {
      "cell_type": "markdown",
      "source": [
        "### Camel Case\n",
        "\n",
        "La primer letra se escribe en minúscula y luego el comienzo de cada palabra se pasa a mayúscula.\n",
        "\n",
        "Para este caso la variable se llamaría `aumentarNivelDificultad`"
      ],
      "metadata": {
        "id": "RoVI4B5CYtZ_"
      }
    },
    {
      "cell_type": "markdown",
      "source": [
        "### Pascal Case\n",
        "\n",
        "El comienzo de cada palabra se pasa a mayúscula.\n",
        "\n",
        "Para este caso la variable se llamaría `AumentarNivelDificultad`"
      ],
      "metadata": {
        "id": "KU1JXJ5TZias"
      }
    },
    {
      "cell_type": "markdown",
      "source": [
        "### Kebab Case\n",
        "\n",
        "Las palabras son separadas por un guión medio.\n",
        "\n",
        "Para este caso la variable se llamaría `aumentar-nivel-dificultad`"
      ],
      "metadata": {
        "id": "O37CXGc-ZtwC"
      }
    },
    {
      "cell_type": "markdown",
      "source": [
        "### Snake Case\n",
        "\n",
        "Las palabras son separadas por un guión bajo.\n",
        "\n",
        "Para este caso la variable se llamaría `aumentar_nivel_dificultad`\n",
        "\n",
        "`IMPORTANTE: Este es el utilizado en Python.`"
      ],
      "metadata": {
        "id": "xTmgSA8jZ65I"
      }
    }
  ]
}