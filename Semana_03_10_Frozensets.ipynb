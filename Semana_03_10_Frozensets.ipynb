{
  "nbformat": 4,
  "nbformat_minor": 0,
  "metadata": {
    "colab": {
      "provenance": [],
      "include_colab_link": true
    },
    "kernelspec": {
      "name": "python3",
      "display_name": "Python 3"
    },
    "language_info": {
      "name": "python"
    }
  },
  "cells": [
    {
      "cell_type": "markdown",
      "metadata": {
        "id": "view-in-github",
        "colab_type": "text"
      },
      "source": [
        "<a href=\"https://colab.research.google.com/github/Danangellotti/Ciencia_de_datos_2025/blob/main/Semana_03_10_Frozensets.ipynb\" target=\"_parent\"><img src=\"https://colab.research.google.com/assets/colab-badge.svg\" alt=\"Open In Colab\"/></a>"
      ]
    },
    {
      "cell_type": "markdown",
      "source": [
        "## Frozenset"
      ],
      "metadata": {
        "id": "wnOzgTbFnPey"
      }
    },
    {
      "cell_type": "markdown",
      "source": [
        "Puedes obtener más ayuda con el comando help."
      ],
      "metadata": {
        "id": "YhI6Pe5hhrep"
      }
    },
    {
      "cell_type": "code",
      "source": [
        "help(frozenset)"
      ],
      "metadata": {
        "id": "-5Gx5UAphuaI",
        "colab": {
          "base_uri": "https://localhost:8080/"
        },
        "outputId": "ee4f4040-7845-4c5c-c477-b98907d9d516"
      },
      "execution_count": null,
      "outputs": [
        {
          "output_type": "stream",
          "name": "stdout",
          "text": [
            "Help on class frozenset in module builtins:\n",
            "\n",
            "class frozenset(object)\n",
            " |  frozenset() -> empty frozenset object\n",
            " |  frozenset(iterable) -> frozenset object\n",
            " |  \n",
            " |  Build an immutable unordered collection of unique elements.\n",
            " |  \n",
            " |  Methods defined here:\n",
            " |  \n",
            " |  __and__(self, value, /)\n",
            " |      Return self&value.\n",
            " |  \n",
            " |  __contains__(...)\n",
            " |      x.__contains__(y) <==> y in x.\n",
            " |  \n",
            " |  __eq__(self, value, /)\n",
            " |      Return self==value.\n",
            " |  \n",
            " |  __ge__(self, value, /)\n",
            " |      Return self>=value.\n",
            " |  \n",
            " |  __getattribute__(self, name, /)\n",
            " |      Return getattr(self, name).\n",
            " |  \n",
            " |  __gt__(self, value, /)\n",
            " |      Return self>value.\n",
            " |  \n",
            " |  __hash__(self, /)\n",
            " |      Return hash(self).\n",
            " |  \n",
            " |  __iter__(self, /)\n",
            " |      Implement iter(self).\n",
            " |  \n",
            " |  __le__(self, value, /)\n",
            " |      Return self<=value.\n",
            " |  \n",
            " |  __len__(self, /)\n",
            " |      Return len(self).\n",
            " |  \n",
            " |  __lt__(self, value, /)\n",
            " |      Return self<value.\n",
            " |  \n",
            " |  __ne__(self, value, /)\n",
            " |      Return self!=value.\n",
            " |  \n",
            " |  __or__(self, value, /)\n",
            " |      Return self|value.\n",
            " |  \n",
            " |  __rand__(self, value, /)\n",
            " |      Return value&self.\n",
            " |  \n",
            " |  __reduce__(...)\n",
            " |      Return state information for pickling.\n",
            " |  \n",
            " |  __repr__(self, /)\n",
            " |      Return repr(self).\n",
            " |  \n",
            " |  __ror__(self, value, /)\n",
            " |      Return value|self.\n",
            " |  \n",
            " |  __rsub__(self, value, /)\n",
            " |      Return value-self.\n",
            " |  \n",
            " |  __rxor__(self, value, /)\n",
            " |      Return value^self.\n",
            " |  \n",
            " |  __sizeof__(...)\n",
            " |      S.__sizeof__() -> size of S in memory, in bytes\n",
            " |  \n",
            " |  __sub__(self, value, /)\n",
            " |      Return self-value.\n",
            " |  \n",
            " |  __xor__(self, value, /)\n",
            " |      Return self^value.\n",
            " |  \n",
            " |  copy(...)\n",
            " |      Return a shallow copy of a set.\n",
            " |  \n",
            " |  difference(...)\n",
            " |      Return the difference of two or more sets as a new set.\n",
            " |      \n",
            " |      (i.e. all elements that are in this set but not the others.)\n",
            " |  \n",
            " |  intersection(...)\n",
            " |      Return the intersection of two sets as a new set.\n",
            " |      \n",
            " |      (i.e. all elements that are in both sets.)\n",
            " |  \n",
            " |  isdisjoint(...)\n",
            " |      Return True if two sets have a null intersection.\n",
            " |  \n",
            " |  issubset(...)\n",
            " |      Report whether another set contains this set.\n",
            " |  \n",
            " |  issuperset(...)\n",
            " |      Report whether this set contains another set.\n",
            " |  \n",
            " |  symmetric_difference(...)\n",
            " |      Return the symmetric difference of two sets as a new set.\n",
            " |      \n",
            " |      (i.e. all elements that are in exactly one of the sets.)\n",
            " |  \n",
            " |  union(...)\n",
            " |      Return the union of sets as a new set.\n",
            " |      \n",
            " |      (i.e. all elements that are in either set.)\n",
            " |  \n",
            " |  ----------------------------------------------------------------------\n",
            " |  Class methods defined here:\n",
            " |  \n",
            " |  __class_getitem__(...) from builtins.type\n",
            " |      See PEP 585\n",
            " |  \n",
            " |  ----------------------------------------------------------------------\n",
            " |  Static methods defined here:\n",
            " |  \n",
            " |  __new__(*args, **kwargs) from builtins.type\n",
            " |      Create and return a new object.  See help(type) for accurate signature.\n",
            "\n"
          ]
        }
      ]
    },
    {
      "cell_type": "markdown",
      "source": [
        "## Crear frozenset Python\n",
        "Los frozensets en Python son un tipo muy parecido a los sets con la salvedad de que son inmutables, es decir, están congelados y no pueden ser modificados una vez inicializados."
      ],
      "metadata": {
        "id": "Pqxy8fRZnb8p"
      }
    },
    {
      "cell_type": "code",
      "source": [
        "fs:frozenset = frozenset([1, 2, 3])\n",
        "print('La variable fs contiene:', fs)\n"
      ],
      "metadata": {
        "colab": {
          "base_uri": "https://localhost:8080/"
        },
        "id": "C5M3N9-0nfgz",
        "outputId": "ec5798b8-a345-49e5-f917-4a24c4a3aeac"
      },
      "execution_count": null,
      "outputs": [
        {
          "output_type": "stream",
          "name": "stdout",
          "text": [
            "La variable fs contiene: frozenset({1, 2, 3})\n"
          ]
        }
      ]
    },
    {
      "cell_type": "markdown",
      "source": [
        "Otra opción es importar `Frozenset` desde el módulo de typing."
      ],
      "metadata": {
        "id": "jVuBFp6N0vpv"
      }
    },
    {
      "cell_type": "code",
      "source": [
        "from typing import FrozenSet\n",
        "\n",
        "fs:FrozenSet = frozenset([1, 2, 3])\n",
        "print('La variable fs contiene:', fs)\n"
      ],
      "metadata": {
        "colab": {
          "base_uri": "https://localhost:8080/"
        },
        "id": "3sMUXSFMPHju",
        "outputId": "05d9ac83-5610-4875-a640-6294dff27da6"
      },
      "execution_count": null,
      "outputs": [
        {
          "output_type": "stream",
          "name": "stdout",
          "text": [
            "La variable fs contiene: frozenset({1, 2, 3})\n"
          ]
        }
      ]
    },
    {
      "cell_type": "markdown",
      "source": [
        "## Ejemplos frozenset\n",
        "Dado que son inmutables, cualquier intento de modificación con los métodos que ya hemos visto en otros capítulos como add() o clear() dará un error, ya que los frozenset no disponen de esos métodos.\n",
        "\n"
      ],
      "metadata": {
        "id": "bsPl9C0cnvIq"
      }
    },
    {
      "cell_type": "code",
      "source": [
        "import traceback"
      ],
      "metadata": {
        "id": "DCdKWxY05Mks"
      },
      "execution_count": null,
      "outputs": []
    },
    {
      "cell_type": "code",
      "source": [
        "fs:frozenset = frozenset([1, 2, 3])\n",
        "try:\n",
        "  fs.add(4)\n",
        "except Exception as e:\n",
        "  traceback.print_exc()\n",
        "\n",
        "try:\n",
        "  fs.clear()\n",
        "except Exception as e:\n",
        "  traceback.print_exc()"
      ],
      "metadata": {
        "id": "zrFQ3_hhnxDZ",
        "colab": {
          "base_uri": "https://localhost:8080/"
        },
        "outputId": "29c665b0-f8fe-4ba4-bb8a-c3c5746b33cb"
      },
      "execution_count": null,
      "outputs": [
        {
          "output_type": "stream",
          "name": "stderr",
          "text": [
            "Traceback (most recent call last):\n",
            "  File \"<ipython-input-5-16b80a16fd73>\", line 3, in <cell line: 2>\n",
            "    fs.add(4)\n",
            "AttributeError: 'frozenset' object has no attribute 'add'\n",
            "Traceback (most recent call last):\n",
            "  File \"<ipython-input-5-16b80a16fd73>\", line 8, in <cell line: 7>\n",
            "    fs.clear()\n",
            "AttributeError: 'frozenset' object has no attribute 'clear'\n"
          ]
        }
      ]
    },
    {
      "cell_type": "markdown",
      "source": [
        "Los frozenset pueden ser útiles cuando queremos usar un set pero se requiere que el tipo sea inmutable. Algo no muy común, pero que podría darse, es crear un set de sets. Es decir, un ser que contiene como elementos a otros sets. El siguiente código daría un TypeError ya que los elementos de un set deben ser por definición inmutables."
      ],
      "metadata": {
        "id": "s0nLYO_Yn1BR"
      }
    },
    {
      "cell_type": "code",
      "source": [
        "s1:set = {1, 2}\n",
        "s2:set = {3, 4}\n",
        "try:\n",
        "  s3 = {s1, s2}\n",
        "except Exception as e:\n",
        "  traceback.print_exc()\n"
      ],
      "metadata": {
        "id": "9iASzCEyn2ex",
        "colab": {
          "base_uri": "https://localhost:8080/"
        },
        "outputId": "a05d8a17-0beb-4333-aa8b-248ff7c5cb12"
      },
      "execution_count": null,
      "outputs": [
        {
          "output_type": "stream",
          "name": "stderr",
          "text": [
            "Traceback (most recent call last):\n",
            "  File \"<ipython-input-6-15750a414886>\", line 4, in <cell line: 3>\n",
            "    s3 = {s1, s2}\n",
            "TypeError: unhashable type: 'set'\n"
          ]
        }
      ]
    },
    {
      "cell_type": "markdown",
      "source": [
        "Para resolver este problema, podemos crear un set de frozensets. Esto si es posible ya que el frozenset es un tipo inmutable."
      ],
      "metadata": {
        "id": "XmWiwW4Hn_gR"
      }
    },
    {
      "cell_type": "code",
      "source": [
        "s1:frozenset = frozenset([1, 2])\n",
        "s2:frozenset = frozenset([3, 4])\n",
        "s3:set = {s1, s2}\n",
        "print('La variable s3 contiene:', s3)\n"
      ],
      "metadata": {
        "colab": {
          "base_uri": "https://localhost:8080/"
        },
        "id": "7pZ6ucJpoA87",
        "outputId": "0dd65c3c-60a0-4040-a4bd-46366525843f"
      },
      "execution_count": null,
      "outputs": [
        {
          "output_type": "stream",
          "name": "stdout",
          "text": [
            "La variable s3 contiene: {frozenset({3, 4}), frozenset({1, 2})}\n"
          ]
        }
      ]
    },
    {
      "cell_type": "markdown",
      "source": [
        "Lo mismo aplica a los diccionarios, ya que su key debe ser un tipo inmutable. Si intentamos crear un diccionario con set como key, obtendremos un TypeError."
      ],
      "metadata": {
        "id": "f5uYF6gKoIhV"
      }
    },
    {
      "cell_type": "code",
      "source": [
        "s1:set = set([1, 2])\n",
        "s2:set = set([3, 4])\n",
        "try:\n",
        "  d = {s1: \"Texto1\", s2: \"Texto2\"}\n",
        "except Exception as e:\n",
        "  traceback.print_exc()"
      ],
      "metadata": {
        "id": "IUtvEew_oKEc",
        "colab": {
          "base_uri": "https://localhost:8080/"
        },
        "outputId": "7a52beb1-3e0e-450f-ae65-d27f3f09ebe2"
      },
      "execution_count": null,
      "outputs": [
        {
          "output_type": "stream",
          "name": "stderr",
          "text": [
            "Traceback (most recent call last):\n",
            "  File \"<ipython-input-8-83ae13dbec0b>\", line 4, in <cell line: 3>\n",
            "    d = {s1: \"Texto1\", s2: \"Texto2\"}\n",
            "TypeError: unhashable type: 'set'\n"
          ]
        }
      ]
    },
    {
      "cell_type": "markdown",
      "source": [
        "Pero si podemos crear un diccionario donde sus key son frozenset, ya que son un tipo inmutable.\n",
        "\n"
      ],
      "metadata": {
        "id": "4zQh174ioNYk"
      }
    },
    {
      "cell_type": "code",
      "source": [
        "s1:frozenset = frozenset([1, 2])\n",
        "s2:frozenset = frozenset([3, 4])\n",
        "d = {s1: \"Texto1\", s2: \"Texto2\"}\n",
        "print('La variable d contiene:', d)\n"
      ],
      "metadata": {
        "id": "0a4eLf4ooNuM",
        "colab": {
          "base_uri": "https://localhost:8080/"
        },
        "outputId": "e579390e-a3aa-4903-abac-84aab9ed4f3e"
      },
      "execution_count": null,
      "outputs": [
        {
          "output_type": "stream",
          "name": "stdout",
          "text": [
            "La variable d contiene: {frozenset({1, 2}): 'Texto1', frozenset({3, 4}): 'Texto2'}\n"
          ]
        }
      ]
    }
  ]
}