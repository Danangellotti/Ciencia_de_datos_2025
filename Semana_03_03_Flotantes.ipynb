{
  "nbformat": 4,
  "nbformat_minor": 0,
  "metadata": {
    "colab": {
      "provenance": [],
      "toc_visible": true,
      "include_colab_link": true
    },
    "kernelspec": {
      "name": "python3",
      "display_name": "Python 3"
    },
    "language_info": {
      "name": "python"
    }
  },
  "cells": [
    {
      "cell_type": "markdown",
      "metadata": {
        "id": "view-in-github",
        "colab_type": "text"
      },
      "source": [
        "<a href=\"https://colab.research.google.com/github/Danangellotti/Ciencia_de_datos_2025/blob/main/Semana_03_03_Flotantes.ipynb\" target=\"_parent\"><img src=\"https://colab.research.google.com/assets/colab-badge.svg\" alt=\"Open In Colab\"/></a>"
      ]
    },
    {
      "cell_type": "markdown",
      "source": [
        "## float\n",
        "\n",
        "El tipo numérico float permite representar un número positivo o negativo con decimales, es decir, números reales. Si vienes de otros lenguajes, tal vez conozcas el tipo doble, lo que significa que tiene el doble de precisión que un float. En Python las cosas son algo distintas, y los float son en realidad double.\n",
        "\n",
        "Para saber más: Los valores float son almacenados de una forma muy particular, denominada representación en coma flotante. En el estándar [IEEE 754](https://en.wikipedia.org/wiki/IEEE_754) se explica con detalle.\n",
        "\n",
        "Por lo tanto si declaramos una variable y le asignamos un valor decimal, por defecto la variable será de tipo float."
      ],
      "metadata": {
        "id": "U0lJO03BJ8Ae"
      }
    },
    {
      "cell_type": "code",
      "source": [
        "f:float = 0.10093\n",
        "print('El valor almacenado en la variable i es: ', f)\n",
        "print('El tipo de dato almacenado en la variable i es: ', type(f))"
      ],
      "metadata": {
        "id": "VE42YPrQKC77",
        "colab": {
          "base_uri": "https://localhost:8080/"
        },
        "outputId": "0f04f019-1c04-4b76-d496-ac97280ef0b7"
      },
      "execution_count": null,
      "outputs": [
        {
          "output_type": "stream",
          "name": "stdout",
          "text": [
            "El valor almacenado en la variable i es:  0.10093\n",
            "El tipo de dato almacenado en la variable i es:  <class 'float'>\n"
          ]
        }
      ]
    },
    {
      "cell_type": "markdown",
      "source": [
        "Puedes obtener más ayuda con el comando help."
      ],
      "metadata": {
        "id": "YhI6Pe5hhrep"
      }
    },
    {
      "cell_type": "code",
      "source": [
        "help(float)"
      ],
      "metadata": {
        "id": "-5Gx5UAphuaI",
        "colab": {
          "base_uri": "https://localhost:8080/"
        },
        "outputId": "1fef138c-9a30-4606-abf8-72694bedaf61"
      },
      "execution_count": null,
      "outputs": [
        {
          "output_type": "stream",
          "name": "stdout",
          "text": [
            "Help on class float in module builtins:\n",
            "\n",
            "class float(object)\n",
            " |  float(x=0, /)\n",
            " |  \n",
            " |  Convert a string or number to a floating point number, if possible.\n",
            " |  \n",
            " |  Methods defined here:\n",
            " |  \n",
            " |  __abs__(self, /)\n",
            " |      abs(self)\n",
            " |  \n",
            " |  __add__(self, value, /)\n",
            " |      Return self+value.\n",
            " |  \n",
            " |  __bool__(self, /)\n",
            " |      True if self else False\n",
            " |  \n",
            " |  __ceil__(self, /)\n",
            " |      Return the ceiling as an Integral.\n",
            " |  \n",
            " |  __divmod__(self, value, /)\n",
            " |      Return divmod(self, value).\n",
            " |  \n",
            " |  __eq__(self, value, /)\n",
            " |      Return self==value.\n",
            " |  \n",
            " |  __float__(self, /)\n",
            " |      float(self)\n",
            " |  \n",
            " |  __floor__(self, /)\n",
            " |      Return the floor as an Integral.\n",
            " |  \n",
            " |  __floordiv__(self, value, /)\n",
            " |      Return self//value.\n",
            " |  \n",
            " |  __format__(self, format_spec, /)\n",
            " |      Formats the float according to format_spec.\n",
            " |  \n",
            " |  __ge__(self, value, /)\n",
            " |      Return self>=value.\n",
            " |  \n",
            " |  __getattribute__(self, name, /)\n",
            " |      Return getattr(self, name).\n",
            " |  \n",
            " |  __getnewargs__(self, /)\n",
            " |  \n",
            " |  __gt__(self, value, /)\n",
            " |      Return self>value.\n",
            " |  \n",
            " |  __hash__(self, /)\n",
            " |      Return hash(self).\n",
            " |  \n",
            " |  __int__(self, /)\n",
            " |      int(self)\n",
            " |  \n",
            " |  __le__(self, value, /)\n",
            " |      Return self<=value.\n",
            " |  \n",
            " |  __lt__(self, value, /)\n",
            " |      Return self<value.\n",
            " |  \n",
            " |  __mod__(self, value, /)\n",
            " |      Return self%value.\n",
            " |  \n",
            " |  __mul__(self, value, /)\n",
            " |      Return self*value.\n",
            " |  \n",
            " |  __ne__(self, value, /)\n",
            " |      Return self!=value.\n",
            " |  \n",
            " |  __neg__(self, /)\n",
            " |      -self\n",
            " |  \n",
            " |  __pos__(self, /)\n",
            " |      +self\n",
            " |  \n",
            " |  __pow__(self, value, mod=None, /)\n",
            " |      Return pow(self, value, mod).\n",
            " |  \n",
            " |  __radd__(self, value, /)\n",
            " |      Return value+self.\n",
            " |  \n",
            " |  __rdivmod__(self, value, /)\n",
            " |      Return divmod(value, self).\n",
            " |  \n",
            " |  __repr__(self, /)\n",
            " |      Return repr(self).\n",
            " |  \n",
            " |  __rfloordiv__(self, value, /)\n",
            " |      Return value//self.\n",
            " |  \n",
            " |  __rmod__(self, value, /)\n",
            " |      Return value%self.\n",
            " |  \n",
            " |  __rmul__(self, value, /)\n",
            " |      Return value*self.\n",
            " |  \n",
            " |  __round__(self, ndigits=None, /)\n",
            " |      Return the Integral closest to x, rounding half toward even.\n",
            " |      \n",
            " |      When an argument is passed, work like built-in round(x, ndigits).\n",
            " |  \n",
            " |  __rpow__(self, value, mod=None, /)\n",
            " |      Return pow(value, self, mod).\n",
            " |  \n",
            " |  __rsub__(self, value, /)\n",
            " |      Return value-self.\n",
            " |  \n",
            " |  __rtruediv__(self, value, /)\n",
            " |      Return value/self.\n",
            " |  \n",
            " |  __sub__(self, value, /)\n",
            " |      Return self-value.\n",
            " |  \n",
            " |  __truediv__(self, value, /)\n",
            " |      Return self/value.\n",
            " |  \n",
            " |  __trunc__(self, /)\n",
            " |      Return the Integral closest to x between 0 and x.\n",
            " |  \n",
            " |  as_integer_ratio(self, /)\n",
            " |      Return integer ratio.\n",
            " |      \n",
            " |      Return a pair of integers, whose ratio is exactly equal to the original float\n",
            " |      and with a positive denominator.\n",
            " |      \n",
            " |      Raise OverflowError on infinities and a ValueError on NaNs.\n",
            " |      \n",
            " |      >>> (10.0).as_integer_ratio()\n",
            " |      (10, 1)\n",
            " |      >>> (0.0).as_integer_ratio()\n",
            " |      (0, 1)\n",
            " |      >>> (-.25).as_integer_ratio()\n",
            " |      (-1, 4)\n",
            " |  \n",
            " |  conjugate(self, /)\n",
            " |      Return self, the complex conjugate of any float.\n",
            " |  \n",
            " |  hex(self, /)\n",
            " |      Return a hexadecimal representation of a floating-point number.\n",
            " |      \n",
            " |      >>> (-0.1).hex()\n",
            " |      '-0x1.999999999999ap-4'\n",
            " |      >>> 3.14159.hex()\n",
            " |      '0x1.921f9f01b866ep+1'\n",
            " |  \n",
            " |  is_integer(self, /)\n",
            " |      Return True if the float is an integer.\n",
            " |  \n",
            " |  ----------------------------------------------------------------------\n",
            " |  Class methods defined here:\n",
            " |  \n",
            " |  __getformat__(typestr, /) from builtins.type\n",
            " |      You probably don't want to use this function.\n",
            " |      \n",
            " |        typestr\n",
            " |          Must be 'double' or 'float'.\n",
            " |      \n",
            " |      It exists mainly to be used in Python's test suite.\n",
            " |      \n",
            " |      This function returns whichever of 'unknown', 'IEEE, big-endian' or 'IEEE,\n",
            " |      little-endian' best describes the format of floating point numbers used by the\n",
            " |      C type named by typestr.\n",
            " |  \n",
            " |  __setformat__(typestr, fmt, /) from builtins.type\n",
            " |      You probably don't want to use this function.\n",
            " |      \n",
            " |        typestr\n",
            " |          Must be 'double' or 'float'.\n",
            " |        fmt\n",
            " |          Must be one of 'unknown', 'IEEE, big-endian' or 'IEEE, little-endian',\n",
            " |          and in addition can only be one of the latter two if it appears to\n",
            " |          match the underlying C reality.\n",
            " |      \n",
            " |      It exists mainly to be used in Python's test suite.\n",
            " |      \n",
            " |      Override the automatic determination of C-level floating point type.\n",
            " |      This affects how floats are converted to and from binary strings.\n",
            " |  \n",
            " |  fromhex(string, /) from builtins.type\n",
            " |      Create a floating-point number from a hexadecimal string.\n",
            " |      \n",
            " |      >>> float.fromhex('0x1.ffffp10')\n",
            " |      2047.984375\n",
            " |      >>> float.fromhex('-0x1p-1074')\n",
            " |      -5e-324\n",
            " |  \n",
            " |  ----------------------------------------------------------------------\n",
            " |  Static methods defined here:\n",
            " |  \n",
            " |  __new__(*args, **kwargs) from builtins.type\n",
            " |      Create and return a new object.  See help(type) for accurate signature.\n",
            " |  \n",
            " |  ----------------------------------------------------------------------\n",
            " |  Data descriptors defined here:\n",
            " |  \n",
            " |  imag\n",
            " |      the imaginary part of a complex number\n",
            " |  \n",
            " |  real\n",
            " |      the real part of a complex number\n",
            "\n"
          ]
        }
      ]
    },
    {
      "cell_type": "markdown",
      "source": [
        "## Conversión a float\n",
        "También se puede declarar usando la notación científica con e y el exponente. El siguiente ejemplo sería lo mismo que decir 1.93 multiplicado por diez elevado a -3."
      ],
      "metadata": {
        "id": "kJnrRulrKFNI"
      }
    },
    {
      "cell_type": "code",
      "source": [
        "f:float = 1.93e-3\n",
        "print('El valor f es: ', f)"
      ],
      "metadata": {
        "id": "H2rvuI5vKIV4",
        "colab": {
          "base_uri": "https://localhost:8080/"
        },
        "outputId": "3137fb2d-f5f9-4927-957b-61c8af8f4597"
      },
      "execution_count": null,
      "outputs": [
        {
          "output_type": "stream",
          "name": "stdout",
          "text": [
            "El valor f es:  0.00193\n"
          ]
        }
      ]
    },
    {
      "cell_type": "markdown",
      "source": [
        "## Función float\n",
        "También podemos convertir otro tipo a float haciendo uso de float(). Podemos ver como True es en realidad tratado como 1, y al convertirlo a float, como 1.0."
      ],
      "metadata": {
        "id": "WIeWVefcKMhD"
      }
    },
    {
      "cell_type": "code",
      "source": [
        "a:float = float(True)\n",
        "b:float = float(1)\n",
        "print('La variable a tiene un valor de ',a, ' y un tipo de ',type(a))\n",
        "print('La variable b tiene un valor de ',b, ' y un tipo de ',type(b))"
      ],
      "metadata": {
        "id": "EcgLAz2HKOSf",
        "colab": {
          "base_uri": "https://localhost:8080/"
        },
        "outputId": "41f3c0e4-1577-41db-85dd-5c02c122a376"
      },
      "execution_count": null,
      "outputs": [
        {
          "output_type": "stream",
          "name": "stdout",
          "text": [
            "La variable a tiene un valor de  1.0  y un tipo de  <class 'float'>\n",
            "La variable b tiene un valor de  1.0  y un tipo de  <class 'float'>\n"
          ]
        }
      ]
    },
    {
      "cell_type": "markdown",
      "source": [
        "## Rango representable\n",
        "Alguna curiosidad es que los float no tienen precisión infinita. Podemos ver en el siguiente ejemplo como en realidad f se almacena como si fuera 1, ya que no es posible representar tanta precisión decimal."
      ],
      "metadata": {
        "id": "SynXir4xKSl2"
      }
    },
    {
      "cell_type": "code",
      "source": [
        "f:float = 0.99999999999999999\n",
        "print('La variable f tiene el valor: ', f)\n",
        "print('Es igual a 1?', 1 == f)"
      ],
      "metadata": {
        "id": "edI7J_1mKUSK",
        "colab": {
          "base_uri": "https://localhost:8080/"
        },
        "outputId": "aa425fcc-f11c-41fb-ee7c-681822e9af65"
      },
      "execution_count": null,
      "outputs": [
        {
          "output_type": "stream",
          "name": "stdout",
          "text": [
            "La variable f tiene el valor:  1.0\n",
            "Es igual a 1? True\n"
          ]
        }
      ]
    },
    {
      "cell_type": "markdown",
      "source": [
        "Los float a diferencia de los int tienen unos valores mínimo y máximos que pueden representar.\n",
        "\n",
        "Vamos a verificarlo consultando las siguientes variables."
      ],
      "metadata": {
        "id": "jBF-eQPcKcbW"
      }
    },
    {
      "cell_type": "code",
      "source": [
        "import sys\n",
        "print('Flotante mínimo: ', sys.float_info.min)\n",
        "print('Flotante máximo: ', sys.float_info.max)"
      ],
      "metadata": {
        "id": "NoZXGiASKdNq",
        "colab": {
          "base_uri": "https://localhost:8080/"
        },
        "outputId": "8f9676e2-1fae-4cac-a20a-9ad1f418648d"
      },
      "execution_count": null,
      "outputs": [
        {
          "output_type": "stream",
          "name": "stdout",
          "text": [
            "Flotante mínimo:  2.2250738585072014e-308\n",
            "Flotante máximo:  1.7976931348623157e+308\n"
          ]
        }
      ]
    },
    {
      "cell_type": "markdown",
      "source": [
        "De hecho si intentas asignar a una variable un valor mayor que el max, lo que ocurre es que esa variable toma el valor inf o infinito."
      ],
      "metadata": {
        "id": "ySJKlE6BKfU6"
      }
    },
    {
      "cell_type": "code",
      "source": [
        "import math\n",
        "\n",
        "f:float = 1.7976931348623157e+310\n",
        "print('La variable f es infinito?', f == math.inf)"
      ],
      "metadata": {
        "id": "QApHM98NKhhi",
        "colab": {
          "base_uri": "https://localhost:8080/"
        },
        "outputId": "0bd0ac0d-e79d-4355-a39e-1dd3f5815f3b"
      },
      "execution_count": null,
      "outputs": [
        {
          "output_type": "stream",
          "name": "stdout",
          "text": [
            "La variable f es infinito? True\n"
          ]
        }
      ]
    },
    {
      "cell_type": "markdown",
      "source": [
        "Si quieres representar una variable que tenga un valor muy alto, también puedes crear directamente una variable que contenga ese valor inf."
      ],
      "metadata": {
        "id": "n55h7N0lKmgL"
      }
    },
    {
      "cell_type": "code",
      "source": [
        "f:float = float('inf')\n",
        "print('La variable f es infinito?', f == math.inf)"
      ],
      "metadata": {
        "id": "a3rZqrsFKm8O",
        "colab": {
          "base_uri": "https://localhost:8080/"
        },
        "outputId": "05226d9c-d297-42eb-bfc2-d63feaca2f5e"
      },
      "execution_count": null,
      "outputs": [
        {
          "output_type": "stream",
          "name": "stdout",
          "text": [
            "La variable f es infinito? True\n"
          ]
        }
      ]
    },
    {
      "cell_type": "markdown",
      "source": [
        "## Precisión del float\n",
        "Desafortunadamente, los ordenadores no pueden representar cualquier número, y menos aún si este es uno irracional. Debido a esto, suceden cosas curiosas como las siguientes.\n",
        "\n",
        "Dividir 1/3 debería resultar en 0.3 periódico, pero para Python es imposible representar tal número."
      ],
      "metadata": {
        "id": "Xd2boReIKrDq"
      }
    },
    {
      "cell_type": "code",
      "source": [
        "print(\"{:.20f}\".format(1.0/3.0))"
      ],
      "metadata": {
        "id": "XOnCDnG5KsGF",
        "colab": {
          "base_uri": "https://localhost:8080/"
        },
        "outputId": "30faf3ef-ab6d-4704-a4e4-0fb3fc591df8"
      },
      "execution_count": null,
      "outputs": [
        {
          "output_type": "stream",
          "name": "stdout",
          "text": [
            "0.33333333333333331483\n"
          ]
        }
      ]
    },
    {
      "cell_type": "markdown",
      "source": [
        "Por otro lado, la siguiente operación debería tener como resultado cero, pero como puedes ver esto no es así."
      ],
      "metadata": {
        "id": "IIDYmltdK3f3"
      }
    },
    {
      "cell_type": "code",
      "source": [
        "print(0.1 + 0.1 + 0.1 - 0.3)"
      ],
      "metadata": {
        "id": "ytq3B0I7K42T",
        "colab": {
          "base_uri": "https://localhost:8080/"
        },
        "outputId": "16635167-f31d-4647-e5df-a7e6f65a8ef2"
      },
      "execution_count": null,
      "outputs": [
        {
          "output_type": "stream",
          "name": "stdout",
          "text": [
            "5.551115123125783e-17\n"
          ]
        }
      ]
    },
    {
      "cell_type": "markdown",
      "source": [
        "Afortunadamente, salvo aplicaciones muy concretas esto no resulta un problema. Al fin y al cabo, ¿a quién le importa lo que haya en la posición decimal 17 después del 0?"
      ],
      "metadata": {
        "id": "hqhXa_3SK5Mp"
      }
    }
  ]
}