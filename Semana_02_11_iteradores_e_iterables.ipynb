{
  "nbformat": 4,
  "nbformat_minor": 0,
  "metadata": {
    "colab": {
      "provenance": [],
      "toc_visible": true,
      "include_colab_link": true
    },
    "kernelspec": {
      "name": "python3",
      "display_name": "Python 3"
    },
    "language_info": {
      "name": "python"
    }
  },
  "cells": [
    {
      "cell_type": "markdown",
      "metadata": {
        "id": "view-in-github",
        "colab_type": "text"
      },
      "source": [
        "<a href=\"https://colab.research.google.com/github/Danangellotti/Ciencia_de_datos_2025/blob/main/Semana_02_11_iteradores_e_iterables.ipynb\" target=\"_parent\"><img src=\"https://colab.research.google.com/assets/colab-badge.svg\" alt=\"Open In Colab\"/></a>"
      ]
    },
    {
      "cell_type": "markdown",
      "source": [
        "# Iteradores e Iterables\n",
        "\n",
        "Ya vimos el uso del `while` y `for`, entonces sin duda estás listo para continuar con los iterables. Sin duda son una herramienta muy potente de Python que nos permite como su nombre indica, iterar colecciones que sean iterables. A continuación veremos estos dos conceptos en detalle.\n",
        "\n",
        "Antes de nada planteemos el problema que queremos resolver. Tenemos una determinada colección de datos, en este caso una lista con varios valores, y queremos mostrar sus valores uno a uno por pantalla. Si eres nuevo en Python o vienes de otros lenguajes de programación, tal vez lo resolverías de la siguiente manera con un while."
      ],
      "metadata": {
        "id": "XeadhxmAG_Q5"
      }
    },
    {
      "cell_type": "code",
      "execution_count": null,
      "metadata": {
        "id": "2S5Eonz_G96p",
        "colab": {
          "base_uri": "https://localhost:8080/"
        },
        "outputId": "a462d568-0a86-4b4c-dde3-2a08c64decb3"
      },
      "outputs": [
        {
          "output_type": "stream",
          "name": "stdout",
          "text": [
            "5, 4, 9, 2, "
          ]
        }
      ],
      "source": [
        "# Mal uso\n",
        "lista = [5, 4, 9, 2]\n",
        "i = 0\n",
        "while i < len(lista):\n",
        "    elemento = lista[i]\n",
        "    print(elemento, end=', ')\n",
        "    i += 1"
      ]
    },
    {
      "cell_type": "markdown",
      "source": [
        "Aunque es una solución válida y que funciona perfectamente, tal vez sea mejor usar un bucle for, ya que nos podemos ahorrar alguna línea de código."
      ],
      "metadata": {
        "id": "RyaIUn4KHM21"
      }
    },
    {
      "cell_type": "code",
      "source": [
        "# Mal uso\n",
        "lista = [5, 4, 9, 2]\n",
        "for i in range(len(lista)):\n",
        "    elemento = lista[i]\n",
        "    print(elemento, end=', ')"
      ],
      "metadata": {
        "id": "E5YW2ENeHOAu",
        "colab": {
          "base_uri": "https://localhost:8080/"
        },
        "outputId": "c95836b5-8f12-4364-c46b-ef1a4e88f539"
      },
      "execution_count": null,
      "outputs": [
        {
          "output_type": "stream",
          "name": "stdout",
          "text": [
            "5, 4, 9, 2, "
          ]
        }
      ]
    },
    {
      "cell_type": "markdown",
      "source": [
        "Aunque esta segunda forma es también válida, en Python existe una forma mucho más fácil de iterar una lista. Dicha forma es la siguiente."
      ],
      "metadata": {
        "id": "xi0yGwH_HPM5"
      }
    },
    {
      "cell_type": "code",
      "source": [
        "lista = [5, 4, 9, 2]\n",
        "for elemento in lista:\n",
        "    print(elemento, end=', ')"
      ],
      "metadata": {
        "id": "beaPpg_iHRQV",
        "colab": {
          "base_uri": "https://localhost:8080/"
        },
        "outputId": "76086888-1239-4db7-ebe8-d27ccf1aba67"
      },
      "execution_count": null,
      "outputs": [
        {
          "output_type": "stream",
          "name": "stdout",
          "text": [
            "5, 4, 9, 2, "
          ]
        }
      ]
    },
    {
      "cell_type": "markdown",
      "source": [
        "Sin saberlo, ya has hecho uso de los iteradores, usando la clase lista que es una clase iterable. Como puedes ver, se trata de una solución mucho más sencilla. A continuación veremos lo que es un iterable y cómo puede ser usado.\n",
        "\n"
      ],
      "metadata": {
        "id": "-_ZL6AMoHUjQ"
      }
    },
    {
      "cell_type": "markdown",
      "source": [
        "## Iterables\n",
        "\n",
        "Una clase iterable es una clase que puede ser iterada. Dentro de Python hay gran cantidad de clases iterables como las listas, strings, diccionarios o ficheros. Si tenemos una clase iterable, podemos usarla a la derecha del for de la siguiente manera.\n",
        "\n",
        "```\n",
        "for elemento in [clase_iterable]:\n",
        "  ...\n",
        "```\n",
        "\n",
        "Si usamos el for como acabamos de mostrar, la variable elemento irá tomando los valores de cada elemento presente en la clase iterable. De esta manera, ya no tenemos que ir accediendo manualmente con [] a cada elemento.\n",
        "\n",
        "Anteriormente hemos visto un ejemplo iterando una lista, pero también podemos iterar una cadena, ya que es una clase iterable. Al iterar una cadena se nos devuelve cada letra presente en la misma. Como puedes ver, la sintaxis se asemeja bastante al lenguaje natural, sería algo así como decir “pon en c cada elemento presenta en la cadena”."
      ],
      "metadata": {
        "id": "OsmKJ7o9IuwW"
      }
    },
    {
      "cell_type": "code",
      "source": [
        "cadena = \"Hola\"\n",
        "for c in cadena:\n",
        "    print(c, end=' ')\n"
      ],
      "metadata": {
        "id": "QggHW573HaKz",
        "colab": {
          "base_uri": "https://localhost:8080/"
        },
        "outputId": "5946f0e5-6d66-4e72-f060-c211d76abf28"
      },
      "execution_count": null,
      "outputs": [
        {
          "output_type": "stream",
          "name": "stdout",
          "text": [
            "H o l a "
          ]
        }
      ]
    },
    {
      "cell_type": "markdown",
      "source": [
        "Llegados a este punto, tal vez te preguntes ¿y cómo se yo si una clase es iterable o no? Pues bien, tienes dos opciones. La primera sería consultar la documentación oficial de Python. La segunda es ver si la clase u objeto en cuestión hereda de Iterable (aquí te explicamos la herencia por si aún no la tienes clara). Con isinstance() podemos comprobar si una clase hereda de otra."
      ],
      "metadata": {
        "id": "Vu8aUpr0Hb2-"
      }
    },
    {
      "cell_type": "code",
      "source": [
        "from collections.abc import Iterable\n",
        "\n",
        "cadena = \"Hola\"\n",
        "numero = 3\n",
        "print(f\"cadena ({cadena}) es iterable: \", isinstance(cadena, Iterable))\n",
        "print(f\"numero ({numero}) es iterable:\", isinstance(numero, Iterable))"
      ],
      "metadata": {
        "id": "wqc3MtUPHdJK",
        "colab": {
          "base_uri": "https://localhost:8080/"
        },
        "outputId": "39fd80e3-deb4-413d-ed28-64f3d927c80e"
      },
      "execution_count": null,
      "outputs": [
        {
          "output_type": "stream",
          "name": "stdout",
          "text": [
            "cadena (Hola) es iterable:  True\n",
            "numero (3) es iterable: False\n"
          ]
        }
      ]
    },
    {
      "cell_type": "markdown",
      "source": [
        "Podemos ver como efectivamente la cadena es iterable y el número no. Es por ello por lo que podemos iterar la cadena, pero el siguiente código daría un error."
      ],
      "metadata": {
        "id": "he3YhgFUHenp"
      }
    },
    {
      "cell_type": "code",
      "source": [
        "import traceback"
      ],
      "metadata": {
        "id": "0rtJgiUkff91"
      },
      "execution_count": null,
      "outputs": []
    },
    {
      "cell_type": "code",
      "source": [
        "try:\n",
        "  numero = 3\n",
        "  for x in numero:\n",
        "    print(x)\n",
        "except Exception:\n",
        "  traceback.print_exc()\n"
      ],
      "metadata": {
        "id": "FORwNAFbHf_9",
        "colab": {
          "base_uri": "https://localhost:8080/"
        },
        "outputId": "63dedf96-e3e2-4fc5-ee27-c14673570068"
      },
      "execution_count": null,
      "outputs": [
        {
          "output_type": "stream",
          "name": "stderr",
          "text": [
            "Traceback (most recent call last):\n",
            "  File \"<ipython-input-7-7b3d84d46822>\", line 3, in <cell line: 1>\n",
            "    for x in numero:\n",
            "TypeError: 'int' object is not iterable\n"
          ]
        }
      ]
    },
    {
      "cell_type": "markdown",
      "source": [
        "Python nos ofrece también diferentes métodos que pueden ser usados sobre clases iterables como los que se muestran a continuación:\n",
        "\n",
        "* list() convierte a lista una clase iterable\n",
        "* sum() para sumar\n",
        "* join() permite unir cada elemento de una clase iterable con el primer argumento usado."
      ],
      "metadata": {
        "id": "PkDOqcqpHhtu"
      }
    },
    {
      "cell_type": "code",
      "source": [
        "print(list(\"Hola\"))\n",
        "print(sum([1, 2, 3]))\n",
        "print(\"-\".join(\"Hola\"))"
      ],
      "metadata": {
        "id": "71u5F1pOHloV",
        "colab": {
          "base_uri": "https://localhost:8080/"
        },
        "outputId": "bf4757f2-cb06-4c21-b7b5-0a251aff1044"
      },
      "execution_count": null,
      "outputs": [
        {
          "output_type": "stream",
          "name": "stdout",
          "text": [
            "['H', 'o', 'l', 'a']\n",
            "6\n",
            "H-o-l-a\n"
          ]
        }
      ]
    },
    {
      "cell_type": "markdown",
      "source": [
        "De la misma forma que iteramos una cadena o una lista, también podemos iterar un diccionario. El iterador del diccionario devuelve las claves o keys del mismo."
      ],
      "metadata": {
        "id": "rW_ytAMfHm_N"
      }
    },
    {
      "cell_type": "code",
      "source": [
        "mi_dict = {'a':1, 'b':2, 'c':3}\n",
        "for i in mi_dict:\n",
        "    print(i, end=', ')"
      ],
      "metadata": {
        "id": "TcPd3ss_HoMZ",
        "colab": {
          "base_uri": "https://localhost:8080/"
        },
        "outputId": "c3987d98-0460-4c92-8ca6-96cff897713a"
      },
      "execution_count": null,
      "outputs": [
        {
          "output_type": "stream",
          "name": "stdout",
          "text": [
            "a, b, c, "
          ]
        }
      ]
    },
    {
      "cell_type": "markdown",
      "source": [
        "## Iteradores\n",
        "\n",
        "Se podría explicar la diferencia entre iteradores e iterables usando un libro como analogía. El libro sería nuestra clase iterable, ya que tiene diferentes páginas a las que podemos acceder. El libro podría ser una lista, y cada página un elemento de la lista. Por otro lado, el iterador sería un marcador de páginas, es decir, una referencia que nos indica en qué posición estamos del libro, y que puede ser usado para “navegar” por él.\n",
        "\n",
        "Es posible obtener un iterador a partir de una clase iterable con la función iter(). En el siguiente ejemplo podemos ver como obtenemos el iterador del libro."
      ],
      "metadata": {
        "id": "log_8mU1Hqn2"
      }
    },
    {
      "cell_type": "code",
      "source": [
        "libro = ['página1', 'página2', 'página3', 'página4']\n",
        "marcapaginas = iter(libro)"
      ],
      "metadata": {
        "id": "luzRBHwbHtTP"
      },
      "execution_count": null,
      "outputs": []
    },
    {
      "cell_type": "markdown",
      "source": [
        "Llegados a este punto, nuestro marcador de páginas almacena un iterador. Se trata de un objeto que podemos usar para navegar a través del libro. Usando la función next() sobre el iterador, podemos ir accediendo secuencialmente a cada elemento de nuestra lista (las páginas de libro)."
      ],
      "metadata": {
        "id": "kdKBTouSHutz"
      }
    },
    {
      "cell_type": "code",
      "source": [
        "print('Leyendo la página: ' ,next(marcapaginas))\n",
        "print('Leyendo la página: ' ,next(marcapaginas))\n",
        "print('Leyendo la página: ' ,next(marcapaginas))\n",
        "print('Leyendo la página: ' ,next(marcapaginas))"
      ],
      "metadata": {
        "id": "hjMh75GVHwDv",
        "colab": {
          "base_uri": "https://localhost:8080/"
        },
        "outputId": "d8f981fa-403e-4f4e-800a-b9f31f019ef9"
      },
      "execution_count": null,
      "outputs": [
        {
          "output_type": "stream",
          "name": "stdout",
          "text": [
            "Leyendo la página:  página1\n",
            "Leyendo la página:  página2\n",
            "Leyendo la página:  página3\n",
            "Leyendo la página:  página4\n"
          ]
        }
      ]
    },
    {
      "cell_type": "markdown",
      "source": [
        "Algo parecido a esto es lo que sucede por debajo cuando usamos el for sobre una clase iterable. Se va accediendo secuencialmente a los elementos hasta que la excepción StopIteration es lanzada. Dicha excepción se lanza cuando hemos llegado al final, y no existen más elementos que iterar."
      ],
      "metadata": {
        "id": "0971ttbbHxL_"
      }
    },
    {
      "cell_type": "code",
      "source": [
        "try:\n",
        "  print(next(marcapaginas))\n",
        "except Exception:\n",
        "  traceback.print_exc()"
      ],
      "metadata": {
        "id": "o0cMiYR_HyUT",
        "colab": {
          "base_uri": "https://localhost:8080/"
        },
        "outputId": "5fdc2c51-12c5-495f-8ece-ebad5ed363d6"
      },
      "execution_count": null,
      "outputs": [
        {
          "output_type": "stream",
          "name": "stderr",
          "text": [
            "Traceback (most recent call last):\n",
            "  File \"<ipython-input-12-b132afbbe6bb>\", line 2, in <cell line: 1>\n",
            "    print(next(marcapaginas))\n",
            "StopIteration\n"
          ]
        }
      ]
    },
    {
      "cell_type": "markdown",
      "source": [
        "Una nota muy importante es que cuando el iterador es obtenido con iter() como hemos visto, apunta por defecto fuera de la lista. Es decir, si queremos acceder al primer elemento de la lista, deberemos llamar una vez a next().\n",
        "\n",
        "Por otro lado, a diferencia de un marcapáginas de un libro, el iterador sólo puede ir hacia delante. No es posible retroceder.\n"
      ],
      "metadata": {
        "id": "dKtVdmkyH017"
      }
    },
    {
      "cell_type": "markdown",
      "source": [
        "\n",
        "## Creando tu clase iterable\n",
        "Llegados a este punto ya entendemos perfectamente los iterables e iteradores y hemos visto como pueden ser usados con diferentes clases de Python como las cadenas o listas. Sin embargo, tal vez quieras dar un paso más y definir tu propia clase.\n",
        "\n",
        "A continuación veremos cómo hacer que tu clase sea iterable.\n",
        "\n",
        "Empecemos desde cero. Vamos a definir una clase MiClase y crear un objeto con ella. Si intentamos usar la función iter() para obtener su iterador, tendremos un error ya que nuestra clase por defecto no es iterable."
      ],
      "metadata": {
        "id": "iGfOtRgIJhpd"
      }
    },
    {
      "cell_type": "code",
      "source": [
        "class MiClase:\n",
        "    pass\n",
        "\n",
        "miobjeto = MiClase()\n",
        "try:\n",
        "  iterador = iter(miobjeto)\n",
        "except Exception:\n",
        "  traceback.print_exc()"
      ],
      "metadata": {
        "id": "armm8U7JH40G",
        "colab": {
          "base_uri": "https://localhost:8080/"
        },
        "outputId": "b5ee4e83-2f23-43b8-ad37-fd8674186c89"
      },
      "execution_count": null,
      "outputs": [
        {
          "output_type": "stream",
          "name": "stderr",
          "text": [
            "Traceback (most recent call last):\n",
            "  File \"<ipython-input-13-c7929f44ed51>\", line 6, in <cell line: 5>\n",
            "    iterador = iter(miobjeto)\n",
            "TypeError: 'MiClase' object is not iterable\n"
          ]
        }
      ]
    },
    {
      "cell_type": "markdown",
      "source": [
        "Para poder llamar a la función iter() sobre la clase, debemos implementar el método dunder __iter__(). Dicho método debe devolver un iterable, que será usado cuando la clase intente ser iterada."
      ],
      "metadata": {
        "id": "4CUzn4LkH63G"
      }
    },
    {
      "cell_type": "code",
      "source": [
        "class MiClase:\n",
        "    def __init__(self, items):\n",
        "        self.lista = items\n",
        "    def __iter__(self):\n",
        "        return iter(self.lista)"
      ],
      "metadata": {
        "id": "aJejEwJkH0Gu"
      },
      "execution_count": null,
      "outputs": []
    },
    {
      "cell_type": "markdown",
      "source": [
        "Podemos ver como tenemos el método \\_\\_init\\_\\_() que es llamado cuando se crea una nueva instancia de la clase. Simplemente pasamos una lista como parámetro de entrada y la almacenamos como atributo en lista.\n",
        "\n",
        "Por otro lado, el método \\_\\_iter\\_\\_() devuelve un iterador, que simplemente es el iterador de la propia lista. Ahora que nuestra clase ya es iterable, podemos hacer lo siguiente."
      ],
      "metadata": {
        "id": "5jvE7woOH8v5"
      }
    },
    {
      "cell_type": "code",
      "source": [
        "miobjeto = MiClase([5, 4, 3])\n",
        "for item in miobjeto:\n",
        "    print(item, end=', ')"
      ],
      "metadata": {
        "id": "ExHoLiQ6H-wl",
        "colab": {
          "base_uri": "https://localhost:8080/"
        },
        "outputId": "2c44d9ca-8cd5-41be-87fc-542cf4c4b8b7"
      },
      "execution_count": null,
      "outputs": [
        {
          "output_type": "stream",
          "name": "stdout",
          "text": [
            "5, 4, 3, "
          ]
        }
      ]
    },
    {
      "cell_type": "markdown",
      "source": [
        "Cabe destacar que el ejemplo mostrado tiene fines didácticos y poca aplicación práctica, ya que simplemente se está encapsulando una lista dentro de una clase. Sin embargo sirve para ejemplificar cómo una clase se puede convertir en iterable, y seguramente con esta base encuentres aplicaciones prácticas en tus proyectos."
      ],
      "metadata": {
        "id": "qLB7nx_1IABj"
      }
    }
  ]
}