{
  "nbformat": 4,
  "nbformat_minor": 0,
  "metadata": {
    "colab": {
      "provenance": [],
      "include_colab_link": true
    },
    "kernelspec": {
      "name": "python3",
      "display_name": "Python 3"
    },
    "language_info": {
      "name": "python"
    }
  },
  "cells": [
    {
      "cell_type": "markdown",
      "metadata": {
        "id": "view-in-github",
        "colab_type": "text"
      },
      "source": [
        "<a href=\"https://colab.research.google.com/github/Danangellotti/Ciencia_de_datos_2025/blob/main/Semana_02_Practica_02.ipynb\" target=\"_parent\"><img src=\"https://colab.research.google.com/assets/colab-badge.svg\" alt=\"Open In Colab\"/></a>"
      ]
    },
    {
      "cell_type": "markdown",
      "source": [
        "# Ejercicio 01\n",
        "\n",
        "Completar el siguientes script para realizar una iteración de los 10 primeros números naturales."
      ],
      "metadata": {
        "id": "F_gu2wMIyEmr"
      }
    },
    {
      "cell_type": "code",
      "execution_count": null,
      "metadata": {
        "id": "Gy-TEAq0x60q"
      },
      "outputs": [],
      "source": [
        "for i in .....:\n",
        "  print(i)"
      ]
    },
    {
      "cell_type": "markdown",
      "source": [
        "# Ejercicio 02\n",
        "\n",
        "Con while realizar una iteración de los 10 primeros números naturales y mostrarlos por pantalla."
      ],
      "metadata": {
        "id": "vXSjdysZzGL7"
      }
    },
    {
      "cell_type": "code",
      "source": [],
      "metadata": {
        "id": "QSdr5IonzmIm"
      },
      "execution_count": null,
      "outputs": []
    },
    {
      "cell_type": "markdown",
      "source": [
        "# Ejercicio 03\n",
        "\n",
        "Crear un script que muestre por pantalla los 10000 primeros números pares.\n",
        "\n",
        "`No se puede utilizar el condicional if`"
      ],
      "metadata": {
        "id": "-ZWPp9Ctzu_R"
      }
    },
    {
      "cell_type": "code",
      "source": [],
      "metadata": {
        "id": "Fa3fkZkO0SI8"
      },
      "execution_count": null,
      "outputs": []
    },
    {
      "cell_type": "markdown",
      "source": [
        "# Ejercicio 4\n",
        "\n",
        "Crear un script que muestre por separado los primeros 10000 números. La salida del programa debe ser la siguiente:\n",
        "```\n",
        "Número par: 0\n",
        "Número impar: 1\n",
        "---\n",
        "Número par: 2\n",
        "Número impar: 3\n",
        "```\n",
        "`No se puede utilizar el condicional if`"
      ],
      "metadata": {
        "id": "kdHcaio70dEq"
      }
    },
    {
      "cell_type": "code",
      "source": [],
      "metadata": {
        "id": "EQ_kwVc-1DYK"
      },
      "execution_count": null,
      "outputs": []
    },
    {
      "cell_type": "markdown",
      "source": [
        "# Ejercicio 5\n",
        "\n",
        "Iterar la siguiente frase y mostrar por pantalla cada una de las letras con su posición.\n",
        "\n",
        "La salida de tener el siguiente formato:\n",
        "```\n",
        "Posición 0 caracter: ¿\n",
        "Posición 1 caracter: C\n",
        "Posición 2 caracter: u\n",
        "Posición 3 caracter: á\n",
        "Posición 4 caracter: l\n",
        "Posición 5 caracter:  \n",
        "```\n"
      ],
      "metadata": {
        "id": "P4aCYa_d1h6_"
      }
    },
    {
      "cell_type": "code",
      "source": [
        "# En La sociedad de la mente (1987).\n",
        "frase = \"¿Cuál es el truco mágico que nos hace inteligentes? El truco es que no hay truco. El poder de la inteligencia emana de nuestra vasta diversidad, no de un único y perfecto principio\"\n",
        "\n"
      ],
      "metadata": {
        "id": "mIzJy9ze1xmt"
      },
      "execution_count": null,
      "outputs": []
    },
    {
      "cell_type": "markdown",
      "source": [
        "# Ejercicio 06\n",
        "\n",
        "Utilizando iteradores anidados mostrar las tablas de multiplicación que van del 1 al 10.\n",
        "\n",
        "Ejemplo de la salida:\n",
        "```\n",
        "Tabla del 1:\n",
        "1x1=1\n",
        "1x2=2\n",
        "1x3=3\n",
        "1x4=4\n",
        "1x5=5\n",
        "1x6=6\n",
        "1x7=7\n",
        "1x8=8\n",
        "1x9=9\n",
        "1x10=10\n",
        "\n",
        "Tabla del 2:\n",
        "2x1=2\n",
        "2x2=4\n",
        "2x3=6\n",
        "2x4=8\n",
        "2x5=10\n",
        "2x6=12\n",
        "2x7=14\n",
        "2x8=16\n",
        "2x9=18\n",
        "2x10=20\n",
        "```"
      ],
      "metadata": {
        "id": "_fzumq9Z5oEv"
      }
    },
    {
      "cell_type": "code",
      "source": [],
      "metadata": {
        "id": "lFBghPMU6Ru0"
      },
      "execution_count": null,
      "outputs": []
    },
    {
      "cell_type": "markdown",
      "source": [
        "## Ejercicio 7\n",
        "\n",
        "Escribir un bucle while que muestre los 10 primeros números naturales y que al finalizar muestre el mensaje `El while se ejecutó correctamente`.\n",
        "\n",
        "El código debe contener la siguiente línea:\n",
        "```\n",
        "print('El while se ejecutó correctamente')\n",
        "```"
      ],
      "metadata": {
        "id": "XjwSIQM3GrI1"
      }
    },
    {
      "cell_type": "code",
      "source": [],
      "metadata": {
        "id": "OFxLThjnHNGj"
      },
      "execution_count": null,
      "outputs": []
    },
    {
      "cell_type": "markdown",
      "source": [
        "## Ejercicio 8\n",
        "\n",
        "Escribir un bucle while que itere los 10 primeros números naturales y que muestre los 3 valores primeros valores. Se debe utilizar la instrucción `break` y el código debe contener la siguiente línea que se muestra a continuación pero no se debe mostrar el mensaje.\n",
        "```\n",
        "print('El while se ejecutó correctamente')\n",
        "```\n",
        "\n"
      ],
      "metadata": {
        "id": "-lY65DZxKAtK"
      }
    },
    {
      "cell_type": "code",
      "source": [],
      "metadata": {
        "id": "fgQuexcgKuQj"
      },
      "execution_count": null,
      "outputs": []
    }
  ]
}