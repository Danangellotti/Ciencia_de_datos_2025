{
  "nbformat": 4,
  "nbformat_minor": 0,
  "metadata": {
    "colab": {
      "provenance": [],
      "include_colab_link": true
    },
    "kernelspec": {
      "name": "python3",
      "display_name": "Python 3"
    },
    "language_info": {
      "name": "python"
    }
  },
  "cells": [
    {
      "cell_type": "markdown",
      "metadata": {
        "id": "view-in-github",
        "colab_type": "text"
      },
      "source": [
        "<a href=\"https://colab.research.google.com/github/Danangellotti/Ciencia_de_datos_2025/blob/main/Semana_02_03_range.ipynb\" target=\"_parent\"><img src=\"https://colab.research.google.com/assets/colab-badge.svg\" alt=\"Open In Colab\"/></a>"
      ]
    },
    {
      "cell_type": "markdown",
      "source": [
        "# Range en Python\n",
        "\n"
      ],
      "metadata": {
        "id": "P16Ip_ta93gR"
      }
    },
    {
      "cell_type": "markdown",
      "source": [
        "## Uso del range\n",
        "\n",
        "Uno de las iteraciones mas comunes que se realizan, es la de iterar un número entre por ejemplo 0 y n. Si ya programas, estoy seguro de que estas cansado de escribir esto, aunque sea en otro lenguaje. Pongamos que queremos iterar una variable i de 0 a 5. Haciendo uso de lo que hemos visto anteriormente, podríamos hacer lo siguiente."
      ],
      "metadata": {
        "id": "JfOcc5-YAdj6"
      }
    },
    {
      "cell_type": "code",
      "execution_count": null,
      "metadata": {
        "id": "zYsRCZp791Nw",
        "colab": {
          "base_uri": "https://localhost:8080/"
        },
        "outputId": "83ae96d6-8690-4889-d1d4-a1b18233a63c"
      },
      "outputs": [
        {
          "output_type": "stream",
          "name": "stdout",
          "text": [
            "0, 1, 2, 3, 4, 5, "
          ]
        }
      ],
      "source": [
        "for i in (0, 1, 2, 3, 4, 5):\n",
        "    print(i, end=', ')"
      ]
    },
    {
      "cell_type": "markdown",
      "source": [
        "Se trata de una solución que cumple con nuestro requisito. El contenido después del `in` se trata de una clase que como ya hemos visto antes, es iterable, y es de hecho una tupla. Sin embargo, hay otras formas de hacer esto en Python, haciendo uso del `range()`."
      ],
      "metadata": {
        "id": "iMYG7bxI-Dnk"
      }
    },
    {
      "cell_type": "code",
      "source": [
        "for i in range(6):\n",
        "    print(i, end=', ')"
      ],
      "metadata": {
        "id": "o-b_j4xo-FJj",
        "colab": {
          "base_uri": "https://localhost:8080/"
        },
        "outputId": "24620667-03f2-4bda-aac9-f3ec8fd50e25"
      },
      "execution_count": null,
      "outputs": [
        {
          "output_type": "stream",
          "name": "stdout",
          "text": [
            "0, 1, 2, 3, 4, 5, "
          ]
        }
      ]
    },
    {
      "cell_type": "markdown",
      "source": [
        "El `range()` genera una secuencia de números que van desde 0 por defecto hasta el número que se pasa como parámetro menos 1.\n",
        "Si tomamos el ejemplo anterior lo podemos ver como un intervalo matemático [0,6) el cual incluye los valores 0,1,2,3,4,5.\n",
        "\n",
        "El range en realidad soporta hasta tres parámetros separados por coma:\n",
        "- El primer es el inicio de la secuencia\n",
        "- El segundo el final.\n",
        "- El tercero el salto que se desea entre números.\n",
        "\n",
        "Por defecto se empieza en 0 y el salto es de 1.\n",
        "\n",
        "```\n",
        "#range(inicio, fin, salto)\n",
        "```\n",
        "\n",
        "Por lo tanto, si llamamos a range() con (5,20,2), se generarán números de 5 a 20 de dos en dos. Un truco es que el range() se puede convertir en list."
      ],
      "metadata": {
        "id": "pfw2tK0m-GjO"
      }
    },
    {
      "cell_type": "code",
      "source": [
        "print(list(range(5, 20, 2)))"
      ],
      "metadata": {
        "id": "HJJk3rwE-IIT",
        "colab": {
          "base_uri": "https://localhost:8080/"
        },
        "outputId": "0a7fd8ad-5489-4350-cc2e-c18d516f6c40"
      },
      "execution_count": null,
      "outputs": [
        {
          "output_type": "stream",
          "name": "stdout",
          "text": [
            "[5, 7, 9, 11, 13, 15, 17, 19]\n"
          ]
        }
      ]
    },
    {
      "cell_type": "markdown",
      "source": [
        "Y mezclándolo con el for, podemos hacer lo siguiente."
      ],
      "metadata": {
        "id": "42dXs7y7-OR3"
      }
    },
    {
      "cell_type": "code",
      "source": [
        "for i in range(5, 20, 2):\n",
        "    print(i, end=', ')"
      ],
      "metadata": {
        "id": "nsNml4K_-QBL",
        "colab": {
          "base_uri": "https://localhost:8080/"
        },
        "outputId": "d6bccb20-f1a6-4a53-afc3-45e3852ab8f4"
      },
      "execution_count": null,
      "outputs": [
        {
          "output_type": "stream",
          "name": "stdout",
          "text": [
            "5, 7, 9, 11, 13, 15, 17, 19, "
          ]
        }
      ]
    },
    {
      "cell_type": "markdown",
      "source": [
        "Se pueden generar también secuencias inversas, empezando por un número mayor y terminando en uno menor, pero para ello el salto deberá ser negativo."
      ],
      "metadata": {
        "id": "yTBKsXgG-RuS"
      }
    },
    {
      "cell_type": "code",
      "source": [
        "for i in range (5, 0, -1):\n",
        "    print(i, end=', ')"
      ],
      "metadata": {
        "id": "L4cAB35w-Ux6",
        "colab": {
          "base_uri": "https://localhost:8080/"
        },
        "outputId": "b2be5259-0909-4938-96b9-c61b8995ec03"
      },
      "execution_count": null,
      "outputs": [
        {
          "output_type": "stream",
          "name": "stdout",
          "text": [
            "5, 4, 3, 2, 1, "
          ]
        }
      ]
    }
  ]
}