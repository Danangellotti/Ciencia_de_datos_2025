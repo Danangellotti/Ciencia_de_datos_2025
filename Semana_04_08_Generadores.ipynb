{
  "nbformat": 4,
  "nbformat_minor": 0,
  "metadata": {
    "colab": {
      "provenance": [],
      "include_colab_link": true
    },
    "kernelspec": {
      "name": "python3",
      "display_name": "Python 3"
    },
    "language_info": {
      "name": "python"
    }
  },
  "cells": [
    {
      "cell_type": "markdown",
      "metadata": {
        "id": "view-in-github",
        "colab_type": "text"
      },
      "source": [
        "<a href=\"https://colab.research.google.com/github/Danangellotti/Ciencia_de_datos_2025/blob/main/Semana_04_08_Generadores.ipynb\" target=\"_parent\"><img src=\"https://colab.research.google.com/assets/colab-badge.svg\" alt=\"Open In Colab\"/></a>"
      ]
    },
    {
      "cell_type": "markdown",
      "source": [
        "## Generadores en Python\n",
        "Si alguna vez te has encontrado con una función en Python que no sólo tiene una sentencia `return`, sino que además devuelve un valor haciendo uso de `yield`, ya has visto lo que es un generador o generator. A continuación te explicó cómo se crean, para qué sirven y sus ventajas. Es muy importante también no confundir los generadores con las corrutinas, que también usan `yield` pero de otra manera, sin embargo estas las dejamos para más adelante.\n",
        "\n",
        "Empecemos por lo básico. Seguramente ya sepas lo que es una función y cómo puede devolver un valor con `return`."
      ],
      "metadata": {
        "id": "gNTx0bF2Cto_"
      }
    },
    {
      "cell_type": "code",
      "source": [
        "def funcion():\n",
        "    return 5"
      ],
      "metadata": {
        "id": "zpN2eRIix7u-"
      },
      "execution_count": null,
      "outputs": []
    },
    {
      "cell_type": "markdown",
      "source": [
        "Como hemos explicado, los generadores usan `yield` en vez de `return`. Vamos a ver que pasaría si cambiamos el return por el yield."
      ],
      "metadata": {
        "id": "At4qOV86x9CC"
      }
    },
    {
      "cell_type": "code",
      "source": [
        "def generador():\n",
        "    yield 5"
      ],
      "metadata": {
        "id": "hPKTjaYgx-u-"
      },
      "execution_count": null,
      "outputs": []
    },
    {
      "cell_type": "markdown",
      "source": [
        "Y ahora vamos a intentar llamar a las dos “funciones”.\n",
        "\n"
      ],
      "metadata": {
        "id": "haDBc_zayAMW"
      }
    },
    {
      "cell_type": "code",
      "source": [
        "print('Resultado de la ejecución de la función: ', funcion())\n",
        "print('Resultado de la ejecución del generador: ', generador())"
      ],
      "metadata": {
        "id": "JgQTojo8yB8E",
        "colab": {
          "base_uri": "https://localhost:8080/"
        },
        "outputId": "b39b818f-ae19-44eb-b654-629e8e8fbe72"
      },
      "execution_count": null,
      "outputs": [
        {
          "output_type": "stream",
          "name": "stdout",
          "text": [
            "Resultado de la ejecución de la función:  5\n",
            "Resultado de la ejecución del generador:  <generator object generador at 0x79f5acce6dc0>\n"
          ]
        }
      ]
    },
    {
      "cell_type": "markdown",
      "source": [
        "Podemos ver ya la primera diferencia al usar el `yield`. La función devuelve un 5, pero el generador devuelve un objeto de la clase `generator`. En realidad el número `5` también puede ser accedido en el caso del generador, pero esto lo veremos más adelante.\n",
        "\n",
        "Entonces, si una función contiene al menos una sentencia `yield`, se convertirá en una función generadora. Una función generadora se diferencia de una función normal en que tras ejecutar el `yield`, la función devuelve el control a quién la llamó, pero la función es pausada y el estado (valor de las variables) es guardado. Esto permite que su ejecución pueda ser reanudada más adelante."
      ],
      "metadata": {
        "id": "_XVKc_xcyDh3"
      }
    },
    {
      "cell_type": "markdown",
      "source": [
        "## Iterando los Generadores\n",
        "\n",
        "A continuación vamos a ver cómo acceder a los valores del generador. Para comprenderlo mejor, te recuerdo que leas antes más acerca de iterables e iteradores.\n",
        "\n",
        "Otra de las características que hacen a los generators diferentes, es que pueden ser iterados, ya que sobreescriben los métodos `__iter__` y `__next__`, por lo que podemos usar `next` sobre ellos. Dado que son iterables, lanzan también un `StopIteration` cuando se ha llegado al final.\n",
        "\n",
        "Volviendo al ejemplo anterior, vamos a ver como podemos usar el `next`."
      ],
      "metadata": {
        "id": "MR4LGOhHyFPq"
      }
    },
    {
      "cell_type": "code",
      "source": [
        "a = generador()\n",
        "print('El resultado de invocar al generador y pasarselo a next es: ', next(a))"
      ],
      "metadata": {
        "id": "deFwhfaFyHJZ",
        "colab": {
          "base_uri": "https://localhost:8080/"
        },
        "outputId": "6a678c06-09b1-4602-bdb8-8d81d98770c8"
      },
      "execution_count": null,
      "outputs": [
        {
          "output_type": "stream",
          "name": "stdout",
          "text": [
            "El resultado de invocar al generador y pasarselo a next es:  5\n"
          ]
        }
      ]
    },
    {
      "cell_type": "markdown",
      "source": [
        "Como te prometimos antes, el `5` también se podía acceder ¿has visto?. Pero vamos a ver que pasa ahora si intentamos llamar otra vez a `next`. Si recuerdas, sólo tenemos una llamada a `yield`."
      ],
      "metadata": {
        "id": "WR_8BvmuyJA6"
      }
    },
    {
      "cell_type": "code",
      "source": [
        "import traceback"
      ],
      "metadata": {
        "id": "v9ckGd7lcnqC"
      },
      "execution_count": null,
      "outputs": []
    },
    {
      "cell_type": "code",
      "source": [
        "a = generador()\n",
        "print('El resultado de invocar al generador y pasarselo a next es: ', next(a))\n",
        "try:\n",
        "  print(next(a))\n",
        "except StopIteration:\n",
        "  traceback.print_exc()"
      ],
      "metadata": {
        "id": "yUUSnzpXyKJe",
        "colab": {
          "base_uri": "https://localhost:8080/"
        },
        "outputId": "c155e308-ee6b-45dc-c964-71f848b5a7b5"
      },
      "execution_count": null,
      "outputs": [
        {
          "output_type": "stream",
          "name": "stdout",
          "text": [
            "El resultado de invocar al generador y pasarselo a next es:  5\n"
          ]
        },
        {
          "output_type": "stream",
          "name": "stderr",
          "text": [
            "Traceback (most recent call last):\n",
            "  File \"<ipython-input-6-d7987709420e>\", line 4, in <cell line: 3>\n",
            "    print(next(a))\n",
            "StopIteration\n"
          ]
        }
      ]
    },
    {
      "cell_type": "markdown",
      "source": [
        "Como era de esperar, tenemos una excepción del tipo `StopIteration`, ya que el generador no devuelve más valores. Esto se debe a que cada vez que usamos `next` sobre el generador, se llama y se continúa su ejecución después del último `yield`. Y en este caso cómo no hay más código, no se generan más valores."
      ],
      "metadata": {
        "id": "XUOwqxP_yLcG"
      }
    },
    {
      "cell_type": "markdown",
      "source": [
        "## Creando Generadores\n",
        "\n",
        "Vamos a ver otro ejemplo más completo donde tengamos un generador que genere varios valores. En la siguiente función podemos ver como tenemos una variable `n` que incrementada en 1, y después retorna con `yield`. Lo que pasará aquí, es que el generador generará un total de tres valores."
      ],
      "metadata": {
        "id": "MP7tVtrzyNPR"
      }
    },
    {
      "cell_type": "code",
      "source": [
        "def generador():\n",
        "    n = 1\n",
        "    yield n\n",
        "\n",
        "    n += 1\n",
        "    yield n\n",
        "\n",
        "    n += 1\n",
        "    yield n"
      ],
      "metadata": {
        "id": "RnxRALXMyQTm"
      },
      "execution_count": null,
      "outputs": []
    },
    {
      "cell_type": "markdown",
      "source": [
        "Y haciendo uso de `next` al igual que hacíamos antes, podemos ver los valores que han sido generados. Lo que pasa por debajo, sería lo siguiente:\n",
        "\n",
        "* Se entra en la función generadora, `n=1` y se devuelve ese valor. Como ya hemos visto, el estado de la función se guarda (el valor de `n` es guardado para la siguiente llamada)\n",
        "* La segunda vez que usamos `next` se entra otra vez en la función, pero se continúa su ejecución donde se dejó anteriormente. Se suma `1` a la variable `n` y se devuelve el nuevo valor.\n",
        "* La tercera llamada, realiza lo mismo.\n",
        "* Una cuarta llamada daría un error, ya que no hay más código que ejecutar."
      ],
      "metadata": {
        "id": "5cwEr7jRyRyE"
      }
    },
    {
      "cell_type": "code",
      "source": [
        "g = generador()\n",
        "print('El resultado de invocar al generador y pasarselo a next es: ', next(g))\n",
        "print('El resultado de invocar al generador y pasarselo a next es: ', next(g))\n",
        "print('El resultado de invocar al generador y pasarselo a next es: ', next(g))"
      ],
      "metadata": {
        "id": "WqT_CjmRyZEV",
        "colab": {
          "base_uri": "https://localhost:8080/"
        },
        "outputId": "3a078c7b-b955-455b-e076-a377e395ca40"
      },
      "execution_count": null,
      "outputs": [
        {
          "output_type": "stream",
          "name": "stdout",
          "text": [
            "El resultado de invocar al generador y pasarselo a next es:  1\n",
            "El resultado de invocar al generador y pasarselo a next es:  2\n",
            "El resultado de invocar al generador y pasarselo a next es:  3\n"
          ]
        }
      ]
    },
    {
      "cell_type": "markdown",
      "source": [
        "Otra forma más cómoda de realizar lo mismo, sería usando un simple bucle for, ya que el generador es iterable."
      ],
      "metadata": {
        "id": "BtpF6K_zyacV"
      }
    },
    {
      "cell_type": "code",
      "source": [
        "for i in generador():\n",
        "    print('El resultado es: ', i)\n"
      ],
      "metadata": {
        "id": "xmCKLo-Aybl6",
        "colab": {
          "base_uri": "https://localhost:8080/"
        },
        "outputId": "d4e17e33-2b54-4b73-a8db-0bc540894add"
      },
      "execution_count": null,
      "outputs": [
        {
          "output_type": "stream",
          "name": "stdout",
          "text": [
            "El resultado es:  1\n",
            "El resultado es:  2\n",
            "El resultado es:  3\n"
          ]
        }
      ]
    },
    {
      "cell_type": "markdown",
      "source": [
        "## Forma alternativa\n",
        "Los generadores también pueden ser creados de una forma mucho más sencilla y en una sola línea de código. Su sintaxis es similar a las list comprehension, pero cambiando el corchete `[]` por paréntesis `()`.\n",
        "\n",
        "El ejemplo con list comprehensions sería el siguiente. Simplemente se generan los valores de una lista elevados al cuadrado."
      ],
      "metadata": {
        "id": "f6eMRPMgydn5"
      }
    },
    {
      "cell_type": "code",
      "source": [
        "lista = [2, 4, 6]\n",
        "al_cuadrado = [x**2 for x in lista]\n",
        "print('Se generó una lista con los valores: ', al_cuadrado)"
      ],
      "metadata": {
        "id": "oMZ1EqwAygQZ",
        "colab": {
          "base_uri": "https://localhost:8080/"
        },
        "outputId": "a8244e83-72e2-4276-8773-bfde05c0c099"
      },
      "execution_count": null,
      "outputs": [
        {
          "output_type": "stream",
          "name": "stdout",
          "text": [
            "Se generó una lista con los valores:  [4, 16, 36]\n"
          ]
        }
      ]
    },
    {
      "cell_type": "markdown",
      "source": [
        "Y su equivalente con generadores sería lo siguiente.\n",
        "\n"
      ],
      "metadata": {
        "id": "YHelA60nyiI9"
      }
    },
    {
      "cell_type": "code",
      "source": [
        "al_cuadrado_generador = ((x**2,input('\\tPausa del iterador, presione enter para continuar')) for x in lista)\n",
        "\n",
        "print('Se generó un generador: ', al_cuadrado_generador)"
      ],
      "metadata": {
        "id": "qSRN46n7yjxG",
        "colab": {
          "base_uri": "https://localhost:8080/"
        },
        "outputId": "0ca5d6e9-9cb9-4c51-998e-c2c210c384f3"
      },
      "execution_count": null,
      "outputs": [
        {
          "output_type": "stream",
          "name": "stdout",
          "text": [
            "Se generó un generador:  <generator object <genexpr> at 0x79f5acce7ca0>\n"
          ]
        }
      ]
    },
    {
      "cell_type": "markdown",
      "source": [
        "Y como hemos visto los valores pueden ser generados de la siguiente forma.\n",
        "\n"
      ],
      "metadata": {
        "id": "m4pWgsOPywil"
      }
    },
    {
      "cell_type": "code",
      "source": [
        "for i in al_cuadrado_generador:\n",
        "  print('El resultado es: ', i[0])"
      ],
      "metadata": {
        "id": "bExlD2hEyx7N",
        "colab": {
          "base_uri": "https://localhost:8080/"
        },
        "outputId": "9e230273-5de8-4c3d-8fe1-3eb10246c4df"
      },
      "execution_count": null,
      "outputs": [
        {
          "output_type": "stream",
          "name": "stdout",
          "text": [
            "\tPausa del iterador, presione enter para continuar\n",
            "El resultado es:  4\n",
            "\tPausa del iterador, presione enter para continuar\n",
            "El resultado es:  16\n",
            "\tPausa del iterador, presione enter para continuar\n",
            "El resultado es:  36\n"
          ]
        }
      ]
    },
    {
      "cell_type": "markdown",
      "source": [
        "La diferencia entre el ejemplo usando list compregensions y generators es que en el caso de los generadores, los valores no están almacenados en memoria, sino que se van generando al vuelo. Esta es una de las principales ventajas de los generadores, ya que los elementos sólo son generados cuando se piden, lo que hace que sean mucho más eficientes en lo relativo a la memoria.\n",
        "\n",
        "Nótese como primero se muestra la pausa dentro del generador y luego se muestra el mensaje del `for`."
      ],
      "metadata": {
        "id": "AhU8MkPIyzZ1"
      }
    },
    {
      "cell_type": "markdown",
      "source": [
        "## Ventajas y ejemplos\n",
        "Llegados a este punto tal vez te preguntes para qué sirven los generadores. Lo cierto es que aunque no existieran, podría realizarse lo mismo creando una clase que implemente los métodos `__iter__` y `__next__`. Veamos un ejemplo de una clase que genera los primeros 10 números (0,9) al cuadrado.\n",
        "\n"
      ],
      "metadata": {
        "id": "VXnZ3Fl4y1Nv"
      }
    },
    {
      "cell_type": "code",
      "source": [
        "class AlCuadrado:\n",
        "\n",
        "    \"\"\" Clase que genera los primeros 10 números al cuadrado.\n",
        "    \"\"\"\n",
        "    def __init__(self):\n",
        "        self.i = 0\n",
        "\n",
        "    \"\"\" Método que permite iterar sobre la clase.\n",
        "    \"\"\"\n",
        "    def __iter__(self):\n",
        "        return self\n",
        "\n",
        "    \"\"\" Método que permite obtener el siguiente valor de la clase.\n",
        "    \"\"\"\n",
        "    def __next__(self):\n",
        "        if self.i > 9:\n",
        "            raise StopIteration\n",
        "\n",
        "        result = self.i ** 2\n",
        "        self.i += 1\n",
        "        return result"
      ],
      "metadata": {
        "id": "N1qyoYRly3iq"
      },
      "execution_count": null,
      "outputs": []
    },
    {
      "cell_type": "markdown",
      "source": [
        "Y de la misma forma que usábamos los generadores, podemos usar nuestra clase AlCuadrado. Creamos un objeto de ella, y la iteramos. En cada iteración generará un nuevo valor nuevo hasta que se llegue al final."
      ],
      "metadata": {
        "id": "or65XMijy46d"
      }
    },
    {
      "cell_type": "code",
      "source": [
        "eleva_al_cuadrado = AlCuadrado()\n",
        "for i in eleva_al_cuadrado:\n",
        "    print('El resultado es: ', i)"
      ],
      "metadata": {
        "id": "m5fu5uS7y6_Z",
        "colab": {
          "base_uri": "https://localhost:8080/"
        },
        "outputId": "dcf44938-b94f-4785-a2d4-eeb8102b62f4"
      },
      "execution_count": null,
      "outputs": [
        {
          "output_type": "stream",
          "name": "stdout",
          "text": [
            "El resultado es:  0\n",
            "El resultado es:  1\n",
            "El resultado es:  4\n",
            "El resultado es:  9\n",
            "El resultado es:  16\n",
            "El resultado es:  25\n",
            "El resultado es:  36\n",
            "El resultado es:  49\n",
            "El resultado es:  64\n",
            "El resultado es:  81\n"
          ]
        }
      ]
    },
    {
      "cell_type": "markdown",
      "source": [
        "Sin embargo esta forma es un tanto larga y tal vez confusa. Como hemos visto antes, podemos llegar a hacer lo mismo en una sola línea de código. ¿Para que complicarse la vida?\n",
        "\n",
        "Por otro lado, ya hemos mencionado que el uso de los generadores hace que no todos los valores estén almacenados en memoria sino que sean generados al vuelo. Vamos a ver un ejemplo donde se puede ver mejor. Supongamos que queremos sumar los primeros 100 números naturales (referencia). Una opción podría ser crear una lista de todos ellos y después sumarla. En este caso, todos los valores son almacenados en memoria, algo que podría ser un problema si por ejemplo intentamos sumar los primeros 1e10 números."
      ],
      "metadata": {
        "id": "U2ygOobFy84t"
      }
    },
    {
      "cell_type": "code",
      "source": [
        "def primerosn(n:int) -> list[int]:\n",
        "    \"\"\" Crea una lista con los primeros n números naturales.\n",
        "\n",
        "    Args:\n",
        "        n (int): número de elementos a sumar.\n",
        "\n",
        "    Returns:\n",
        "        int: suma de los primeros n números naturales.\n",
        "    \"\"\"\n",
        "    nums:list[int] = []\n",
        "    for i in range(n):\n",
        "        nums.append(i)\n",
        "    return nums\n",
        "\n",
        "print('La suma de los primeros 100 número es: ', sum(primerosn(100)))"
      ],
      "metadata": {
        "id": "SkfPLs6yy-bt",
        "colab": {
          "base_uri": "https://localhost:8080/"
        },
        "outputId": "944382aa-5ae8-4a3a-d462-34420f924158"
      },
      "execution_count": null,
      "outputs": [
        {
          "output_type": "stream",
          "name": "stdout",
          "text": [
            "La suma de los primeros 100 número es:  4950\n"
          ]
        }
      ]
    },
    {
      "cell_type": "markdown",
      "source": [
        "Sin embargo, podemos realizar lo mismo con un generador. En este caso los valores serán generados uno por uno según se vayan necesitando."
      ],
      "metadata": {
        "id": "97YUYPr8y_xl"
      }
    },
    {
      "cell_type": "code",
      "source": [
        "def primerosn_(n:int) -> int:\n",
        "    \"\"\" Generador de los primeros n números naturales.\n",
        "\n",
        "    Args:\n",
        "        n (int): número de elementos a generar.\n",
        "\n",
        "    Yields:\n",
        "        int: número generado.\n",
        "    \"\"\"\n",
        "    num = 0\n",
        "    for i in range(n):\n",
        "        yield num\n",
        "        num += 1\n",
        "print('La suma de los primeros 100 número es: ', sum(primerosn_(100)))"
      ],
      "metadata": {
        "id": "02PM8qbQzBZR",
        "colab": {
          "base_uri": "https://localhost:8080/"
        },
        "outputId": "5a2638ad-6499-46b3-d553-0ed773093563"
      },
      "execution_count": null,
      "outputs": [
        {
          "output_type": "stream",
          "name": "stdout",
          "text": [
            "La suma de los primeros 100 número es:  4950\n"
          ]
        }
      ]
    },
    {
      "cell_type": "markdown",
      "source": [
        "Nótese que es un ejemplo con fines didácticos, por lo que si quieres hacer esto, la mejor manera sería usando un simple range() asumiendo que usas Python 3."
      ],
      "metadata": {
        "id": "5Z4iCZYXzCwR"
      }
    },
    {
      "cell_type": "code",
      "source": [
        "print('La suma de los primeros 100 número es: ', sum(range(100)))"
      ],
      "metadata": {
        "id": "4B48ylPkzEDd",
        "colab": {
          "base_uri": "https://localhost:8080/"
        },
        "outputId": "45be4156-4dda-4aba-f681-ebafa1872ea4"
      },
      "execution_count": null,
      "outputs": [
        {
          "output_type": "stream",
          "name": "stdout",
          "text": [
            "La suma de los primeros 100 número es:  4950\n"
          ]
        }
      ]
    }
  ]
}