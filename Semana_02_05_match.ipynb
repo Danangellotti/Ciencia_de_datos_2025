{
  "nbformat": 4,
  "nbformat_minor": 0,
  "metadata": {
    "colab": {
      "provenance": [],
      "include_colab_link": true
    },
    "kernelspec": {
      "name": "python3",
      "display_name": "Python 3"
    },
    "language_info": {
      "name": "python"
    }
  },
  "cells": [
    {
      "cell_type": "markdown",
      "metadata": {
        "id": "view-in-github",
        "colab_type": "text"
      },
      "source": [
        "<a href=\"https://colab.research.google.com/github/Danangellotti/Ciencia_de_datos_2025/blob/main/Semana_02_05_match.ipynb\" target=\"_parent\"><img src=\"https://colab.research.google.com/assets/colab-badge.svg\" alt=\"Open In Colab\"/></a>"
      ]
    },
    {
      "cell_type": "markdown",
      "source": [
        "# Match en Python\n",
        "Python ofrece algo similar al switch de otros lenguajes de programación desde la versión 3.10.\n",
        "\n",
        "Se trata del match. Cada `case` define un camino posible. El `_` es la opción por defecto, que se ejecuta si la entrada no coincide con ningún caso.\n",
        "\n"
      ],
      "metadata": {
        "id": "8KfY3kYODFuT"
      }
    },
    {
      "cell_type": "code",
      "source": [
        "hora = 8\n",
        "match hora:\n",
        "    case 8:\n",
        "        print(\"Desayuno\")\n",
        "    case 14:\n",
        "        print(\"Comida\")\n",
        "    case 21:\n",
        "        print(\"Cena\")\n",
        "    case _:\n",
        "        print(\"No toca comer\")"
      ],
      "metadata": {
        "colab": {
          "base_uri": "https://localhost:8080/"
        },
        "id": "KGMw0Z5xAGaD",
        "outputId": "16dd5687-f5c2-46da-91a3-6e43deea61df"
      },
      "execution_count": null,
      "outputs": [
        {
          "output_type": "stream",
          "name": "stdout",
          "text": [
            "Desayuno\n"
          ]
        }
      ]
    },
    {
      "cell_type": "markdown",
      "source": [
        "El match nos permite realizar lo mismo que con múltiples if/elif como hemos visto anteriormente. Ambos códigos son equivalentes."
      ],
      "metadata": {
        "id": "X4zO15_eAMwP"
      }
    },
    {
      "cell_type": "code",
      "source": [
        "hora = 8\n",
        "if hora == 8:\n",
        "  print(\"Desayuno\")\n",
        "elif hora == 14:\n",
        "  print(\"Comida\")\n",
        "elif hora == 21:\n",
        "  print(\"Cena\")\n",
        "else:\n",
        "  print(\"No toca comer\")"
      ],
      "metadata": {
        "colab": {
          "base_uri": "https://localhost:8080/"
        },
        "id": "BtXmOqG_AYBo",
        "outputId": "20871c6f-2df4-4464-998b-8ba6cba2d6d2"
      },
      "execution_count": null,
      "outputs": [
        {
          "output_type": "stream",
          "name": "stdout",
          "text": [
            "Desayuno\n"
          ]
        }
      ]
    },
    {
      "cell_type": "markdown",
      "source": [
        "También podemos tener en nuestros case múltiples condiciones, donde `|` es interpretado como un `or`."
      ],
      "metadata": {
        "id": "uaV8XP3-AlzW"
      }
    },
    {
      "cell_type": "code",
      "source": [
        "mes = 4\n",
        "match mes:\n",
        "    case 12 | 1 | 2: print(\"Invierno\")\n",
        "    case 3 | 4 | 5: print(\"Primavera\")\n",
        "    case 6 | 7 | 8: print(\"Verano\")\n",
        "    case 9 | 10 | 11: print(\"Otoño\")\n",
        "    case _: print(\"Error\")"
      ],
      "metadata": {
        "colab": {
          "base_uri": "https://localhost:8080/"
        },
        "id": "OIxdBE7nAkpO",
        "outputId": "2f58a4bf-c186-4f01-c705-3dff8379dbaa"
      },
      "execution_count": null,
      "outputs": [
        {
          "output_type": "stream",
          "name": "stdout",
          "text": [
            "Primavera\n"
          ]
        }
      ]
    },
    {
      "cell_type": "markdown",
      "source": [
        "Aunque no acaba ahí la cosa. Podemos hacer matching de prácticamente cualquier cosa como una tupla.\n",
        "\n"
      ],
      "metadata": {
        "id": "kQmHZ9HVClvT"
      }
    },
    {
      "cell_type": "code",
      "execution_count": null,
      "metadata": {
        "id": "YhixkK_aCaxi",
        "colab": {
          "base_uri": "https://localhost:8080/"
        },
        "outputId": "cf89ee75-4699-4958-e9ba-95a55c8ceee6"
      },
      "outputs": [
        {
          "output_type": "stream",
          "name": "stdout",
          "text": [
            "Coordenada en eje y: 1\n"
          ]
        }
      ],
      "source": [
        "coordenada = (0, 1)\n",
        "match coordenada:\n",
        "    case (0, 0):\n",
        "        print(\"Coordenada en origen\")\n",
        "    case (x, 0):\n",
        "        print(f\"Coordenada en eje x: {x}\")\n",
        "    case (0, y):\n",
        "        print(f\"Coordenada en eje y: {y}\")\n",
        "    case (x, y):\n",
        "        print(f\"Coordenada en: {x}, {y}\")\n",
        "    case _:\n",
        "        print(\"Error\")"
      ]
    },
    {
      "cell_type": "markdown",
      "source": [
        "## Emulando match con un diccionario\n",
        "\n",
        "Una forma de tener una especie de match en Python es haciendo uso de un diccionario (lo definiramos más adelante de forma completa)."
      ],
      "metadata": {
        "id": "fbjA783vDeKa"
      }
    },
    {
      "cell_type": "code",
      "source": [
        "def comida(hora):\n",
        "  return {\n",
        "    '8': \"Desayuno\",\n",
        "    '14': \"Comida\",\n",
        "    '21': \"Cena\"\n",
        "  }.get(hora, \"No toca comer\")"
      ],
      "metadata": {
        "id": "FAcwQSzvDk1q"
      },
      "execution_count": null,
      "outputs": []
    },
    {
      "cell_type": "code",
      "source": [
        "print(f'Que comida me corresponde? {comida(hora)}')"
      ],
      "metadata": {
        "id": "ZGIpz7BPDq9g",
        "colab": {
          "base_uri": "https://localhost:8080/"
        },
        "outputId": "f3860b29-900b-4294-e3e5-f5586617b47a"
      },
      "execution_count": null,
      "outputs": [
        {
          "output_type": "stream",
          "name": "stdout",
          "text": [
            "Que comida me corresponde? No toca comer\n"
          ]
        }
      ]
    },
    {
      "cell_type": "markdown",
      "source": [
        "## Tiempo Ejecución match vs if vs diccionario\n",
        "\n",
        "A continuación veremos varios experimentos donde analizaremos el tiempo de ejecución de dos opciones distintas.\n",
        "\n",
        "Empecemos con un problema a resolver. Imaginemos que queremos convertir números de decimal a binario. Empecemos por definir las dos formas de hacerlo.\n",
        "\n",
        "La primera forma es usando if y elif."
      ],
      "metadata": {
        "id": "gR4OO9fpDsav"
      }
    },
    {
      "cell_type": "code",
      "source": [
        "def usa_if(decimal):\n",
        "    if decimal == '0':\n",
        "        return f\"{decimal:03b}\"\n",
        "    elif decimal == '1':\n",
        "        return f\"{decimal:03b}\"\n",
        "    elif decimal == '2':\n",
        "        return f\"{decimal:03b}\"\n",
        "    elif decimal == '3':\n",
        "        return f\"{decimal:03b}\"\n",
        "    elif decimal == '4':\n",
        "        return f\"{decimal:03b}\"\n",
        "    elif decimal == '5':\n",
        "        return f\"{decimal:03b}\"\n",
        "    elif decimal == '6':\n",
        "        return f\"{decimal:03b}\"\n",
        "    elif decimal == '7':\n",
        "        return f\"{decimal:03b}\"\n",
        "    else:\n",
        "        return \"NA\""
      ],
      "metadata": {
        "id": "YxKw417EDuPJ"
      },
      "execution_count": null,
      "outputs": []
    },
    {
      "cell_type": "markdown",
      "source": [
        "La segunda forma es usando diccionarios simulando un switch.\n",
        "\n"
      ],
      "metadata": {
        "id": "zKiVUg_gDwhm"
      }
    },
    {
      "cell_type": "code",
      "source": [
        "tabla_funcion = {\n",
        "        '0': f\"{0:03b}\",\n",
        "        '1': f\"{1:03b}\",\n",
        "        '2': f\"{2:03b}\",\n",
        "        '3': f\"{3:03b}\",\n",
        "        '4': f\"{4:03b}\",\n",
        "        '5': f\"{5:03b}\",\n",
        "        '6': f\"{6:03b}\",\n",
        "        '7': f\"{7:03b}\",\n",
        "    }\n",
        "def usa_funcion(decimal):\n",
        "    return tabla_funcion.get(decimal, \"NA\")"
      ],
      "metadata": {
        "id": "UtkCyOZxD0Ph"
      },
      "execution_count": null,
      "outputs": []
    },
    {
      "cell_type": "markdown",
      "source": [
        "La tercer forma es usando el match."
      ],
      "metadata": {
        "id": "pPUhtgllBzGC"
      }
    },
    {
      "cell_type": "code",
      "source": [
        "def usa_match(decimal):\n",
        "    match decimal:\n",
        "      case 0:\n",
        "        return f\"{decimal:03b}\"\n",
        "      case 1:\n",
        "        return f\"{decimal:03b}\"\n",
        "      case 2:\n",
        "        return f\"{decimal:03b}\"\n",
        "      case 3:\n",
        "        return f\"{decimal:03b}\"\n",
        "      case 4:\n",
        "        return f\"{decimal:03b}\"\n",
        "      case 5:\n",
        "        return f\"{decimal:03b}\"\n",
        "      case 6:\n",
        "        return f\"{decimal:03b}\"\n",
        "      case 7:\n",
        "        return f\"{decimal:03b}\"\n",
        "      case _:\n",
        "        return \"NA\""
      ],
      "metadata": {
        "id": "2jYwTqwzB4qZ"
      },
      "execution_count": null,
      "outputs": []
    },
    {
      "cell_type": "markdown",
      "source": [
        "Las funciones usa_if, usa_match y usa_funcion realizan lo mismo, pero están implementadas de manera distinta. A continuación mediremos el tiempo de ejecución de ambas para saber cuál es más rápida. Vamos a crear primero un decorador (lo veremos más adelante en detalle) que nos permita medir el tiempo que una función tarda en ejecutarse."
      ],
      "metadata": {
        "id": "fVrSGQEED1mp"
      }
    },
    {
      "cell_type": "code",
      "source": [
        "import time\n",
        "def mide_tiempo(funcion):\n",
        "    def funcion_medida(*args, **kwargs):\n",
        "        inicio = time.time()\n",
        "        c = funcion(*args, **kwargs)\n",
        "        print(f\"Entrada: {args[1]}. Tiempo: {time.time() - inicio}\")\n",
        "        return c\n",
        "    return funcion_medida"
      ],
      "metadata": {
        "id": "vpyIaLqvD22R"
      },
      "execution_count": null,
      "outputs": []
    },
    {
      "cell_type": "markdown",
      "source": [
        "Y ahora vamos a crear una función que llame miles de veces a otra. Esto es debido a que necesitamos realizar varias llamadas a la función para obtener un resultado fiable. Dado que si midiéramos una sola ejecución de un if, a penas tardaríamos unos microsegundos."
      ],
      "metadata": {
        "id": "WXNwYK16D4M6"
      }
    },
    {
      "cell_type": "code",
      "source": [
        "@mide_tiempo\n",
        "def repite_funcion(funcion, entrada):\n",
        "    return [funcion(entrada) for i in range(10000000)]"
      ],
      "metadata": {
        "id": "3YiFiaMUD5oT"
      },
      "execution_count": null,
      "outputs": []
    },
    {
      "cell_type": "markdown",
      "source": [
        "Ahora que ya tenemos todo lo que necesitamos para el experimento, vamos a llamar a nuestra funciones con diferentes parámetros. Estos son los resultados:"
      ],
      "metadata": {
        "id": "AOWmPBmKD7qd"
      }
    },
    {
      "cell_type": "code",
      "source": [
        "print('Utilizando if')\n",
        "for i in range(8):\n",
        "    repite_funcion(usa_if, i)"
      ],
      "metadata": {
        "id": "ECWrIg51D-ZP",
        "colab": {
          "base_uri": "https://localhost:8080/"
        },
        "outputId": "bf244379-eea3-492b-b91d-136beda459a1"
      },
      "execution_count": null,
      "outputs": [
        {
          "output_type": "stream",
          "name": "stdout",
          "text": [
            "Utilizando if\n",
            "Entrada: 0. Tiempo: 4.11623740196228\n",
            "Entrada: 1. Tiempo: 3.800903797149658\n",
            "Entrada: 2. Tiempo: 4.094430446624756\n",
            "Entrada: 3. Tiempo: 2.832468032836914\n",
            "Entrada: 4. Tiempo: 2.938096046447754\n",
            "Entrada: 5. Tiempo: 3.202819347381592\n",
            "Entrada: 6. Tiempo: 3.7199018001556396\n",
            "Entrada: 7. Tiempo: 2.8563482761383057\n"
          ]
        }
      ]
    },
    {
      "cell_type": "code",
      "source": [
        "print('Utilizando la función')\n",
        "for i in range(8):\n",
        "    repite_funcion(usa_funcion, i)"
      ],
      "metadata": {
        "colab": {
          "base_uri": "https://localhost:8080/"
        },
        "id": "zHXR1dsh7sfj",
        "outputId": "49a1a738-59df-4736-b77c-edaed56dbde4"
      },
      "execution_count": null,
      "outputs": [
        {
          "output_type": "stream",
          "name": "stdout",
          "text": [
            "Utilizando la función\n",
            "Entrada: 0. Tiempo: 1.0460050106048584\n",
            "Entrada: 1. Tiempo: 1.0127601623535156\n",
            "Entrada: 2. Tiempo: 1.0200226306915283\n",
            "Entrada: 3. Tiempo: 1.4070839881896973\n",
            "Entrada: 4. Tiempo: 1.3868420124053955\n",
            "Entrada: 5. Tiempo: 1.8268277645111084\n",
            "Entrada: 6. Tiempo: 0.9934470653533936\n",
            "Entrada: 7. Tiempo: 0.9997832775115967\n"
          ]
        }
      ]
    },
    {
      "cell_type": "code",
      "source": [
        "print('Utilizando el match')\n",
        "for i in range(8):\n",
        "    repite_funcion(usa_match, i)"
      ],
      "metadata": {
        "id": "CBYNNp6f8EWe",
        "colab": {
          "base_uri": "https://localhost:8080/"
        },
        "outputId": "a416d575-8e02-4d8a-8c7c-fb5c399a6897"
      },
      "execution_count": null,
      "outputs": [
        {
          "output_type": "stream",
          "name": "stdout",
          "text": [
            "Utilizando el match\n",
            "Entrada: 0. Tiempo: 3.194889783859253\n",
            "Entrada: 1. Tiempo: 3.461784601211548\n",
            "Entrada: 2. Tiempo: 4.744704723358154\n",
            "Entrada: 3. Tiempo: 3.7684268951416016\n",
            "Entrada: 4. Tiempo: 3.8202829360961914\n",
            "Entrada: 5. Tiempo: 5.2016472816467285\n",
            "Entrada: 6. Tiempo: 3.957885265350342\n",
            "Entrada: 7. Tiempo: 4.599886417388916\n"
          ]
        }
      ]
    },
    {
      "cell_type": "markdown",
      "source": [
        "Por lo tanto, podemos concluir lo siguiente:\n",
        "\n",
        "* Usando if/match el tiempo de ejecución no es siempre el mismo, ya que dependiendo del valor (0-7) tendrán que evaluarse hasta 8 condiciones.\n",
        "* Usando la función obtenemos un tiempo ligeramente mayor para el \"0\", pero el tiempo de ejecución apenas varía cuando cambiamos la entrada.\n",
        "\n",
        "Visto esto, no se puede concluir que una forma sea mejor que otra, todo dependerá del problema que necesites resolver, pero la próxima vez que te enfrentes a un problema similar, ya tendrás las herramientas para tomar una decisión razonada al respecto."
      ],
      "metadata": {
        "id": "O1Y4IudBECot"
      }
    }
  ]
}