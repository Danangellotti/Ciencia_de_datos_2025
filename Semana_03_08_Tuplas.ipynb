{
  "nbformat": 4,
  "nbformat_minor": 0,
  "metadata": {
    "colab": {
      "provenance": [],
      "toc_visible": true,
      "include_colab_link": true
    },
    "kernelspec": {
      "name": "python3",
      "display_name": "Python 3"
    },
    "language_info": {
      "name": "python"
    }
  },
  "cells": [
    {
      "cell_type": "markdown",
      "metadata": {
        "id": "view-in-github",
        "colab_type": "text"
      },
      "source": [
        "<a href=\"https://colab.research.google.com/github/Danangellotti/Ciencia_de_datos_2025/blob/main/Semana_03_08_Tuplas.ipynb\" target=\"_parent\"><img src=\"https://colab.research.google.com/assets/colab-badge.svg\" alt=\"Open In Colab\"/></a>"
      ]
    },
    {
      "cell_type": "markdown",
      "source": [
        "## tuple\n",
        "\n",
        "Las tuplas en Python son un tipo o estructura de datos que permite almacenar datos de una manera muy parecida a las listas, con la salvedad de que son inmutables. No se pueden modificar."
      ],
      "metadata": {
        "id": "Gt7qHlauhGgC"
      }
    },
    {
      "cell_type": "markdown",
      "source": [
        "Puedes obtener más ayuda con el comando help."
      ],
      "metadata": {
        "id": "WnHYv4WHIUE3"
      }
    },
    {
      "cell_type": "code",
      "source": [
        "help(tuple)"
      ],
      "metadata": {
        "colab": {
          "base_uri": "https://localhost:8080/"
        },
        "outputId": "59a9f588-ce9e-467b-f885-ae4f62779590",
        "id": "WvwIS_CZIJ8n"
      },
      "execution_count": null,
      "outputs": [
        {
          "output_type": "stream",
          "name": "stdout",
          "text": [
            "Help on class tuple in module builtins:\n",
            "\n",
            "class tuple(object)\n",
            " |  tuple(iterable=(), /)\n",
            " |  \n",
            " |  Built-in immutable sequence.\n",
            " |  \n",
            " |  If no argument is given, the constructor returns an empty tuple.\n",
            " |  If iterable is specified the tuple is initialized from iterable's items.\n",
            " |  \n",
            " |  If the argument is a tuple, the return value is the same object.\n",
            " |  \n",
            " |  Built-in subclasses:\n",
            " |      asyncgen_hooks\n",
            " |      UnraisableHookArgs\n",
            " |  \n",
            " |  Methods defined here:\n",
            " |  \n",
            " |  __add__(self, value, /)\n",
            " |      Return self+value.\n",
            " |  \n",
            " |  __contains__(self, key, /)\n",
            " |      Return key in self.\n",
            " |  \n",
            " |  __eq__(self, value, /)\n",
            " |      Return self==value.\n",
            " |  \n",
            " |  __ge__(self, value, /)\n",
            " |      Return self>=value.\n",
            " |  \n",
            " |  __getattribute__(self, name, /)\n",
            " |      Return getattr(self, name).\n",
            " |  \n",
            " |  __getitem__(self, key, /)\n",
            " |      Return self[key].\n",
            " |  \n",
            " |  __getnewargs__(self, /)\n",
            " |  \n",
            " |  __gt__(self, value, /)\n",
            " |      Return self>value.\n",
            " |  \n",
            " |  __hash__(self, /)\n",
            " |      Return hash(self).\n",
            " |  \n",
            " |  __iter__(self, /)\n",
            " |      Implement iter(self).\n",
            " |  \n",
            " |  __le__(self, value, /)\n",
            " |      Return self<=value.\n",
            " |  \n",
            " |  __len__(self, /)\n",
            " |      Return len(self).\n",
            " |  \n",
            " |  __lt__(self, value, /)\n",
            " |      Return self<value.\n",
            " |  \n",
            " |  __mul__(self, value, /)\n",
            " |      Return self*value.\n",
            " |  \n",
            " |  __ne__(self, value, /)\n",
            " |      Return self!=value.\n",
            " |  \n",
            " |  __repr__(self, /)\n",
            " |      Return repr(self).\n",
            " |  \n",
            " |  __rmul__(self, value, /)\n",
            " |      Return value*self.\n",
            " |  \n",
            " |  count(self, value, /)\n",
            " |      Return number of occurrences of value.\n",
            " |  \n",
            " |  index(self, value, start=0, stop=9223372036854775807, /)\n",
            " |      Return first index of value.\n",
            " |      \n",
            " |      Raises ValueError if the value is not present.\n",
            " |  \n",
            " |  ----------------------------------------------------------------------\n",
            " |  Class methods defined here:\n",
            " |  \n",
            " |  __class_getitem__(...) from builtins.type\n",
            " |      See PEP 585\n",
            " |  \n",
            " |  ----------------------------------------------------------------------\n",
            " |  Static methods defined here:\n",
            " |  \n",
            " |  __new__(*args, **kwargs) from builtins.type\n",
            " |      Create and return a new object.  See help(type) for accurate signature.\n",
            "\n"
          ]
        }
      ]
    },
    {
      "cell_type": "markdown",
      "source": [
        "## Crear tupla Python\n",
        "Las tuplas en Python o tuples son muy similares a las listas, pero con dos diferencias. Son inmutables, lo que significa que no pueden ser modificadas una vez declaradas, y en vez de inicializarse con corchetes se hace con `()`. Dependiendo de lo que queramos hacer, las tuplas pueden ser más rápidas."
      ],
      "metadata": {
        "id": "-g88sVzfhW9C"
      }
    },
    {
      "cell_type": "code",
      "source": [
        "tupla:tuple = (1, 2, 3)\n",
        "print('La variable tupla contiene:', tupla)\n"
      ],
      "metadata": {
        "id": "feTFdZQKhYt8",
        "colab": {
          "base_uri": "https://localhost:8080/"
        },
        "outputId": "09ffb4e8-8ebb-4251-8277-7cae26fba06d"
      },
      "execution_count": null,
      "outputs": [
        {
          "output_type": "stream",
          "name": "stdout",
          "text": [
            "La variable tupla contiene: (1, 2, 3)\n"
          ]
        }
      ]
    },
    {
      "cell_type": "markdown",
      "source": [
        "Otra opción es importar `Tuple` desde el módulo de typing."
      ],
      "metadata": {
        "id": "jVuBFp6N0vpv"
      }
    },
    {
      "cell_type": "code",
      "source": [
        "from typing import Tuple\n",
        "\n",
        "tupla:Tuple = (1, 2, 3)\n",
        "print('La variable tupla contiene:', tupla)\n"
      ],
      "metadata": {
        "colab": {
          "base_uri": "https://localhost:8080/"
        },
        "id": "BPQJUbnC0uXZ",
        "outputId": "1dfb6088-9fbe-4e6b-eee9-6e95eaeb24f9"
      },
      "execution_count": null,
      "outputs": [
        {
          "output_type": "stream",
          "name": "stdout",
          "text": [
            "La variable tupla contiene: (1, 2, 3)\n"
          ]
        }
      ]
    },
    {
      "cell_type": "markdown",
      "source": [
        "También pueden declararse sin `()`, separando por `,` todos sus elementos.\n",
        "\n"
      ],
      "metadata": {
        "id": "iEvnre58hnKk"
      }
    },
    {
      "cell_type": "code",
      "source": [
        "tupla:tuple = 1, 2, 3\n",
        "print('La variable tupla contiene:', tupla)\n"
      ],
      "metadata": {
        "id": "SGPeeHLRhpLY",
        "colab": {
          "base_uri": "https://localhost:8080/"
        },
        "outputId": "8c4119a5-0df6-4daa-c7c7-b10b5f99d81f"
      },
      "execution_count": null,
      "outputs": [
        {
          "output_type": "stream",
          "name": "stdout",
          "text": [
            "La variable tupla contiene: (1, 2, 3)\n"
          ]
        }
      ]
    },
    {
      "cell_type": "markdown",
      "source": [
        "## Operaciones con tuplas\n",
        "Como hemos comentado, las tuplas son tipos inmutables, lo que significa que una vez asignado su valor, no puede ser modificado. Si se intenta, tendremos un TypeError."
      ],
      "metadata": {
        "id": "MIKQZBr4hsHY"
      }
    },
    {
      "cell_type": "code",
      "source": [
        "import traceback"
      ],
      "metadata": {
        "id": "CqO6FCQF05_o"
      },
      "execution_count": null,
      "outputs": []
    },
    {
      "cell_type": "code",
      "source": [
        "tupla:tuple = (1, 2, 3)\n",
        "try:\n",
        "  tupla[0] = 5\n",
        "except Exception:\n",
        "  traceback.print_exc()"
      ],
      "metadata": {
        "id": "A2b2z1BehuEI",
        "colab": {
          "base_uri": "https://localhost:8080/"
        },
        "outputId": "7fc566da-ae52-4b93-d56a-84f121de7bb4"
      },
      "execution_count": null,
      "outputs": [
        {
          "output_type": "stream",
          "name": "stderr",
          "text": [
            "Traceback (most recent call last):\n",
            "  File \"<ipython-input-6-16161bf89463>\", line 3, in <cell line: 2>\n",
            "    tupla[0] = 5\n",
            "TypeError: 'tuple' object does not support item assignment\n"
          ]
        }
      ]
    },
    {
      "cell_type": "markdown",
      "source": [
        "Al igual que las listas, las tuplas también pueden ser anidadas.\n",
        "\n"
      ],
      "metadata": {
        "id": "EDM7Fl1xhvPs"
      }
    },
    {
      "cell_type": "code",
      "source": [
        "tupla:tuple = 1, 2, ('a', 'b'), 3\n",
        "print('La variable tupla contiene:', tupla)\n",
        "print('La variable tupla en el índice 2 contiene:', tupla[2])\n",
        "print('La variable tupla en el índice 2 sub índice 0 contiene:', tupla[2][0])\n"
      ],
      "metadata": {
        "id": "5Ul31wTDhwls",
        "colab": {
          "base_uri": "https://localhost:8080/"
        },
        "outputId": "5755c949-956d-4c47-c11f-73ce15cfd01a"
      },
      "execution_count": null,
      "outputs": [
        {
          "output_type": "stream",
          "name": "stdout",
          "text": [
            "La variable tupla contiene: (1, 2, ('a', 'b'), 3)\n",
            "La variable tupla en el índice 2 contiene: ('a', 'b')\n",
            "La variable tupla en el índice 2 sub índice 0 contiene: a\n"
          ]
        }
      ]
    },
    {
      "cell_type": "markdown",
      "source": [
        "## Función tupel\n",
        "También es posible convertir un str a tuple usando la función tuple(). La función recibe como parámetro un objeto iterable."
      ],
      "metadata": {
        "id": "dImUidAlJfCG"
      }
    },
    {
      "cell_type": "code",
      "source": [
        "tupla:tuple = tuple(\"123\")\n",
        "print('La variable tupla contiene:', tupla)"
      ],
      "metadata": {
        "colab": {
          "base_uri": "https://localhost:8080/"
        },
        "id": "dPVG1tzqbLiY",
        "outputId": "0cf590e8-97f5-4de9-b5ca-b415f7d2c2ff"
      },
      "execution_count": null,
      "outputs": [
        {
          "output_type": "stream",
          "name": "stdout",
          "text": [
            "La variable tupla contiene: ('1', '2', '3')\n"
          ]
        }
      ]
    },
    {
      "cell_type": "markdown",
      "source": [
        "Y también es posible convertir una lista en tupla haciendo uso de al función tuple().\n",
        "\n"
      ],
      "metadata": {
        "id": "T3zxiNN_h0AQ"
      }
    },
    {
      "cell_type": "code",
      "source": [
        "lista:list = [1, 2, 3]\n",
        "tupla:tuple = tuple(lista)\n",
        "print('La variable tupla contiene:', tupla)\n"
      ],
      "metadata": {
        "id": "uYycjUkWh1OH",
        "colab": {
          "base_uri": "https://localhost:8080/"
        },
        "outputId": "8c968a5e-ce05-4ffb-c16a-1c64c34dc2e5"
      },
      "execution_count": null,
      "outputs": [
        {
          "output_type": "stream",
          "name": "stdout",
          "text": [
            "La variable tupla contiene: (1, 2, 3)\n"
          ]
        }
      ]
    },
    {
      "cell_type": "markdown",
      "source": [
        "Se puede iterar una tupla de la misma forma que se hacía con las listas.\n",
        "\n"
      ],
      "metadata": {
        "id": "1zl5of-dh4Zf"
      }
    },
    {
      "cell_type": "code",
      "source": [
        "tupla:tuple = [1, 2, 3]\n",
        "for t in tupla:\n",
        "    print(t, end=', ')"
      ],
      "metadata": {
        "id": "GuOaM-NNh55F",
        "colab": {
          "base_uri": "https://localhost:8080/"
        },
        "outputId": "97b26117-09e3-4731-97c6-39dbc4ea0e95"
      },
      "execution_count": null,
      "outputs": [
        {
          "output_type": "stream",
          "name": "stdout",
          "text": [
            "1, 2, 3, "
          ]
        }
      ]
    },
    {
      "cell_type": "markdown",
      "source": [
        "Y se puede también asignar el valor de una tupla con n elementos a n variables.\n",
        "\n"
      ],
      "metadata": {
        "id": "XOUmWUzVh8CD"
      }
    },
    {
      "cell_type": "code",
      "source": [
        "l:tuple = (1, 2, 3)\n",
        "x, y, z = l\n",
        "print(f'x={x} - y={y} -z={z}')"
      ],
      "metadata": {
        "colab": {
          "base_uri": "https://localhost:8080/"
        },
        "id": "cn2MRZ0Kh9Qb",
        "outputId": "1ebf0e3a-9e3e-46fb-ad8e-97e30bf51a3f"
      },
      "execution_count": null,
      "outputs": [
        {
          "output_type": "stream",
          "name": "stdout",
          "text": [
            "x=1 - y=2 -z=3\n"
          ]
        }
      ]
    },
    {
      "cell_type": "markdown",
      "source": [
        "Aunque tal vez no tenga mucho sentido a nivel práctico, es posible crear una tupla de un solo elemento. Para ello debes usar , antes del paréntesis, porque de lo contrario (2) sería interpretado como int."
      ],
      "metadata": {
        "id": "-xmO9pgqiNhV"
      }
    },
    {
      "cell_type": "code",
      "source": [
        "tupla:tuple = (2,)\n",
        "print('La variable tupla contiene:', tupla)\n"
      ],
      "metadata": {
        "id": "g_5W52eEiUmg",
        "colab": {
          "base_uri": "https://localhost:8080/"
        },
        "outputId": "133dde23-35a9-4589-b94a-873a18770a0c"
      },
      "execution_count": null,
      "outputs": [
        {
          "output_type": "stream",
          "name": "stdout",
          "text": [
            "La variable tupla contiene: (2,)\n"
          ]
        }
      ]
    },
    {
      "cell_type": "markdown",
      "source": [
        "## Métodos tuplas\n"
      ],
      "metadata": {
        "id": "Bg87_h70iXPI"
      }
    },
    {
      "cell_type": "markdown",
      "source": [
        "### count(obj)\n",
        "El método count() cuenta el número de veces que el objeto pasado como parámetro se ha encontrado en la lista."
      ],
      "metadata": {
        "id": "ohiMSpKfi-rr"
      }
    },
    {
      "cell_type": "code",
      "source": [
        "l:tuple = (1, 1, 1, 3, 5)\n",
        "print(l.count(1))"
      ],
      "metadata": {
        "colab": {
          "base_uri": "https://localhost:8080/"
        },
        "id": "BC4-N1icicGz",
        "outputId": "c645f14c-d757-4537-92d2-872946105c25"
      },
      "execution_count": null,
      "outputs": [
        {
          "output_type": "stream",
          "name": "stdout",
          "text": [
            "3\n"
          ]
        }
      ]
    },
    {
      "cell_type": "markdown",
      "source": [
        "### index(obj[,index])\n",
        "El método index() busca el objeto que se le pasa como parámetro y devuelve el índice en el que se ha encontrado."
      ],
      "metadata": {
        "id": "TNPcit2MiZBU"
      }
    },
    {
      "cell_type": "code",
      "source": [
        "l:tuple = (7, 7, 7, 3, 5)\n",
        "print(l.index(5))"
      ],
      "metadata": {
        "colab": {
          "base_uri": "https://localhost:8080/"
        },
        "id": "tUvTDbUBjFbb",
        "outputId": "f7ff11fe-952f-45af-9d6c-2708ea6da551"
      },
      "execution_count": null,
      "outputs": [
        {
          "output_type": "stream",
          "name": "stdout",
          "text": [
            "4\n"
          ]
        }
      ]
    },
    {
      "cell_type": "markdown",
      "source": [
        "En el caso de no encontrarse, se devuelve un ValueError.\n",
        "\n"
      ],
      "metadata": {
        "id": "LoinuEdcjL4u"
      }
    },
    {
      "cell_type": "code",
      "source": [
        "l:tuple = (7, 7, 7, 3, 5)\n",
        "try:\n",
        "  print(l.index(35))\n",
        "except Exception:\n",
        "  traceback.print_exc()"
      ],
      "metadata": {
        "id": "MA5qzOYWjNZW",
        "colab": {
          "base_uri": "https://localhost:8080/"
        },
        "outputId": "385a7423-8561-4389-dfdc-ea65dfb20b3e"
      },
      "execution_count": null,
      "outputs": [
        {
          "output_type": "stream",
          "name": "stderr",
          "text": [
            "Traceback (most recent call last):\n",
            "  File \"<ipython-input-15-a1f12413a389>\", line 3, in <cell line: 2>\n",
            "    print(l.index(35))\n",
            "ValueError: tuple.index(x): x not in tuple\n"
          ]
        }
      ]
    },
    {
      "cell_type": "markdown",
      "source": [
        "El método index() también acepta un segundo parámetro opcional, que indica a partir de que índice empezar a buscar el objeto."
      ],
      "metadata": {
        "id": "HuJRoNvYjS1d"
      }
    },
    {
      "cell_type": "code",
      "source": [
        "l:tuple = (7, 7, 7, 3, 5)\n",
        "print(l.index(7, 2))"
      ],
      "metadata": {
        "id": "KN1gw9l4jU2F",
        "outputId": "6648d7ca-a508-4793-f751-df9d657e96cc",
        "colab": {
          "base_uri": "https://localhost:8080/"
        }
      },
      "execution_count": null,
      "outputs": [
        {
          "output_type": "stream",
          "name": "stdout",
          "text": [
            "2\n"
          ]
        }
      ]
    }
  ]
}