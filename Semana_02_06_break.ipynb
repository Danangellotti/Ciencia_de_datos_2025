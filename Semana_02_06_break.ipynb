{
  "nbformat": 4,
  "nbformat_minor": 0,
  "metadata": {
    "colab": {
      "provenance": [],
      "include_colab_link": true
    },
    "kernelspec": {
      "name": "python3",
      "display_name": "Python 3"
    },
    "language_info": {
      "name": "python"
    }
  },
  "cells": [
    {
      "cell_type": "markdown",
      "metadata": {
        "id": "view-in-github",
        "colab_type": "text"
      },
      "source": [
        "<a href=\"https://colab.research.google.com/github/Danangellotti/Ciencia_de_datos_2025/blob/main/Semana_02_06_break.ipynb\" target=\"_parent\"><img src=\"https://colab.research.google.com/assets/colab-badge.svg\" alt=\"Open In Colab\"/></a>"
      ]
    },
    {
      "cell_type": "markdown",
      "source": [
        "# Sentencia break Python\n",
        "\n"
      ],
      "metadata": {
        "id": "MFWqP-EzEOde"
      }
    },
    {
      "cell_type": "markdown",
      "source": [
        "## Introducción al break\n",
        "La sentencia break nos permite alterar el comportamiento de los bucles while y for. Concretamente, permite terminar con la ejecución del bucle.\n",
        "\n",
        "Esto significa que una vez se encuentra la palabra break, el bucle se habrá terminado.\n",
        "\n"
      ],
      "metadata": {
        "id": "Go-mzwrHD5L-"
      }
    },
    {
      "cell_type": "markdown",
      "source": [
        "## Break con bucles for\n",
        "Veamos como podemos usar el `break` con bucles `for`. El `range(5)` generaría 5 iteraciones, donde la variable `i` toma los valores del 0 al 4. Sin embargo, al utilizar el `break` terminamos el bucle prematuramente en la primer iteración.\n",
        "\n",
        "El `break` hace que al empezar el bucle, se rompa y se salga sin haber hecho nada, solo imprimir el primer de la iteración."
      ],
      "metadata": {
        "id": "Zag1Dk29D6QQ"
      }
    },
    {
      "cell_type": "code",
      "execution_count": null,
      "metadata": {
        "id": "iQ4wiGD_EKUn",
        "colab": {
          "base_uri": "https://localhost:8080/"
        },
        "outputId": "5b4252c2-d2e7-4dce-8404-653eb6887309"
      },
      "outputs": [
        {
          "output_type": "stream",
          "name": "stdout",
          "text": [
            "Iteración: 0\n",
            "Fuera del FOR! sin alcanzar las 5 iteraciones por utilizar la sentencia \"break\"\n"
          ]
        }
      ],
      "source": [
        "for i in range(5):\n",
        "    print(f'Iteración: {i}')\n",
        "    break\n",
        "print('Fuera del FOR! sin alcanzar las 5 iteraciones por utilizar la sentencia \"break\"')"
      ]
    },
    {
      "cell_type": "markdown",
      "source": [
        "Un ejemplo un poco más útil, sería el de buscar una letra en una palabra. Se itera toda la palabra y en el momento en el que se encuentra la letra que buscábamos, se rompe el bucle y se sale.\n",
        "\n",
        "Esto es algo muy útil porque si ya encontramos lo que estábamos buscando, no tendría mucho sentido seguir iterando la lista, ya que desperdiciaríamos recursos."
      ],
      "metadata": {
        "id": "oSGAy5UjEX1D"
      }
    },
    {
      "cell_type": "code",
      "source": [
        "cadena = 'Python'\n",
        "for letra in cadena:\n",
        "    print(letra)\n",
        "    if letra == 'h':\n",
        "        print(\"Se encontró la 'h' y finalizamos el bucle\")\n",
        "        break"
      ],
      "metadata": {
        "id": "K3TNO9dzEabm",
        "colab": {
          "base_uri": "https://localhost:8080/"
        },
        "outputId": "ac31dfb2-b58b-48b2-bd3c-02ad34240277"
      },
      "execution_count": null,
      "outputs": [
        {
          "output_type": "stream",
          "name": "stdout",
          "text": [
            "P\n",
            "y\n",
            "t\n",
            "h\n",
            "Se encontró la 'h' y finalizamos el bucle\n"
          ]
        }
      ]
    },
    {
      "cell_type": "markdown",
      "source": [
        "## Break con bucles while\n",
        "\n",
        "El `break` también nos permite alterar el comportamiento del `while`. Veamos un ejemplo.\n",
        "\n",
        "La condición `while True` haría que la sección de código se ejecutara indefinidamente, pero al hacer uso del break, el bucle se romperá cuando la variable `x` tome el valor igual a cero."
      ],
      "metadata": {
        "id": "iNSKNBRZEcjn"
      }
    },
    {
      "cell_type": "code",
      "source": [
        "x = 5\n",
        "while True:\n",
        "    x -= 1\n",
        "    print(f'Valor: {x}')\n",
        "    if x == 0:\n",
        "        break\n",
        "print(\"Fin del bucle WHILE!\")"
      ],
      "metadata": {
        "id": "mvVmQrnzEgav",
        "colab": {
          "base_uri": "https://localhost:8080/"
        },
        "outputId": "8920d1b0-b1e1-4676-c3e6-13394543f438"
      },
      "execution_count": null,
      "outputs": [
        {
          "output_type": "stream",
          "name": "stdout",
          "text": [
            "Valor: 4\n",
            "Valor: 3\n",
            "Valor: 2\n",
            "Valor: 1\n",
            "Valor: 0\n",
            "Fin del bucle WHILE!\n"
          ]
        }
      ]
    },
    {
      "cell_type": "markdown",
      "source": [
        "Por norma general, y salvo casos muy concretos, si ves un `while True`, es probable que haya un `break` dentro del bucle.\n",
        "\n"
      ],
      "metadata": {
        "id": "iyJnKABEEh-W"
      }
    },
    {
      "cell_type": "markdown",
      "source": [
        "## Break y bucles anidados\n",
        "\n",
        "Como hemos dicho, el uso de `break` rompe el bucle, pero sólo aquel en el que está dentro.\n",
        "\n",
        "Es decir, si tenemos dos bucles anidados, el `break` romperá el bucle anidado, pero no el exterior."
      ],
      "metadata": {
        "id": "7ioWwKufBS80"
      }
    },
    {
      "cell_type": "code",
      "source": [
        "for i in range(0, 4):\n",
        "    print(f'Valor i: {i}')\n",
        "    for j in range(0, 4):\n",
        "        print(f'\\tValor j: {j}')\n",
        "        if j == 2:\n",
        "          break\n",
        "    # El break no afecta a este for\n",
        "    print('Combinación: ', i, j, '\\n')"
      ],
      "metadata": {
        "id": "un158lZjElD_",
        "colab": {
          "base_uri": "https://localhost:8080/"
        },
        "outputId": "36fc7bc4-7da3-46e1-a8da-9d69e0126331"
      },
      "execution_count": null,
      "outputs": [
        {
          "output_type": "stream",
          "name": "stdout",
          "text": [
            "Valor i: 0\n",
            "\tValor j: 0\n",
            "\tValor j: 1\n",
            "\tValor j: 2\n",
            "Combinación:  0 2 \n",
            "\n",
            "Valor i: 1\n",
            "\tValor j: 0\n",
            "\tValor j: 1\n",
            "\tValor j: 2\n",
            "Combinación:  1 2 \n",
            "\n",
            "Valor i: 2\n",
            "\tValor j: 0\n",
            "\tValor j: 1\n",
            "\tValor j: 2\n",
            "Combinación:  2 2 \n",
            "\n",
            "Valor i: 3\n",
            "\tValor j: 0\n",
            "\tValor j: 1\n",
            "\tValor j: 2\n",
            "Combinación:  3 2 \n",
            "\n"
          ]
        }
      ]
    },
    {
      "cell_type": "markdown",
      "source": [
        "Notesé que la iteración anterior la variable `j` nunca alcanza el valor 3 pero la variable `i` si lo hace y esto se debe a que el `break` solo afecta al `for` de la variable `j`."
      ],
      "metadata": {
        "id": "cft2YM6rBmo7"
      }
    }
  ]
}